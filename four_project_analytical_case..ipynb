{
 "cells": [
  {
   "cell_type": "markdown",
   "metadata": {},
   "source": [
    "Привет! Меня зовут Александр Арасланов, я провожу ревью твоей работы. Предалагю общаться на «ты», если не против.\n",
    "\n",
    "В работе ты увидишь комментарии, помеченные разным цветом.\n",
    "\n",
    "<div class=\"alert alert-danger\"> ❌\n",
    "Красным цветом помечены моменты, которые необходимо доработать, чтобы проект был принят. Уверен, что у тебя все получится. Буду ждать твою работу на повторное ревью. \n",
    "</div>\n",
    "\n",
    "<div class=\"alert alert-success\"> ✅\n",
    "Зеленым цветом помечены оброзцовые решения. Которые можно использовать в дальнейшем.\n",
    "</div>\n",
    "\n",
    "<div class=\"alert alert-warning\"> ⚠️\n",
    "Желтым цветом отмечено то, что ты можешь улучшить или доработать. Можешь учесть это при выполнении следующих работ или доработать проект сейчас, но это не обязательно.\n",
    "</div>\n",
    "\n",
    "\n",
    "Будет комфортнее работать над проектом вместе, если ты будешь **писать об изменениях** в проекте по моим рекомендациям. Для этого выбери для своих комментариев \n",
    "\n",
    "<div class=\"alert alert-block alert-info\">заметный цвет</div>\n",
    "\n",
    "Пожалуйста, **не перемещай, не изменяй и не удаляй мои комментарии**. Всё это поможет выполнить повторную проверку твоего проекта оперативнее."
   ]
  },
  {
   "cell_type": "markdown",
   "metadata": {
    "id": "sIfNaMOxgFyK"
   },
   "source": [
    "## Исследование данных о российском кинопрокате\n",
    "\n"
   ]
  },
  {
   "cell_type": "markdown",
   "metadata": {},
   "source": [
    "Цель данного задания:\n",
    "- Предобработка данных\n",
    "- Нахождение пропущенных значений и замена их\n",
    "- Изучить значения файлы найти закономерности в данных (такие как наибольшая сумма финансирования либо наибольшее колличество выпущенных фильмов от года)\n",
    "\n",
    "Обозначение столбцов в df:\n",
    "- title — название фильма;\n",
    "- puNumber — номер прокатного удостоверения;\n",
    "- show_start_date — дата премьеры фильма;\n",
    "- type — тип фильма;\n",
    "- film_studio — студия-производитель;\n",
    "- production_country — страна-производитель;\n",
    "- director — режиссёр;\n",
    "- producer — продюсер;\n",
    "- age_restriction — возрастная категория;\n",
    "- refundable_support — объём возвратных средств государственной поддержки;\n",
    "- nonrefundable_support — объём невозвратных средств государственной поддержки;\n",
    "- financing_source — источник государственного финансирования;\n",
    "- budget — общий бюджет фильма;\n",
    "- ratings — рейтинг фильма на КиноПоиске;\n",
    "- genres — жанр фильма;\n",
    "- puNumber — номер прокатного удостоверения;\n",
    "- box_office — сборы в рублях."
   ]
  },
  {
   "cell_type": "markdown",
   "metadata": {
    "id": "3bSlkCsbgFyL"
   },
   "source": [
    "### Шаг 1. Откройте файлы с данными и объедините их в один датафрейм. \n",
    "\n",
    "Объедините данные таким образом, чтобы все объекты из датасета `mkrf_movies` обязательно вошли в получившийся датафрейм. \n",
    "\n",
    "<div id=\"accordion\">\n",
    "    <div class=\"card\">\n",
    "        <div class=\"card-header\" id=\"headingThree\">\n",
    "            <button class=\"btn btn-link collapsed\" data-toggle=\"collapse\" data-target=\"#collapseHint_0\" aria-expanded=\"false\" aria-controls=\"collapseHint_0\">Подсказка</button>\n",
    "        </div>\n",
    "        <div id=\"collapseHint_0\" class=\"collapse\" aria-labelledby=\"headingThree\" data-parent=\"#accordion\">\n",
    "            <div class=\"card-body\">\n",
    "Обратите внимание на тип данных столбца, по которому будете соединять датафреймы. Тип данных этих столбцов должен быть одинаковым в обоих датафреймах.\n",
    "            </div>\n",
    "        </div>\n",
    "    </div>\n",
    "</div>"
   ]
  },
  {
   "cell_type": "markdown",
   "metadata": {},
   "source": [
    "<div class=\"alert alert-info\"; style=\"border-left: 7px solid SteelBlue\">\n",
    "<h5>🎓 <font color=\"SteelBlue\">Комментарий от студента (синий)</font></h5> \n",
    "В данном шаге будут подключены библиотеки и объеденены 2 датафрайма в один\n",
    "    <div"
   ]
  },
  {
   "cell_type": "code",
   "execution_count": 1,
   "metadata": {
    "id": "dw87FlzMgFyM"
   },
   "outputs": [],
   "source": [
    "# подключение библиотек\n",
    "import pandas as pd\n",
    "import os\n",
    "import matplotlib.pyplot as plt \n",
    "import seaborn as se\n",
    "pd.set_option('display.max_columns', 50)"
   ]
  },
  {
   "cell_type": "code",
   "execution_count": 2,
   "metadata": {},
   "outputs": [],
   "source": [
    "pth1 = '/datasets/mkrf_movies.csv'\n",
    "pth2 = 'mkrf_movies.csv'\n",
    "\n",
    "if os.path.exists(pth1):\n",
    "    df_movies = pd.read_csv(pth1)\n",
    "elif os.path.exists(pth2):\n",
    "    df_movies = pd.read_csv(pth2)\n",
    "else:\n",
    "    print('Incorrect file path')"
   ]
  },
  {
   "cell_type": "code",
   "execution_count": 3,
   "metadata": {},
   "outputs": [],
   "source": [
    "pth1 = '/datasets/mkrf_shows.csv'\n",
    "pth2 = 'mkrf_shows.csv'\n",
    "\n",
    "if os.path.exists(pth1):\n",
    "    df_shows = pd.read_csv(pth1)\n",
    "elif os.path.exists(pth2):\n",
    "    df_shows = pd.read_csv(pth2)\n",
    "else:\n",
    "    print('Incorrect file path')"
   ]
  },
  {
   "cell_type": "code",
   "execution_count": 4,
   "metadata": {},
   "outputs": [
    {
     "name": "stdout",
     "output_type": "stream",
     "text": [
      "<class 'pandas.core.frame.DataFrame'>\n",
      "RangeIndex: 7486 entries, 0 to 7485\n",
      "Data columns (total 15 columns):\n",
      " #   Column                 Non-Null Count  Dtype  \n",
      "---  ------                 --------------  -----  \n",
      " 0   title                  7486 non-null   object \n",
      " 1   puNumber               7486 non-null   int64  \n",
      " 2   show_start_date        7486 non-null   object \n",
      " 3   type                   7486 non-null   object \n",
      " 4   film_studio            7468 non-null   object \n",
      " 5   production_country     7484 non-null   object \n",
      " 6   director               7477 non-null   object \n",
      " 7   producer               6918 non-null   object \n",
      " 8   age_restriction        7486 non-null   object \n",
      " 9   refundable_support     332 non-null    float64\n",
      " 10  nonrefundable_support  332 non-null    float64\n",
      " 11  budget                 332 non-null    float64\n",
      " 12  financing_source       332 non-null    object \n",
      " 13  ratings                6519 non-null   object \n",
      " 14  genres                 6510 non-null   object \n",
      "dtypes: float64(3), int64(1), object(11)\n",
      "memory usage: 877.4+ KB\n"
     ]
    }
   ],
   "source": [
    "#print(df_movies.head())\n",
    "#print(df_shows.head())\n",
    "#df_movies.info()\n",
    "#df_shows.info()\n",
    "\n",
    "# во время изменения типа данных столбца было замеченно что в столбце находится слово нет\n",
    "\n",
    "df_movies.loc[df_movies['puNumber'] == 'нет', 'puNumber'] = 0\n",
    "df_movies['puNumber'] = df_movies['puNumber'].astype('int')\n",
    "df_movies.info() # было проверенно точто операция выполнена правильно\n",
    "#display(df_movies.query('puNumber==0'))"
   ]
  },
  {
   "cell_type": "code",
   "execution_count": 5,
   "metadata": {},
   "outputs": [
    {
     "name": "stdout",
     "output_type": "stream",
     "text": [
      "<class 'pandas.core.frame.DataFrame'>\n",
      "Int64Index: 7486 entries, 0 to 7485\n",
      "Data columns (total 16 columns):\n",
      " #   Column                 Non-Null Count  Dtype  \n",
      "---  ------                 --------------  -----  \n",
      " 0   title                  7486 non-null   object \n",
      " 1   puNumber               7486 non-null   int64  \n",
      " 2   show_start_date        7486 non-null   object \n",
      " 3   type                   7486 non-null   object \n",
      " 4   film_studio            7468 non-null   object \n",
      " 5   production_country     7484 non-null   object \n",
      " 6   director               7477 non-null   object \n",
      " 7   producer               6918 non-null   object \n",
      " 8   age_restriction        7486 non-null   object \n",
      " 9   refundable_support     332 non-null    float64\n",
      " 10  nonrefundable_support  332 non-null    float64\n",
      " 11  budget                 332 non-null    float64\n",
      " 12  financing_source       332 non-null    object \n",
      " 13  ratings                6519 non-null   object \n",
      " 14  genres                 6510 non-null   object \n",
      " 15  box_office             3158 non-null   float64\n",
      "dtypes: float64(4), int64(1), object(11)\n",
      "memory usage: 994.2+ KB\n"
     ]
    }
   ],
   "source": [
    "df_united = df_movies.merge(df_shows,on='puNumber',how='left')\n",
    "df_united.info()"
   ]
  },
  {
   "cell_type": "markdown",
   "metadata": {},
   "source": [
    "<div class=\"alert alert-success\">\n",
    "\n",
    "**✅Комментарий ревьюера**\n",
    "Молодец, успешно импортировал библиотеки и получил основные сведения о данных  </div>"
   ]
  },
  {
   "cell_type": "markdown",
   "metadata": {},
   "source": [
    "<div class=\"alert alert-info\"; style=\"border-left: 7px solid SteelBlue\">\n",
    "<h5>🎓 <font color=\"SteelBlue\">Комментарий от студента (синий)</font></h5> \n",
    "В данном шаге было найдено, то что в столбце puNumber, где должны указываться номер прокатного удостоверения, есть слово нет, оно было заменено на 0.\n",
    "    <div"
   ]
  },
  {
   "cell_type": "markdown",
   "metadata": {
    "id": "KLDGpPG0gFyM"
   },
   "source": [
    "### Шаг 2. Предобработка данных"
   ]
  },
  {
   "cell_type": "markdown",
   "metadata": {
    "id": "ssWwKXsxgFyO"
   },
   "source": [
    "#### Шаг 2.1. Проверьте типы данных\n",
    "\n",
    "- Проверьте типы данных в датафрейме и преобразуйте их там, где это необходимо."
   ]
  },
  {
   "cell_type": "code",
   "execution_count": 6,
   "metadata": {
    "id": "kVGSplJOgFyO"
   },
   "outputs": [
    {
     "data": {
      "text/html": [
       "<div>\n",
       "<style scoped>\n",
       "    .dataframe tbody tr th:only-of-type {\n",
       "        vertical-align: middle;\n",
       "    }\n",
       "\n",
       "    .dataframe tbody tr th {\n",
       "        vertical-align: top;\n",
       "    }\n",
       "\n",
       "    .dataframe thead th {\n",
       "        text-align: right;\n",
       "    }\n",
       "</style>\n",
       "<table border=\"1\" class=\"dataframe\">\n",
       "  <thead>\n",
       "    <tr style=\"text-align: right;\">\n",
       "      <th></th>\n",
       "      <th>title</th>\n",
       "      <th>puNumber</th>\n",
       "      <th>show_start_date</th>\n",
       "      <th>type</th>\n",
       "      <th>film_studio</th>\n",
       "      <th>production_country</th>\n",
       "      <th>director</th>\n",
       "      <th>producer</th>\n",
       "      <th>age_restriction</th>\n",
       "      <th>refundable_support</th>\n",
       "      <th>nonrefundable_support</th>\n",
       "      <th>budget</th>\n",
       "      <th>financing_source</th>\n",
       "      <th>ratings</th>\n",
       "      <th>genres</th>\n",
       "      <th>box_office</th>\n",
       "    </tr>\n",
       "  </thead>\n",
       "  <tbody>\n",
       "    <tr>\n",
       "      <th>0</th>\n",
       "      <td>Открытый простор</td>\n",
       "      <td>221048915</td>\n",
       "      <td>2015-11-27T12:00:00.000Z</td>\n",
       "      <td>Художественный</td>\n",
       "      <td>Тачстоун Пикчерз, Кобальт Пикчерз, Бикон Пикче...</td>\n",
       "      <td>США</td>\n",
       "      <td>Кевин Костнер</td>\n",
       "      <td>Дэвид Валдес, Кевин Костнер, Джейк Эбертс</td>\n",
       "      <td>«18+» - запрещено для детей</td>\n",
       "      <td>NaN</td>\n",
       "      <td>NaN</td>\n",
       "      <td>NaN</td>\n",
       "      <td>NaN</td>\n",
       "      <td>7.2</td>\n",
       "      <td>боевик,драма,мелодрама</td>\n",
       "      <td>NaN</td>\n",
       "    </tr>\n",
       "    <tr>\n",
       "      <th>1</th>\n",
       "      <td>Особо важное задание</td>\n",
       "      <td>111013716</td>\n",
       "      <td>2016-09-13T12:00:00.000Z</td>\n",
       "      <td>Художественный</td>\n",
       "      <td>Киностудия \"Мосфильм\"</td>\n",
       "      <td>СССР</td>\n",
       "      <td>Е.Матвеев</td>\n",
       "      <td>NaN</td>\n",
       "      <td>«6+» - для детей старше 6 лет</td>\n",
       "      <td>NaN</td>\n",
       "      <td>NaN</td>\n",
       "      <td>NaN</td>\n",
       "      <td>NaN</td>\n",
       "      <td>6.6</td>\n",
       "      <td>драма,военный</td>\n",
       "      <td>NaN</td>\n",
       "    </tr>\n",
       "    <tr>\n",
       "      <th>2</th>\n",
       "      <td>Особо опасен</td>\n",
       "      <td>221038416</td>\n",
       "      <td>2016-10-10T12:00:00.000Z</td>\n",
       "      <td>Художественный</td>\n",
       "      <td>Юниверсал Пикчерз, Кикстарт Продакшнз, Марк Пл...</td>\n",
       "      <td>США</td>\n",
       "      <td>Тимур Бекмамбетов</td>\n",
       "      <td>Джим Лемли, Джейсон Нетер, Марк Е.Платт, Яйн Смит</td>\n",
       "      <td>«18+» - запрещено для детей</td>\n",
       "      <td>NaN</td>\n",
       "      <td>NaN</td>\n",
       "      <td>NaN</td>\n",
       "      <td>NaN</td>\n",
       "      <td>6.8</td>\n",
       "      <td>фантастика,боевик,триллер</td>\n",
       "      <td>NaN</td>\n",
       "    </tr>\n",
       "    <tr>\n",
       "      <th>3</th>\n",
       "      <td>Особо опасен</td>\n",
       "      <td>221026916</td>\n",
       "      <td>2016-06-10T12:00:00.000Z</td>\n",
       "      <td>Художественный</td>\n",
       "      <td>Юниверсал Пикчерз, Кикстарт Продакшнз, Марк Пл...</td>\n",
       "      <td>США</td>\n",
       "      <td>Тимур Бекмамбетов</td>\n",
       "      <td>Джим Лемли, Джейсон Нетер, Марк Е.Платт, Яйн Смит</td>\n",
       "      <td>«18+» - запрещено для детей</td>\n",
       "      <td>NaN</td>\n",
       "      <td>NaN</td>\n",
       "      <td>NaN</td>\n",
       "      <td>NaN</td>\n",
       "      <td>6.8</td>\n",
       "      <td>фантастика,боевик,триллер</td>\n",
       "      <td>NaN</td>\n",
       "    </tr>\n",
       "    <tr>\n",
       "      <th>4</th>\n",
       "      <td>Особо опасен</td>\n",
       "      <td>221030815</td>\n",
       "      <td>2015-07-29T12:00:00.000Z</td>\n",
       "      <td>Художественный</td>\n",
       "      <td>Юниверсал Пикчерз, Кикстарт Продакшнз, Марк Пл...</td>\n",
       "      <td>США</td>\n",
       "      <td>Тимур Бекмамбетов</td>\n",
       "      <td>Джим Лемли, Джейсон Нетер, Марк Е.Платт, Яйн Смит</td>\n",
       "      <td>«18+» - запрещено для детей</td>\n",
       "      <td>NaN</td>\n",
       "      <td>NaN</td>\n",
       "      <td>NaN</td>\n",
       "      <td>NaN</td>\n",
       "      <td>6.8</td>\n",
       "      <td>фантастика,боевик,триллер</td>\n",
       "      <td>NaN</td>\n",
       "    </tr>\n",
       "  </tbody>\n",
       "</table>\n",
       "</div>"
      ],
      "text/plain": [
       "                  title   puNumber           show_start_date            type  \\\n",
       "0      Открытый простор  221048915  2015-11-27T12:00:00.000Z  Художественный   \n",
       "1  Особо важное задание  111013716  2016-09-13T12:00:00.000Z  Художественный   \n",
       "2          Особо опасен  221038416  2016-10-10T12:00:00.000Z  Художественный   \n",
       "3          Особо опасен  221026916  2016-06-10T12:00:00.000Z  Художественный   \n",
       "4          Особо опасен  221030815  2015-07-29T12:00:00.000Z  Художественный   \n",
       "\n",
       "                                         film_studio production_country  \\\n",
       "0  Тачстоун Пикчерз, Кобальт Пикчерз, Бикон Пикче...                США   \n",
       "1                              Киностудия \"Мосфильм\"               СССР   \n",
       "2  Юниверсал Пикчерз, Кикстарт Продакшнз, Марк Пл...                США   \n",
       "3  Юниверсал Пикчерз, Кикстарт Продакшнз, Марк Пл...                США   \n",
       "4  Юниверсал Пикчерз, Кикстарт Продакшнз, Марк Пл...                США   \n",
       "\n",
       "            director                                           producer  \\\n",
       "0      Кевин Костнер          Дэвид Валдес, Кевин Костнер, Джейк Эбертс   \n",
       "1          Е.Матвеев                                                NaN   \n",
       "2  Тимур Бекмамбетов  Джим Лемли, Джейсон Нетер, Марк Е.Платт, Яйн Смит   \n",
       "3  Тимур Бекмамбетов  Джим Лемли, Джейсон Нетер, Марк Е.Платт, Яйн Смит   \n",
       "4  Тимур Бекмамбетов  Джим Лемли, Джейсон Нетер, Марк Е.Платт, Яйн Смит   \n",
       "\n",
       "                 age_restriction  refundable_support  nonrefundable_support  \\\n",
       "0    «18+» - запрещено для детей                 NaN                    NaN   \n",
       "1  «6+» - для детей старше 6 лет                 NaN                    NaN   \n",
       "2    «18+» - запрещено для детей                 NaN                    NaN   \n",
       "3    «18+» - запрещено для детей                 NaN                    NaN   \n",
       "4    «18+» - запрещено для детей                 NaN                    NaN   \n",
       "\n",
       "   budget financing_source ratings                     genres  box_office  \n",
       "0     NaN              NaN     7.2     боевик,драма,мелодрама         NaN  \n",
       "1     NaN              NaN     6.6              драма,военный         NaN  \n",
       "2     NaN              NaN     6.8  фантастика,боевик,триллер         NaN  \n",
       "3     NaN              NaN     6.8  фантастика,боевик,триллер         NaN  \n",
       "4     NaN              NaN     6.8  фантастика,боевик,триллер         NaN  "
      ]
     },
     "metadata": {},
     "output_type": "display_data"
    }
   ],
   "source": [
    "display(df_united.head(5)) # по первым пяти можно увидить дубликаты по имени но разные номера паспортов"
   ]
  },
  {
   "cell_type": "markdown",
   "metadata": {},
   "source": [
    "<div class=\"alert alert-info\"; style=\"border-left: 7px solid SteelBlue\">\n",
    "<h5>🎓 <font color=\"SteelBlue\">Комментарий от студента (синий)</font></h5> \n",
    "все названия фильмов преобразовал к нижнему регистру, для проверки дубликатов явных,преобровано время и дата, были найдены значения в рейтинге которые являются не ясными  \n",
    "    <div"
   ]
  },
  {
   "cell_type": "markdown",
   "metadata": {},
   "source": [
    "<div class=\"alert alert-warning\">\n",
    "\n",
    "**⚠️Комментарий ревьюера**\n",
    "Скорее всего это доли, которые преобразовали в проценты. Поэтому как вариант их можно было преобразовать в доли, а не заменять на пустые значения</div>"
   ]
  },
  {
   "cell_type": "markdown",
   "metadata": {},
   "source": [
    "<div class=\"alert alert-info\"; style=\"border-left: 7px solid SteelBlue\">\n",
    "<h5>🎓 <font color=\"SteelBlue\">Комментарий от студента (синий)</font></h5> \n",
    "извиняюсь просто не понятно доля от чего? от всех просмотров, давольно не понятно от чего берутся процентов из-за этого не думаю что это надо как то менять  \n",
    "    <div"
   ]
  },
  {
   "cell_type": "code",
   "execution_count": null,
   "metadata": {},
   "outputs": [],
   "source": []
  },
  {
   "cell_type": "code",
   "execution_count": 7,
   "metadata": {},
   "outputs": [],
   "source": [
    "df_united['title'] = df_united['title'].str.lower()\n",
    "\n",
    "df_united['show_start_date'] = pd.to_datetime(df_united['show_start_date'])\n",
    "\n",
    "\n",
    "#print(df_united['ratings'].unique())\n",
    "rating = ['99%','28%','97%','83%','64%','91%','94%','62%','79%','90%','19%','88%','89%','98%']\n",
    "df_united['ratings'] = df_united['ratings'].replace(rating , 'nan').astype(float)\n",
    "#display(df_united.head(5).info())"
   ]
  },
  {
   "cell_type": "markdown",
   "metadata": {
    "id": "i0MOLbF-gFyP"
   },
   "source": [
    "#### Шаг 2.2. Изучите пропуски в датафрейме\n",
    "\n",
    "- Объясните, почему заполнили пропуски определённым образом или почему не стали этого делать."
   ]
  },
  {
   "cell_type": "code",
   "execution_count": 8,
   "metadata": {
    "id": "8MJD_lkngFyP"
   },
   "outputs": [
    {
     "data": {
      "text/plain": [
       "title                       0\n",
       "puNumber                    0\n",
       "show_start_date             0\n",
       "type                        0\n",
       "film_studio                18\n",
       "production_country          2\n",
       "director                    9\n",
       "producer                  568\n",
       "age_restriction             0\n",
       "refundable_support       7154\n",
       "nonrefundable_support    7154\n",
       "budget                   7154\n",
       "financing_source         7154\n",
       "ratings                   996\n",
       "genres                    976\n",
       "box_office               4328\n",
       "dtype: int64"
      ]
     },
     "execution_count": 8,
     "metadata": {},
     "output_type": "execute_result"
    }
   ],
   "source": [
    "df_united.isna().sum()\n",
    "#df_united.info()"
   ]
  },
  {
   "cell_type": "markdown",
   "metadata": {},
   "source": [
    "<div class=\"alert alert-info\"; style=\"border-left: 7px solid SteelBlue\">\n",
    "<h5>🎓 <font color=\"SteelBlue\">Комментарий от студента (синий)</font></h5> \n",
    "- Пропуски есть в студиях издательства (18), странна-производитель (2) [Можно загуглить], директор (9), продюсер (568), рейтинг (975) и жанров (976)\n",
    "- Вторая же категория данных связана с бюджетом и возвратные и не возратные деньги правительству\n",
    "    <div"
   ]
  },
  {
   "cell_type": "code",
   "execution_count": 9,
   "metadata": {},
   "outputs": [],
   "source": [
    "#display(df_united[df_united['film_studio'].isna() == True])\n",
    "num_film = [1293,4441,6105,6181,6485]\n",
    "film = ['Biscuit Pictures','Первый канал','Pravda Films','Продюсерский центр «Молодёжные инициативы»',\n",
    "       'Caravan Pictures' ]\n",
    "df_united.loc[num_film, 'film_studio'] = film"
   ]
  },
  {
   "cell_type": "markdown",
   "metadata": {},
   "source": [
    "<div class=\"alert alert-success\">\n",
    "\n",
    "**✅Комментарий ревьюера**\n",
    "Молодец, что проявил любознательность и заполнил пропуски  </div>"
   ]
  },
  {
   "cell_type": "code",
   "execution_count": 10,
   "metadata": {},
   "outputs": [],
   "source": [
    "#display(df_united[df_united['production_country'].isna() == True])\n",
    "df_united.loc[df_united['production_country'].isna() == True , 'production_country'] = 'Россия'\n"
   ]
  },
  {
   "cell_type": "code",
   "execution_count": 11,
   "metadata": {},
   "outputs": [],
   "source": [
    "#display(df_united[df_united['director'].isna() == True]) # указаны концерты заполнять нет смысла"
   ]
  },
  {
   "cell_type": "markdown",
   "metadata": {},
   "source": [
    "<div class=\"alert alert-info\"; style=\"border-left: 7px solid SteelBlue\">\n",
    "<h5>🎓 <font color=\"SteelBlue\">Комментарий от студента (синий)</font></h5> \n",
    "В данном пункте заполнялись пропуски, у которых значений было не велико, такие как , студия, страна производитель, директор. Чаще всего неуказанные студии это либо невышедшие фильмы, либо не было студии, которая занималась этим или является авторской работой.\n",
    "    <div"
   ]
  },
  {
   "cell_type": "markdown",
   "metadata": {
    "id": "4c6k1t9ygFyQ"
   },
   "source": [
    "#### Шаг 2.3. Изучите дубликаты в датафрейме\n",
    "- Проверьте, есть ли в данных дубликаты. Опишите причины, которые могли повлиять на появление дублей."
   ]
  },
  {
   "cell_type": "code",
   "execution_count": 12,
   "metadata": {
    "id": "aKck8RIdgFyQ"
   },
   "outputs": [
    {
     "name": "stdout",
     "output_type": "stream",
     "text": [
      "Колличествво дубликатов в столбце puNumber: 2\n",
      "Колличествво дубликатов в столбце title: 724\n"
     ]
    }
   ],
   "source": [
    "df_united.duplicated().sum() # явных дибликатов нет но,только изза столбца puNumber\n",
    "print('Колличествво дубликатов в столбце puNumber: {}'.format(df_united['puNumber'].duplicated().sum()))\n",
    "print('Колличествво дубликатов в столбце title: {}'.format(df_united['title'].duplicated().sum()))\n",
    "#display(df_united[df_united['puNumber'].duplicated()])"
   ]
  },
  {
   "cell_type": "markdown",
   "metadata": {},
   "source": [
    "<div class=\"alert alert-info\"; style=\"border-left: 7px solid SteelBlue\">\n",
    "<h5>🎓 <font color=\"SteelBlue\">Комментарий от студента (синий)</font></h5> \n",
    "из данных можно обноружить что дубликатов по названию 714, но при этом паспортов дубликатов 2 , при этом фильмы с разным названием с чем это связано ? не ясно, а повтор по названию может быть связано с тем что фильм запускался несколько раз в прокат...\n",
    "    <div"
   ]
  },
  {
   "cell_type": "markdown",
   "metadata": {
    "id": "52fOPrEBgFyQ"
   },
   "source": [
    "#### Шаг 2.4. Изучите категориальные значения\n",
    "\n",
    "- Посмотрите, какая общая проблема встречается почти во всех категориальных столбцах;\n",
    "- Исправьте проблемные значения в поле `type`.\n",
    "\n",
    "<div id=\"accordion\">\n",
    "    <div class=\"card\">\n",
    "        <div class=\"card-header\" id=\"headingThree\">\n",
    "            <button class=\"btn btn-link collapsed\" data-toggle=\"collapse\" data-target=\"#collapseHint_1\" aria-expanded=\"false\" aria-controls=\"collapseHint_1\">Подсказка</button>\n",
    "        </div>\n",
    "        <div id=\"collapseHint_1\" class=\"collapse\" aria-labelledby=\"headingThree\" data-parent=\"#accordion\">\n",
    "            <div class=\"card-body\">\n",
    "В поле <code>type</code> есть несколько значений, у которых появился пробел в начале строки. Самый простой способ их «починить» -- использовать метод <a href=\"https://pandas.pydata.org/docs/reference/api/pandas.Series.str.strip.html#pandas.Series.str.strip\">.str.strip</a>. Этот метод удаляет все пробелы, которые встречаются в начале и в конце строки. Применяют его таким образом:<br>\n",
    "<code>df['type'].str.strip()</code>\n",
    "            </div>\n",
    "        </div>\n",
    "    </div>\n",
    "</div>"
   ]
  },
  {
   "cell_type": "code",
   "execution_count": 13,
   "metadata": {
    "id": "PnXKIVdFgFyR"
   },
   "outputs": [
    {
     "data": {
      "text/plain": [
       "Художественный                4520\n",
       " Художественный               1389\n",
       "Анимационный                   828\n",
       "Прочие                         406\n",
       "Документальный                 288\n",
       "Научно-популярный               53\n",
       "Музыкально-развлекательный       1\n",
       " Анимационный                    1\n",
       "Name: type, dtype: int64"
      ]
     },
     "metadata": {},
     "output_type": "display_data"
    }
   ],
   "source": [
    "display(df_united['type'].value_counts())\n",
    "df_united['type'] = df_united['type'].str.strip()"
   ]
  },
  {
   "cell_type": "code",
   "execution_count": 14,
   "metadata": {},
   "outputs": [
    {
     "data": {
      "text/plain": [
       "«16+» - для детей старше 16 лет           2851\n",
       "«18+» - запрещено для детей               1605\n",
       "«12+» - для детей старше 12 лет           1593\n",
       "«0+» - для любой зрительской аудитории     811\n",
       "«6+» - для детей старше 6 лет              626\n",
       "Name: age_restriction, dtype: int64"
      ]
     },
     "execution_count": 14,
     "metadata": {},
     "output_type": "execute_result"
    }
   ],
   "source": [
    "df_united['age_restriction'] = df_united['age_restriction'].str.strip()\n",
    "df_united['age_restriction'].value_counts()"
   ]
  },
  {
   "cell_type": "markdown",
   "metadata": {},
   "source": [
    "<div class=\"alert alert-success\">\n",
    "\n",
    "**✅Комментарий ревьюера**\n",
    "Успешно преобразовал категориальные признаки</div>"
   ]
  },
  {
   "cell_type": "markdown",
   "metadata": {},
   "source": [
    "<div class=\"alert alert-info\"; style=\"border-left: 7px solid SteelBlue\">\n",
    "<h5>🎓 <font color=\"SteelBlue\">Комментарий от студента (синий)</font></h5> \n",
    "было исправлен тип выступления (убраны пробелы сначала и конца слов), данная операция была проведена и с возратной группой  \n",
    "    <div"
   ]
  },
  {
   "cell_type": "markdown",
   "metadata": {
    "id": "XFSN5lrEgFyR"
   },
   "source": [
    "#### Шаг 2.5. Проверьте количественные значения\n",
    "\n",
    "- Проверьте, обнаружились ли в таких столбцах подозрительные данные. Как с такими данными лучше поступить?\n",
    "\n",
    "<div id=\"accordion\">\n",
    "    <div class=\"card\">\n",
    "        <div class=\"card-header\" id=\"headingThree\">\n",
    "            <button class=\"btn btn-link collapsed\" data-toggle=\"collapse\" data-target=\"#collapseHint_budget\" aria-expanded=\"false\" aria-controls=\"collapseHint_budget\">Подсказка</button>\n",
    "        </div>\n",
    "        <div id=\"collapseHint_budget\" class=\"collapse\" aria-labelledby=\"headingThree\" data-parent=\"#accordion\">\n",
    "            <div class=\"card-body\">\n",
    "Обратите внимание на описание столбца <code>budget</code>. Как этот столбец соотносится с двумя другими: <code>refundable_support</code> и <code>nonrefundable_support</code>?\n",
    "            </div>\n",
    "        </div>\n",
    "    </div>\n",
    "</div>"
   ]
  },
  {
   "cell_type": "markdown",
   "metadata": {},
   "source": [
    "<div class=\"alert alert-info\"; style=\"border-left: 7px solid SteelBlue\">\n",
    "<h5>🎓 <font color=\"SteelBlue\">Комментарий от студента (синий)</font></h5> \n",
    "    Первое, что хотелось проверить это данные столбцов [budget,refundable_support,nonrefundable_support] \n",
    "    <div"
   ]
  },
  {
   "cell_type": "code",
   "execution_count": 15,
   "metadata": {
    "id": "YbzClBxagFyS"
   },
   "outputs": [
    {
     "data": {
      "text/html": [
       "<div>\n",
       "<style scoped>\n",
       "    .dataframe tbody tr th:only-of-type {\n",
       "        vertical-align: middle;\n",
       "    }\n",
       "\n",
       "    .dataframe tbody tr th {\n",
       "        vertical-align: top;\n",
       "    }\n",
       "\n",
       "    .dataframe thead th {\n",
       "        text-align: right;\n",
       "    }\n",
       "</style>\n",
       "<table border=\"1\" class=\"dataframe\">\n",
       "  <thead>\n",
       "    <tr style=\"text-align: right;\">\n",
       "      <th></th>\n",
       "      <th>budget</th>\n",
       "      <th>refundable_support</th>\n",
       "      <th>nonrefundable_support</th>\n",
       "    </tr>\n",
       "  </thead>\n",
       "  <tbody>\n",
       "    <tr>\n",
       "      <th>count</th>\n",
       "      <td>3.320000e+02</td>\n",
       "      <td>3.320000e+02</td>\n",
       "      <td>3.320000e+02</td>\n",
       "    </tr>\n",
       "    <tr>\n",
       "      <th>mean</th>\n",
       "      <td>1.272297e+08</td>\n",
       "      <td>1.186446e+07</td>\n",
       "      <td>4.898099e+07</td>\n",
       "    </tr>\n",
       "    <tr>\n",
       "      <th>std</th>\n",
       "      <td>1.885883e+08</td>\n",
       "      <td>2.491656e+07</td>\n",
       "      <td>5.998012e+07</td>\n",
       "    </tr>\n",
       "    <tr>\n",
       "      <th>min</th>\n",
       "      <td>0.000000e+00</td>\n",
       "      <td>0.000000e+00</td>\n",
       "      <td>0.000000e+00</td>\n",
       "    </tr>\n",
       "    <tr>\n",
       "      <th>25%</th>\n",
       "      <td>4.200000e+07</td>\n",
       "      <td>0.000000e+00</td>\n",
       "      <td>2.500000e+07</td>\n",
       "    </tr>\n",
       "    <tr>\n",
       "      <th>50%</th>\n",
       "      <td>6.864992e+07</td>\n",
       "      <td>0.000000e+00</td>\n",
       "      <td>3.000000e+07</td>\n",
       "    </tr>\n",
       "    <tr>\n",
       "      <th>75%</th>\n",
       "      <td>1.419853e+08</td>\n",
       "      <td>1.500000e+07</td>\n",
       "      <td>4.037500e+07</td>\n",
       "    </tr>\n",
       "    <tr>\n",
       "      <th>max</th>\n",
       "      <td>2.305074e+09</td>\n",
       "      <td>1.800000e+08</td>\n",
       "      <td>4.000000e+08</td>\n",
       "    </tr>\n",
       "  </tbody>\n",
       "</table>\n",
       "</div>"
      ],
      "text/plain": [
       "             budget  refundable_support  nonrefundable_support\n",
       "count  3.320000e+02        3.320000e+02           3.320000e+02\n",
       "mean   1.272297e+08        1.186446e+07           4.898099e+07\n",
       "std    1.885883e+08        2.491656e+07           5.998012e+07\n",
       "min    0.000000e+00        0.000000e+00           0.000000e+00\n",
       "25%    4.200000e+07        0.000000e+00           2.500000e+07\n",
       "50%    6.864992e+07        0.000000e+00           3.000000e+07\n",
       "75%    1.419853e+08        1.500000e+07           4.037500e+07\n",
       "max    2.305074e+09        1.800000e+08           4.000000e+08"
      ]
     },
     "metadata": {},
     "output_type": "display_data"
    },
    {
     "data": {
      "text/html": [
       "<div>\n",
       "<style scoped>\n",
       "    .dataframe tbody tr th:only-of-type {\n",
       "        vertical-align: middle;\n",
       "    }\n",
       "\n",
       "    .dataframe tbody tr th {\n",
       "        vertical-align: top;\n",
       "    }\n",
       "\n",
       "    .dataframe thead th {\n",
       "        text-align: right;\n",
       "    }\n",
       "</style>\n",
       "<table border=\"1\" class=\"dataframe\">\n",
       "  <thead>\n",
       "    <tr style=\"text-align: right;\">\n",
       "      <th></th>\n",
       "      <th>puNumber</th>\n",
       "      <th>refundable_support</th>\n",
       "      <th>nonrefundable_support</th>\n",
       "      <th>budget</th>\n",
       "      <th>ratings</th>\n",
       "      <th>box_office</th>\n",
       "    </tr>\n",
       "  </thead>\n",
       "  <tbody>\n",
       "    <tr>\n",
       "      <th>count</th>\n",
       "      <td>1.700000e+01</td>\n",
       "      <td>1.700000e+01</td>\n",
       "      <td>1.700000e+01</td>\n",
       "      <td>17.0</td>\n",
       "      <td>16.000000</td>\n",
       "      <td>1.700000e+01</td>\n",
       "    </tr>\n",
       "    <tr>\n",
       "      <th>mean</th>\n",
       "      <td>1.120672e+08</td>\n",
       "      <td>1.670588e+07</td>\n",
       "      <td>6.517467e+07</td>\n",
       "      <td>0.0</td>\n",
       "      <td>5.725000</td>\n",
       "      <td>1.631373e+08</td>\n",
       "    </tr>\n",
       "    <tr>\n",
       "      <th>std</th>\n",
       "      <td>1.473501e+06</td>\n",
       "      <td>2.006478e+07</td>\n",
       "      <td>6.123620e+07</td>\n",
       "      <td>0.0</td>\n",
       "      <td>0.916151</td>\n",
       "      <td>2.511160e+08</td>\n",
       "    </tr>\n",
       "    <tr>\n",
       "      <th>min</th>\n",
       "      <td>1.110004e+08</td>\n",
       "      <td>0.000000e+00</td>\n",
       "      <td>0.000000e+00</td>\n",
       "      <td>0.0</td>\n",
       "      <td>4.300000</td>\n",
       "      <td>1.334699e+06</td>\n",
       "    </tr>\n",
       "    <tr>\n",
       "      <th>25%</th>\n",
       "      <td>1.110096e+08</td>\n",
       "      <td>0.000000e+00</td>\n",
       "      <td>2.300000e+07</td>\n",
       "      <td>0.0</td>\n",
       "      <td>5.075000</td>\n",
       "      <td>5.045195e+07</td>\n",
       "    </tr>\n",
       "    <tr>\n",
       "      <th>50%</th>\n",
       "      <td>1.110173e+08</td>\n",
       "      <td>1.000000e+07</td>\n",
       "      <td>5.100000e+07</td>\n",
       "      <td>0.0</td>\n",
       "      <td>5.700000</td>\n",
       "      <td>7.293778e+07</td>\n",
       "    </tr>\n",
       "    <tr>\n",
       "      <th>75%</th>\n",
       "      <td>1.140017e+08</td>\n",
       "      <td>2.000000e+07</td>\n",
       "      <td>7.500000e+07</td>\n",
       "      <td>0.0</td>\n",
       "      <td>6.300000</td>\n",
       "      <td>1.844876e+08</td>\n",
       "    </tr>\n",
       "    <tr>\n",
       "      <th>max</th>\n",
       "      <td>1.140065e+08</td>\n",
       "      <td>6.000000e+07</td>\n",
       "      <td>2.500000e+08</td>\n",
       "      <td>0.0</td>\n",
       "      <td>7.800000</td>\n",
       "      <td>1.038321e+09</td>\n",
       "    </tr>\n",
       "  </tbody>\n",
       "</table>\n",
       "</div>"
      ],
      "text/plain": [
       "           puNumber  refundable_support  nonrefundable_support  budget  \\\n",
       "count  1.700000e+01        1.700000e+01           1.700000e+01    17.0   \n",
       "mean   1.120672e+08        1.670588e+07           6.517467e+07     0.0   \n",
       "std    1.473501e+06        2.006478e+07           6.123620e+07     0.0   \n",
       "min    1.110004e+08        0.000000e+00           0.000000e+00     0.0   \n",
       "25%    1.110096e+08        0.000000e+00           2.300000e+07     0.0   \n",
       "50%    1.110173e+08        1.000000e+07           5.100000e+07     0.0   \n",
       "75%    1.140017e+08        2.000000e+07           7.500000e+07     0.0   \n",
       "max    1.140065e+08        6.000000e+07           2.500000e+08     0.0   \n",
       "\n",
       "         ratings    box_office  \n",
       "count  16.000000  1.700000e+01  \n",
       "mean    5.725000  1.631373e+08  \n",
       "std     0.916151  2.511160e+08  \n",
       "min     4.300000  1.334699e+06  \n",
       "25%     5.075000  5.045195e+07  \n",
       "50%     5.700000  7.293778e+07  \n",
       "75%     6.300000  1.844876e+08  \n",
       "max     7.800000  1.038321e+09  "
      ]
     },
     "metadata": {},
     "output_type": "display_data"
    }
   ],
   "source": [
    "display(df_united[['budget','refundable_support','nonrefundable_support']].describe())\n",
    "display(df_united[df_united['budget'] == 0].describe())\n",
    "#df_united.query('(refundable_support + nonrefundable_support) > budget')"
   ]
  },
  {
   "cell_type": "markdown",
   "metadata": {},
   "source": [
    "<div class=\"alert alert-info\"; style=\"border-left: 7px solid SteelBlue\">\n",
    "<h5>🎓 <font color=\"SteelBlue\">Комментарий от студента (синий)</font></h5> \n",
    "- Из столбцов budget, refundable_support, nonrefundable_support видно что, минимум составляет 0 рублей, Мединное значение refundable_support\tравно 0 рублей \n",
    "- После заинтересовали Фильмы с нулевым бюджетом по рейтингу имеют минимум 4.3 и максимум 7.8, а также видно что поддеркжка была выделена, значит надо исправит значение бюджета как сумма двух столбцов (всего таких фильмов 17)\n",
    "    <div"
   ]
  },
  {
   "cell_type": "code",
   "execution_count": 16,
   "metadata": {},
   "outputs": [
    {
     "name": "stdout",
     "output_type": "stream",
     "text": [
      "<class 'pandas.core.frame.DataFrame'>\n",
      "Int64Index: 7486 entries, 0 to 7485\n",
      "Data columns (total 16 columns):\n",
      " #   Column                 Non-Null Count  Dtype              \n",
      "---  ------                 --------------  -----              \n",
      " 0   title                  7486 non-null   object             \n",
      " 1   puNumber               7486 non-null   int64              \n",
      " 2   show_start_date        7486 non-null   datetime64[ns, UTC]\n",
      " 3   type                   7486 non-null   object             \n",
      " 4   film_studio            7473 non-null   object             \n",
      " 5   production_country     7486 non-null   object             \n",
      " 6   director               7477 non-null   object             \n",
      " 7   producer               6918 non-null   object             \n",
      " 8   age_restriction        7486 non-null   object             \n",
      " 9   refundable_support     332 non-null    float64            \n",
      " 10  nonrefundable_support  332 non-null    float64            \n",
      " 11  budget                 332 non-null    float64            \n",
      " 12  financing_source       332 non-null    object             \n",
      " 13  ratings                6490 non-null   float64            \n",
      " 14  genres                 6510 non-null   object             \n",
      " 15  box_office             3158 non-null   float64            \n",
      "dtypes: datetime64[ns, UTC](1), float64(5), int64(1), object(9)\n",
      "memory usage: 1.2+ MB\n"
     ]
    }
   ],
   "source": [
    "def budget(df):\n",
    "    if df['budget'] < (df['refundable_support'] + df['nonrefundable_support']):\n",
    "        return df['refundable_support'] + df['nonrefundable_support']\n",
    "    else:\n",
    "        return df['budget']\n",
    "\n",
    "df_united['budget'] = df_united.apply(budget, axis=1)\n",
    "df_united.info()"
   ]
  },
  {
   "cell_type": "markdown",
   "metadata": {},
   "source": [
    "<div class=\"alert alert-success\">\n",
    "\n",
    "**✅Комментарий ревьюера**\n",
    "Хорошая функция </div>"
   ]
  },
  {
   "cell_type": "markdown",
   "metadata": {},
   "source": [
    "<div class=\"alert alert-info\"; style=\"border-left: 7px solid SteelBlue\">\n",
    "<h5>🎓 <font color=\"SteelBlue\">Комментарий от студента (синий)</font></h5> \n",
    "была написана функция по изменению значений в столбце 'budget', там где значение бюджета =0 но поддержка составляет более 0\n",
    "    <div"
   ]
  },
  {
   "cell_type": "markdown",
   "metadata": {
    "id": "Eu6oWp2CgFyS"
   },
   "source": [
    "#### Шаг 2.6. Добавьте новые столбцы\n",
    "\n",
    "\n",
    "\n"
   ]
  },
  {
   "cell_type": "markdown",
   "metadata": {
    "id": "7GgW-UpAgFyS"
   },
   "source": [
    "- Создайте столбец с информацией о годе проката. Выделите год из даты премьеры фильма."
   ]
  },
  {
   "cell_type": "code",
   "execution_count": 17,
   "metadata": {
    "id": "I-yd1DkWgFyT"
   },
   "outputs": [],
   "source": [
    "df_united['years'] = df_united['show_start_date'].dt.year"
   ]
  },
  {
   "cell_type": "markdown",
   "metadata": {
    "id": "nFTDLDYOgFyT"
   },
   "source": [
    "- Создайте два столбца: с именем и фамилией главного режиссёра и основным жанром фильма. В столбцы войдут первые значения из списка режиссёров и жанров соответственно.\n",
    "\n",
    "<div id=\"accordion\">\n",
    "    <div class=\"card\">\n",
    "        <div class=\"card-header\" id=\"headingThree\">\n",
    "            <button class=\"btn btn-link collapsed\" data-toggle=\"collapse\" data-target=\"#collapseHint_2\" aria-expanded=\"false\" aria-controls=\"collapseHint_2\">Подсказка</button>\n",
    "        </div>\n",
    "        <div id=\"collapseHint_2\" class=\"collapse\" aria-labelledby=\"headingThree\" data-parent=\"#accordion\">\n",
    "            <div class=\"card-body\">\n",
    "Чтобы создать такие столбцы, лучше всего использовать собственную функцию. Эту функцию можно применить к двум столбцам сразу. \n",
    "            </div>\n",
    "        </div>\n",
    "    </div>\n",
    "</div>"
   ]
  },
  {
   "cell_type": "code",
   "execution_count": 18,
   "metadata": {
    "id": "LSbRZKbMgFyU"
   },
   "outputs": [],
   "source": [
    "def two_column_first (df=df_united,row_1='director',row_2='genres',name_column_1='director_first',name_column_2='genre_first'):\n",
    "    df[name_column_1] = df[row_1].str.split(\",\").str[0]\n",
    "    df[name_column_2] = df[row_2].str.split(\",\").str[0]\n",
    "two_column_first()\n",
    "\n",
    "#display(df_united.head())\n"
   ]
  },
  {
   "cell_type": "markdown",
   "metadata": {
    "id": "1FsCXHwdgFyU"
   },
   "source": [
    "- Посчитайте, какую долю от общего бюджета фильма составляет государственная поддержка."
   ]
  },
  {
   "cell_type": "code",
   "execution_count": 19,
   "metadata": {
    "id": "LV6qFuZLgFyV"
   },
   "outputs": [],
   "source": [
    "df_united['budget share'] = (df_united['refundable_support']+df_united['nonrefundable_support'])/df_united['budget']\n",
    "#print(df_united['budget share'].unique())"
   ]
  },
  {
   "cell_type": "markdown",
   "metadata": {},
   "source": [
    "<div class=\"alert alert-info\"; style=\"border-left: 7px solid SteelBlue\">\n",
    "<h5>🎓 <font color=\"SteelBlue\">Комментарий от студента (синий)</font></h5> \n",
    "Вданном шаге была проделана работа:\n",
    "- проверены и исправлены типы данных в столбцах\n",
    "- изучены пропуски в датафрайме\n",
    "- изучены дубликаты\n",
    "- проверены категориальные и колличественные значения \n",
    "- добавлены три столбца\n",
    "    <div"
   ]
  },
  {
   "cell_type": "markdown",
   "metadata": {},
   "source": [
    "<div class=\"alert alert-success\">\n",
    "\n",
    "**✅Комментарий ревьюера**\n",
    "Успешно добавил новые поля, молодец</div>"
   ]
  },
  {
   "cell_type": "markdown",
   "metadata": {
    "id": "6t4EukPLgFyV"
   },
   "source": [
    "### Шаг 3. Проведите исследовательский анализ данных\n"
   ]
  },
  {
   "cell_type": "markdown",
   "metadata": {
    "id": "vAH8WCzugFyV"
   },
   "source": [
    "- Посмотрите, сколько фильмов выходило в прокат каждый год. Обратите внимание, что данные о прокате в кинотеатрах известны не для всех фильмов. Посчитайте, какую долю составляют фильмы с указанной информацией о прокате в кинотеатрах."
   ]
  },
  {
   "cell_type": "code",
   "execution_count": 20,
   "metadata": {
    "id": "ABeV47y7gFyW"
   },
   "outputs": [
    {
     "data": {
      "text/html": [
       "<div>\n",
       "<style scoped>\n",
       "    .dataframe tbody tr th:only-of-type {\n",
       "        vertical-align: middle;\n",
       "    }\n",
       "\n",
       "    .dataframe tbody tr th {\n",
       "        vertical-align: top;\n",
       "    }\n",
       "\n",
       "    .dataframe thead th {\n",
       "        text-align: right;\n",
       "    }\n",
       "</style>\n",
       "<table border=\"1\" class=\"dataframe\">\n",
       "  <thead>\n",
       "    <tr style=\"text-align: right;\">\n",
       "      <th></th>\n",
       "      <th>years</th>\n",
       "      <th>title</th>\n",
       "    </tr>\n",
       "  </thead>\n",
       "  <tbody>\n",
       "    <tr>\n",
       "      <th>0</th>\n",
       "      <td>2010</td>\n",
       "      <td>985</td>\n",
       "    </tr>\n",
       "    <tr>\n",
       "      <th>1</th>\n",
       "      <td>2011</td>\n",
       "      <td>622</td>\n",
       "    </tr>\n",
       "    <tr>\n",
       "      <th>2</th>\n",
       "      <td>2012</td>\n",
       "      <td>593</td>\n",
       "    </tr>\n",
       "    <tr>\n",
       "      <th>3</th>\n",
       "      <td>2013</td>\n",
       "      <td>630</td>\n",
       "    </tr>\n",
       "    <tr>\n",
       "      <th>4</th>\n",
       "      <td>2014</td>\n",
       "      <td>807</td>\n",
       "    </tr>\n",
       "    <tr>\n",
       "      <th>5</th>\n",
       "      <td>2015</td>\n",
       "      <td>705</td>\n",
       "    </tr>\n",
       "    <tr>\n",
       "      <th>6</th>\n",
       "      <td>2016</td>\n",
       "      <td>818</td>\n",
       "    </tr>\n",
       "    <tr>\n",
       "      <th>7</th>\n",
       "      <td>2017</td>\n",
       "      <td>505</td>\n",
       "    </tr>\n",
       "    <tr>\n",
       "      <th>8</th>\n",
       "      <td>2018</td>\n",
       "      <td>891</td>\n",
       "    </tr>\n",
       "    <tr>\n",
       "      <th>9</th>\n",
       "      <td>2019</td>\n",
       "      <td>930</td>\n",
       "    </tr>\n",
       "  </tbody>\n",
       "</table>\n",
       "</div>"
      ],
      "text/plain": [
       "   years  title\n",
       "0   2010    985\n",
       "1   2011    622\n",
       "2   2012    593\n",
       "3   2013    630\n",
       "4   2014    807\n",
       "5   2015    705\n",
       "6   2016    818\n",
       "7   2017    505\n",
       "8   2018    891\n",
       "9   2019    930"
      ]
     },
     "execution_count": 20,
     "metadata": {},
     "output_type": "execute_result"
    }
   ],
   "source": [
    "#display(df_united.groupby('years')['box_office'].count().sum())\n",
    "pivot_year_movie = df_united.groupby(['years'])['title'].count().reset_index()\n",
    "pivot_year_movie"
   ]
  },
  {
   "cell_type": "markdown",
   "metadata": {},
   "source": [
    "<div class=\"alert alert-danger\">\n",
    "\n",
    "**❌Комментарий ревьюера**\n",
    "Смотри, из-за того, что ты для подсчета используешь поле `box_office`, в котором есть пропуски, то количество записей у тебя сокращается сильно. Здесь ты в итоге получаешь не кол-во фильмов, которые выходило каждый год, а кол-во фильмов по которым у тебя есть данные о сборах. Но в прокат у нас выходило больше фильмов, просто данные о сборах есть не по всем\n",
    "\n",
    "Лучше после группировки взять два поля, например, 'title', 'box_office' и применить `count` к ним. Так ты получишь кол-во фильмов в прокате, кол-во фильмов со сборами. Поделишь и найдешь долю. Оба графика ниже и выводы соответственно тоже нужно будет подправить</div>"
   ]
  },
  {
   "cell_type": "markdown",
   "metadata": {},
   "source": [
    "<div class=\"alert alert-info\"; style=\"border-left: 7px solid SteelBlue\">\n",
    "<h5>🎓 <font color=\"SteelBlue\">Комментарий от студента (синий)</font></h5> \n",
    "Честно там повторы встречаются фильмов, я думаю может сгрупировать по title так как фильм один а выходил не сколько раз в кино \n",
    "    <div"
   ]
  },
  {
   "cell_type": "markdown",
   "metadata": {},
   "source": [
    "<div class=\"alert alert-success\">\n",
    "\n",
    "**✅Комментарий ревьюера  V2**\n",
    "Исправления принял. Что касается твоего вопроса, то суть в том, что нас интересует кол-во прокатов. А не кол-во уникальных фильмов в прокате. Поэтому то что имеются дубликаты, это не страшно. Каждый прокат был в разные даты, имеет свои собственные сборы</div>"
   ]
  },
  {
   "cell_type": "markdown",
   "metadata": {
    "id": "BEOdcIrIgFyW"
   },
   "source": [
    "<div class=\"alert alert-info\"; style=\"border-left: 7px solid SteelBlue\">\n",
    "<h5>🎓 <font color=\"SteelBlue\">Комментарий от студента (синий)</font></h5> \n",
    "- В данной таблице указано колличество фильмов вышедвих в кинотеатрах (и не только)\n",
    "    <div"
   ]
  },
  {
   "cell_type": "code",
   "execution_count": 21,
   "metadata": {},
   "outputs": [
    {
     "data": {
      "text/html": [
       "<div>\n",
       "<style scoped>\n",
       "    .dataframe tbody tr th:only-of-type {\n",
       "        vertical-align: middle;\n",
       "    }\n",
       "\n",
       "    .dataframe tbody tr th {\n",
       "        vertical-align: top;\n",
       "    }\n",
       "\n",
       "    .dataframe thead th {\n",
       "        text-align: right;\n",
       "    }\n",
       "</style>\n",
       "<table border=\"1\" class=\"dataframe\">\n",
       "  <thead>\n",
       "    <tr style=\"text-align: right;\">\n",
       "      <th></th>\n",
       "      <th>years</th>\n",
       "      <th>procent_movies</th>\n",
       "    </tr>\n",
       "  </thead>\n",
       "  <tbody>\n",
       "    <tr>\n",
       "      <th>0</th>\n",
       "      <td>2010</td>\n",
       "      <td>10.659898</td>\n",
       "    </tr>\n",
       "    <tr>\n",
       "      <th>1</th>\n",
       "      <td>2011</td>\n",
       "      <td>17.524116</td>\n",
       "    </tr>\n",
       "    <tr>\n",
       "      <th>2</th>\n",
       "      <td>2012</td>\n",
       "      <td>21.585160</td>\n",
       "    </tr>\n",
       "    <tr>\n",
       "      <th>3</th>\n",
       "      <td>2013</td>\n",
       "      <td>29.206349</td>\n",
       "    </tr>\n",
       "    <tr>\n",
       "      <th>4</th>\n",
       "      <td>2014</td>\n",
       "      <td>34.572491</td>\n",
       "    </tr>\n",
       "    <tr>\n",
       "      <th>5</th>\n",
       "      <td>2015</td>\n",
       "      <td>65.957447</td>\n",
       "    </tr>\n",
       "    <tr>\n",
       "      <th>6</th>\n",
       "      <td>2016</td>\n",
       "      <td>64.303178</td>\n",
       "    </tr>\n",
       "    <tr>\n",
       "      <th>7</th>\n",
       "      <td>2017</td>\n",
       "      <td>70.693069</td>\n",
       "    </tr>\n",
       "    <tr>\n",
       "      <th>8</th>\n",
       "      <td>2018</td>\n",
       "      <td>53.310887</td>\n",
       "    </tr>\n",
       "    <tr>\n",
       "      <th>9</th>\n",
       "      <td>2019</td>\n",
       "      <td>56.989247</td>\n",
       "    </tr>\n",
       "  </tbody>\n",
       "</table>\n",
       "</div>"
      ],
      "text/plain": [
       "   years  procent_movies\n",
       "0   2010       10.659898\n",
       "1   2011       17.524116\n",
       "2   2012       21.585160\n",
       "3   2013       29.206349\n",
       "4   2014       34.572491\n",
       "5   2015       65.957447\n",
       "6   2016       64.303178\n",
       "7   2017       70.693069\n",
       "8   2018       53.310887\n",
       "9   2019       56.989247"
      ]
     },
     "metadata": {},
     "output_type": "display_data"
    }
   ],
   "source": [
    "pivot_year_procent = (df_united[['years','box_office']]\n",
    "                      .groupby('years')\n",
    "                      .apply(lambda x : x['box_office'].apply(pd.notna).mean())*100)\n",
    "pivot_year_procent=(pivot_year_procent\n",
    "                    .to_frame()\n",
    "                    .reset_index())\n",
    "pivot_year_procent.rename(columns={0:'procent_movies'},inplace=True)\n",
    "display(pivot_year_procent)"
   ]
  },
  {
   "cell_type": "markdown",
   "metadata": {},
   "source": [
    "<div class=\"alert alert-info\"; style=\"border-left: 7px solid SteelBlue\">\n",
    "<h5>🎓 <font color=\"SteelBlue\">Комментарий от студента (синий)</font></h5> \n",
    "- В данной таблице указано колличество фильмов показанные в кинотеатрах ( и не только как я понял понял из гугла эта фильмы которые еще транслипровались на тв и т.д)\n",
    "    <div"
   ]
  },
  {
   "cell_type": "markdown",
   "metadata": {},
   "source": [
    "<div class=\"alert alert-danger\">\n",
    "\n",
    "**❌Комментарий ревьюера  V2**\n",
    "Код упал с ошибкой KeyError: 'box_office' После внесенных исправлений</div>"
   ]
  },
  {
   "cell_type": "markdown",
   "metadata": {},
   "source": [
    "<div class=\"alert alert-info\"; style=\"border-left: 7px solid SteelBlue\">\n",
    "<h5>🎓 <font color=\"SteelBlue\">Комментарий от студента (синий) V3</font></h5> \n",
    "Исправил, нашёл, что забыл поправить ось y и указать title  а не box_office\n",
    "    <div"
   ]
  },
  {
   "cell_type": "markdown",
   "metadata": {},
   "source": [
    "<div class=\"alert alert-success\">\n",
    "\n",
    "**✅Комментарий ревьюера  V3**\n",
    "Исправления принял</div>"
   ]
  },
  {
   "cell_type": "code",
   "execution_count": 22,
   "metadata": {
    "id": "tfEhofYvgFyX"
   },
   "outputs": [
    {
     "data": {
      "image/png": "[encoded data removed]",
      "text/plain": [
       "<Figure size 648x648 with 1 Axes>"
      ]
     },
     "metadata": {
      "needs_background": "light"
     },
     "output_type": "display_data"
    },
    {
     "data": {
      "image/png": "[encoded data removed]",
      "text/plain": [
       "<Figure size 648x648 with 1 Axes>"
      ]
     },
     "metadata": {
      "needs_background": "light"
     },
     "output_type": "display_data"
    }
   ],
   "source": [
    "pivot_year_movie.plot(kind='bar',figsize = (9,9),\n",
    "                      title='Колличество показанных фильмов в кинотеатре от года',\n",
    "                      grid=True, legend=True,\n",
    "                      xlabel='Год показа',ylabel='Колличестов фильмов, знач.',\n",
    "                      fontsize = 14, x ='years', y='title')\n",
    "plt.show()\n",
    "pivot_year_procent.plot(kind='bar',figsize = (9,9),\n",
    "                        title='Колличество показанных фильмов в кинотеатре от года',\n",
    "                        grid=True, legend=True,\n",
    "                        xlabel='Год показа',ylabel='Фильмы показанные в кинотеатре, проц.',\n",
    "                        fontsize = 14, x ='years', y = 'procent_movies')\n",
    "plt.show()"
   ]
  },
  {
   "cell_type": "code",
   "execution_count": 23,
   "metadata": {
    "scrolled": true
   },
   "outputs": [
    {
     "data": {
      "text/html": [
       "<div>\n",
       "<style scoped>\n",
       "    .dataframe tbody tr th:only-of-type {\n",
       "        vertical-align: middle;\n",
       "    }\n",
       "\n",
       "    .dataframe tbody tr th {\n",
       "        vertical-align: top;\n",
       "    }\n",
       "\n",
       "    .dataframe thead th {\n",
       "        text-align: right;\n",
       "    }\n",
       "</style>\n",
       "<table border=\"1\" class=\"dataframe\">\n",
       "  <thead>\n",
       "    <tr style=\"text-align: right;\">\n",
       "      <th></th>\n",
       "      <th>years</th>\n",
       "      <th>title</th>\n",
       "      <th>procent_movies</th>\n",
       "    </tr>\n",
       "  </thead>\n",
       "  <tbody>\n",
       "    <tr>\n",
       "      <th>years</th>\n",
       "      <td>1.000000</td>\n",
       "      <td>0.160854</td>\n",
       "      <td>0.865056</td>\n",
       "    </tr>\n",
       "    <tr>\n",
       "      <th>title</th>\n",
       "      <td>0.160854</td>\n",
       "      <td>1.000000</td>\n",
       "      <td>-0.068461</td>\n",
       "    </tr>\n",
       "    <tr>\n",
       "      <th>procent_movies</th>\n",
       "      <td>0.865056</td>\n",
       "      <td>-0.068461</td>\n",
       "      <td>1.000000</td>\n",
       "    </tr>\n",
       "  </tbody>\n",
       "</table>\n",
       "</div>"
      ],
      "text/plain": [
       "                   years     title  procent_movies\n",
       "years           1.000000  0.160854        0.865056\n",
       "title           0.160854  1.000000       -0.068461\n",
       "procent_movies  0.865056 -0.068461        1.000000"
      ]
     },
     "metadata": {},
     "output_type": "display_data"
    }
   ],
   "source": [
    "piv_united=pivot_year_movie.merge(pivot_year_procent,how='left',on='years')\n",
    "display(piv_united.corr())"
   ]
  },
  {
   "cell_type": "code",
   "execution_count": 24,
   "metadata": {},
   "outputs": [
    {
     "data": {
      "text/html": [
       "<div>\n",
       "<style scoped>\n",
       "    .dataframe tbody tr th:only-of-type {\n",
       "        vertical-align: middle;\n",
       "    }\n",
       "\n",
       "    .dataframe tbody tr th {\n",
       "        vertical-align: top;\n",
       "    }\n",
       "\n",
       "    .dataframe thead th {\n",
       "        text-align: right;\n",
       "    }\n",
       "</style>\n",
       "<table border=\"1\" class=\"dataframe\">\n",
       "  <thead>\n",
       "    <tr style=\"text-align: right;\">\n",
       "      <th></th>\n",
       "      <th>max_office</th>\n",
       "      <th>min_office</th>\n",
       "    </tr>\n",
       "    <tr>\n",
       "      <th>years</th>\n",
       "      <th></th>\n",
       "      <th></th>\n",
       "    </tr>\n",
       "  </thead>\n",
       "  <tbody>\n",
       "    <tr>\n",
       "      <th>2010</th>\n",
       "      <td>1.446400e+06</td>\n",
       "      <td>75.0</td>\n",
       "    </tr>\n",
       "    <tr>\n",
       "      <th>2011</th>\n",
       "      <td>1.161808e+07</td>\n",
       "      <td>125.0</td>\n",
       "    </tr>\n",
       "    <tr>\n",
       "      <th>2012</th>\n",
       "      <td>2.311220e+06</td>\n",
       "      <td>80.0</td>\n",
       "    </tr>\n",
       "    <tr>\n",
       "      <th>2013</th>\n",
       "      <td>1.995703e+07</td>\n",
       "      <td>40.0</td>\n",
       "    </tr>\n",
       "    <tr>\n",
       "      <th>2014</th>\n",
       "      <td>1.016411e+09</td>\n",
       "      <td>50.0</td>\n",
       "    </tr>\n",
       "    <tr>\n",
       "      <th>2015</th>\n",
       "      <td>1.658861e+09</td>\n",
       "      <td>100.0</td>\n",
       "    </tr>\n",
       "    <tr>\n",
       "      <th>2016</th>\n",
       "      <td>2.048126e+09</td>\n",
       "      <td>200.0</td>\n",
       "    </tr>\n",
       "    <tr>\n",
       "      <th>2017</th>\n",
       "      <td>2.779686e+09</td>\n",
       "      <td>7900.0</td>\n",
       "    </tr>\n",
       "    <tr>\n",
       "      <th>2018</th>\n",
       "      <td>2.271754e+09</td>\n",
       "      <td>41225.0</td>\n",
       "    </tr>\n",
       "    <tr>\n",
       "      <th>2019</th>\n",
       "      <td>3.073569e+09</td>\n",
       "      <td>4398.4</td>\n",
       "    </tr>\n",
       "  </tbody>\n",
       "</table>\n",
       "</div>"
      ],
      "text/plain": [
       "         max_office  min_office\n",
       "years                          \n",
       "2010   1.446400e+06        75.0\n",
       "2011   1.161808e+07       125.0\n",
       "2012   2.311220e+06        80.0\n",
       "2013   1.995703e+07        40.0\n",
       "2014   1.016411e+09        50.0\n",
       "2015   1.658861e+09       100.0\n",
       "2016   2.048126e+09       200.0\n",
       "2017   2.779686e+09      7900.0\n",
       "2018   2.271754e+09     41225.0\n",
       "2019   3.073569e+09      4398.4"
      ]
     },
     "metadata": {},
     "output_type": "display_data"
    },
    {
     "data": {
      "text/plain": [
       "array([<AxesSubplot:xlabel='Год показа', ylabel='Сумма сборов, руб.'>,\n",
       "       <AxesSubplot:xlabel='Год показа', ylabel='Сумма сборов, руб.'>],\n",
       "      dtype=object)"
      ]
     },
     "execution_count": 24,
     "metadata": {},
     "output_type": "execute_result"
    },
    {
     "data": {
      "image/png": "[encoded data removed]",
      "text/plain": [
       "<Figure size 648x648 with 2 Axes>"
      ]
     },
     "metadata": {
      "needs_background": "light"
     },
     "output_type": "display_data"
    }
   ],
   "source": [
    "pivot_year_movie = (df_united\n",
    "                    .query('box_office > 0')\n",
    "                    .pivot_table(index='years',values='box_office',aggfunc=['max','min']))\n",
    "pivot_year_movie.columns=['max_office','min_office']\n",
    "\n",
    "display(pivot_year_movie)\n",
    "pivot_year_movie.plot(kind='line',figsize = (9,9),subplots=True,\n",
    "                       title='Минимальное и максимальный сумма сборов от фильмов от года выхода',\n",
    "                       grid=True, legend=True,\n",
    "                       xlabel='Год показа',ylabel='Сумма сборов, руб.',\n",
    "                       fontsize = 14, xlim=(2010,2019))"
   ]
  },
  {
   "cell_type": "markdown",
   "metadata": {},
   "source": [
    "<div class=\"alert alert-info\"; style=\"border-left: 7px solid SteelBlue\">\n",
    "<h5>🎓 <font color=\"SteelBlue\">Комментарий от студента (синий)</font></h5> \n",
    "Весьма высокую корелляцию можно пронаблюдать года выхода фильма и сборов. а так же можно увидеть чем выше процент вышедших фильмов в кинотеатре тем больше сборы (как не странно) :)\n",
    "    <div"
   ]
  },
  {
   "cell_type": "markdown",
   "metadata": {},
   "source": [
    "<div class=\"alert alert-danger\">\n",
    "\n",
    "**❌Комментарий ревьюера**\n",
    "Не увидел у тебя ответа на вопрос:\n",
    "\n",
    "`Изучите, как менялась динамика проката по годам. В каком году сумма сборов была минимальной? А максимальной?`</div>\n"
   ]
  },
  {
   "cell_type": "markdown",
   "metadata": {},
   "source": [
    "<div class=\"alert alert-danger\">\n",
    "\n",
    "**❌Комментарий ревьюера V2**\n",
    "Забыл исключить фильмы с 0 сборами или без сборов</div>\n"
   ]
  },
  {
   "cell_type": "markdown",
   "metadata": {},
   "source": [
    "<div class=\"alert alert-info\"; style=\"border-left: 7px solid SteelBlue\">\n",
    "<h5>🎓 <font color=\"SteelBlue\">Комментарий от студента (синий) V3 </font></h5>\n",
    "    Исправил добавил фильтр по сборам чтобы был больше 0\n",
    "    <div"
   ]
  },
  {
   "cell_type": "markdown",
   "metadata": {},
   "source": [
    "<div class=\"alert alert-success\">\n",
    "\n",
    "**✅Комментарий ревьюера  V3**\n",
    "Исправления принял</div>"
   ]
  },
  {
   "cell_type": "markdown",
   "metadata": {},
   "source": [
    "<div class=\"alert alert-info\"; style=\"border-left: 7px solid SteelBlue\">\n",
    "<h5>🎓 <font color=\"SteelBlue\">Комментарий от студента (синий)</font></h5> \n",
    "из таблицы видно минимальная сумма сборов  в 2013 году 40 рублей\n",
    "    А максимальная сумма выручки начинает свой рост с 2013 года, как раз когда начинается выпускаться большое колличество фильмов в прокат, максимальная сумма выручки была в 2019 году\n",
    "    <div"
   ]
  },
  {
   "cell_type": "markdown",
   "metadata": {
    "id": "G-7qS-N-gFyY"
   },
   "source": [
    "- С помощью сводной таблицы посчитайте среднюю и медианную сумму сборов для каждого года."
   ]
  },
  {
   "cell_type": "markdown",
   "metadata": {},
   "source": [
    "<div class=\"alert alert-warning\">\n",
    "\n",
    "**⚠️Комментарий ревьюера**\n",
    "Можно к датафрейму применить метод `round()`, чтобы убрать экспоненциальну запись числа</div>"
   ]
  },
  {
   "cell_type": "code",
   "execution_count": 25,
   "metadata": {
    "id": "jmp-rgg9gFyY"
   },
   "outputs": [
    {
     "data": {
      "image/png": "[encoded data removed]",
      "text/plain": [
       "<Figure size 360x360 with 1 Axes>"
      ]
     },
     "metadata": {
      "needs_background": "light"
     },
     "output_type": "display_data"
    },
    {
     "data": {
      "image/png": "[encoded data removed]",
      "text/plain": [
       "<Figure size 360x360 with 1 Axes>"
      ]
     },
     "metadata": {
      "needs_background": "light"
     },
     "output_type": "display_data"
    },
    {
     "data": {
      "image/png": "[encoded data removed]",
      "text/plain": [
       "<Figure size 432x288 with 1 Axes>"
      ]
     },
     "metadata": {
      "needs_background": "light"
     },
     "output_type": "display_data"
    },
    {
     "data": {
      "image/png": "[encoded data removed]",
      "text/plain": [
       "<Figure size 432x288 with 1 Axes>"
      ]
     },
     "metadata": {
      "needs_background": "light"
     },
     "output_type": "display_data"
    },
    {
     "data": {
      "text/plain": [
       "<AxesSubplot:ylabel='Рубли'>"
      ]
     },
     "execution_count": 25,
     "metadata": {},
     "output_type": "execute_result"
    },
    {
     "data": {
      "image/png": "[encoded data removed]",
      "text/plain": [
       "<Figure size 432x288 with 1 Axes>"
      ]
     },
     "metadata": {
      "needs_background": "light"
     },
     "output_type": "display_data"
    }
   ],
   "source": [
    "pivot_year_movie = (df_united.query('box_office > 10'))\n",
    "#piv_tab_mean_year = df_united.pivot_table(index='years',values='box_office',aggfunc=['mean','median']).round().reset_index()\n",
    "#piv_tab_mean_year.columns=['years','mean','median']\n",
    "#display(piv_tab_mean_year)\n",
    "#piv_tab_mean_year.plot(kind='box',figsize = (9,9),subplots=True,\n",
    "                       #title='Медианное и среднее значение сборов фильмов',\n",
    "                       #grid=True, legend=True,\n",
    "                       #xlabel='Год показа',ylabel='Зарабаток, руб.',\n",
    "                       #fontsize = 14,)\n",
    "#display(pivot_year_movie)\n",
    "se.catplot(x='years', y='box_office', kind=\"box\", data=pivot_year_movie , palette='husl')\n",
    "plt.ylim(50,1*10*10**4)\n",
    "\n",
    "se.catplot(x='years', y='box_office', kind=\"box\", data=pivot_year_movie , palette='husl')\n",
    "plt.ylim(1*10*10**4,2*10*10**7)\n",
    "plt.show()\n",
    "\n",
    "\n",
    "varian_2 = df_united.groupby('years')['box_office'].agg(['mean', 'median']).reset_index()\n",
    "#display(varian_2)\n",
    "for col in ['mean','median']:\n",
    "    se.lineplot(data=varian_2, x='years',palette='husl',y=col)\n",
    "    plt.show()\n",
    "#se.lineplot(data=varian_2)\n",
    "#plt.xlim(2010)\n",
    "#plt.ylim(0)\n",
    "varian_2.plot(kind='box',grid=True, label='Среднее и медианное значение по всем годам', ylabel='Рубли',ylim=(0,1.5*10**8))"
   ]
  },
  {
   "cell_type": "markdown",
   "metadata": {
    "id": "Ok89WFwJgFyZ"
   },
   "source": [
    "- Определите, влияет ли возрастное ограничение аудитории («6+», «12+», «16+», «18+» и т. д.) на сборы фильма в прокате в период с 2015 по 2019 год? Фильмы с каким возрастным ограничением собрали больше всего денег в прокате? Меняется ли картина в зависимости от года? Если да, предположите, с чем это может быть связано."
   ]
  },
  {
   "cell_type": "markdown",
   "metadata": {},
   "source": [
    "<div class=\"alert alert-info\"; style=\"border-left: 7px solid SteelBlue\">\n",
    "<h5>🎓 <font color=\"SteelBlue\">Комментарий от студента (синий)</font></h5> \n",
    "По построиным боксплотам можно увидеть то что среднее значения заработков фильма находится на уровне 0,57*10**8, а медианное значение находится на уровне 0,195*10**7, связано с тем что в определенные года было выпущено меньше фильмов (например с 2010 по 2013 год)\n",
    "    <div"
   ]
  },
  {
   "cell_type": "markdown",
   "metadata": {},
   "source": [
    "<div class=\"alert alert-info\"; style=\"border-left: 7px solid SteelBlue\">\n",
    "<h5>🎓 <font color=\"SteelBlue\">Комментарий от студента (синий) V3 </font></h5> \n",
    "Минимальное значение по сборамм составляет 40 рублей а максимально 41 тысяча рублей, Максимально значение принадлежит 2019 году\n",
    "    Среднее значения заработка с 2010 по 2019 это 0,57*10**8 рублей, медианное значение лежит куда ниже 1.99*10**6 рублей\n",
    "    <div"
   ]
  },
  {
   "cell_type": "markdown",
   "metadata": {},
   "source": [
    "<div class=\"alert alert-danger\">\n",
    "\n",
    "**❌Комментарий ревьюера**\n",
    "Лучше смотреть не на сумму сборов, потому что чем больше фильмов, тем может быть и больше сумма сборов. А на распрделеения (можно построить боксплоты) или на среднее значение</div>"
   ]
  },
  {
   "cell_type": "markdown",
   "metadata": {},
   "source": [
    "<div class=\"alert alert-danger\">\n",
    "\n",
    "**❌Комментарий ревьюера V2**\n",
    "Не увидел исправлений</div>\n"
   ]
  },
  {
   "cell_type": "markdown",
   "metadata": {},
   "source": [
    "<div class=\"alert alert-info\"; style=\"border-left: 7px solid SteelBlue\">\n",
    "<h5>🎓 <font color=\"SteelBlue\">Комментарий от студента (синий) V4 </font></h5> \n",
    "ааааааааааа замечания были к группе, а то я исправлял пункт выше \n",
    "    <div"
   ]
  },
  {
   "cell_type": "code",
   "execution_count": 26,
   "metadata": {
    "id": "jsSbEqfjgFya"
   },
   "outputs": [
    {
     "data": {
      "image/png": "[encoded data removed]",
      "text/plain": [
       "<Figure size 432x288 with 1 Axes>"
      ]
     },
     "metadata": {
      "needs_background": "light"
     },
     "output_type": "display_data"
    },
    {
     "data": {
      "image/png": "[encoded data removed]",
      "text/plain": [
       "<Figure size 617.875x360 with 1 Axes>"
      ]
     },
     "metadata": {
      "needs_background": "light"
     },
     "output_type": "display_data"
    }
   ],
   "source": [
    "age_mov_year = df_united.query('2015<=years').groupby(['years','age_restriction'])['box_office'].mean().reset_index().round()\n",
    "fig = se.lineplot(x='years', y='box_office', hue='age_restriction', data=age_mov_year,markers=True, dashes=False)\n",
    "plt.title('Сумма средних сборов фильмов для разных возрастных групп')\n",
    "plt.xlabel('Год показа')\n",
    "plt.ylabel('Сумма сборов, руб.')\n",
    "plt.figsize=(2,1)\n",
    "plt.xlim(2015)\n",
    "plt.ylim(0)\n",
    "plt.legend(fontsize=8, framealpha=0.1,title='Возрастные группы')\n",
    "plt.show()\n",
    "\n",
    "age_mov_year = (df_united\n",
    "                .query('2015 <= years')\n",
    "                .groupby(['years', 'age_restriction'])['box_office']\n",
    "                .agg('mean')\n",
    "                .reset_index())\n",
    "fig = se.catplot(x='years', y='box_office', hue='age_restriction', data=age_mov_year, kind='bar')\n",
    "plt.title('Средняя сумма сборов фильмов')\n",
    "plt.xlabel('Год')\n",
    "plt.ylabel('Средняя сумма сборов по годам в рублях')\n",
    "plt.show()"
   ]
  },
  {
   "cell_type": "markdown",
   "metadata": {},
   "source": [
    "По построеенным графикам можно сказать:\n",
    "- наибольшее количестов фильмов вышло в 2019 и в 2016 годах\n",
    "- при этом доля прокатов в фильме наибольше составляет в 2017 году\n",
    "- Из медианного и среднего знчения сборов фильмов видно, что с 2010 по 2013 год значение имеет наименьше значения связано с тем, что колличество фильмов составляло меньшее значение, по сравнению с годами выше \n",
    "-  Так же можно заметить, что в 2017 году среднее число собранных денег вызвана фильмами и передачам, которая имеет возростной рейтинг 6+"
   ]
  },
  {
   "cell_type": "markdown",
   "metadata": {
    "id": "l_Kg6Ku4gFya"
   },
   "source": [
    "### Шаг 4. Исследуйте фильмы, которые получили государственную поддержку\n",
    "\n",
    "На этом этапе нет конкретных инструкций и заданий — поищите интересные закономерности в данных. Посмотрите, сколько выделяют средств на поддержку кино. Проверьте, хорошо ли окупаются такие фильмы, какой у них рейтинг."
   ]
  },
  {
   "cell_type": "markdown",
   "metadata": {},
   "source": [
    "<div class=\"alert alert-info\"; style=\"border-left: 7px solid SteelBlue\">\n",
    "<h5>🎓 <font color=\"SteelBlue\">Комментарий от студента (синий)</font></h5> \n",
    "Создана копия ДФ для знечий у которых есть бюджет\n",
    "    <div"
   ]
  },
  {
   "cell_type": "code",
   "execution_count": 27,
   "metadata": {
    "id": "W9QKpjUdgFyb"
   },
   "outputs": [
    {
     "data": {
      "text/html": [
       "<div>\n",
       "<style scoped>\n",
       "    .dataframe tbody tr th:only-of-type {\n",
       "        vertical-align: middle;\n",
       "    }\n",
       "\n",
       "    .dataframe tbody tr th {\n",
       "        vertical-align: top;\n",
       "    }\n",
       "\n",
       "    .dataframe thead th {\n",
       "        text-align: right;\n",
       "    }\n",
       "</style>\n",
       "<table border=\"1\" class=\"dataframe\">\n",
       "  <thead>\n",
       "    <tr style=\"text-align: right;\">\n",
       "      <th></th>\n",
       "      <th>title</th>\n",
       "      <th>puNumber</th>\n",
       "      <th>show_start_date</th>\n",
       "      <th>type</th>\n",
       "      <th>film_studio</th>\n",
       "      <th>production_country</th>\n",
       "      <th>director</th>\n",
       "      <th>producer</th>\n",
       "      <th>age_restriction</th>\n",
       "      <th>refundable_support</th>\n",
       "      <th>nonrefundable_support</th>\n",
       "      <th>budget</th>\n",
       "      <th>financing_source</th>\n",
       "      <th>ratings</th>\n",
       "      <th>genres</th>\n",
       "      <th>box_office</th>\n",
       "      <th>years</th>\n",
       "      <th>director_first</th>\n",
       "      <th>genre_first</th>\n",
       "      <th>budget share</th>\n",
       "      <th>summa_support</th>\n",
       "      <th>income</th>\n",
       "    </tr>\n",
       "  </thead>\n",
       "  <tbody>\n",
       "    <tr>\n",
       "      <th>1281</th>\n",
       "      <td>пока еще жива</td>\n",
       "      <td>111005313</td>\n",
       "      <td>2013-10-11 12:00:00+00:00</td>\n",
       "      <td>Художественный</td>\n",
       "      <td>АНО содействия развитию кинематографии \"Ангел-...</td>\n",
       "      <td>Россия</td>\n",
       "      <td>А.Атанесян</td>\n",
       "      <td>А.Атанесян, М.Бабаханов, Р.Бутко</td>\n",
       "      <td>«16+» - для детей старше 16 лет</td>\n",
       "      <td>0.0</td>\n",
       "      <td>26500000.0</td>\n",
       "      <td>79411900.0</td>\n",
       "      <td>Министерство культуры</td>\n",
       "      <td>8.1</td>\n",
       "      <td>драма,мелодрама</td>\n",
       "      <td>365353.6</td>\n",
       "      <td>2013</td>\n",
       "      <td>А.Атанесян</td>\n",
       "      <td>драма</td>\n",
       "      <td>0.333703</td>\n",
       "      <td>26500000.0</td>\n",
       "      <td>-79046546.4</td>\n",
       "    </tr>\n",
       "    <tr>\n",
       "      <th>1448</th>\n",
       "      <td>бесславные придурки</td>\n",
       "      <td>111003314</td>\n",
       "      <td>2014-03-28 12:00:00+00:00</td>\n",
       "      <td>Художественный</td>\n",
       "      <td>ООО \"Компания \"АТК-Студио\"</td>\n",
       "      <td>Россия</td>\n",
       "      <td>А.Якимчук</td>\n",
       "      <td>А.Тютрюмов</td>\n",
       "      <td>«12+» - для детей старше 12 лет</td>\n",
       "      <td>0.0</td>\n",
       "      <td>26000000.0</td>\n",
       "      <td>37142857.0</td>\n",
       "      <td>Министерство культуры</td>\n",
       "      <td>NaN</td>\n",
       "      <td>NaN</td>\n",
       "      <td>28140.0</td>\n",
       "      <td>2014</td>\n",
       "      <td>А.Якимчук</td>\n",
       "      <td>NaN</td>\n",
       "      <td>0.700000</td>\n",
       "      <td>26000000.0</td>\n",
       "      <td>-37114717.0</td>\n",
       "    </tr>\n",
       "    <tr>\n",
       "      <th>1498</th>\n",
       "      <td>невидимки</td>\n",
       "      <td>111004213</td>\n",
       "      <td>2013-09-10 12:00:00+00:00</td>\n",
       "      <td>Художественный</td>\n",
       "      <td>ООО \"Компания \"РЕАЛ-ДАКОТА\"</td>\n",
       "      <td>Россия</td>\n",
       "      <td>Р.Давлетьяров, С.Комаров</td>\n",
       "      <td>Р.Давлетьяров, А.Котелевский, А.Олейников</td>\n",
       "      <td>«12+» - для детей старше 12 лет</td>\n",
       "      <td>0.0</td>\n",
       "      <td>107847945.0</td>\n",
       "      <td>176023490.0</td>\n",
       "      <td>Фонд кино</td>\n",
       "      <td>5.3</td>\n",
       "      <td>комедия,фантастика</td>\n",
       "      <td>19957031.5</td>\n",
       "      <td>2013</td>\n",
       "      <td>Р.Давлетьяров</td>\n",
       "      <td>комедия</td>\n",
       "      <td>0.612691</td>\n",
       "      <td>107847945.0</td>\n",
       "      <td>-156066458.5</td>\n",
       "    </tr>\n",
       "    <tr>\n",
       "      <th>1524</th>\n",
       "      <td>берцы</td>\n",
       "      <td>111004314</td>\n",
       "      <td>2014-05-05 12:00:00+00:00</td>\n",
       "      <td>Художественный</td>\n",
       "      <td>ООО \"Студия \"Пассажир\"</td>\n",
       "      <td>Россия</td>\n",
       "      <td>Е.Миндадзе (псевдоним Катя Шагалова)</td>\n",
       "      <td>Л.Антонова</td>\n",
       "      <td>«16+» - для детей старше 16 лет</td>\n",
       "      <td>0.0</td>\n",
       "      <td>28000000.0</td>\n",
       "      <td>40574140.0</td>\n",
       "      <td>Министерство культуры</td>\n",
       "      <td>4.2</td>\n",
       "      <td>драма</td>\n",
       "      <td>55917.5</td>\n",
       "      <td>2014</td>\n",
       "      <td>Е.Миндадзе (псевдоним Катя Шагалова)</td>\n",
       "      <td>драма</td>\n",
       "      <td>0.690095</td>\n",
       "      <td>28000000.0</td>\n",
       "      <td>-40518222.5</td>\n",
       "    </tr>\n",
       "    <tr>\n",
       "      <th>1792</th>\n",
       "      <td>братья ч</td>\n",
       "      <td>111004414</td>\n",
       "      <td>2014-04-23 12:00:00+00:00</td>\n",
       "      <td>Художественный</td>\n",
       "      <td>ООО \"Студия \"Пассажир\"</td>\n",
       "      <td>Россия</td>\n",
       "      <td>М.Угаров</td>\n",
       "      <td>А.Миндадзе, Л.Антонова</td>\n",
       "      <td>«16+» - для детей старше 16 лет</td>\n",
       "      <td>0.0</td>\n",
       "      <td>25000000.0</td>\n",
       "      <td>40015122.0</td>\n",
       "      <td>Министерство культуры</td>\n",
       "      <td>6.4</td>\n",
       "      <td>драма</td>\n",
       "      <td>232100.0</td>\n",
       "      <td>2014</td>\n",
       "      <td>М.Угаров</td>\n",
       "      <td>драма</td>\n",
       "      <td>0.624764</td>\n",
       "      <td>25000000.0</td>\n",
       "      <td>-39783022.0</td>\n",
       "    </tr>\n",
       "  </tbody>\n",
       "</table>\n",
       "</div>"
      ],
      "text/plain": [
       "                    title   puNumber           show_start_date  \\\n",
       "1281        пока еще жива  111005313 2013-10-11 12:00:00+00:00   \n",
       "1448  бесславные придурки  111003314 2014-03-28 12:00:00+00:00   \n",
       "1498            невидимки  111004213 2013-09-10 12:00:00+00:00   \n",
       "1524                берцы  111004314 2014-05-05 12:00:00+00:00   \n",
       "1792             братья ч  111004414 2014-04-23 12:00:00+00:00   \n",
       "\n",
       "                type                                        film_studio  \\\n",
       "1281  Художественный  АНО содействия развитию кинематографии \"Ангел-...   \n",
       "1448  Художественный                         ООО \"Компания \"АТК-Студио\"   \n",
       "1498  Художественный                        ООО \"Компания \"РЕАЛ-ДАКОТА\"   \n",
       "1524  Художественный                             ООО \"Студия \"Пассажир\"   \n",
       "1792  Художественный                             ООО \"Студия \"Пассажир\"   \n",
       "\n",
       "     production_country                              director  \\\n",
       "1281             Россия                            А.Атанесян   \n",
       "1448             Россия                             А.Якимчук   \n",
       "1498             Россия              Р.Давлетьяров, С.Комаров   \n",
       "1524             Россия  Е.Миндадзе (псевдоним Катя Шагалова)   \n",
       "1792             Россия                              М.Угаров   \n",
       "\n",
       "                                       producer  \\\n",
       "1281           А.Атанесян, М.Бабаханов, Р.Бутко   \n",
       "1448                                 А.Тютрюмов   \n",
       "1498  Р.Давлетьяров, А.Котелевский, А.Олейников   \n",
       "1524                                 Л.Антонова   \n",
       "1792                     А.Миндадзе, Л.Антонова   \n",
       "\n",
       "                      age_restriction  refundable_support  \\\n",
       "1281  «16+» - для детей старше 16 лет                 0.0   \n",
       "1448  «12+» - для детей старше 12 лет                 0.0   \n",
       "1498  «12+» - для детей старше 12 лет                 0.0   \n",
       "1524  «16+» - для детей старше 16 лет                 0.0   \n",
       "1792  «16+» - для детей старше 16 лет                 0.0   \n",
       "\n",
       "      nonrefundable_support       budget       financing_source  ratings  \\\n",
       "1281             26500000.0   79411900.0  Министерство культуры      8.1   \n",
       "1448             26000000.0   37142857.0  Министерство культуры      NaN   \n",
       "1498            107847945.0  176023490.0              Фонд кино      5.3   \n",
       "1524             28000000.0   40574140.0  Министерство культуры      4.2   \n",
       "1792             25000000.0   40015122.0  Министерство культуры      6.4   \n",
       "\n",
       "                  genres  box_office  years  \\\n",
       "1281     драма,мелодрама    365353.6   2013   \n",
       "1448                 NaN     28140.0   2014   \n",
       "1498  комедия,фантастика  19957031.5   2013   \n",
       "1524               драма     55917.5   2014   \n",
       "1792               драма    232100.0   2014   \n",
       "\n",
       "                            director_first genre_first  budget share  \\\n",
       "1281                            А.Атанесян       драма      0.333703   \n",
       "1448                             А.Якимчук         NaN      0.700000   \n",
       "1498                         Р.Давлетьяров     комедия      0.612691   \n",
       "1524  Е.Миндадзе (псевдоним Катя Шагалова)       драма      0.690095   \n",
       "1792                              М.Угаров       драма      0.624764   \n",
       "\n",
       "      summa_support       income  \n",
       "1281     26500000.0  -79046546.4  \n",
       "1448     26000000.0  -37114717.0  \n",
       "1498    107847945.0 -156066458.5  \n",
       "1524     28000000.0  -40518222.5  \n",
       "1792     25000000.0  -39783022.0  "
      ]
     },
     "metadata": {},
     "output_type": "display_data"
    }
   ],
   "source": [
    "#gos_sup = df_united.query('production_country == \"Россия\" & budget>= 0')\n",
    "gos_sup = df_united[df_united['budget'].isna() == False].copy()\n",
    "gos_sup['summa_support'] = gos_sup['refundable_support']+gos_sup['nonrefundable_support']\n",
    "gos_sup['income'] = gos_sup['box_office']-gos_sup['budget']\n",
    "display(gos_sup.head())"
   ]
  },
  {
   "cell_type": "code",
   "execution_count": 28,
   "metadata": {},
   "outputs": [],
   "source": [
    "#display(gos_sup.groupby('years')['puNumber'].count()) # 2013 и 2014 видно только начиналось финансирование\n",
    "gos_sup = gos_sup[gos_sup['years']>2014]"
   ]
  },
  {
   "cell_type": "code",
   "execution_count": 29,
   "metadata": {},
   "outputs": [
    {
     "data": {
      "text/plain": [
       "Text(0, 0.5, 'Значение, руб.')"
      ]
     },
     "execution_count": 29,
     "metadata": {},
     "output_type": "execute_result"
    },
    {
     "data": {
      "image/png": "[encoded data removed]",
      "text/plain": [
       "<Figure size 648x648 with 1 Axes>"
      ]
     },
     "metadata": {
      "needs_background": "light"
     },
     "output_type": "display_data"
    }
   ],
   "source": [
    "(gos_sup\n",
    " .groupby('years')['summa_support'].agg('sum')\n",
    " .plot(grid=True, ylim=(3*10**9,5*10**9), style='-D', figsize=(9,9),xlim=(2015,2019)))\n",
    "plt.title('Суммарная государственная поддержка от года выпуска')\n",
    "plt.xlabel('Год')\n",
    "plt.ylabel('Значение, руб.')"
   ]
  },
  {
   "cell_type": "code",
   "execution_count": 30,
   "metadata": {},
   "outputs": [
    {
     "data": {
      "text/plain": [
       "<matplotlib.legend.Legend at 0x7fdf2fac1940>"
      ]
     },
     "execution_count": 30,
     "metadata": {},
     "output_type": "execute_result"
    },
    {
     "data": {
      "image/png": "[encoded data removed]",
      "text/plain": [
       "<Figure size 648x648 with 1 Axes>"
      ]
     },
     "metadata": {
      "needs_background": "light"
     },
     "output_type": "display_data"
    }
   ],
   "source": [
    "source = gos_sup.groupby(['financing_source','years'])['puNumber'].count().reset_index()\n",
    "fig = se.catplot(x='years', y='puNumber', hue='financing_source', data=source, kind='bar',height=9, aspect =1, legend =False)\n",
    "plt.title('Колличество фильмов от года и финансирующих органов')\n",
    "plt.xlabel('Год показа')\n",
    "plt.ylabel('Колличество фильмов, шт.')\n",
    "plt.legend(fontsize=10, framealpha=0.1,title='Финансирующие органы')"
   ]
  },
  {
   "cell_type": "markdown",
   "metadata": {},
   "source": [
    "<div class=\"alert alert-success\">\n",
    "\n",
    "**✅Комментарий ревьюера**\n",
    "Здесь все сделал хорошо, молодец</div>"
   ]
  },
  {
   "cell_type": "code",
   "execution_count": 31,
   "metadata": {},
   "outputs": [
    {
     "data": {
      "text/plain": [
       "<matplotlib.legend.Legend at 0x7fdf2fbb4e50>"
      ]
     },
     "execution_count": 31,
     "metadata": {},
     "output_type": "execute_result"
    },
    {
     "data": {
      "image/png": "[encoded data removed]",
      "text/plain": [
       "<Figure size 648x648 with 1 Axes>"
      ]
     },
     "metadata": {
      "needs_background": "light"
     },
     "output_type": "display_data"
    }
   ],
   "source": [
    "finance = gos_sup.groupby(['financing_source','years'])['summa_support'].sum().reset_index()\n",
    "fig = se.catplot(x='years', y='summa_support', hue='financing_source', data=finance, kind='bar',height=9, aspect =1, legend =False)\n",
    "plt.title('Сумма финансирования от года показа')\n",
    "plt.xlabel('Год показа')\n",
    "plt.ylabel('Сумма финансирования, руб.')\n",
    "plt.legend(fontsize=10, framealpha=0.1,title='Финансирующие органы') "
   ]
  },
  {
   "cell_type": "code",
   "execution_count": 32,
   "metadata": {},
   "outputs": [
    {
     "data": {
      "text/plain": [
       "(5.0, 7.9799999999999995)"
      ]
     },
     "execution_count": 32,
     "metadata": {},
     "output_type": "execute_result"
    },
    {
     "data": {
      "image/png": "[encoded data removed]",
      "text/plain": [
       "<Figure size 648x648 with 1 Axes>"
      ]
     },
     "metadata": {
      "needs_background": "light"
     },
     "output_type": "display_data"
    }
   ],
   "source": [
    "rating = gos_sup.groupby(['financing_source','years'])['ratings'].mean().reset_index()\n",
    "fig = se.catplot(x='years', y='ratings', hue='financing_source', data=rating, kind='bar',height=9, aspect =1, legend =False)\n",
    "plt.title('Рейтинг фильмов зависимсоти от финансирующего органа')\n",
    "plt.xlabel('Год показа')\n",
    "plt.ylabel('Средний рейтинг')\n",
    "plt.legend(fontsize=10, framealpha=0.1,title='Финансирующие органы')\n",
    "plt.ylim(5)"
   ]
  },
  {
   "cell_type": "code",
   "execution_count": 33,
   "metadata": {},
   "outputs": [
    {
     "data": {
      "image/png": "[encoded data removed]",
      "text/plain": [
       "<Figure size 648x648 with 1 Axes>"
      ]
     },
     "metadata": {
      "needs_background": "light"
     },
     "output_type": "display_data"
    }
   ],
   "source": [
    "(gos_sup\n",
    " .groupby('years')['ratings']\n",
    " .agg(['max', 'min', 'mean', 'median'])\n",
    " .plot(grid=True, ylim=0, style='D-' ,figsize=(9,9),xlim=(2015,2019)))\n",
    "plt.title('Рейтинги фильмов от года показа');\n",
    "plt.xlabel('Год показа');\n",
    "plt.ylabel('Рейтинг');"
   ]
  },
  {
   "cell_type": "code",
   "execution_count": 34,
   "metadata": {},
   "outputs": [
    {
     "data": {
      "text/plain": [
       "<AxesSubplot:>"
      ]
     },
     "execution_count": 34,
     "metadata": {},
     "output_type": "execute_result"
    },
    {
     "data": {
      "image/png": "[encoded data removed]",
      "text/plain": [
       "<Figure size 432x288 with 2 Axes>"
      ]
     },
     "metadata": {
      "needs_background": "light"
     },
     "output_type": "display_data"
    }
   ],
   "source": [
    "se.heatmap(gos_sup.corr(),vmin=-1, vmax=1,annot = True,center= 0, linewidths=1,cmap=\"YlGnBu\")\n",
    "#plt.figure(figsize=(10, 10))"
   ]
  },
  {
   "cell_type": "markdown",
   "metadata": {},
   "source": [
    "<div class=\"alert alert-info\"; style=\"border-left: 7px solid SteelBlue\">\n",
    "<h5>🎓 <font color=\"SteelBlue\">Комментарий от студента (синий)</font></h5> \n",
    "Из графика выше можно заметить, что box_office имеет умереную прямую корелляцию со столбцом budjet, а также высокаю с заработаными деньгами, наибольшую прямую корелляцию имеет значение summa_support от nonrefundable_support\n",
    "    <div"
   ]
  },
  {
   "cell_type": "markdown",
   "metadata": {},
   "source": [
    "<div class=\"alert alert-info\"; style=\"border-left: 7px solid SteelBlue\">\n",
    "<h5>🎓 <font color=\"SteelBlue\">Комментарий от студента (синий)</font></h5> \n",
    "была найден то 10 жанров фильмов, которые чаще всего показывают в кинотеатре, это оказалась драма (жизнь моя драма), но наибольшее финансирование имеют фильмы жанра фантастика( видно из-за спец эфектов и компютерной графики)\n",
    "    <div"
   ]
  },
  {
   "cell_type": "code",
   "execution_count": 35,
   "metadata": {},
   "outputs": [
    {
     "data": {
      "text/html": [
       "<div>\n",
       "<style scoped>\n",
       "    .dataframe tbody tr th:only-of-type {\n",
       "        vertical-align: middle;\n",
       "    }\n",
       "\n",
       "    .dataframe tbody tr th {\n",
       "        vertical-align: top;\n",
       "    }\n",
       "\n",
       "    .dataframe thead th {\n",
       "        text-align: right;\n",
       "    }\n",
       "</style>\n",
       "<table border=\"1\" class=\"dataframe\">\n",
       "  <thead>\n",
       "    <tr style=\"text-align: right;\">\n",
       "      <th></th>\n",
       "      <th>genre_first</th>\n",
       "      <th>mean</th>\n",
       "      <th>max</th>\n",
       "      <th>min</th>\n",
       "      <th>count</th>\n",
       "    </tr>\n",
       "  </thead>\n",
       "  <tbody>\n",
       "    <tr>\n",
       "      <th>0</th>\n",
       "      <td>драма</td>\n",
       "      <td>5.904593e+07</td>\n",
       "      <td>450000000.0</td>\n",
       "      <td>4700000.0</td>\n",
       "      <td>85</td>\n",
       "    </tr>\n",
       "    <tr>\n",
       "      <th>1</th>\n",
       "      <td>комедия</td>\n",
       "      <td>4.299204e+07</td>\n",
       "      <td>120000000.0</td>\n",
       "      <td>5000000.0</td>\n",
       "      <td>71</td>\n",
       "    </tr>\n",
       "    <tr>\n",
       "      <th>2</th>\n",
       "      <td>мультфильм</td>\n",
       "      <td>7.971733e+07</td>\n",
       "      <td>200000000.0</td>\n",
       "      <td>11520000.0</td>\n",
       "      <td>30</td>\n",
       "    </tr>\n",
       "    <tr>\n",
       "      <th>3</th>\n",
       "      <td>триллер</td>\n",
       "      <td>5.130969e+07</td>\n",
       "      <td>150000000.0</td>\n",
       "      <td>20000000.0</td>\n",
       "      <td>15</td>\n",
       "    </tr>\n",
       "    <tr>\n",
       "      <th>4</th>\n",
       "      <td>мелодрама</td>\n",
       "      <td>2.692308e+07</td>\n",
       "      <td>35000000.0</td>\n",
       "      <td>8000000.0</td>\n",
       "      <td>13</td>\n",
       "    </tr>\n",
       "    <tr>\n",
       "      <th>5</th>\n",
       "      <td>фэнтези</td>\n",
       "      <td>9.390000e+07</td>\n",
       "      <td>300000000.0</td>\n",
       "      <td>25000000.0</td>\n",
       "      <td>11</td>\n",
       "    </tr>\n",
       "    <tr>\n",
       "      <th>6</th>\n",
       "      <td>ужасы</td>\n",
       "      <td>3.550000e+07</td>\n",
       "      <td>66000000.0</td>\n",
       "      <td>25000000.0</td>\n",
       "      <td>10</td>\n",
       "    </tr>\n",
       "    <tr>\n",
       "      <th>7</th>\n",
       "      <td>фантастика</td>\n",
       "      <td>1.381000e+08</td>\n",
       "      <td>500000000.0</td>\n",
       "      <td>6000000.0</td>\n",
       "      <td>10</td>\n",
       "    </tr>\n",
       "    <tr>\n",
       "      <th>8</th>\n",
       "      <td>военный</td>\n",
       "      <td>4.688899e+07</td>\n",
       "      <td>80000866.0</td>\n",
       "      <td>30000000.0</td>\n",
       "      <td>9</td>\n",
       "    </tr>\n",
       "    <tr>\n",
       "      <th>9</th>\n",
       "      <td>приключения</td>\n",
       "      <td>9.942857e+07</td>\n",
       "      <td>270000000.0</td>\n",
       "      <td>6000000.0</td>\n",
       "      <td>7</td>\n",
       "    </tr>\n",
       "  </tbody>\n",
       "</table>\n",
       "</div>"
      ],
      "text/plain": [
       "   genre_first          mean          max         min  count\n",
       "0        драма  5.904593e+07  450000000.0   4700000.0     85\n",
       "1      комедия  4.299204e+07  120000000.0   5000000.0     71\n",
       "2   мультфильм  7.971733e+07  200000000.0  11520000.0     30\n",
       "3      триллер  5.130969e+07  150000000.0  20000000.0     15\n",
       "4    мелодрама  2.692308e+07   35000000.0   8000000.0     13\n",
       "5      фэнтези  9.390000e+07  300000000.0  25000000.0     11\n",
       "6        ужасы  3.550000e+07   66000000.0  25000000.0     10\n",
       "7   фантастика  1.381000e+08  500000000.0   6000000.0     10\n",
       "8      военный  4.688899e+07   80000866.0  30000000.0      9\n",
       "9  приключения  9.942857e+07  270000000.0   6000000.0      7"
      ]
     },
     "metadata": {},
     "output_type": "display_data"
    }
   ],
   "source": [
    "top_genre = (gos_sup\n",
    "             .groupby('genre_first')['summa_support']\n",
    "             .agg(['mean','max','min','count'])\n",
    "             .sort_values(by='count',ascending=False)\n",
    "             .head(10)\n",
    "             .reset_index())\n",
    "display(top_genre)"
   ]
  },
  {
   "cell_type": "markdown",
   "metadata": {},
   "source": [
    "<div class=\"alert alert-info\"; style=\"border-left: 7px solid SteelBlue\">\n",
    "<h5>🎓 <font color=\"SteelBlue\">Комментарий от студента (синий)</font></h5> \n",
    "Был определен руководитель (режисер), у которого наибольшее колличество картин за этот период, которые выходили в кино и финансировались\n",
    "<div"
   ]
  },
  {
   "cell_type": "code",
   "execution_count": 36,
   "metadata": {},
   "outputs": [
    {
     "data": {
      "text/html": [
       "<div>\n",
       "<style scoped>\n",
       "    .dataframe tbody tr th:only-of-type {\n",
       "        vertical-align: middle;\n",
       "    }\n",
       "\n",
       "    .dataframe tbody tr th {\n",
       "        vertical-align: top;\n",
       "    }\n",
       "\n",
       "    .dataframe thead th {\n",
       "        text-align: right;\n",
       "    }\n",
       "</style>\n",
       "<table border=\"1\" class=\"dataframe\">\n",
       "  <thead>\n",
       "    <tr style=\"text-align: right;\">\n",
       "      <th></th>\n",
       "      <th>director_first</th>\n",
       "      <th>count</th>\n",
       "    </tr>\n",
       "  </thead>\n",
       "  <tbody>\n",
       "    <tr>\n",
       "      <th>0</th>\n",
       "      <td>Р.Давлетьяров</td>\n",
       "      <td>4</td>\n",
       "    </tr>\n",
       "    <tr>\n",
       "      <th>1</th>\n",
       "      <td>Д.Дьяченко</td>\n",
       "      <td>4</td>\n",
       "    </tr>\n",
       "    <tr>\n",
       "      <th>2</th>\n",
       "      <td>С.Андреасян</td>\n",
       "      <td>4</td>\n",
       "    </tr>\n",
       "    <tr>\n",
       "      <th>3</th>\n",
       "      <td>А.Котт</td>\n",
       "      <td>3</td>\n",
       "    </tr>\n",
       "    <tr>\n",
       "      <th>4</th>\n",
       "      <td>Н.Хомерики</td>\n",
       "      <td>3</td>\n",
       "    </tr>\n",
       "    <tr>\n",
       "      <th>5</th>\n",
       "      <td>А.Аксененко</td>\n",
       "      <td>3</td>\n",
       "    </tr>\n",
       "    <tr>\n",
       "      <th>6</th>\n",
       "      <td>Д.Шмидт</td>\n",
       "      <td>3</td>\n",
       "    </tr>\n",
       "    <tr>\n",
       "      <th>7</th>\n",
       "      <td>С.Мокрицкий</td>\n",
       "      <td>3</td>\n",
       "    </tr>\n",
       "    <tr>\n",
       "      <th>8</th>\n",
       "      <td>Ф.Дмитриев</td>\n",
       "      <td>2</td>\n",
       "    </tr>\n",
       "    <tr>\n",
       "      <th>9</th>\n",
       "      <td>Р.Каримов</td>\n",
       "      <td>2</td>\n",
       "    </tr>\n",
       "  </tbody>\n",
       "</table>\n",
       "</div>"
      ],
      "text/plain": [
       "  director_first  count\n",
       "0  Р.Давлетьяров      4\n",
       "1     Д.Дьяченко      4\n",
       "2    С.Андреасян      4\n",
       "3         А.Котт      3\n",
       "4     Н.Хомерики      3\n",
       "5    А.Аксененко      3\n",
       "6        Д.Шмидт      3\n",
       "7    С.Мокрицкий      3\n",
       "8     Ф.Дмитриев      2\n",
       "9      Р.Каримов      2"
      ]
     },
     "metadata": {},
     "output_type": "display_data"
    }
   ],
   "source": [
    "top_director_movie = (gos_sup\n",
    "                      .groupby('director_first')['puNumber']\n",
    "                      .agg(['count'])\n",
    "                      .sort_values(by='count',ascending=False)\n",
    "                      .head(10)\n",
    "                      .reset_index())\n",
    "display(top_director_movie)"
   ]
  },
  {
   "cell_type": "markdown",
   "metadata": {},
   "source": [
    "<div class=\"alert alert-info\"; style=\"border-left: 7px solid SteelBlue\">\n",
    "<h5>🎓 <font color=\"SteelBlue\">Комментарий от студента (синий)</font></h5> \n",
    "К.Шипенко, картины данного режиссера являются наиболее прибыльными хотя их всего 2,\n",
    "    <div"
   ]
  },
  {
   "cell_type": "markdown",
   "metadata": {},
   "source": [
    "<div class=\"alert alert-success\">\n",
    "\n",
    "**✅Комментарий ревьюера**\n",
    "Интересное решение показать окупаемость для режиссеров. Мне кажется окупаемость для фондов быо бы важнее показать</div>"
   ]
  },
  {
   "cell_type": "code",
   "execution_count": 37,
   "metadata": {},
   "outputs": [
    {
     "data": {
      "text/html": [
       "<div>\n",
       "<style scoped>\n",
       "    .dataframe tbody tr th:only-of-type {\n",
       "        vertical-align: middle;\n",
       "    }\n",
       "\n",
       "    .dataframe tbody tr th {\n",
       "        vertical-align: top;\n",
       "    }\n",
       "\n",
       "    .dataframe thead th {\n",
       "        text-align: right;\n",
       "    }\n",
       "</style>\n",
       "<table border=\"1\" class=\"dataframe\">\n",
       "  <thead>\n",
       "    <tr style=\"text-align: right;\">\n",
       "      <th></th>\n",
       "      <th>director_first</th>\n",
       "      <th>mean</th>\n",
       "      <th>median</th>\n",
       "      <th>sum</th>\n",
       "      <th>count</th>\n",
       "    </tr>\n",
       "  </thead>\n",
       "  <tbody>\n",
       "    <tr>\n",
       "      <th>0</th>\n",
       "      <td>К.Шипенко</td>\n",
       "      <td>1.586257e+09</td>\n",
       "      <td>1.586257e+09</td>\n",
       "      <td>3.172515e+09</td>\n",
       "      <td>2</td>\n",
       "    </tr>\n",
       "    <tr>\n",
       "      <th>1</th>\n",
       "      <td>А.Мегердичев</td>\n",
       "      <td>2.189494e+09</td>\n",
       "      <td>2.189494e+09</td>\n",
       "      <td>2.189494e+09</td>\n",
       "      <td>1</td>\n",
       "    </tr>\n",
       "    <tr>\n",
       "      <th>2</th>\n",
       "      <td>А.Сидоров</td>\n",
       "      <td>1.707969e+09</td>\n",
       "      <td>1.707969e+09</td>\n",
       "      <td>1.707969e+09</td>\n",
       "      <td>1</td>\n",
       "    </tr>\n",
       "    <tr>\n",
       "      <th>3</th>\n",
       "      <td>Д.Дьяченко</td>\n",
       "      <td>4.060508e+08</td>\n",
       "      <td>1.548375e+08</td>\n",
       "      <td>1.624203e+09</td>\n",
       "      <td>4</td>\n",
       "    </tr>\n",
       "    <tr>\n",
       "      <th>4</th>\n",
       "      <td>О.Трофим</td>\n",
       "      <td>1.297147e+09</td>\n",
       "      <td>1.297147e+09</td>\n",
       "      <td>1.297147e+09</td>\n",
       "      <td>1</td>\n",
       "    </tr>\n",
       "    <tr>\n",
       "      <th>5</th>\n",
       "      <td>Ф.Бондарчук</td>\n",
       "      <td>7.883215e+08</td>\n",
       "      <td>7.883215e+08</td>\n",
       "      <td>7.883215e+08</td>\n",
       "      <td>1</td>\n",
       "    </tr>\n",
       "    <tr>\n",
       "      <th>6</th>\n",
       "      <td>Н.Лебедев</td>\n",
       "      <td>7.669715e+08</td>\n",
       "      <td>7.669715e+08</td>\n",
       "      <td>7.669715e+08</td>\n",
       "      <td>1</td>\n",
       "    </tr>\n",
       "    <tr>\n",
       "      <th>7</th>\n",
       "      <td>Д.Шмидт</td>\n",
       "      <td>2.327708e+08</td>\n",
       "      <td>3.110692e+08</td>\n",
       "      <td>6.983123e+08</td>\n",
       "      <td>3</td>\n",
       "    </tr>\n",
       "    <tr>\n",
       "      <th>8</th>\n",
       "      <td>Д.Киселев</td>\n",
       "      <td>3.484797e+08</td>\n",
       "      <td>3.484797e+08</td>\n",
       "      <td>6.969594e+08</td>\n",
       "      <td>2</td>\n",
       "    </tr>\n",
       "    <tr>\n",
       "      <th>9</th>\n",
       "      <td>Т.Бекмамбетов</td>\n",
       "      <td>3.075187e+08</td>\n",
       "      <td>3.075187e+08</td>\n",
       "      <td>6.150375e+08</td>\n",
       "      <td>2</td>\n",
       "    </tr>\n",
       "  </tbody>\n",
       "</table>\n",
       "</div>"
      ],
      "text/plain": [
       "  director_first          mean        median           sum  count\n",
       "0      К.Шипенко  1.586257e+09  1.586257e+09  3.172515e+09      2\n",
       "1   А.Мегердичев  2.189494e+09  2.189494e+09  2.189494e+09      1\n",
       "2      А.Сидоров  1.707969e+09  1.707969e+09  1.707969e+09      1\n",
       "3     Д.Дьяченко  4.060508e+08  1.548375e+08  1.624203e+09      4\n",
       "4       О.Трофим  1.297147e+09  1.297147e+09  1.297147e+09      1\n",
       "5    Ф.Бондарчук  7.883215e+08  7.883215e+08  7.883215e+08      1\n",
       "6      Н.Лебедев  7.669715e+08  7.669715e+08  7.669715e+08      1\n",
       "7        Д.Шмидт  2.327708e+08  3.110692e+08  6.983123e+08      3\n",
       "8      Д.Киселев  3.484797e+08  3.484797e+08  6.969594e+08      2\n",
       "9  Т.Бекмамбетов  3.075187e+08  3.075187e+08  6.150375e+08      2"
      ]
     },
     "metadata": {},
     "output_type": "display_data"
    },
    {
     "data": {
      "image/png": "[encoded data removed]",
      "text/plain": [
       "<Figure size 936x360 with 1 Axes>"
      ]
     },
     "metadata": {
      "needs_background": "light"
     },
     "output_type": "display_data"
    }
   ],
   "source": [
    "top_director_income = (gos_sup\n",
    "                    .groupby('director_first')['income']\n",
    "                    .agg(['mean','median','sum','count'])\n",
    "                    .sort_values(by='sum',ascending=False)\n",
    "                    .head(10)\n",
    "                    .reset_index())\n",
    "top_director_income.plot(grid=True, ylim=0, style='D-', y =['sum','mean','median'],figsize=(13,5),xlim=(0,9),x='director_first')\n",
    "plt.title('Заработок режиссера от картин');\n",
    "plt.xlabel('Год');\n",
    "plt.ylabel('Рубли');\n",
    "display(top_director_income)\n"
   ]
  },
  {
   "cell_type": "code",
   "execution_count": 38,
   "metadata": {},
   "outputs": [
    {
     "data": {
      "text/html": [
       "<div>\n",
       "<style scoped>\n",
       "    .dataframe tbody tr th:only-of-type {\n",
       "        vertical-align: middle;\n",
       "    }\n",
       "\n",
       "    .dataframe tbody tr th {\n",
       "        vertical-align: top;\n",
       "    }\n",
       "\n",
       "    .dataframe thead th {\n",
       "        text-align: right;\n",
       "    }\n",
       "</style>\n",
       "<table border=\"1\" class=\"dataframe\">\n",
       "  <thead>\n",
       "    <tr style=\"text-align: right;\">\n",
       "      <th></th>\n",
       "      <th>director_first</th>\n",
       "      <th>mean</th>\n",
       "      <th>max</th>\n",
       "    </tr>\n",
       "  </thead>\n",
       "  <tbody>\n",
       "    <tr>\n",
       "      <th>0</th>\n",
       "      <td>К.Шипенко</td>\n",
       "      <td>1.913124e+09</td>\n",
       "      <td>3.073569e+09</td>\n",
       "    </tr>\n",
       "    <tr>\n",
       "      <th>1</th>\n",
       "      <td>А.Мегердичев</td>\n",
       "      <td>2.779686e+09</td>\n",
       "      <td>2.779686e+09</td>\n",
       "    </tr>\n",
       "    <tr>\n",
       "      <th>2</th>\n",
       "      <td>А.Сидоров</td>\n",
       "      <td>2.271754e+09</td>\n",
       "      <td>2.271754e+09</td>\n",
       "    </tr>\n",
       "    <tr>\n",
       "      <th>3</th>\n",
       "      <td>Д.Дьяченко</td>\n",
       "      <td>6.012247e+08</td>\n",
       "      <td>1.655038e+09</td>\n",
       "    </tr>\n",
       "    <tr>\n",
       "      <th>4</th>\n",
       "      <td>О.Трофим</td>\n",
       "      <td>1.445732e+09</td>\n",
       "      <td>1.445732e+09</td>\n",
       "    </tr>\n",
       "    <tr>\n",
       "      <th>5</th>\n",
       "      <td>Н.Лебедев</td>\n",
       "      <td>1.402255e+09</td>\n",
       "      <td>1.402255e+09</td>\n",
       "    </tr>\n",
       "    <tr>\n",
       "      <th>6</th>\n",
       "      <td>Ф.Бондарчук</td>\n",
       "      <td>1.038321e+09</td>\n",
       "      <td>1.038321e+09</td>\n",
       "    </tr>\n",
       "    <tr>\n",
       "      <th>7</th>\n",
       "      <td>Д.Киселев</td>\n",
       "      <td>6.998917e+08</td>\n",
       "      <td>8.554511e+08</td>\n",
       "    </tr>\n",
       "    <tr>\n",
       "      <th>8</th>\n",
       "      <td>Д.Козловский</td>\n",
       "      <td>8.205280e+08</td>\n",
       "      <td>8.205280e+08</td>\n",
       "    </tr>\n",
       "    <tr>\n",
       "      <th>9</th>\n",
       "      <td>К.Феоктистов</td>\n",
       "      <td>7.592268e+08</td>\n",
       "      <td>7.592268e+08</td>\n",
       "    </tr>\n",
       "  </tbody>\n",
       "</table>\n",
       "</div>"
      ],
      "text/plain": [
       "  director_first          mean           max\n",
       "0      К.Шипенко  1.913124e+09  3.073569e+09\n",
       "1   А.Мегердичев  2.779686e+09  2.779686e+09\n",
       "2      А.Сидоров  2.271754e+09  2.271754e+09\n",
       "3     Д.Дьяченко  6.012247e+08  1.655038e+09\n",
       "4       О.Трофим  1.445732e+09  1.445732e+09\n",
       "5      Н.Лебедев  1.402255e+09  1.402255e+09\n",
       "6    Ф.Бондарчук  1.038321e+09  1.038321e+09\n",
       "7      Д.Киселев  6.998917e+08  8.554511e+08\n",
       "8   Д.Козловский  8.205280e+08  8.205280e+08\n",
       "9   К.Феоктистов  7.592268e+08  7.592268e+08"
      ]
     },
     "metadata": {},
     "output_type": "display_data"
    },
    {
     "data": {
      "image/png": "[encoded data removed]",
      "text/plain": [
       "<Figure size 936x360 with 1 Axes>"
      ]
     },
     "metadata": {
      "needs_background": "light"
     },
     "output_type": "display_data"
    }
   ],
   "source": [
    "#pivot_sup_inc = ((gos_sup.\n",
    "#                 pivot_table(index='director_first',values=['box_office'],aggfunc=['mean','max']))\n",
    "#                 .reset_index()\n",
    "#                 .head(10))\n",
    "\n",
    "#pivot_sup_inc.columns = ['director','mean_box_office','max_office']\n",
    "#pivot_sup_inc.sort_values(by='max_office')\n",
    "\n",
    "#display(pivot_sup_inc)\n",
    "#pivot_sup_inc.plot(grid=True, ylim=0, style='D-', y =['mean_box_office','max_office'],figsize=(13,5),xlim=(0,9),x='director')\n",
    "#plt.xlabel('Режиссер')\n",
    "#plt.ylabel('Сборы в прокате кинотеатра')\n",
    "#plt.title('Максимальные и средние значения Сборов')\n",
    "\n",
    "top_director_box_office = (gos_sup\n",
    "                       .groupby('director_first')['box_office']\n",
    "                       .agg(['mean','max'])\n",
    "                       .sort_values(by='max',ascending=False)\n",
    "                       .head(10)\n",
    "                       .reset_index())\n",
    "top_director_box_office.plot(grid=True, ylim=0, style='D-', y =['mean','max'],figsize=(13,5),xlim=(0,9),x='director_first')\n",
    "plt.xlabel('Режиссер')\n",
    "plt.ylabel('Сборы в прокате кинотеатра')\n",
    "plt.title('Максимальные и средние значения Сбор')\n",
    "display(top_director_box_office)"
   ]
  },
  {
   "cell_type": "markdown",
   "metadata": {
    "id": "V2gYwMcPgFyd"
   },
   "source": [
    "### Шаг 5. Напишите общий вывод"
   ]
  },
  {
   "cell_type": "markdown",
   "metadata": {
    "id": "AYRg3dzXgFye"
   },
   "source": [
    "1. В данном проекте были исправлены и найдены\n",
    "- Соеденны две таблицы\n",
    "- Исправлены даты отображения\n",
    "- Исправлены значения в бюджеты\n",
    "- Так же исправлены значения в pyNumber\n",
    "- Добавлены новые столбцы для лучшей обработки данных\n",
    "- исправлены значения в колонке type\n",
    "- Пропущены значения режисера и студии (предполагается что делался этот фильм молодыми режисерами)\n",
    "2. Наибольшее фильмов выходило в кинотеатрах в 2019 и 2016 году\n",
    "3. Наименьшее значение в сборах имеют года с 2010 по 2014 год связано с тем, что колличество фильмов составляло меньшее значение, по сравнению с годами выше  \n",
    "4. Наибольшее количество фильмов относятся к возрастной группе +16\n",
    "5. Наибольшее фильмов показано в кинотеатре было в 2017 году\n",
    "7. Наибольшее колличество снятых фильмов относятся к жанру драмма\n",
    "6. Финансирующие органы в России  это Фонд кино и Министерство культуры\n",
    "7. Средний рейтинг фильмов России находится на уровне 6\n",
    "8. Режиссер с большим колличеством фильмов является Р.Давлетьяров\t(4 фильма)\n",
    "9. Режиссер с наибольшим заработком от картины является К.Шипенко (2 фильма)\n",
    "10. Режиссер с наибольшим сбором в кинотеатре является К.Шипенко\n",
    "- Так же в данных замечено что фильмы имеют повторы, но при этом разные удостоверения (связано с тем что их наверное показывали несколько раз)"
   ]
  },
  {
   "cell_type": "markdown",
   "metadata": {},
   "source": [
    "- [x]  открыт файл\n",
    "- [x]  файлы изучены (выведены первые строки, метод `info()`)\n",
    "- [x]  определены пропущенные значения\n",
    "- [x]  заполнены пропущенные значения там, где это возможно\n",
    "- [x]  есть пояснение, какие пропущенные значения обнаружены\n",
    "- [x]  изменены типы данных\n",
    "- [x]  есть пояснение, в каких столбцах изменены типы и почему\n",
    "- [x]  Исправленны значения где были неуказаны студия и страна-создатель\n",
    "- [x]  Изучены дубликаты и дано объяснение их появению \n",
    "- [x]  Изучены категариальные значения\n",
    "- [x]  исправлены значения в колонке type\n",
    "- [x]  Изучены колличественные значения\n",
    "- [x]  Исправлены значения в столбце бюджет\n",
    "- [x]  Найдено колличество фильмов выпускаемых от года\n",
    "- [x]  Найдена доля фильмов показанных в кинотеатре\n",
    "- [x]  Среднее и менное значение сборов от фильма\n",
    "- [x]  Найдена зависимость фильмов от возрастной категории\n",
    "- [x]  вычесленна суммарная поддержка оказываемая для выпуска фильмов\n",
    "- [x]  Найденно колличество фильмов выпускаемыми разныыми финансирующими органами\n",
    "- [x]  Найденна сумма финансирования разными финансирующими органами\n",
    "- [x]  найдена максимальный, минимальный и средний рейтинг фильма от года\n",
    "- [x]  Найден максимальный заработок от картины зависимости от режисеров (топ 10)\n",
    "- [x]  Найден максимальные сборы от картины зависимости от режиссеров (топ 10)\n",
    "- [X]  в каждом этапе есть промежуточные выводы\n",
    "- [X]  есть общий вывод"
   ]
  },
  {
   "cell_type": "markdown",
   "metadata": {},
   "source": [
    "<div class=\"alert alert-danger\">\n",
    "\n",
    "**❌Комментарий ревьюера**\n",
    "Юрий, молодец, в целом хорошо справиля с проектом. Успешно подготовил данные, построил хорошие понятные графики. Но видимо из за того,  что чуть не так понял задание, то нужно будет внести небольшие корректировки в выводы и вычисления в нескольких вопросах. Уверен, ты легко справишься с доработками. Удачи тебе</div>"
   ]
  },
  {
   "cell_type": "markdown",
   "metadata": {},
   "source": [
    "<div class=\"alert alert-info\"; style=\"border-left: 7px solid SteelBlue\">\n",
    "<h5>🎓 <font color=\"SteelBlue\">Комментарий от студента (синий)</font></h5> \n",
    "У меня появился вопрос может ты подскажешь как правильно его решить? \n",
    "Смотри у нас есть повторы в названиях, но считать то, что они выходили несколько раз в год является не правильно, как решить данный вопрос, потому что объенять по двум переменным надо ? то есть сначала по именам \"title\",а потом по годам и что то понять не могу как это лучше сделать? потому что у меня объеняет все фильмы без учетов повторов\n",
    "    <div"
   ]
  },
  {
   "cell_type": "markdown",
   "metadata": {},
   "source": [
    "<div class=\"alert alert-danger\">\n",
    "\n",
    "**❌Комментарий ревьюера V2**\n",
    "Часть исправлений принял. К сожалению код не отработал до конца. Перед отправкой не забывай проект проверять на полную работоспособность через `kernel/restart and run all`\n",
    "\n",
    "Повторы можешь игнорировать. Ты анализируешь прокаты. То что один и тот же фильм был в прокате несколько раз не страшно. У него в разные прокаты будут разные сборы. Нам важен имено факт проката</div>\n"
   ]
  },
  {
   "cell_type": "markdown",
   "metadata": {},
   "source": [
    "<div class=\"alert alert-danger\">\n",
    "\n",
    "**❌Комментарий ревьюера V3**\n",
    "Исправления принял, теперь код отрабатывает до конца. Но один комментарий ты видимо пропустил или изменения не сохранились. Обрати внимание на критические замечаний в вопроса про зависимость сборов от возрастных групп</div>"
   ]
  },
  {
   "cell_type": "markdown",
   "metadata": {},
   "source": [
    "\n",
    "<div class=\"alert alert-info\"; style=\"border-left: 7px solid SteelBlue\">\n",
    "<h5>🎓 <font color=\"SteelBlue\">Комментарий от студента (синий)</font></h5> \n",
    "  Я понял где нужны коррективы, а то не понятно к какому пункту ссылался выше или ниже) а сейчас понял ну и по среднему числу увидел, что в 2017 году, в среднем значением собранных денег, вырваась  возрастная группа 6+\n",
    "    <div"
   ]
  },
  {
   "cell_type": "markdown",
   "metadata": {},
   "source": [
    "<div class=\"alert alert-success\">\n",
    "\n",
    "**✅Комментарий ревьюера V4**\n",
    "Отлично, теперь все исправления на месте. Отлично над ними поработал. Проект принимаю, успехов тебе в дальнейшей учебе</div>"
   ]
  },
  {
   "cell_type": "code",
   "execution_count": null,
   "metadata": {},
   "outputs": [],
   "source": []
  }
 ],
 "metadata": {
  "ExecuteTimeLog": [
   {
    "duration": 537,
    "start_time": "2021-07-07T10:12:08.634Z"
   },
   {
    "duration": 206,
    "start_time": "2021-07-07T10:12:30.191Z"
   },
   {
    "duration": 227,
    "start_time": "2021-07-07T10:12:33.078Z"
   },
   {
    "duration": 153,
    "start_time": "2021-07-07T10:13:42.146Z"
   },
   {
    "duration": 233,
    "start_time": "2021-07-07T10:30:09.252Z"
   },
   {
    "duration": 19,
    "start_time": "2021-07-07T10:30:15.577Z"
   },
   {
    "duration": 18,
    "start_time": "2021-07-07T10:30:57.348Z"
   },
   {
    "duration": 19,
    "start_time": "2021-07-07T10:31:17.452Z"
   },
   {
    "duration": 21,
    "start_time": "2021-07-07T10:31:32.227Z"
   },
   {
    "duration": 27,
    "start_time": "2021-07-07T10:32:06.588Z"
   },
   {
    "duration": 23,
    "start_time": "2021-07-07T10:32:43.645Z"
   },
   {
    "duration": 24,
    "start_time": "2021-07-07T10:33:06.948Z"
   },
   {
    "duration": 7,
    "start_time": "2021-07-07T10:33:28.558Z"
   },
   {
    "duration": 23,
    "start_time": "2021-07-07T10:33:43.761Z"
   },
   {
    "duration": 28,
    "start_time": "2021-07-07T10:34:13.466Z"
   },
   {
    "duration": 23,
    "start_time": "2021-07-07T10:35:56.187Z"
   },
   {
    "duration": 6,
    "start_time": "2021-07-07T10:36:48.182Z"
   },
   {
    "duration": 14,
    "start_time": "2021-07-07T10:37:49.641Z"
   },
   {
    "duration": 6,
    "start_time": "2021-07-07T10:38:06.694Z"
   },
   {
    "duration": 6,
    "start_time": "2021-07-07T10:38:13.493Z"
   },
   {
    "duration": 19,
    "start_time": "2021-07-07T10:38:44.056Z"
   },
   {
    "duration": 186,
    "start_time": "2021-07-07T10:48:35.618Z"
   },
   {
    "duration": 24,
    "start_time": "2021-07-07T10:48:51.498Z"
   },
   {
    "duration": 20,
    "start_time": "2021-07-07T10:48:59.415Z"
   },
   {
    "duration": 20,
    "start_time": "2021-07-07T10:53:02.195Z"
   },
   {
    "duration": 188,
    "start_time": "2021-07-07T10:54:40.486Z"
   },
   {
    "duration": 115,
    "start_time": "2021-07-07T10:54:52.552Z"
   },
   {
    "duration": 214,
    "start_time": "2021-07-07T10:54:56.354Z"
   },
   {
    "duration": 47,
    "start_time": "2021-07-07T10:54:58.282Z"
   },
   {
    "duration": 217,
    "start_time": "2021-07-07T10:59:16.075Z"
   },
   {
    "duration": 51,
    "start_time": "2021-07-07T10:59:16.243Z"
   },
   {
    "duration": 578,
    "start_time": "2021-07-07T10:59:18.774Z"
   },
   {
    "duration": 161,
    "start_time": "2021-07-07T10:59:21.238Z"
   },
   {
    "duration": 59,
    "start_time": "2021-07-07T10:59:21.453Z"
   },
   {
    "duration": 3,
    "start_time": "2021-07-07T11:02:10.786Z"
   },
   {
    "duration": 13,
    "start_time": "2021-07-07T11:07:07.722Z"
   },
   {
    "duration": 26,
    "start_time": "2021-07-07T11:07:17.958Z"
   },
   {
    "duration": 22,
    "start_time": "2021-07-07T11:08:17.939Z"
   },
   {
    "duration": 212,
    "start_time": "2021-07-07T11:08:19.665Z"
   },
   {
    "duration": 21,
    "start_time": "2021-07-07T11:08:29.945Z"
   },
   {
    "duration": 31,
    "start_time": "2021-07-07T11:08:38.899Z"
   },
   {
    "duration": 23,
    "start_time": "2021-07-07T11:08:54.527Z"
   },
   {
    "duration": 8,
    "start_time": "2021-07-07T11:18:55.974Z"
   },
   {
    "duration": 7,
    "start_time": "2021-07-07T11:19:03.639Z"
   },
   {
    "duration": 7,
    "start_time": "2021-07-07T11:19:06.444Z"
   },
   {
    "duration": 578,
    "start_time": "2021-07-07T12:09:59.576Z"
   },
   {
    "duration": 195,
    "start_time": "2021-07-07T12:10:00.156Z"
   },
   {
    "duration": 115,
    "start_time": "2021-07-07T12:10:00.353Z"
   },
   {
    "duration": 3,
    "start_time": "2021-07-07T12:10:00.470Z"
   },
   {
    "duration": 32,
    "start_time": "2021-07-07T12:10:00.474Z"
   },
   {
    "duration": 23,
    "start_time": "2021-07-07T12:10:00.508Z"
   },
   {
    "duration": 19,
    "start_time": "2021-07-07T12:10:00.533Z"
   },
   {
    "duration": 44,
    "start_time": "2021-07-07T12:10:00.553Z"
   },
   {
    "duration": 7,
    "start_time": "2021-07-07T12:10:00.600Z"
   },
   {
    "duration": 7,
    "start_time": "2021-07-07T12:19:45.761Z"
   },
   {
    "duration": 21,
    "start_time": "2021-07-07T12:21:35.482Z"
   },
   {
    "duration": 21,
    "start_time": "2021-07-07T12:29:23.569Z"
   },
   {
    "duration": 525,
    "start_time": "2021-07-07T12:29:44.542Z"
   },
   {
    "duration": 214,
    "start_time": "2021-07-07T12:29:45.069Z"
   },
   {
    "duration": 92,
    "start_time": "2021-07-07T12:29:45.285Z"
   },
   {
    "duration": 3,
    "start_time": "2021-07-07T12:29:45.379Z"
   },
   {
    "duration": 28,
    "start_time": "2021-07-07T12:29:45.384Z"
   },
   {
    "duration": 23,
    "start_time": "2021-07-07T12:29:45.413Z"
   },
   {
    "duration": 21,
    "start_time": "2021-07-07T12:29:45.437Z"
   },
   {
    "duration": 41,
    "start_time": "2021-07-07T12:29:45.460Z"
   },
   {
    "duration": 7,
    "start_time": "2021-07-07T12:29:45.502Z"
   },
   {
    "duration": 20,
    "start_time": "2021-07-07T12:29:45.511Z"
   },
   {
    "duration": 12,
    "start_time": "2021-07-07T12:34:02.800Z"
   },
   {
    "duration": 7,
    "start_time": "2021-07-07T12:35:10.479Z"
   },
   {
    "duration": 8,
    "start_time": "2021-07-07T12:35:22.440Z"
   },
   {
    "duration": 6,
    "start_time": "2021-07-07T12:35:35.649Z"
   },
   {
    "duration": 6,
    "start_time": "2021-07-07T12:35:43.107Z"
   },
   {
    "duration": 22,
    "start_time": "2021-07-07T12:38:03.029Z"
   },
   {
    "duration": 10,
    "start_time": "2021-07-07T12:38:06.592Z"
   },
   {
    "duration": 563,
    "start_time": "2021-07-07T12:38:46.493Z"
   },
   {
    "duration": 265,
    "start_time": "2021-07-07T12:38:47.058Z"
   },
   {
    "duration": 94,
    "start_time": "2021-07-07T12:38:47.325Z"
   },
   {
    "duration": 3,
    "start_time": "2021-07-07T12:38:47.422Z"
   },
   {
    "duration": 30,
    "start_time": "2021-07-07T12:38:47.427Z"
   },
   {
    "duration": 16,
    "start_time": "2021-07-07T12:38:53.305Z"
   },
   {
    "duration": 10,
    "start_time": "2021-07-07T12:38:53.499Z"
   },
   {
    "duration": 8,
    "start_time": "2021-07-07T12:39:48.161Z"
   },
   {
    "duration": 27,
    "start_time": "2021-07-07T12:41:17.629Z"
   },
   {
    "duration": 17,
    "start_time": "2021-07-07T12:41:17.867Z"
   },
   {
    "duration": 21,
    "start_time": "2021-07-07T12:41:19.310Z"
   },
   {
    "duration": 7,
    "start_time": "2021-07-07T12:41:19.544Z"
   },
   {
    "duration": 20,
    "start_time": "2021-07-07T12:41:20.504Z"
   },
   {
    "duration": 554,
    "start_time": "2021-07-07T12:56:23.696Z"
   },
   {
    "duration": 200,
    "start_time": "2021-07-07T12:56:25.234Z"
   },
   {
    "duration": 119,
    "start_time": "2021-07-07T12:56:25.480Z"
   },
   {
    "duration": 4,
    "start_time": "2021-07-07T12:56:25.762Z"
   },
   {
    "duration": 26,
    "start_time": "2021-07-07T12:56:27.172Z"
   },
   {
    "duration": 12,
    "start_time": "2021-07-07T12:56:29.051Z"
   },
   {
    "duration": 10,
    "start_time": "2021-07-07T12:56:29.291Z"
   },
   {
    "duration": 8,
    "start_time": "2021-07-07T12:56:29.623Z"
   },
   {
    "duration": 28,
    "start_time": "2021-07-07T12:56:32.137Z"
   },
   {
    "duration": 19,
    "start_time": "2021-07-07T12:56:39.785Z"
   },
   {
    "duration": 20,
    "start_time": "2021-07-07T12:56:44.297Z"
   },
   {
    "duration": 7,
    "start_time": "2021-07-07T12:56:45.392Z"
   },
   {
    "duration": 23,
    "start_time": "2021-07-07T12:56:46.615Z"
   },
   {
    "duration": 4,
    "start_time": "2021-07-07T12:57:06.625Z"
   },
   {
    "duration": 32,
    "start_time": "2021-07-07T12:57:36.690Z"
   },
   {
    "duration": 18,
    "start_time": "2021-07-07T12:58:00.149Z"
   },
   {
    "duration": 15,
    "start_time": "2021-07-07T12:59:16.793Z"
   },
   {
    "duration": 7,
    "start_time": "2021-07-07T13:19:22.624Z"
   },
   {
    "duration": 6,
    "start_time": "2021-07-07T14:17:33.527Z"
   },
   {
    "duration": 9,
    "start_time": "2021-07-07T14:17:48.409Z"
   },
   {
    "duration": 8,
    "start_time": "2021-07-07T14:20:13.060Z"
   },
   {
    "duration": 8,
    "start_time": "2021-07-07T14:20:37.957Z"
   },
   {
    "duration": 8,
    "start_time": "2021-07-07T14:20:47.470Z"
   },
   {
    "duration": 9,
    "start_time": "2021-07-07T14:20:54.503Z"
   },
   {
    "duration": 10,
    "start_time": "2021-07-07T14:28:57.763Z"
   },
   {
    "duration": 3,
    "start_time": "2021-07-07T14:30:23.377Z"
   },
   {
    "duration": 3,
    "start_time": "2021-07-07T14:30:36.489Z"
   },
   {
    "duration": 103,
    "start_time": "2021-07-07T14:30:52.351Z"
   },
   {
    "duration": 8,
    "start_time": "2021-07-07T14:30:54.763Z"
   },
   {
    "duration": 8,
    "start_time": "2021-07-07T14:31:29.301Z"
   },
   {
    "duration": 13,
    "start_time": "2021-07-07T14:31:44.516Z"
   },
   {
    "duration": 7,
    "start_time": "2021-07-07T14:33:10.972Z"
   },
   {
    "duration": 11,
    "start_time": "2021-07-07T14:33:27.780Z"
   },
   {
    "duration": 8,
    "start_time": "2021-07-07T14:34:44.588Z"
   },
   {
    "duration": 57,
    "start_time": "2021-07-07T14:35:59.042Z"
   },
   {
    "duration": 3,
    "start_time": "2021-07-07T14:36:28.168Z"
   },
   {
    "duration": 5,
    "start_time": "2021-07-07T14:36:46.254Z"
   },
   {
    "duration": 4,
    "start_time": "2021-07-07T14:36:52.714Z"
   },
   {
    "duration": 3,
    "start_time": "2021-07-07T14:36:56.612Z"
   },
   {
    "duration": 4,
    "start_time": "2021-07-07T14:36:57.049Z"
   },
   {
    "duration": 3,
    "start_time": "2021-07-07T14:39:21.214Z"
   },
   {
    "duration": 7,
    "start_time": "2021-07-07T14:39:52.406Z"
   },
   {
    "duration": 11,
    "start_time": "2021-07-07T14:39:58.576Z"
   },
   {
    "duration": 9,
    "start_time": "2021-07-07T14:40:26.301Z"
   },
   {
    "duration": 10,
    "start_time": "2021-07-07T14:40:31.704Z"
   },
   {
    "duration": 11,
    "start_time": "2021-07-07T14:40:36.249Z"
   },
   {
    "duration": 10,
    "start_time": "2021-07-07T14:40:39.783Z"
   },
   {
    "duration": 9,
    "start_time": "2021-07-07T14:40:48.558Z"
   },
   {
    "duration": 10,
    "start_time": "2021-07-07T14:40:57.143Z"
   },
   {
    "duration": 9,
    "start_time": "2021-07-07T14:41:06.074Z"
   },
   {
    "duration": 4324,
    "start_time": "2021-07-07T14:41:22.004Z"
   },
   {
    "duration": 11,
    "start_time": "2021-07-07T14:41:33.392Z"
   },
   {
    "duration": 9,
    "start_time": "2021-07-07T14:41:39.288Z"
   },
   {
    "duration": 569,
    "start_time": "2021-07-07T14:42:14.387Z"
   },
   {
    "duration": 197,
    "start_time": "2021-07-07T14:42:14.959Z"
   },
   {
    "duration": 84,
    "start_time": "2021-07-07T14:42:16.052Z"
   },
   {
    "duration": 4,
    "start_time": "2021-07-07T14:42:16.900Z"
   },
   {
    "duration": 27,
    "start_time": "2021-07-07T14:42:19.898Z"
   },
   {
    "duration": 12,
    "start_time": "2021-07-07T14:42:21.577Z"
   },
   {
    "duration": 9,
    "start_time": "2021-07-07T14:42:21.813Z"
   },
   {
    "duration": 9,
    "start_time": "2021-07-07T14:42:22.569Z"
   },
   {
    "duration": 29,
    "start_time": "2021-07-07T14:42:25.837Z"
   },
   {
    "duration": 20,
    "start_time": "2021-07-07T14:42:27.003Z"
   },
   {
    "duration": 21,
    "start_time": "2021-07-07T14:42:28.767Z"
   },
   {
    "duration": 7,
    "start_time": "2021-07-07T14:42:29.838Z"
   },
   {
    "duration": 4,
    "start_time": "2021-07-07T14:43:25.493Z"
   },
   {
    "duration": 7,
    "start_time": "2021-07-07T14:43:26.573Z"
   },
   {
    "duration": 10,
    "start_time": "2021-07-07T14:43:31.639Z"
   },
   {
    "duration": 9,
    "start_time": "2021-07-07T14:43:32.046Z"
   },
   {
    "duration": 10,
    "start_time": "2021-07-07T14:43:33.301Z"
   },
   {
    "duration": 12,
    "start_time": "2021-07-07T14:43:33.658Z"
   },
   {
    "duration": 8,
    "start_time": "2021-07-07T14:43:34.552Z"
   },
   {
    "duration": 9,
    "start_time": "2021-07-07T14:43:35.058Z"
   },
   {
    "duration": 12,
    "start_time": "2021-07-07T14:43:35.914Z"
   },
   {
    "duration": 17,
    "start_time": "2021-07-07T14:45:34.368Z"
   },
   {
    "duration": 512,
    "start_time": "2021-07-07T14:51:58.236Z"
   },
   {
    "duration": 223,
    "start_time": "2021-07-07T14:51:58.750Z"
   },
   {
    "duration": 93,
    "start_time": "2021-07-07T14:51:58.977Z"
   },
   {
    "duration": 4,
    "start_time": "2021-07-07T14:51:59.071Z"
   },
   {
    "duration": 37,
    "start_time": "2021-07-07T14:51:59.077Z"
   },
   {
    "duration": 18,
    "start_time": "2021-07-07T14:51:59.116Z"
   },
   {
    "duration": 10,
    "start_time": "2021-07-07T14:51:59.137Z"
   },
   {
    "duration": 8,
    "start_time": "2021-07-07T14:51:59.149Z"
   },
   {
    "duration": 54,
    "start_time": "2021-07-07T14:51:59.158Z"
   },
   {
    "duration": 18,
    "start_time": "2021-07-07T14:51:59.213Z"
   },
   {
    "duration": 22,
    "start_time": "2021-07-07T14:51:59.232Z"
   },
   {
    "duration": 36,
    "start_time": "2021-07-07T14:51:59.255Z"
   },
   {
    "duration": 7,
    "start_time": "2021-07-07T14:51:59.293Z"
   },
   {
    "duration": 10,
    "start_time": "2021-07-07T14:51:59.302Z"
   },
   {
    "duration": 9,
    "start_time": "2021-07-07T14:51:59.313Z"
   },
   {
    "duration": 11,
    "start_time": "2021-07-07T14:51:59.324Z"
   },
   {
    "duration": 8,
    "start_time": "2021-07-07T14:51:59.337Z"
   },
   {
    "duration": 46,
    "start_time": "2021-07-07T14:51:59.347Z"
   },
   {
    "duration": 22,
    "start_time": "2021-07-07T14:51:59.395Z"
   },
   {
    "duration": 24,
    "start_time": "2021-07-07T14:57:32.911Z"
   },
   {
    "duration": 7,
    "start_time": "2021-07-07T14:58:22.070Z"
   },
   {
    "duration": 4,
    "start_time": "2021-07-07T14:59:11.239Z"
   },
   {
    "duration": 25,
    "start_time": "2021-07-07T15:07:22.208Z"
   },
   {
    "duration": 16,
    "start_time": "2021-07-07T15:08:25.560Z"
   },
   {
    "duration": 15,
    "start_time": "2021-07-07T15:08:40.647Z"
   },
   {
    "duration": 14,
    "start_time": "2021-07-07T15:08:46.669Z"
   },
   {
    "duration": 533,
    "start_time": "2021-07-07T15:18:07.440Z"
   },
   {
    "duration": 173,
    "start_time": "2021-07-07T15:18:07.974Z"
   },
   {
    "duration": 84,
    "start_time": "2021-07-07T15:18:08.149Z"
   },
   {
    "duration": 3,
    "start_time": "2021-07-07T15:18:08.235Z"
   },
   {
    "duration": 30,
    "start_time": "2021-07-07T15:18:08.240Z"
   },
   {
    "duration": 22,
    "start_time": "2021-07-07T15:18:08.272Z"
   },
   {
    "duration": 11,
    "start_time": "2021-07-07T15:18:08.295Z"
   },
   {
    "duration": 11,
    "start_time": "2021-07-07T15:18:08.309Z"
   },
   {
    "duration": 40,
    "start_time": "2021-07-07T15:18:08.322Z"
   },
   {
    "duration": 42,
    "start_time": "2021-07-07T15:18:08.364Z"
   },
   {
    "duration": 22,
    "start_time": "2021-07-07T15:18:08.408Z"
   },
   {
    "duration": 5,
    "start_time": "2021-07-07T15:18:08.432Z"
   },
   {
    "duration": 13,
    "start_time": "2021-07-07T15:18:08.439Z"
   },
   {
    "duration": 9,
    "start_time": "2021-07-07T15:18:08.454Z"
   },
   {
    "duration": 32,
    "start_time": "2021-07-07T15:18:08.465Z"
   },
   {
    "duration": 10,
    "start_time": "2021-07-07T15:18:08.501Z"
   },
   {
    "duration": 7,
    "start_time": "2021-07-07T15:18:08.513Z"
   },
   {
    "duration": 11,
    "start_time": "2021-07-07T15:18:08.521Z"
   },
   {
    "duration": 17,
    "start_time": "2021-07-07T15:18:08.534Z"
   },
   {
    "duration": 44,
    "start_time": "2021-07-07T15:18:08.553Z"
   },
   {
    "duration": 22,
    "start_time": "2021-07-07T15:18:08.599Z"
   },
   {
    "duration": 61,
    "start_time": "2021-07-07T15:18:08.622Z"
   },
   {
    "duration": 7,
    "start_time": "2021-07-07T15:18:39.457Z"
   },
   {
    "duration": 5,
    "start_time": "2021-07-07T16:05:17.020Z"
   },
   {
    "duration": 5,
    "start_time": "2021-07-07T16:51:28.794Z"
   },
   {
    "duration": 546,
    "start_time": "2021-07-07T16:52:26.306Z"
   },
   {
    "duration": 203,
    "start_time": "2021-07-07T16:52:27.523Z"
   },
   {
    "duration": 85,
    "start_time": "2021-07-07T16:52:27.736Z"
   },
   {
    "duration": 4,
    "start_time": "2021-07-07T16:52:27.899Z"
   },
   {
    "duration": 25,
    "start_time": "2021-07-07T16:52:28.674Z"
   },
   {
    "duration": 8,
    "start_time": "2021-07-07T16:52:32.956Z"
   },
   {
    "duration": 18,
    "start_time": "2021-07-07T16:52:35.616Z"
   },
   {
    "duration": 6,
    "start_time": "2021-07-07T16:52:36.913Z"
   },
   {
    "duration": 11,
    "start_time": "2021-07-07T16:52:40.258Z"
   },
   {
    "duration": 10,
    "start_time": "2021-07-07T16:52:46.251Z"
   },
   {
    "duration": 8,
    "start_time": "2021-07-07T16:52:47.182Z"
   },
   {
    "duration": 27,
    "start_time": "2021-07-07T16:53:20.391Z"
   },
   {
    "duration": 20,
    "start_time": "2021-07-07T16:53:22.022Z"
   },
   {
    "duration": 23,
    "start_time": "2021-07-07T16:53:23.690Z"
   },
   {
    "duration": 8,
    "start_time": "2021-07-07T16:53:24.261Z"
   },
   {
    "duration": 4,
    "start_time": "2021-07-07T16:53:38.733Z"
   },
   {
    "duration": 7,
    "start_time": "2021-07-07T16:53:40.445Z"
   },
   {
    "duration": 11,
    "start_time": "2021-07-07T16:53:41.348Z"
   },
   {
    "duration": 13,
    "start_time": "2021-07-07T16:53:45.250Z"
   },
   {
    "duration": 12,
    "start_time": "2021-07-07T16:53:45.467Z"
   },
   {
    "duration": 4,
    "start_time": "2021-07-07T16:55:32.704Z"
   },
   {
    "duration": 12,
    "start_time": "2021-07-07T16:55:49.012Z"
   },
   {
    "duration": 18,
    "start_time": "2021-07-07T16:55:49.547Z"
   },
   {
    "duration": 611,
    "start_time": "2021-07-07T16:58:35.156Z"
   },
   {
    "duration": 200,
    "start_time": "2021-07-07T16:58:35.770Z"
   },
   {
    "duration": 86,
    "start_time": "2021-07-07T16:58:35.972Z"
   },
   {
    "duration": 3,
    "start_time": "2021-07-07T16:58:36.060Z"
   },
   {
    "duration": 27,
    "start_time": "2021-07-07T16:58:36.065Z"
   },
   {
    "duration": 8,
    "start_time": "2021-07-07T16:58:36.094Z"
   },
   {
    "duration": 17,
    "start_time": "2021-07-07T16:58:36.103Z"
   },
   {
    "duration": 5,
    "start_time": "2021-07-07T16:58:36.123Z"
   },
   {
    "duration": 11,
    "start_time": "2021-07-07T16:58:36.130Z"
   },
   {
    "duration": 7,
    "start_time": "2021-07-07T16:58:36.143Z"
   },
   {
    "duration": 37,
    "start_time": "2021-07-07T16:58:36.152Z"
   },
   {
    "duration": 27,
    "start_time": "2021-07-07T16:58:36.191Z"
   },
   {
    "duration": 19,
    "start_time": "2021-07-07T16:58:36.219Z"
   },
   {
    "duration": 49,
    "start_time": "2021-07-07T16:58:36.240Z"
   },
   {
    "duration": 6,
    "start_time": "2021-07-07T16:58:36.291Z"
   },
   {
    "duration": 3,
    "start_time": "2021-07-07T16:58:36.299Z"
   },
   {
    "duration": 13,
    "start_time": "2021-07-07T16:58:36.304Z"
   },
   {
    "duration": 10,
    "start_time": "2021-07-07T16:58:36.319Z"
   },
   {
    "duration": 10,
    "start_time": "2021-07-07T16:58:36.331Z"
   },
   {
    "duration": 44,
    "start_time": "2021-07-07T16:58:36.343Z"
   },
   {
    "duration": 4,
    "start_time": "2021-07-07T16:58:36.388Z"
   },
   {
    "duration": 13,
    "start_time": "2021-07-07T16:58:36.394Z"
   },
   {
    "duration": 16,
    "start_time": "2021-07-07T16:58:36.410Z"
   },
   {
    "duration": 8,
    "start_time": "2021-07-07T17:02:31.629Z"
   },
   {
    "duration": 8,
    "start_time": "2021-07-07T17:02:34.308Z"
   },
   {
    "duration": 6,
    "start_time": "2021-07-07T17:05:13.483Z"
   },
   {
    "duration": 17,
    "start_time": "2021-07-07T17:05:20.606Z"
   },
   {
    "duration": 7,
    "start_time": "2021-07-07T17:05:34.638Z"
   },
   {
    "duration": 3,
    "start_time": "2021-07-07T17:06:31.883Z"
   },
   {
    "duration": 570,
    "start_time": "2021-07-07T17:06:37.165Z"
   },
   {
    "duration": 174,
    "start_time": "2021-07-07T17:06:37.737Z"
   },
   {
    "duration": 47,
    "start_time": "2021-07-07T17:06:37.913Z"
   },
   {
    "duration": 3,
    "start_time": "2021-07-07T17:06:37.962Z"
   },
   {
    "duration": 27,
    "start_time": "2021-07-07T17:06:37.967Z"
   },
   {
    "duration": 7,
    "start_time": "2021-07-07T17:06:37.996Z"
   },
   {
    "duration": 16,
    "start_time": "2021-07-07T17:06:38.005Z"
   },
   {
    "duration": 6,
    "start_time": "2021-07-07T17:06:38.024Z"
   },
   {
    "duration": 12,
    "start_time": "2021-07-07T17:06:38.031Z"
   },
   {
    "duration": 41,
    "start_time": "2021-07-07T17:06:38.045Z"
   },
   {
    "duration": 8,
    "start_time": "2021-07-07T17:06:38.088Z"
   },
   {
    "duration": 26,
    "start_time": "2021-07-07T17:06:38.098Z"
   },
   {
    "duration": 17,
    "start_time": "2021-07-07T17:06:38.126Z"
   },
   {
    "duration": 43,
    "start_time": "2021-07-07T17:06:38.144Z"
   },
   {
    "duration": 6,
    "start_time": "2021-07-07T17:06:38.188Z"
   },
   {
    "duration": 5,
    "start_time": "2021-07-07T17:06:38.195Z"
   },
   {
    "duration": 9,
    "start_time": "2021-07-07T17:06:38.201Z"
   },
   {
    "duration": 12,
    "start_time": "2021-07-07T17:06:38.212Z"
   },
   {
    "duration": 11,
    "start_time": "2021-07-07T17:06:38.226Z"
   },
   {
    "duration": 47,
    "start_time": "2021-07-07T17:06:38.239Z"
   },
   {
    "duration": 4,
    "start_time": "2021-07-07T17:06:38.288Z"
   },
   {
    "duration": 13,
    "start_time": "2021-07-07T17:06:38.293Z"
   },
   {
    "duration": 5,
    "start_time": "2021-07-07T17:06:38.309Z"
   },
   {
    "duration": 18,
    "start_time": "2021-07-07T17:06:38.325Z"
   },
   {
    "duration": 20,
    "start_time": "2021-07-07T17:07:02.805Z"
   },
   {
    "duration": 19,
    "start_time": "2021-07-07T17:07:08.527Z"
   },
   {
    "duration": 19,
    "start_time": "2021-07-07T17:07:12.758Z"
   },
   {
    "duration": 22,
    "start_time": "2021-07-07T17:07:17.497Z"
   },
   {
    "duration": 19,
    "start_time": "2021-07-07T17:07:19.645Z"
   },
   {
    "duration": 10,
    "start_time": "2021-07-07T17:07:34.239Z"
   },
   {
    "duration": 17,
    "start_time": "2021-07-07T17:07:54.144Z"
   },
   {
    "duration": 14,
    "start_time": "2021-07-07T17:08:14.357Z"
   },
   {
    "duration": 616,
    "start_time": "2021-07-07T17:08:45.254Z"
   },
   {
    "duration": 178,
    "start_time": "2021-07-07T17:08:45.872Z"
   },
   {
    "duration": 60,
    "start_time": "2021-07-07T17:08:46.054Z"
   },
   {
    "duration": 3,
    "start_time": "2021-07-07T17:08:46.116Z"
   },
   {
    "duration": 26,
    "start_time": "2021-07-07T17:08:46.121Z"
   },
   {
    "duration": 7,
    "start_time": "2021-07-07T17:08:46.149Z"
   },
   {
    "duration": 17,
    "start_time": "2021-07-07T17:08:46.158Z"
   },
   {
    "duration": 14,
    "start_time": "2021-07-07T17:08:46.176Z"
   },
   {
    "duration": 17,
    "start_time": "2021-07-07T17:08:46.193Z"
   },
   {
    "duration": 9,
    "start_time": "2021-07-07T17:08:46.211Z"
   },
   {
    "duration": 21,
    "start_time": "2021-07-07T17:08:46.221Z"
   },
   {
    "duration": 49,
    "start_time": "2021-07-07T17:08:46.244Z"
   },
   {
    "duration": 24,
    "start_time": "2021-07-07T17:08:46.295Z"
   },
   {
    "duration": 22,
    "start_time": "2021-07-07T17:08:46.321Z"
   },
   {
    "duration": 6,
    "start_time": "2021-07-07T17:08:46.345Z"
   },
   {
    "duration": 5,
    "start_time": "2021-07-07T17:08:46.353Z"
   },
   {
    "duration": 13,
    "start_time": "2021-07-07T17:08:46.386Z"
   },
   {
    "duration": 12,
    "start_time": "2021-07-07T17:08:46.402Z"
   },
   {
    "duration": 10,
    "start_time": "2021-07-07T17:08:46.415Z"
   },
   {
    "duration": 7,
    "start_time": "2021-07-07T17:08:46.427Z"
   },
   {
    "duration": 8,
    "start_time": "2021-07-07T17:08:46.435Z"
   },
   {
    "duration": 68,
    "start_time": "2021-07-07T17:08:46.446Z"
   },
   {
    "duration": 13,
    "start_time": "2021-07-07T17:08:46.516Z"
   },
   {
    "duration": 78,
    "start_time": "2021-07-07T17:08:46.530Z"
   },
   {
    "duration": 40,
    "start_time": "2021-07-07T17:09:08.185Z"
   },
   {
    "duration": 16,
    "start_time": "2021-07-07T17:09:19.324Z"
   },
   {
    "duration": 21,
    "start_time": "2021-07-07T17:09:23.290Z"
   },
   {
    "duration": 13,
    "start_time": "2021-07-07T17:09:54.812Z"
   },
   {
    "duration": 13,
    "start_time": "2021-07-07T17:10:02.039Z"
   },
   {
    "duration": 10,
    "start_time": "2021-07-07T17:10:29.632Z"
   },
   {
    "duration": 13,
    "start_time": "2021-07-07T17:10:52.372Z"
   },
   {
    "duration": 13,
    "start_time": "2021-07-07T17:11:17.270Z"
   },
   {
    "duration": 13,
    "start_time": "2021-07-07T17:14:59.284Z"
   },
   {
    "duration": 547,
    "start_time": "2021-07-07T17:18:52.403Z"
   },
   {
    "duration": 163,
    "start_time": "2021-07-07T17:18:52.952Z"
   },
   {
    "duration": 44,
    "start_time": "2021-07-07T17:18:53.117Z"
   },
   {
    "duration": 3,
    "start_time": "2021-07-07T17:18:53.162Z"
   },
   {
    "duration": 26,
    "start_time": "2021-07-07T17:18:53.167Z"
   },
   {
    "duration": 6,
    "start_time": "2021-07-07T17:18:53.195Z"
   },
   {
    "duration": 15,
    "start_time": "2021-07-07T17:18:53.203Z"
   },
   {
    "duration": 5,
    "start_time": "2021-07-07T17:18:53.220Z"
   },
   {
    "duration": 11,
    "start_time": "2021-07-07T17:18:53.228Z"
   },
   {
    "duration": 9,
    "start_time": "2021-07-07T17:18:53.241Z"
   },
   {
    "duration": 41,
    "start_time": "2021-07-07T17:18:53.252Z"
   },
   {
    "duration": 33,
    "start_time": "2021-07-07T17:18:53.295Z"
   },
   {
    "duration": 19,
    "start_time": "2021-07-07T17:18:53.330Z"
   },
   {
    "duration": 49,
    "start_time": "2021-07-07T17:18:53.350Z"
   },
   {
    "duration": 5,
    "start_time": "2021-07-07T17:18:53.401Z"
   },
   {
    "duration": 5,
    "start_time": "2021-07-07T17:18:53.408Z"
   },
   {
    "duration": 11,
    "start_time": "2021-07-07T17:18:53.414Z"
   },
   {
    "duration": 9,
    "start_time": "2021-07-07T17:18:53.427Z"
   },
   {
    "duration": 10,
    "start_time": "2021-07-07T17:18:53.437Z"
   },
   {
    "duration": 39,
    "start_time": "2021-07-07T17:18:53.448Z"
   },
   {
    "duration": 26,
    "start_time": "2021-07-07T17:18:55.799Z"
   },
   {
    "duration": 598,
    "start_time": "2021-07-07T17:20:17.862Z"
   },
   {
    "duration": 161,
    "start_time": "2021-07-07T17:20:18.462Z"
   },
   {
    "duration": 45,
    "start_time": "2021-07-07T17:20:18.626Z"
   },
   {
    "duration": 4,
    "start_time": "2021-07-07T17:20:18.673Z"
   },
   {
    "duration": 38,
    "start_time": "2021-07-07T17:20:26.877Z"
   },
   {
    "duration": 7,
    "start_time": "2021-07-07T17:20:37.405Z"
   },
   {
    "duration": 19,
    "start_time": "2021-07-07T17:20:51.534Z"
   },
   {
    "duration": 5,
    "start_time": "2021-07-07T17:20:57.228Z"
   },
   {
    "duration": 7,
    "start_time": "2021-07-07T17:21:08.235Z"
   },
   {
    "duration": 19,
    "start_time": "2021-07-07T17:21:42.158Z"
   },
   {
    "duration": 14,
    "start_time": "2021-07-07T17:21:50.225Z"
   },
   {
    "duration": 22,
    "start_time": "2021-07-07T17:22:54.104Z"
   },
   {
    "duration": 5,
    "start_time": "2021-07-07T17:22:56.371Z"
   },
   {
    "duration": 14,
    "start_time": "2021-07-07T17:22:58.316Z"
   },
   {
    "duration": 5,
    "start_time": "2021-07-07T17:22:58.493Z"
   },
   {
    "duration": 35,
    "start_time": "2021-07-07T17:22:59.666Z"
   },
   {
    "duration": 6,
    "start_time": "2021-07-07T17:23:02.410Z"
   },
   {
    "duration": 611,
    "start_time": "2021-07-07T17:24:59.664Z"
   },
   {
    "duration": 178,
    "start_time": "2021-07-07T17:25:01.945Z"
   },
   {
    "duration": 47,
    "start_time": "2021-07-07T17:25:02.125Z"
   },
   {
    "duration": 2,
    "start_time": "2021-07-07T17:25:07.903Z"
   },
   {
    "duration": 254,
    "start_time": "2021-07-07T17:25:08.232Z"
   },
   {
    "duration": 182,
    "start_time": "2021-07-07T17:25:08.671Z"
   },
   {
    "duration": 6,
    "start_time": "2021-07-07T17:25:13.104Z"
   },
   {
    "duration": 36,
    "start_time": "2021-07-07T17:25:13.662Z"
   },
   {
    "duration": 7,
    "start_time": "2021-07-07T17:25:14.528Z"
   },
   {
    "duration": 24,
    "start_time": "2021-07-07T17:25:27.982Z"
   },
   {
    "duration": 3,
    "start_time": "2021-07-07T17:25:48.982Z"
   },
   {
    "duration": 165,
    "start_time": "2021-07-07T17:25:48.987Z"
   },
   {
    "duration": 50,
    "start_time": "2021-07-07T17:25:49.154Z"
   },
   {
    "duration": 4,
    "start_time": "2021-07-07T17:25:49.206Z"
   },
   {
    "duration": 26,
    "start_time": "2021-07-07T17:25:49.212Z"
   },
   {
    "duration": 7,
    "start_time": "2021-07-07T17:25:49.240Z"
   },
   {
    "duration": 16,
    "start_time": "2021-07-07T17:25:49.249Z"
   },
   {
    "duration": 22,
    "start_time": "2021-07-07T17:25:49.266Z"
   },
   {
    "duration": 16,
    "start_time": "2021-07-07T17:25:49.291Z"
   },
   {
    "duration": 9,
    "start_time": "2021-07-07T17:25:49.309Z"
   },
   {
    "duration": 7,
    "start_time": "2021-07-07T17:25:49.319Z"
   },
   {
    "duration": 28,
    "start_time": "2021-07-07T17:25:49.328Z"
   },
   {
    "duration": 44,
    "start_time": "2021-07-07T17:25:49.357Z"
   },
   {
    "duration": 22,
    "start_time": "2021-07-07T17:25:49.403Z"
   },
   {
    "duration": 7,
    "start_time": "2021-07-07T17:25:49.427Z"
   },
   {
    "duration": 3,
    "start_time": "2021-07-07T17:25:49.436Z"
   },
   {
    "duration": 44,
    "start_time": "2021-07-07T17:25:49.441Z"
   },
   {
    "duration": 12,
    "start_time": "2021-07-07T17:25:49.488Z"
   },
   {
    "duration": 13,
    "start_time": "2021-07-07T17:25:49.502Z"
   },
   {
    "duration": 10,
    "start_time": "2021-07-07T17:25:49.516Z"
   },
   {
    "duration": 62,
    "start_time": "2021-07-07T17:25:49.527Z"
   },
   {
    "duration": 26,
    "start_time": "2021-07-07T17:26:51.809Z"
   },
   {
    "duration": 26,
    "start_time": "2021-07-07T17:26:55.759Z"
   },
   {
    "duration": 26,
    "start_time": "2021-07-07T17:27:04.501Z"
   },
   {
    "duration": 25,
    "start_time": "2021-07-07T17:28:24.859Z"
   },
   {
    "duration": 21,
    "start_time": "2021-07-07T17:28:55.250Z"
   },
   {
    "duration": 21,
    "start_time": "2021-07-07T17:28:58.885Z"
   },
   {
    "duration": 7,
    "start_time": "2021-07-07T17:45:40.972Z"
   },
   {
    "duration": 13,
    "start_time": "2021-07-07T17:45:42.529Z"
   },
   {
    "duration": 27,
    "start_time": "2021-07-07T17:45:51.026Z"
   },
   {
    "duration": 518,
    "start_time": "2021-07-07T17:46:15.532Z"
   },
   {
    "duration": 235,
    "start_time": "2021-07-07T17:46:16.053Z"
   },
   {
    "duration": 80,
    "start_time": "2021-07-07T17:46:16.292Z"
   },
   {
    "duration": 5,
    "start_time": "2021-07-07T17:46:16.373Z"
   },
   {
    "duration": 26,
    "start_time": "2021-07-07T17:46:16.380Z"
   },
   {
    "duration": 7,
    "start_time": "2021-07-07T17:46:16.408Z"
   },
   {
    "duration": 16,
    "start_time": "2021-07-07T17:46:16.418Z"
   },
   {
    "duration": 5,
    "start_time": "2021-07-07T17:46:16.436Z"
   },
   {
    "duration": 13,
    "start_time": "2021-07-07T17:46:16.442Z"
   },
   {
    "duration": 35,
    "start_time": "2021-07-07T17:46:16.456Z"
   },
   {
    "duration": 8,
    "start_time": "2021-07-07T17:46:16.493Z"
   },
   {
    "duration": 28,
    "start_time": "2021-07-07T17:46:16.502Z"
   },
   {
    "duration": 17,
    "start_time": "2021-07-07T17:46:16.532Z"
   },
   {
    "duration": 44,
    "start_time": "2021-07-07T17:46:16.551Z"
   },
   {
    "duration": 6,
    "start_time": "2021-07-07T17:46:16.597Z"
   },
   {
    "duration": 4,
    "start_time": "2021-07-07T17:46:16.605Z"
   },
   {
    "duration": 9,
    "start_time": "2021-07-07T17:46:16.610Z"
   },
   {
    "duration": 9,
    "start_time": "2021-07-07T17:46:16.621Z"
   },
   {
    "duration": 10,
    "start_time": "2021-07-07T17:46:16.632Z"
   },
   {
    "duration": 43,
    "start_time": "2021-07-07T17:46:16.644Z"
   },
   {
    "duration": 26,
    "start_time": "2021-07-07T17:46:16.689Z"
   },
   {
    "duration": 19,
    "start_time": "2021-07-07T17:46:16.718Z"
   },
   {
    "duration": 8,
    "start_time": "2021-07-07T17:46:16.738Z"
   },
   {
    "duration": 43,
    "start_time": "2021-07-07T17:46:16.747Z"
   },
   {
    "duration": 19,
    "start_time": "2021-07-07T17:46:16.791Z"
   },
   {
    "duration": 9,
    "start_time": "2021-07-07T17:46:16.812Z"
   },
   {
    "duration": 60,
    "start_time": "2021-07-07T17:46:16.822Z"
   },
   {
    "duration": -8,
    "start_time": "2021-07-07T17:46:16.892Z"
   },
   {
    "duration": 12,
    "start_time": "2021-07-07T17:48:47.707Z"
   },
   {
    "duration": 553,
    "start_time": "2021-07-07T18:10:09.350Z"
   },
   {
    "duration": 230,
    "start_time": "2021-07-07T18:10:09.905Z"
   },
   {
    "duration": 97,
    "start_time": "2021-07-07T18:10:10.137Z"
   },
   {
    "duration": 5,
    "start_time": "2021-07-07T18:10:10.236Z"
   },
   {
    "duration": 29,
    "start_time": "2021-07-07T18:10:10.242Z"
   },
   {
    "duration": 7,
    "start_time": "2021-07-07T18:10:10.272Z"
   },
   {
    "duration": 15,
    "start_time": "2021-07-07T18:10:10.281Z"
   },
   {
    "duration": 4,
    "start_time": "2021-07-07T18:10:10.299Z"
   },
   {
    "duration": 14,
    "start_time": "2021-07-07T18:10:10.305Z"
   },
   {
    "duration": 8,
    "start_time": "2021-07-07T18:10:10.321Z"
   },
   {
    "duration": 8,
    "start_time": "2021-07-07T18:10:10.331Z"
   },
   {
    "duration": 56,
    "start_time": "2021-07-07T18:10:10.341Z"
   },
   {
    "duration": 19,
    "start_time": "2021-07-07T18:10:10.399Z"
   },
   {
    "duration": 23,
    "start_time": "2021-07-07T18:10:10.419Z"
   },
   {
    "duration": 6,
    "start_time": "2021-07-07T18:10:10.444Z"
   },
   {
    "duration": 9,
    "start_time": "2021-07-07T18:10:10.451Z"
   },
   {
    "duration": 30,
    "start_time": "2021-07-07T18:10:10.462Z"
   },
   {
    "duration": 9,
    "start_time": "2021-07-07T18:10:10.494Z"
   },
   {
    "duration": 14,
    "start_time": "2021-07-07T18:10:10.505Z"
   },
   {
    "duration": 7,
    "start_time": "2021-07-07T18:10:10.521Z"
   },
   {
    "duration": 26,
    "start_time": "2021-07-07T18:10:10.530Z"
   },
   {
    "duration": 44,
    "start_time": "2021-07-07T18:10:10.558Z"
   },
   {
    "duration": 7,
    "start_time": "2021-07-07T18:10:10.605Z"
   },
   {
    "duration": 11,
    "start_time": "2021-07-07T18:10:10.614Z"
   },
   {
    "duration": 19,
    "start_time": "2021-07-07T18:10:10.626Z"
   },
   {
    "duration": 44,
    "start_time": "2021-07-07T18:10:10.646Z"
   },
   {
    "duration": 516,
    "start_time": "2021-07-07T18:14:00.826Z"
   },
   {
    "duration": 230,
    "start_time": "2021-07-07T18:14:01.344Z"
   },
   {
    "duration": 105,
    "start_time": "2021-07-07T18:14:01.576Z"
   },
   {
    "duration": 5,
    "start_time": "2021-07-07T18:14:01.683Z"
   },
   {
    "duration": 46,
    "start_time": "2021-07-07T18:14:01.690Z"
   },
   {
    "duration": 7,
    "start_time": "2021-07-07T18:14:01.738Z"
   },
   {
    "duration": 20,
    "start_time": "2021-07-07T18:14:01.747Z"
   },
   {
    "duration": 16,
    "start_time": "2021-07-07T18:14:01.769Z"
   },
   {
    "duration": 14,
    "start_time": "2021-07-07T18:14:01.787Z"
   },
   {
    "duration": 15,
    "start_time": "2021-07-07T18:14:01.803Z"
   },
   {
    "duration": 12,
    "start_time": "2021-07-07T18:14:01.820Z"
   },
   {
    "duration": 35,
    "start_time": "2021-07-07T18:14:01.833Z"
   },
   {
    "duration": 31,
    "start_time": "2021-07-07T18:14:01.869Z"
   },
   {
    "duration": 37,
    "start_time": "2021-07-07T18:14:01.902Z"
   },
   {
    "duration": 8,
    "start_time": "2021-07-07T18:14:01.942Z"
   },
   {
    "duration": 16,
    "start_time": "2021-07-07T18:14:01.952Z"
   },
   {
    "duration": 13,
    "start_time": "2021-07-07T18:14:01.970Z"
   },
   {
    "duration": 32,
    "start_time": "2021-07-07T18:14:01.985Z"
   },
   {
    "duration": 11,
    "start_time": "2021-07-07T18:14:02.019Z"
   },
   {
    "duration": 22,
    "start_time": "2021-07-07T18:14:02.031Z"
   },
   {
    "duration": 27,
    "start_time": "2021-07-07T18:14:02.055Z"
   },
   {
    "duration": 18,
    "start_time": "2021-07-07T18:14:02.084Z"
   },
   {
    "duration": 18,
    "start_time": "2021-07-07T18:14:02.106Z"
   },
   {
    "duration": 11,
    "start_time": "2021-07-07T18:14:02.126Z"
   },
   {
    "duration": 21,
    "start_time": "2021-07-07T18:14:02.138Z"
   },
   {
    "duration": 32,
    "start_time": "2021-07-07T18:14:02.161Z"
   },
   {
    "duration": 28,
    "start_time": "2021-07-07T18:14:44.295Z"
   },
   {
    "duration": 6,
    "start_time": "2021-07-07T18:15:05.834Z"
   },
   {
    "duration": 511,
    "start_time": "2021-07-07T18:15:41.541Z"
   },
   {
    "duration": 183,
    "start_time": "2021-07-07T18:15:42.054Z"
   },
   {
    "duration": 50,
    "start_time": "2021-07-07T18:15:42.239Z"
   },
   {
    "duration": 5,
    "start_time": "2021-07-07T18:15:42.291Z"
   },
   {
    "duration": 48,
    "start_time": "2021-07-07T18:15:42.297Z"
   },
   {
    "duration": 8,
    "start_time": "2021-07-07T18:15:42.346Z"
   },
   {
    "duration": 17,
    "start_time": "2021-07-07T18:15:42.356Z"
   },
   {
    "duration": 15,
    "start_time": "2021-07-07T18:15:42.375Z"
   },
   {
    "duration": 12,
    "start_time": "2021-07-07T18:15:42.392Z"
   },
   {
    "duration": 7,
    "start_time": "2021-07-07T18:15:42.406Z"
   },
   {
    "duration": 7,
    "start_time": "2021-07-07T18:15:42.415Z"
   },
   {
    "duration": 29,
    "start_time": "2021-07-07T18:15:42.423Z"
   },
   {
    "duration": 43,
    "start_time": "2021-07-07T18:15:42.453Z"
   },
   {
    "duration": 18,
    "start_time": "2021-07-07T18:15:42.497Z"
   },
   {
    "duration": 6,
    "start_time": "2021-07-07T18:15:42.516Z"
   },
   {
    "duration": 3,
    "start_time": "2021-07-07T18:15:42.523Z"
   },
   {
    "duration": 18,
    "start_time": "2021-07-07T18:15:42.528Z"
   },
   {
    "duration": 10,
    "start_time": "2021-07-07T18:15:42.547Z"
   },
   {
    "duration": 36,
    "start_time": "2021-07-07T18:15:42.559Z"
   },
   {
    "duration": 8,
    "start_time": "2021-07-07T18:15:42.597Z"
   },
   {
    "duration": 28,
    "start_time": "2021-07-07T18:15:42.606Z"
   },
   {
    "duration": 52,
    "start_time": "2021-07-07T18:15:42.635Z"
   },
   {
    "duration": 7,
    "start_time": "2021-07-07T18:15:42.690Z"
   },
   {
    "duration": 10,
    "start_time": "2021-07-07T18:15:42.699Z"
   },
   {
    "duration": 19,
    "start_time": "2021-07-07T18:15:42.711Z"
   },
   {
    "duration": 9,
    "start_time": "2021-07-07T18:15:42.732Z"
   },
   {
    "duration": 5,
    "start_time": "2021-07-07T18:15:42.743Z"
   },
   {
    "duration": 1450,
    "start_time": "2021-07-07T18:15:51.984Z"
   },
   {
    "duration": 161,
    "start_time": "2021-07-07T18:15:53.435Z"
   },
   {
    "duration": 124,
    "start_time": "2021-07-07T18:15:53.598Z"
   },
   {
    "duration": 5,
    "start_time": "2021-07-07T18:15:53.724Z"
   },
   {
    "duration": 34,
    "start_time": "2021-07-07T18:15:53.730Z"
   },
   {
    "duration": 7,
    "start_time": "2021-07-07T18:15:53.765Z"
   },
   {
    "duration": 15,
    "start_time": "2021-07-07T18:15:53.773Z"
   },
   {
    "duration": 5,
    "start_time": "2021-07-07T18:15:53.791Z"
   },
   {
    "duration": 19,
    "start_time": "2021-07-07T18:15:53.798Z"
   },
   {
    "duration": 9,
    "start_time": "2021-07-07T18:15:53.818Z"
   },
   {
    "duration": 19,
    "start_time": "2021-07-07T18:15:53.828Z"
   },
   {
    "duration": 27,
    "start_time": "2021-07-07T18:15:53.848Z"
   },
   {
    "duration": 16,
    "start_time": "2021-07-07T18:15:53.884Z"
   },
   {
    "duration": 29,
    "start_time": "2021-07-07T18:15:53.901Z"
   },
   {
    "duration": 5,
    "start_time": "2021-07-07T18:15:53.932Z"
   },
   {
    "duration": 15,
    "start_time": "2021-07-07T18:15:53.939Z"
   },
   {
    "duration": 13,
    "start_time": "2021-07-07T18:15:53.956Z"
   },
   {
    "duration": 20,
    "start_time": "2021-07-07T18:15:53.971Z"
   },
   {
    "duration": 14,
    "start_time": "2021-07-07T18:15:53.992Z"
   },
   {
    "duration": 9,
    "start_time": "2021-07-07T18:15:54.009Z"
   },
   {
    "duration": 28,
    "start_time": "2021-07-07T18:15:54.020Z"
   },
   {
    "duration": 50,
    "start_time": "2021-07-07T18:15:54.051Z"
   },
   {
    "duration": 8,
    "start_time": "2021-07-07T18:15:54.105Z"
   },
   {
    "duration": 11,
    "start_time": "2021-07-07T18:15:54.115Z"
   },
   {
    "duration": 20,
    "start_time": "2021-07-07T18:15:54.128Z"
   },
   {
    "duration": 13,
    "start_time": "2021-07-07T18:15:54.184Z"
   },
   {
    "duration": 7,
    "start_time": "2021-07-07T18:15:54.199Z"
   },
   {
    "duration": 7,
    "start_time": "2021-07-07T18:17:08.042Z"
   },
   {
    "duration": 8,
    "start_time": "2021-07-07T18:17:21.008Z"
   },
   {
    "duration": 7,
    "start_time": "2021-07-07T18:17:29.003Z"
   },
   {
    "duration": 8,
    "start_time": "2021-07-07T18:17:32.492Z"
   },
   {
    "duration": 9,
    "start_time": "2021-07-07T18:17:41.758Z"
   },
   {
    "duration": 255,
    "start_time": "2021-07-07T18:20:20.897Z"
   },
   {
    "duration": 173,
    "start_time": "2021-07-07T18:20:26.636Z"
   },
   {
    "duration": 7,
    "start_time": "2021-07-07T18:21:47.164Z"
   },
   {
    "duration": 254,
    "start_time": "2021-07-07T18:23:08.703Z"
   },
   {
    "duration": 21,
    "start_time": "2021-07-07T18:23:22.506Z"
   },
   {
    "duration": 315,
    "start_time": "2021-07-07T18:25:54.801Z"
   },
   {
    "duration": 34,
    "start_time": "2021-07-07T18:26:51.817Z"
   },
   {
    "duration": 327,
    "start_time": "2021-07-07T18:26:56.147Z"
   },
   {
    "duration": 342,
    "start_time": "2021-07-07T18:27:15.887Z"
   },
   {
    "duration": 302,
    "start_time": "2021-07-07T18:28:18.569Z"
   },
   {
    "duration": 226,
    "start_time": "2021-07-07T18:29:20.879Z"
   },
   {
    "duration": 207,
    "start_time": "2021-07-07T18:29:58.114Z"
   },
   {
    "duration": 140,
    "start_time": "2021-07-07T18:32:04.372Z"
   },
   {
    "duration": 158,
    "start_time": "2021-07-07T18:32:32.508Z"
   },
   {
    "duration": 145,
    "start_time": "2021-07-07T18:32:41.365Z"
   },
   {
    "duration": 132,
    "start_time": "2021-07-07T18:32:45.199Z"
   },
   {
    "duration": 11,
    "start_time": "2021-07-07T18:35:24.679Z"
   },
   {
    "duration": 268,
    "start_time": "2021-07-07T18:36:16.145Z"
   },
   {
    "duration": 227,
    "start_time": "2021-07-07T18:37:04.918Z"
   },
   {
    "duration": 3,
    "start_time": "2021-07-07T18:37:33.012Z"
   },
   {
    "duration": 671,
    "start_time": "2021-07-07T18:37:38.295Z"
   },
   {
    "duration": 54,
    "start_time": "2021-07-07T18:37:53.406Z"
   },
   {
    "duration": 631,
    "start_time": "2021-07-07T18:37:56.463Z"
   },
   {
    "duration": 19,
    "start_time": "2021-07-07T18:39:40.535Z"
   },
   {
    "duration": 20,
    "start_time": "2021-07-07T18:40:12.236Z"
   },
   {
    "duration": 633,
    "start_time": "2021-07-07T18:42:00.398Z"
   },
   {
    "duration": 218,
    "start_time": "2021-07-07T18:42:01.033Z"
   },
   {
    "duration": 49,
    "start_time": "2021-07-07T18:42:01.253Z"
   },
   {
    "duration": 5,
    "start_time": "2021-07-07T18:42:01.303Z"
   },
   {
    "duration": 27,
    "start_time": "2021-07-07T18:42:01.310Z"
   },
   {
    "duration": 8,
    "start_time": "2021-07-07T18:42:01.339Z"
   },
   {
    "duration": 20,
    "start_time": "2021-07-07T18:42:01.348Z"
   },
   {
    "duration": 6,
    "start_time": "2021-07-07T18:42:01.386Z"
   },
   {
    "duration": 16,
    "start_time": "2021-07-07T18:42:01.394Z"
   },
   {
    "duration": 9,
    "start_time": "2021-07-07T18:42:01.411Z"
   },
   {
    "duration": 11,
    "start_time": "2021-07-07T18:42:01.421Z"
   },
   {
    "duration": 31,
    "start_time": "2021-07-07T18:42:01.434Z"
   },
   {
    "duration": 18,
    "start_time": "2021-07-07T18:42:01.485Z"
   },
   {
    "duration": 23,
    "start_time": "2021-07-07T18:42:01.505Z"
   },
   {
    "duration": 6,
    "start_time": "2021-07-07T18:42:01.530Z"
   },
   {
    "duration": 10,
    "start_time": "2021-07-07T18:42:01.538Z"
   },
   {
    "duration": 13,
    "start_time": "2021-07-07T18:42:01.550Z"
   },
   {
    "duration": 24,
    "start_time": "2021-07-07T18:42:01.564Z"
   },
   {
    "duration": 20,
    "start_time": "2021-07-07T18:42:01.590Z"
   },
   {
    "duration": 8,
    "start_time": "2021-07-07T18:42:01.611Z"
   },
   {
    "duration": 31,
    "start_time": "2021-07-07T18:42:01.620Z"
   },
   {
    "duration": 39,
    "start_time": "2021-07-07T18:42:01.653Z"
   },
   {
    "duration": 8,
    "start_time": "2021-07-07T18:42:01.696Z"
   },
   {
    "duration": 13,
    "start_time": "2021-07-07T18:42:01.705Z"
   },
   {
    "duration": 20,
    "start_time": "2021-07-07T18:42:01.720Z"
   },
   {
    "duration": 12,
    "start_time": "2021-07-07T18:42:01.741Z"
   },
   {
    "duration": 35,
    "start_time": "2021-07-07T18:42:01.755Z"
   },
   {
    "duration": 14,
    "start_time": "2021-07-07T18:42:01.792Z"
   },
   {
    "duration": 188,
    "start_time": "2021-07-07T18:42:01.808Z"
   },
   {
    "duration": 19,
    "start_time": "2021-07-07T18:42:01.998Z"
   },
   {
    "duration": 175,
    "start_time": "2021-07-07T18:42:02.019Z"
   },
   {
    "duration": 134,
    "start_time": "2021-07-07T18:42:02.196Z"
   },
   {
    "duration": 10,
    "start_time": "2021-07-07T18:42:02.331Z"
   },
   {
    "duration": 19,
    "start_time": "2021-07-07T18:42:02.343Z"
   },
   {
    "duration": 628,
    "start_time": "2021-07-07T18:46:30.701Z"
   },
   {
    "duration": 183,
    "start_time": "2021-07-07T18:46:31.331Z"
   },
   {
    "duration": 48,
    "start_time": "2021-07-07T18:46:31.516Z"
   },
   {
    "duration": 5,
    "start_time": "2021-07-07T18:46:31.566Z"
   },
   {
    "duration": 28,
    "start_time": "2021-07-07T18:46:31.572Z"
   },
   {
    "duration": 8,
    "start_time": "2021-07-07T18:46:31.602Z"
   },
   {
    "duration": 19,
    "start_time": "2021-07-07T18:46:31.611Z"
   },
   {
    "duration": 6,
    "start_time": "2021-07-07T18:46:31.633Z"
   },
   {
    "duration": 17,
    "start_time": "2021-07-07T18:46:31.642Z"
   },
   {
    "duration": 10,
    "start_time": "2021-07-07T18:46:31.684Z"
   },
   {
    "duration": 9,
    "start_time": "2021-07-07T18:46:31.695Z"
   },
   {
    "duration": 28,
    "start_time": "2021-07-07T18:46:31.705Z"
   },
   {
    "duration": 18,
    "start_time": "2021-07-07T18:46:31.735Z"
   },
   {
    "duration": 48,
    "start_time": "2021-07-07T18:46:31.755Z"
   },
   {
    "duration": 6,
    "start_time": "2021-07-07T18:46:31.804Z"
   },
   {
    "duration": 4,
    "start_time": "2021-07-07T18:46:31.812Z"
   },
   {
    "duration": 9,
    "start_time": "2021-07-07T18:46:31.817Z"
   },
   {
    "duration": 10,
    "start_time": "2021-07-07T18:46:31.827Z"
   },
   {
    "duration": 12,
    "start_time": "2021-07-07T18:46:31.838Z"
   },
   {
    "duration": 39,
    "start_time": "2021-07-07T18:46:31.851Z"
   },
   {
    "duration": 24,
    "start_time": "2021-07-07T18:46:31.892Z"
   },
   {
    "duration": 15,
    "start_time": "2021-07-07T18:46:31.918Z"
   },
   {
    "duration": 7,
    "start_time": "2021-07-07T18:46:31.936Z"
   },
   {
    "duration": 8,
    "start_time": "2021-07-07T18:46:31.944Z"
   },
   {
    "duration": 19,
    "start_time": "2021-07-07T18:46:31.984Z"
   },
   {
    "duration": 10,
    "start_time": "2021-07-07T18:46:32.004Z"
   },
   {
    "duration": 5,
    "start_time": "2021-07-07T18:46:32.016Z"
   },
   {
    "duration": 9,
    "start_time": "2021-07-07T18:46:32.023Z"
   },
   {
    "duration": 199,
    "start_time": "2021-07-07T18:46:32.033Z"
   },
   {
    "duration": 19,
    "start_time": "2021-07-07T18:46:32.234Z"
   },
   {
    "duration": 159,
    "start_time": "2021-07-07T18:46:32.255Z"
   },
   {
    "duration": 134,
    "start_time": "2021-07-07T18:46:32.416Z"
   },
   {
    "duration": 10,
    "start_time": "2021-07-07T18:46:32.552Z"
   },
   {
    "duration": 34,
    "start_time": "2021-07-07T18:46:32.563Z"
   },
   {
    "duration": 1039,
    "start_time": "2021-07-08T08:41:09.419Z"
   },
   {
    "duration": 333,
    "start_time": "2021-07-08T08:41:10.459Z"
   },
   {
    "duration": 173,
    "start_time": "2021-07-08T08:41:10.794Z"
   },
   {
    "duration": 5,
    "start_time": "2021-07-08T08:41:10.968Z"
   },
   {
    "duration": 25,
    "start_time": "2021-07-08T08:41:10.975Z"
   },
   {
    "duration": 9,
    "start_time": "2021-07-08T08:41:11.002Z"
   },
   {
    "duration": 18,
    "start_time": "2021-07-08T08:41:11.013Z"
   },
   {
    "duration": 6,
    "start_time": "2021-07-08T08:41:11.033Z"
   },
   {
    "duration": 44,
    "start_time": "2021-07-08T08:41:11.042Z"
   },
   {
    "duration": 10,
    "start_time": "2021-07-08T08:41:11.088Z"
   },
   {
    "duration": 9,
    "start_time": "2021-07-08T08:41:11.100Z"
   },
   {
    "duration": 27,
    "start_time": "2021-07-08T08:41:11.111Z"
   },
   {
    "duration": 46,
    "start_time": "2021-07-08T08:41:11.140Z"
   },
   {
    "duration": 17,
    "start_time": "2021-07-08T08:41:11.187Z"
   },
   {
    "duration": 6,
    "start_time": "2021-07-08T08:41:11.206Z"
   },
   {
    "duration": 5,
    "start_time": "2021-07-08T08:41:11.213Z"
   },
   {
    "duration": 10,
    "start_time": "2021-07-08T08:41:11.219Z"
   },
   {
    "duration": 9,
    "start_time": "2021-07-08T08:41:11.230Z"
   },
   {
    "duration": 45,
    "start_time": "2021-07-08T08:41:11.241Z"
   },
   {
    "duration": 7,
    "start_time": "2021-07-08T08:41:11.287Z"
   },
   {
    "duration": 24,
    "start_time": "2021-07-08T08:41:11.296Z"
   },
   {
    "duration": 16,
    "start_time": "2021-07-08T08:41:11.322Z"
   },
   {
    "duration": 7,
    "start_time": "2021-07-08T08:41:11.341Z"
   },
   {
    "duration": 41,
    "start_time": "2021-07-08T08:41:11.349Z"
   },
   {
    "duration": 17,
    "start_time": "2021-07-08T08:41:11.391Z"
   },
   {
    "duration": 9,
    "start_time": "2021-07-08T08:41:11.410Z"
   },
   {
    "duration": 5,
    "start_time": "2021-07-08T08:41:11.421Z"
   },
   {
    "duration": 6,
    "start_time": "2021-07-08T08:41:11.428Z"
   },
   {
    "duration": 198,
    "start_time": "2021-07-08T08:41:11.435Z"
   },
   {
    "duration": 18,
    "start_time": "2021-07-08T08:41:11.635Z"
   },
   {
    "duration": 155,
    "start_time": "2021-07-08T08:41:11.655Z"
   },
   {
    "duration": 138,
    "start_time": "2021-07-08T08:41:11.811Z"
   },
   {
    "duration": 10,
    "start_time": "2021-07-08T08:41:11.950Z"
   },
   {
    "duration": 29,
    "start_time": "2021-07-08T08:41:11.961Z"
   },
   {
    "duration": 171,
    "start_time": "2021-07-08T08:47:44.522Z"
   },
   {
    "duration": 124,
    "start_time": "2021-07-08T08:47:46.872Z"
   },
   {
    "duration": 191,
    "start_time": "2021-07-08T08:47:58.148Z"
   },
   {
    "duration": 191,
    "start_time": "2021-07-08T08:48:07.412Z"
   },
   {
    "duration": 261,
    "start_time": "2021-07-08T08:48:10.385Z"
   },
   {
    "duration": 255,
    "start_time": "2021-07-08T08:48:14.494Z"
   },
   {
    "duration": 219,
    "start_time": "2021-07-08T08:48:22.752Z"
   },
   {
    "duration": 173,
    "start_time": "2021-07-08T08:49:06.395Z"
   },
   {
    "duration": 180,
    "start_time": "2021-07-08T08:49:21.011Z"
   },
   {
    "duration": 6,
    "start_time": "2021-07-08T08:50:31.697Z"
   },
   {
    "duration": 10,
    "start_time": "2021-07-08T08:50:47.394Z"
   },
   {
    "duration": 11,
    "start_time": "2021-07-08T08:53:49.332Z"
   },
   {
    "duration": 171,
    "start_time": "2021-07-08T08:54:28.408Z"
   },
   {
    "duration": 636,
    "start_time": "2021-07-08T09:02:48.385Z"
   },
   {
    "duration": 227,
    "start_time": "2021-07-08T09:02:49.023Z"
   },
   {
    "duration": 104,
    "start_time": "2021-07-08T09:02:49.252Z"
   },
   {
    "duration": 5,
    "start_time": "2021-07-08T09:02:49.358Z"
   },
   {
    "duration": 27,
    "start_time": "2021-07-08T09:02:49.365Z"
   },
   {
    "duration": 8,
    "start_time": "2021-07-08T09:02:49.394Z"
   },
   {
    "duration": 18,
    "start_time": "2021-07-08T09:02:49.404Z"
   },
   {
    "duration": 6,
    "start_time": "2021-07-08T09:02:49.424Z"
   },
   {
    "duration": 11,
    "start_time": "2021-07-08T09:02:49.433Z"
   },
   {
    "duration": 13,
    "start_time": "2021-07-08T09:02:49.485Z"
   },
   {
    "duration": 9,
    "start_time": "2021-07-08T09:02:49.500Z"
   },
   {
    "duration": 38,
    "start_time": "2021-07-08T09:02:49.511Z"
   },
   {
    "duration": 42,
    "start_time": "2021-07-08T09:02:49.551Z"
   },
   {
    "duration": 21,
    "start_time": "2021-07-08T09:02:49.594Z"
   },
   {
    "duration": 6,
    "start_time": "2021-07-08T09:02:49.616Z"
   },
   {
    "duration": 3,
    "start_time": "2021-07-08T09:02:49.623Z"
   },
   {
    "duration": 9,
    "start_time": "2021-07-08T09:02:49.628Z"
   },
   {
    "duration": 52,
    "start_time": "2021-07-08T09:02:49.638Z"
   },
   {
    "duration": 11,
    "start_time": "2021-07-08T09:02:49.692Z"
   },
   {
    "duration": 8,
    "start_time": "2021-07-08T09:02:49.704Z"
   },
   {
    "duration": 27,
    "start_time": "2021-07-08T09:02:49.713Z"
   },
   {
    "duration": 59,
    "start_time": "2021-07-08T09:02:49.741Z"
   },
   {
    "duration": 8,
    "start_time": "2021-07-08T09:02:49.803Z"
   },
   {
    "duration": 14,
    "start_time": "2021-07-08T09:02:49.813Z"
   },
   {
    "duration": 20,
    "start_time": "2021-07-08T09:02:49.829Z"
   },
   {
    "duration": 44,
    "start_time": "2021-07-08T09:02:49.851Z"
   },
   {
    "duration": 14,
    "start_time": "2021-07-08T09:02:49.896Z"
   },
   {
    "duration": 221,
    "start_time": "2021-07-08T09:02:49.912Z"
   },
   {
    "duration": 6,
    "start_time": "2021-07-08T09:02:50.134Z"
   },
   {
    "duration": 206,
    "start_time": "2021-07-08T09:02:50.142Z"
   },
   {
    "duration": 19,
    "start_time": "2021-07-08T09:02:50.350Z"
   },
   {
    "duration": 21,
    "start_time": "2021-07-08T09:02:50.370Z"
   },
   {
    "duration": 20,
    "start_time": "2021-07-08T09:02:50.393Z"
   },
   {
    "duration": 5,
    "start_time": "2021-07-08T09:02:50.414Z"
   },
   {
    "duration": 5,
    "start_time": "2021-07-08T09:03:34.173Z"
   },
   {
    "duration": 6,
    "start_time": "2021-07-08T09:04:49.062Z"
   },
   {
    "duration": 9,
    "start_time": "2021-07-08T09:04:50.118Z"
   },
   {
    "duration": 14,
    "start_time": "2021-07-08T09:04:58.512Z"
   },
   {
    "duration": 9,
    "start_time": "2021-07-08T09:05:10.988Z"
   },
   {
    "duration": 11,
    "start_time": "2021-07-08T09:05:11.743Z"
   },
   {
    "duration": 7,
    "start_time": "2021-07-08T09:05:25.677Z"
   },
   {
    "duration": 13,
    "start_time": "2021-07-08T09:05:47.189Z"
   },
   {
    "duration": 13,
    "start_time": "2021-07-08T09:05:54.755Z"
   },
   {
    "duration": 4,
    "start_time": "2021-07-08T09:06:29.189Z"
   },
   {
    "duration": 244,
    "start_time": "2021-07-08T09:06:29.195Z"
   },
   {
    "duration": 91,
    "start_time": "2021-07-08T09:06:29.441Z"
   },
   {
    "duration": 4,
    "start_time": "2021-07-08T09:06:29.534Z"
   },
   {
    "duration": 28,
    "start_time": "2021-07-08T09:06:29.540Z"
   },
   {
    "duration": 6,
    "start_time": "2021-07-08T09:06:29.570Z"
   },
   {
    "duration": 18,
    "start_time": "2021-07-08T09:06:29.578Z"
   },
   {
    "duration": 5,
    "start_time": "2021-07-08T09:06:29.597Z"
   },
   {
    "duration": 13,
    "start_time": "2021-07-08T09:06:29.605Z"
   },
   {
    "duration": 8,
    "start_time": "2021-07-08T09:06:29.620Z"
   },
   {
    "duration": 7,
    "start_time": "2021-07-08T09:06:29.630Z"
   },
   {
    "duration": 63,
    "start_time": "2021-07-08T09:06:29.639Z"
   },
   {
    "duration": 17,
    "start_time": "2021-07-08T09:06:29.704Z"
   },
   {
    "duration": 20,
    "start_time": "2021-07-08T09:06:29.723Z"
   },
   {
    "duration": 6,
    "start_time": "2021-07-08T09:06:29.745Z"
   },
   {
    "duration": 3,
    "start_time": "2021-07-08T09:06:29.752Z"
   },
   {
    "duration": 7,
    "start_time": "2021-07-08T09:06:29.785Z"
   },
   {
    "duration": 11,
    "start_time": "2021-07-08T09:06:29.794Z"
   },
   {
    "duration": 15,
    "start_time": "2021-07-08T09:06:29.807Z"
   },
   {
    "duration": 8,
    "start_time": "2021-07-08T09:06:29.823Z"
   },
   {
    "duration": 70,
    "start_time": "2021-07-08T09:06:29.832Z"
   },
   {
    "duration": 17,
    "start_time": "2021-07-08T09:06:29.903Z"
   },
   {
    "duration": 9,
    "start_time": "2021-07-08T09:06:29.921Z"
   },
   {
    "duration": 9,
    "start_time": "2021-07-08T09:06:29.932Z"
   },
   {
    "duration": 57,
    "start_time": "2021-07-08T09:06:29.942Z"
   },
   {
    "duration": 11,
    "start_time": "2021-07-08T09:06:30.001Z"
   },
   {
    "duration": 19,
    "start_time": "2021-07-08T09:06:30.016Z"
   },
   {
    "duration": 217,
    "start_time": "2021-07-08T09:06:30.037Z"
   },
   {
    "duration": 6,
    "start_time": "2021-07-08T09:06:30.255Z"
   },
   {
    "duration": 205,
    "start_time": "2021-07-08T09:06:30.263Z"
   },
   {
    "duration": 27,
    "start_time": "2021-07-08T09:06:30.470Z"
   },
   {
    "duration": 11,
    "start_time": "2021-07-08T09:06:30.500Z"
   },
   {
    "duration": 31,
    "start_time": "2021-07-08T09:06:30.513Z"
   },
   {
    "duration": 18,
    "start_time": "2021-07-08T09:06:30.546Z"
   },
   {
    "duration": 11,
    "start_time": "2021-07-08T09:06:30.566Z"
   },
   {
    "duration": 19,
    "start_time": "2021-07-08T09:06:30.579Z"
   },
   {
    "duration": 20,
    "start_time": "2021-07-08T09:06:49.466Z"
   },
   {
    "duration": 9,
    "start_time": "2021-07-08T09:06:51.994Z"
   },
   {
    "duration": 20,
    "start_time": "2021-07-08T09:06:52.273Z"
   },
   {
    "duration": 246,
    "start_time": "2021-07-08T09:10:21.272Z"
   },
   {
    "duration": 84,
    "start_time": "2021-07-08T09:10:21.436Z"
   },
   {
    "duration": 7,
    "start_time": "2021-07-08T09:10:37.608Z"
   },
   {
    "duration": 189,
    "start_time": "2021-07-08T09:10:38.573Z"
   },
   {
    "duration": 185,
    "start_time": "2021-07-08T09:10:53.181Z"
   },
   {
    "duration": 11,
    "start_time": "2021-07-08T09:10:59.549Z"
   },
   {
    "duration": 42,
    "start_time": "2021-07-08T09:10:59.709Z"
   },
   {
    "duration": 12,
    "start_time": "2021-07-08T09:11:02.857Z"
   },
   {
    "duration": 28,
    "start_time": "2021-07-08T09:11:10.062Z"
   },
   {
    "duration": 249,
    "start_time": "2021-07-08T09:11:37.388Z"
   },
   {
    "duration": 232,
    "start_time": "2021-07-08T09:11:49.485Z"
   },
   {
    "duration": 453,
    "start_time": "2021-07-08T09:12:01.546Z"
   },
   {
    "duration": 440,
    "start_time": "2021-07-08T09:12:12.347Z"
   },
   {
    "duration": 213,
    "start_time": "2021-07-08T09:13:32.196Z"
   },
   {
    "duration": 172,
    "start_time": "2021-07-08T09:14:07.400Z"
   },
   {
    "duration": 185,
    "start_time": "2021-07-08T09:14:14.905Z"
   },
   {
    "duration": 209,
    "start_time": "2021-07-08T09:14:40.109Z"
   },
   {
    "duration": 201,
    "start_time": "2021-07-08T09:14:54.506Z"
   },
   {
    "duration": 622,
    "start_time": "2021-07-08T09:18:14.497Z"
   },
   {
    "duration": 220,
    "start_time": "2021-07-08T09:18:15.121Z"
   },
   {
    "duration": 79,
    "start_time": "2021-07-08T09:18:15.343Z"
   },
   {
    "duration": 4,
    "start_time": "2021-07-08T09:18:15.425Z"
   },
   {
    "duration": 24,
    "start_time": "2021-07-08T09:18:15.431Z"
   },
   {
    "duration": 8,
    "start_time": "2021-07-08T09:18:15.457Z"
   },
   {
    "duration": 16,
    "start_time": "2021-07-08T09:18:15.466Z"
   },
   {
    "duration": 5,
    "start_time": "2021-07-08T09:18:15.484Z"
   },
   {
    "duration": 10,
    "start_time": "2021-07-08T09:18:15.493Z"
   },
   {
    "duration": 8,
    "start_time": "2021-07-08T09:18:15.504Z"
   },
   {
    "duration": 7,
    "start_time": "2021-07-08T09:18:15.513Z"
   },
   {
    "duration": 26,
    "start_time": "2021-07-08T09:18:15.522Z"
   },
   {
    "duration": 49,
    "start_time": "2021-07-08T09:18:15.550Z"
   },
   {
    "duration": 21,
    "start_time": "2021-07-08T09:18:15.601Z"
   },
   {
    "duration": 8,
    "start_time": "2021-07-08T09:18:15.624Z"
   },
   {
    "duration": 3,
    "start_time": "2021-07-08T09:18:15.634Z"
   },
   {
    "duration": 8,
    "start_time": "2021-07-08T09:18:15.639Z"
   },
   {
    "duration": 45,
    "start_time": "2021-07-08T09:18:15.649Z"
   },
   {
    "duration": 13,
    "start_time": "2021-07-08T09:18:15.696Z"
   },
   {
    "duration": 10,
    "start_time": "2021-07-08T09:18:15.711Z"
   },
   {
    "duration": 64,
    "start_time": "2021-07-08T09:18:15.722Z"
   },
   {
    "duration": 19,
    "start_time": "2021-07-08T09:18:15.788Z"
   },
   {
    "duration": 9,
    "start_time": "2021-07-08T09:18:15.809Z"
   },
   {
    "duration": 9,
    "start_time": "2021-07-08T09:18:15.820Z"
   },
   {
    "duration": 18,
    "start_time": "2021-07-08T09:18:15.831Z"
   },
   {
    "duration": 43,
    "start_time": "2021-07-08T09:18:15.851Z"
   },
   {
    "duration": 12,
    "start_time": "2021-07-08T09:18:15.897Z"
   },
   {
    "duration": 219,
    "start_time": "2021-07-08T09:18:15.911Z"
   },
   {
    "duration": 8,
    "start_time": "2021-07-08T09:18:16.132Z"
   },
   {
    "duration": 199,
    "start_time": "2021-07-08T09:18:16.141Z"
   },
   {
    "duration": 18,
    "start_time": "2021-07-08T09:18:16.341Z"
   },
   {
    "duration": 24,
    "start_time": "2021-07-08T09:18:16.361Z"
   },
   {
    "duration": 24,
    "start_time": "2021-07-08T09:18:16.387Z"
   },
   {
    "duration": 211,
    "start_time": "2021-07-08T09:18:16.413Z"
   },
   {
    "duration": 18,
    "start_time": "2021-07-08T09:18:16.626Z"
   },
   {
    "duration": 596,
    "start_time": "2021-07-08T10:06:33.623Z"
   },
   {
    "duration": 181,
    "start_time": "2021-07-08T10:06:34.221Z"
   },
   {
    "duration": 176,
    "start_time": "2021-07-08T10:06:34.635Z"
   },
   {
    "duration": 239,
    "start_time": "2021-07-08T10:06:55.572Z"
   },
   {
    "duration": 6,
    "start_time": "2021-07-08T10:06:57.687Z"
   },
   {
    "duration": 4,
    "start_time": "2021-07-08T10:07:03.956Z"
   },
   {
    "duration": 4,
    "start_time": "2021-07-08T10:07:10.376Z"
   },
   {
    "duration": 4,
    "start_time": "2021-07-08T10:17:19.889Z"
   },
   {
    "duration": 3,
    "start_time": "2021-07-08T10:19:19.407Z"
   },
   {
    "duration": 197,
    "start_time": "2021-07-08T10:19:19.412Z"
   },
   {
    "duration": 127,
    "start_time": "2021-07-08T10:19:19.611Z"
   },
   {
    "duration": 4,
    "start_time": "2021-07-08T10:19:19.740Z"
   },
   {
    "duration": 27,
    "start_time": "2021-07-08T10:19:19.746Z"
   },
   {
    "duration": 7,
    "start_time": "2021-07-08T10:19:19.775Z"
   },
   {
    "duration": 30,
    "start_time": "2021-07-08T10:19:19.784Z"
   },
   {
    "duration": 7,
    "start_time": "2021-07-08T10:19:19.817Z"
   },
   {
    "duration": 26,
    "start_time": "2021-07-08T10:19:19.826Z"
   },
   {
    "duration": 18,
    "start_time": "2021-07-08T10:19:19.854Z"
   },
   {
    "duration": 14,
    "start_time": "2021-07-08T10:19:19.874Z"
   },
   {
    "duration": 48,
    "start_time": "2021-07-08T10:19:19.890Z"
   },
   {
    "duration": 17,
    "start_time": "2021-07-08T10:19:19.940Z"
   },
   {
    "duration": 38,
    "start_time": "2021-07-08T10:19:19.959Z"
   },
   {
    "duration": 8,
    "start_time": "2021-07-08T10:19:19.999Z"
   },
   {
    "duration": 15,
    "start_time": "2021-07-08T10:19:20.009Z"
   },
   {
    "duration": 22,
    "start_time": "2021-07-08T10:19:20.026Z"
   },
   {
    "duration": 10,
    "start_time": "2021-07-08T10:19:20.050Z"
   },
   {
    "duration": 10,
    "start_time": "2021-07-08T10:19:20.062Z"
   },
   {
    "duration": 20,
    "start_time": "2021-07-08T10:19:20.073Z"
   },
   {
    "duration": 29,
    "start_time": "2021-07-08T10:19:20.095Z"
   },
   {
    "duration": 17,
    "start_time": "2021-07-08T10:19:20.126Z"
   },
   {
    "duration": 40,
    "start_time": "2021-07-08T10:19:20.146Z"
   },
   {
    "duration": 15,
    "start_time": "2021-07-08T10:19:20.189Z"
   },
   {
    "duration": 19,
    "start_time": "2021-07-08T10:19:20.206Z"
   },
   {
    "duration": 10,
    "start_time": "2021-07-08T10:19:20.226Z"
   },
   {
    "duration": 11,
    "start_time": "2021-07-08T10:19:20.238Z"
   },
   {
    "duration": 297,
    "start_time": "2021-07-08T10:19:20.250Z"
   },
   {
    "duration": 6,
    "start_time": "2021-07-08T10:19:20.549Z"
   },
   {
    "duration": 191,
    "start_time": "2021-07-08T10:19:20.557Z"
   },
   {
    "duration": 19,
    "start_time": "2021-07-08T10:19:20.750Z"
   },
   {
    "duration": 20,
    "start_time": "2021-07-08T10:19:20.771Z"
   },
   {
    "duration": 15,
    "start_time": "2021-07-08T10:19:20.793Z"
   },
   {
    "duration": 222,
    "start_time": "2021-07-08T10:19:20.809Z"
   },
   {
    "duration": 20,
    "start_time": "2021-07-08T10:19:21.033Z"
   },
   {
    "duration": 27,
    "start_time": "2021-07-08T10:45:04.055Z"
   },
   {
    "duration": 8,
    "start_time": "2021-07-08T10:45:08.478Z"
   },
   {
    "duration": 8,
    "start_time": "2021-07-08T10:45:31.982Z"
   },
   {
    "duration": 10,
    "start_time": "2021-07-08T10:46:01.221Z"
   },
   {
    "duration": 17,
    "start_time": "2021-07-08T10:46:40.011Z"
   },
   {
    "duration": 193,
    "start_time": "2021-07-08T10:48:19.471Z"
   },
   {
    "duration": 225,
    "start_time": "2021-07-08T10:49:26.480Z"
   },
   {
    "duration": 204,
    "start_time": "2021-07-08T10:49:59.992Z"
   },
   {
    "duration": 435,
    "start_time": "2021-07-08T10:50:06.779Z"
   },
   {
    "duration": 199,
    "start_time": "2021-07-08T10:50:14.891Z"
   },
   {
    "duration": 204,
    "start_time": "2021-07-08T10:50:18.501Z"
   },
   {
    "duration": 244,
    "start_time": "2021-07-08T10:50:23.359Z"
   },
   {
    "duration": 192,
    "start_time": "2021-07-08T10:50:29.135Z"
   },
   {
    "duration": 218,
    "start_time": "2021-07-08T10:50:33.092Z"
   },
   {
    "duration": 207,
    "start_time": "2021-07-08T10:52:45.381Z"
   },
   {
    "duration": 5,
    "start_time": "2021-07-08T10:53:34.641Z"
   },
   {
    "duration": 196,
    "start_time": "2021-07-08T10:53:41.478Z"
   },
   {
    "duration": 43,
    "start_time": "2021-07-08T10:53:50.335Z"
   },
   {
    "duration": 32,
    "start_time": "2021-07-08T10:53:55.294Z"
   },
   {
    "duration": 55,
    "start_time": "2021-07-08T10:54:09.675Z"
   },
   {
    "duration": 16,
    "start_time": "2021-07-08T10:54:12.260Z"
   },
   {
    "duration": 15,
    "start_time": "2021-07-08T10:54:49.150Z"
   },
   {
    "duration": 20,
    "start_time": "2021-07-08T10:56:07.596Z"
   },
   {
    "duration": 16,
    "start_time": "2021-07-08T10:58:26.276Z"
   },
   {
    "duration": 22,
    "start_time": "2021-07-08T10:59:00.486Z"
   },
   {
    "duration": 18,
    "start_time": "2021-07-08T11:02:09.653Z"
   },
   {
    "duration": 10,
    "start_time": "2021-07-08T11:03:44.331Z"
   },
   {
    "duration": 10,
    "start_time": "2021-07-08T11:03:54.055Z"
   },
   {
    "duration": 12,
    "start_time": "2021-07-08T11:04:41.967Z"
   },
   {
    "duration": 24,
    "start_time": "2021-07-08T11:07:30.732Z"
   },
   {
    "duration": 6,
    "start_time": "2021-07-08T11:07:37.364Z"
   },
   {
    "duration": 16,
    "start_time": "2021-07-08T11:08:01.819Z"
   },
   {
    "duration": 17,
    "start_time": "2021-07-08T11:09:47.488Z"
   },
   {
    "duration": 246,
    "start_time": "2021-07-08T11:10:00.830Z"
   },
   {
    "duration": 18,
    "start_time": "2021-07-08T11:13:55.195Z"
   },
   {
    "duration": 204,
    "start_time": "2021-07-08T11:14:04.951Z"
   },
   {
    "duration": 19,
    "start_time": "2021-07-08T11:15:10.613Z"
   },
   {
    "duration": 680,
    "start_time": "2021-07-08T11:16:25.793Z"
   },
   {
    "duration": 451,
    "start_time": "2021-07-08T11:16:40.313Z"
   },
   {
    "duration": 469,
    "start_time": "2021-07-08T11:17:21.286Z"
   },
   {
    "duration": 20,
    "start_time": "2021-07-08T11:19:12.554Z"
   },
   {
    "duration": 35,
    "start_time": "2021-07-08T11:20:05.484Z"
   },
   {
    "duration": 53,
    "start_time": "2021-07-08T11:21:40.050Z"
   },
   {
    "duration": 13,
    "start_time": "2021-07-08T11:22:26.059Z"
   },
   {
    "duration": 19,
    "start_time": "2021-07-08T11:22:47.419Z"
   },
   {
    "duration": 25,
    "start_time": "2021-07-08T11:23:19.958Z"
   },
   {
    "duration": 29,
    "start_time": "2021-07-08T11:23:25.415Z"
   },
   {
    "duration": 10,
    "start_time": "2021-07-08T11:24:45.138Z"
   },
   {
    "duration": 19,
    "start_time": "2021-07-08T11:24:54.498Z"
   },
   {
    "duration": 12,
    "start_time": "2021-07-08T11:25:32.225Z"
   },
   {
    "duration": 19,
    "start_time": "2021-07-08T11:25:37.092Z"
   },
   {
    "duration": 17,
    "start_time": "2021-07-08T11:25:58.116Z"
   },
   {
    "duration": 15,
    "start_time": "2021-07-08T11:26:02.258Z"
   },
   {
    "duration": 8,
    "start_time": "2021-07-08T11:26:59.682Z"
   },
   {
    "duration": 184,
    "start_time": "2021-07-08T11:27:21.894Z"
   },
   {
    "duration": 8,
    "start_time": "2021-07-08T11:27:23.824Z"
   },
   {
    "duration": 202,
    "start_time": "2021-07-08T11:27:23.962Z"
   },
   {
    "duration": 360,
    "start_time": "2021-07-08T11:28:33.215Z"
   },
   {
    "duration": 231,
    "start_time": "2021-07-08T11:32:05.542Z"
   },
   {
    "duration": 607,
    "start_time": "2021-07-08T11:36:27.854Z"
   },
   {
    "duration": 241,
    "start_time": "2021-07-08T11:36:28.463Z"
   },
   {
    "duration": 67,
    "start_time": "2021-07-08T11:36:28.709Z"
   },
   {
    "duration": 5,
    "start_time": "2021-07-08T11:36:28.778Z"
   },
   {
    "duration": 32,
    "start_time": "2021-07-08T11:36:28.784Z"
   },
   {
    "duration": 11,
    "start_time": "2021-07-08T11:36:28.819Z"
   },
   {
    "duration": 20,
    "start_time": "2021-07-08T11:36:28.834Z"
   },
   {
    "duration": 36,
    "start_time": "2021-07-08T11:36:28.857Z"
   },
   {
    "duration": 16,
    "start_time": "2021-07-08T11:36:28.895Z"
   },
   {
    "duration": 14,
    "start_time": "2021-07-08T11:36:28.913Z"
   },
   {
    "duration": 9,
    "start_time": "2021-07-08T11:36:28.930Z"
   },
   {
    "duration": 55,
    "start_time": "2021-07-08T11:36:28.941Z"
   },
   {
    "duration": 27,
    "start_time": "2021-07-08T11:36:28.999Z"
   },
   {
    "duration": 30,
    "start_time": "2021-07-08T11:36:29.028Z"
   },
   {
    "duration": 31,
    "start_time": "2021-07-08T11:36:29.060Z"
   },
   {
    "duration": 3,
    "start_time": "2021-07-08T11:36:29.093Z"
   },
   {
    "duration": 12,
    "start_time": "2021-07-08T11:36:29.099Z"
   },
   {
    "duration": 11,
    "start_time": "2021-07-08T11:36:29.112Z"
   },
   {
    "duration": 12,
    "start_time": "2021-07-08T11:36:29.125Z"
   },
   {
    "duration": 9,
    "start_time": "2021-07-08T11:36:29.139Z"
   },
   {
    "duration": 31,
    "start_time": "2021-07-08T11:36:29.191Z"
   },
   {
    "duration": 17,
    "start_time": "2021-07-08T11:36:29.226Z"
   },
   {
    "duration": 7,
    "start_time": "2021-07-08T11:36:29.245Z"
   },
   {
    "duration": 10,
    "start_time": "2021-07-08T11:36:29.254Z"
   },
   {
    "duration": 30,
    "start_time": "2021-07-08T11:36:29.292Z"
   },
   {
    "duration": 11,
    "start_time": "2021-07-08T11:36:29.324Z"
   },
   {
    "duration": 11,
    "start_time": "2021-07-08T11:36:29.337Z"
   },
   {
    "duration": 230,
    "start_time": "2021-07-08T11:36:29.349Z"
   },
   {
    "duration": 13,
    "start_time": "2021-07-08T11:36:29.588Z"
   },
   {
    "duration": 205,
    "start_time": "2021-07-08T11:36:29.603Z"
   },
   {
    "duration": 20,
    "start_time": "2021-07-08T11:36:29.810Z"
   },
   {
    "duration": 9,
    "start_time": "2021-07-08T11:36:29.832Z"
   },
   {
    "duration": 16,
    "start_time": "2021-07-08T11:36:29.843Z"
   },
   {
    "duration": 283,
    "start_time": "2021-07-08T11:36:29.861Z"
   },
   {
    "duration": 50,
    "start_time": "2021-07-08T11:36:30.146Z"
   },
   {
    "duration": 14,
    "start_time": "2021-07-08T11:36:30.198Z"
   },
   {
    "duration": 11,
    "start_time": "2021-07-08T11:36:30.214Z"
   },
   {
    "duration": 245,
    "start_time": "2021-07-08T11:36:30.227Z"
   },
   {
    "duration": 439,
    "start_time": "2021-07-08T11:36:30.474Z"
   },
   {
    "duration": 210,
    "start_time": "2021-07-08T11:36:30.915Z"
   },
   {
    "duration": 15,
    "start_time": "2021-07-08T11:36:31.127Z"
   },
   {
    "duration": 17,
    "start_time": "2021-07-08T11:38:20.451Z"
   },
   {
    "duration": 642,
    "start_time": "2021-07-08T11:46:17.881Z"
   },
   {
    "duration": 210,
    "start_time": "2021-07-08T11:46:18.525Z"
   },
   {
    "duration": 104,
    "start_time": "2021-07-08T11:46:18.741Z"
   },
   {
    "duration": 8,
    "start_time": "2021-07-08T11:46:18.847Z"
   },
   {
    "duration": 25,
    "start_time": "2021-07-08T11:46:18.857Z"
   },
   {
    "duration": 14,
    "start_time": "2021-07-08T11:46:18.884Z"
   },
   {
    "duration": 22,
    "start_time": "2021-07-08T11:46:18.900Z"
   },
   {
    "duration": 5,
    "start_time": "2021-07-08T11:46:18.924Z"
   },
   {
    "duration": 13,
    "start_time": "2021-07-08T11:46:18.931Z"
   },
   {
    "duration": 45,
    "start_time": "2021-07-08T11:46:18.946Z"
   },
   {
    "duration": 12,
    "start_time": "2021-07-08T11:46:18.993Z"
   },
   {
    "duration": 38,
    "start_time": "2021-07-08T11:46:19.006Z"
   },
   {
    "duration": 50,
    "start_time": "2021-07-08T11:46:19.046Z"
   },
   {
    "duration": 29,
    "start_time": "2021-07-08T11:46:19.099Z"
   },
   {
    "duration": 7,
    "start_time": "2021-07-08T11:46:19.130Z"
   },
   {
    "duration": 3,
    "start_time": "2021-07-08T11:46:19.139Z"
   },
   {
    "duration": 11,
    "start_time": "2021-07-08T11:46:19.144Z"
   },
   {
    "duration": 40,
    "start_time": "2021-07-08T11:46:19.157Z"
   },
   {
    "duration": 15,
    "start_time": "2021-07-08T11:46:19.199Z"
   },
   {
    "duration": 10,
    "start_time": "2021-07-08T11:46:19.217Z"
   },
   {
    "duration": 68,
    "start_time": "2021-07-08T11:46:19.230Z"
   },
   {
    "duration": 17,
    "start_time": "2021-07-08T11:46:19.301Z"
   },
   {
    "duration": 7,
    "start_time": "2021-07-08T11:46:19.321Z"
   },
   {
    "duration": 11,
    "start_time": "2021-07-08T11:46:19.330Z"
   },
   {
    "duration": 59,
    "start_time": "2021-07-08T11:46:19.343Z"
   },
   {
    "duration": 17,
    "start_time": "2021-07-08T11:46:19.405Z"
   },
   {
    "duration": 16,
    "start_time": "2021-07-08T11:46:19.424Z"
   },
   {
    "duration": 252,
    "start_time": "2021-07-08T11:46:19.443Z"
   },
   {
    "duration": 9,
    "start_time": "2021-07-08T11:46:19.697Z"
   },
   {
    "duration": 224,
    "start_time": "2021-07-08T11:46:19.708Z"
   },
   {
    "duration": 21,
    "start_time": "2021-07-08T11:46:19.934Z"
   },
   {
    "duration": 9,
    "start_time": "2021-07-08T11:46:19.956Z"
   },
   {
    "duration": 32,
    "start_time": "2021-07-08T11:46:19.967Z"
   },
   {
    "duration": 288,
    "start_time": "2021-07-08T11:46:20.004Z"
   },
   {
    "duration": 23,
    "start_time": "2021-07-08T11:46:20.300Z"
   },
   {
    "duration": 11,
    "start_time": "2021-07-08T11:46:20.325Z"
   },
   {
    "duration": 11,
    "start_time": "2021-07-08T11:46:20.339Z"
   },
   {
    "duration": 259,
    "start_time": "2021-07-08T11:46:20.352Z"
   },
   {
    "duration": 438,
    "start_time": "2021-07-08T11:46:20.613Z"
   },
   {
    "duration": 207,
    "start_time": "2021-07-08T11:46:21.054Z"
   },
   {
    "duration": 27,
    "start_time": "2021-07-08T11:46:21.262Z"
   },
   {
    "duration": 19,
    "start_time": "2021-07-08T11:46:21.291Z"
   },
   {
    "duration": 820,
    "start_time": "2021-07-08T11:49:01.655Z"
   },
   {
    "duration": 372,
    "start_time": "2021-07-08T11:49:02.478Z"
   },
   {
    "duration": 98,
    "start_time": "2021-07-08T11:49:02.853Z"
   },
   {
    "duration": 6,
    "start_time": "2021-07-08T11:49:02.953Z"
   },
   {
    "duration": 39,
    "start_time": "2021-07-08T11:49:02.960Z"
   },
   {
    "duration": 9,
    "start_time": "2021-07-08T11:49:03.003Z"
   },
   {
    "duration": 23,
    "start_time": "2021-07-08T11:49:03.014Z"
   },
   {
    "duration": 6,
    "start_time": "2021-07-08T11:49:03.041Z"
   },
   {
    "duration": 20,
    "start_time": "2021-07-08T11:49:03.049Z"
   },
   {
    "duration": 18,
    "start_time": "2021-07-08T11:49:03.084Z"
   },
   {
    "duration": 14,
    "start_time": "2021-07-08T11:49:03.104Z"
   },
   {
    "duration": 39,
    "start_time": "2021-07-08T11:49:03.119Z"
   },
   {
    "duration": 38,
    "start_time": "2021-07-08T11:49:03.160Z"
   },
   {
    "duration": 26,
    "start_time": "2021-07-08T11:49:03.200Z"
   },
   {
    "duration": 7,
    "start_time": "2021-07-08T11:49:03.227Z"
   },
   {
    "duration": 4,
    "start_time": "2021-07-08T11:49:03.236Z"
   },
   {
    "duration": 15,
    "start_time": "2021-07-08T11:49:03.243Z"
   },
   {
    "duration": 21,
    "start_time": "2021-07-08T11:49:03.285Z"
   },
   {
    "duration": 17,
    "start_time": "2021-07-08T11:49:03.309Z"
   },
   {
    "duration": 10,
    "start_time": "2021-07-08T11:49:03.328Z"
   },
   {
    "duration": 65,
    "start_time": "2021-07-08T11:49:03.340Z"
   },
   {
    "duration": 18,
    "start_time": "2021-07-08T11:49:03.407Z"
   },
   {
    "duration": 8,
    "start_time": "2021-07-08T11:49:03.428Z"
   },
   {
    "duration": 15,
    "start_time": "2021-07-08T11:49:03.438Z"
   },
   {
    "duration": 40,
    "start_time": "2021-07-08T11:49:03.455Z"
   },
   {
    "duration": 12,
    "start_time": "2021-07-08T11:49:03.497Z"
   },
   {
    "duration": 29,
    "start_time": "2021-07-08T11:49:03.511Z"
   },
   {
    "duration": 285,
    "start_time": "2021-07-08T11:49:03.542Z"
   },
   {
    "duration": 8,
    "start_time": "2021-07-08T11:49:03.829Z"
   },
   {
    "duration": 227,
    "start_time": "2021-07-08T11:49:03.838Z"
   },
   {
    "duration": 40,
    "start_time": "2021-07-08T11:49:04.066Z"
   },
   {
    "duration": 10,
    "start_time": "2021-07-08T11:49:04.108Z"
   },
   {
    "duration": 26,
    "start_time": "2021-07-08T11:49:04.121Z"
   },
   {
    "duration": 290,
    "start_time": "2021-07-08T11:49:04.149Z"
   },
   {
    "duration": 26,
    "start_time": "2021-07-08T11:49:04.441Z"
   },
   {
    "duration": 31,
    "start_time": "2021-07-08T11:49:04.470Z"
   },
   {
    "duration": 14,
    "start_time": "2021-07-08T11:49:04.503Z"
   },
   {
    "duration": 259,
    "start_time": "2021-07-08T11:49:04.521Z"
   },
   {
    "duration": 480,
    "start_time": "2021-07-08T11:49:04.782Z"
   },
   {
    "duration": 225,
    "start_time": "2021-07-08T11:49:05.264Z"
   },
   {
    "duration": 22,
    "start_time": "2021-07-08T11:49:05.491Z"
   },
   {
    "duration": 24,
    "start_time": "2021-07-08T11:49:05.515Z"
   },
   {
    "duration": 634,
    "start_time": "2021-07-08T11:52:24.960Z"
   },
   {
    "duration": 199,
    "start_time": "2021-07-08T11:52:25.599Z"
   },
   {
    "duration": 106,
    "start_time": "2021-07-08T11:52:25.803Z"
   },
   {
    "duration": 7,
    "start_time": "2021-07-08T11:52:25.911Z"
   },
   {
    "duration": 29,
    "start_time": "2021-07-08T11:52:25.920Z"
   },
   {
    "duration": 7,
    "start_time": "2021-07-08T11:52:25.951Z"
   },
   {
    "duration": 26,
    "start_time": "2021-07-08T11:52:25.961Z"
   },
   {
    "duration": 11,
    "start_time": "2021-07-08T11:52:25.990Z"
   },
   {
    "duration": 29,
    "start_time": "2021-07-08T11:52:26.005Z"
   },
   {
    "duration": 9,
    "start_time": "2021-07-08T11:52:26.036Z"
   },
   {
    "duration": 8,
    "start_time": "2021-07-08T11:52:26.047Z"
   },
   {
    "duration": 63,
    "start_time": "2021-07-08T11:52:26.057Z"
   },
   {
    "duration": 17,
    "start_time": "2021-07-08T11:52:26.122Z"
   },
   {
    "duration": 43,
    "start_time": "2021-07-08T11:52:26.142Z"
   },
   {
    "duration": 17,
    "start_time": "2021-07-08T11:52:26.187Z"
   },
   {
    "duration": 5,
    "start_time": "2021-07-08T11:52:26.206Z"
   },
   {
    "duration": 12,
    "start_time": "2021-07-08T11:52:26.212Z"
   },
   {
    "duration": 11,
    "start_time": "2021-07-08T11:52:26.226Z"
   },
   {
    "duration": 12,
    "start_time": "2021-07-08T11:52:26.238Z"
   },
   {
    "duration": 38,
    "start_time": "2021-07-08T11:52:26.252Z"
   },
   {
    "duration": 40,
    "start_time": "2021-07-08T11:52:26.292Z"
   },
   {
    "duration": 17,
    "start_time": "2021-07-08T11:52:26.336Z"
   },
   {
    "duration": 39,
    "start_time": "2021-07-08T11:52:26.355Z"
   },
   {
    "duration": 11,
    "start_time": "2021-07-08T11:52:26.395Z"
   },
   {
    "duration": 23,
    "start_time": "2021-07-08T11:52:26.408Z"
   },
   {
    "duration": 12,
    "start_time": "2021-07-08T11:52:26.432Z"
   },
   {
    "duration": 41,
    "start_time": "2021-07-08T11:52:26.446Z"
   },
   {
    "duration": 215,
    "start_time": "2021-07-08T11:52:26.493Z"
   },
   {
    "duration": 8,
    "start_time": "2021-07-08T11:52:26.710Z"
   },
   {
    "duration": 228,
    "start_time": "2021-07-08T11:52:26.720Z"
   },
   {
    "duration": 18,
    "start_time": "2021-07-08T11:52:26.950Z"
   },
   {
    "duration": 35,
    "start_time": "2021-07-08T11:52:26.969Z"
   },
   {
    "duration": 23,
    "start_time": "2021-07-08T11:52:27.006Z"
   },
   {
    "duration": 258,
    "start_time": "2021-07-08T11:52:27.030Z"
   },
   {
    "duration": 24,
    "start_time": "2021-07-08T11:52:27.290Z"
   },
   {
    "duration": 12,
    "start_time": "2021-07-08T11:52:27.316Z"
   },
   {
    "duration": 10,
    "start_time": "2021-07-08T11:52:27.329Z"
   },
   {
    "duration": 298,
    "start_time": "2021-07-08T11:52:27.341Z"
   },
   {
    "duration": 436,
    "start_time": "2021-07-08T11:52:27.641Z"
   },
   {
    "duration": 216,
    "start_time": "2021-07-08T11:52:28.079Z"
   },
   {
    "duration": 20,
    "start_time": "2021-07-08T11:52:28.297Z"
   },
   {
    "duration": 17,
    "start_time": "2021-07-08T11:52:28.319Z"
   },
   {
    "duration": 718,
    "start_time": "2022-08-13T05:29:20.611Z"
   },
   {
    "duration": 200,
    "start_time": "2022-08-13T05:29:21.331Z"
   },
   {
    "duration": 73,
    "start_time": "2022-08-13T05:29:21.532Z"
   },
   {
    "duration": 10,
    "start_time": "2022-08-13T05:29:21.607Z"
   },
   {
    "duration": 80,
    "start_time": "2022-08-13T05:30:22.339Z"
   },
   {
    "duration": 50,
    "start_time": "2022-08-13T05:30:26.279Z"
   },
   {
    "duration": 67,
    "start_time": "2022-08-13T05:30:26.855Z"
   },
   {
    "duration": 10,
    "start_time": "2022-08-13T05:30:32.791Z"
   },
   {
    "duration": 4,
    "start_time": "2022-08-13T05:30:58.771Z"
   },
   {
    "duration": 53,
    "start_time": "2022-08-13T05:31:02.191Z"
   },
   {
    "duration": 5,
    "start_time": "2022-08-13T05:31:03.408Z"
   },
   {
    "duration": 8,
    "start_time": "2022-08-13T05:31:20.891Z"
   },
   {
    "duration": 23,
    "start_time": "2022-08-13T05:32:24.578Z"
   },
   {
    "duration": 203,
    "start_time": "2022-08-13T05:34:27.298Z"
   },
   {
    "duration": 211,
    "start_time": "2022-08-13T05:34:45.843Z"
   },
   {
    "duration": 215,
    "start_time": "2022-08-13T05:35:00.398Z"
   },
   {
    "duration": 214,
    "start_time": "2022-08-13T05:35:55.607Z"
   },
   {
    "duration": 251,
    "start_time": "2022-08-13T05:37:29.463Z"
   },
   {
    "duration": 2,
    "start_time": "2022-08-13T05:37:48.135Z"
   },
   {
    "duration": 77,
    "start_time": "2022-08-13T05:37:49.257Z"
   },
   {
    "duration": 39,
    "start_time": "2022-08-13T05:37:49.712Z"
   },
   {
    "duration": 211,
    "start_time": "2022-08-13T05:37:50.477Z"
   },
   {
    "duration": 7,
    "start_time": "2022-08-13T05:39:13.459Z"
   },
   {
    "duration": 8,
    "start_time": "2022-08-13T05:40:02.346Z"
   },
   {
    "duration": 197,
    "start_time": "2022-08-13T05:41:26.051Z"
   },
   {
    "duration": 13,
    "start_time": "2022-08-13T05:43:17.351Z"
   },
   {
    "duration": 6,
    "start_time": "2022-08-13T05:43:37.224Z"
   },
   {
    "duration": 250,
    "start_time": "2022-08-13T05:43:59.863Z"
   },
   {
    "duration": 5,
    "start_time": "2022-08-13T05:44:14.843Z"
   },
   {
    "duration": 4,
    "start_time": "2022-08-13T05:44:18.747Z"
   },
   {
    "duration": 8,
    "start_time": "2022-08-13T05:53:17.368Z"
   },
   {
    "duration": 10,
    "start_time": "2022-08-13T05:53:30.269Z"
   },
   {
    "duration": 9,
    "start_time": "2022-08-13T05:53:36.101Z"
   },
   {
    "duration": 4,
    "start_time": "2022-08-13T05:54:04.814Z"
   },
   {
    "duration": 208,
    "start_time": "2022-08-13T05:54:28.734Z"
   },
   {
    "duration": 10,
    "start_time": "2022-08-13T05:55:29.623Z"
   },
   {
    "duration": 25,
    "start_time": "2022-08-13T05:55:37.579Z"
   },
   {
    "duration": 12,
    "start_time": "2022-08-13T05:55:45.234Z"
   },
   {
    "duration": 9,
    "start_time": "2022-08-13T06:04:19.153Z"
   },
   {
    "duration": 6,
    "start_time": "2022-08-13T06:04:24.061Z"
   },
   {
    "duration": 13,
    "start_time": "2022-08-13T06:05:08.229Z"
   },
   {
    "duration": 7,
    "start_time": "2022-08-13T06:09:40.014Z"
   },
   {
    "duration": 6,
    "start_time": "2022-08-13T06:10:11.782Z"
   },
   {
    "duration": 8,
    "start_time": "2022-08-13T06:10:26.630Z"
   },
   {
    "duration": 12,
    "start_time": "2022-08-13T06:10:42.062Z"
   },
   {
    "duration": 17,
    "start_time": "2022-08-13T06:10:49.926Z"
   },
   {
    "duration": 19,
    "start_time": "2022-08-13T06:11:25.254Z"
   },
   {
    "duration": 14,
    "start_time": "2022-08-13T06:32:22.533Z"
   },
   {
    "duration": 9,
    "start_time": "2022-08-13T06:34:43.289Z"
   },
   {
    "duration": 6,
    "start_time": "2022-08-13T06:35:16.781Z"
   },
   {
    "duration": 18,
    "start_time": "2022-08-13T06:35:24.821Z"
   },
   {
    "duration": 12,
    "start_time": "2022-08-13T06:37:05.493Z"
   },
   {
    "duration": 19,
    "start_time": "2022-08-13T06:37:31.142Z"
   },
   {
    "duration": 20,
    "start_time": "2022-08-13T06:38:29.022Z"
   },
   {
    "duration": 24,
    "start_time": "2022-08-13T06:40:15.681Z"
   },
   {
    "duration": 22,
    "start_time": "2022-08-13T06:40:27.986Z"
   },
   {
    "duration": 21,
    "start_time": "2022-08-13T06:40:35.766Z"
   },
   {
    "duration": 21,
    "start_time": "2022-08-13T06:43:45.026Z"
   },
   {
    "duration": 20,
    "start_time": "2022-08-13T06:43:59.379Z"
   },
   {
    "duration": 55,
    "start_time": "2022-08-13T06:47:11.213Z"
   },
   {
    "duration": 23,
    "start_time": "2022-08-13T06:58:50.856Z"
   },
   {
    "duration": 20,
    "start_time": "2022-08-13T07:00:08.124Z"
   },
   {
    "duration": 32,
    "start_time": "2022-08-13T07:02:15.416Z"
   },
   {
    "duration": 16,
    "start_time": "2022-08-13T07:03:44.197Z"
   },
   {
    "duration": 18,
    "start_time": "2022-08-13T07:03:51.008Z"
   },
   {
    "duration": 21,
    "start_time": "2022-08-13T07:04:14.746Z"
   },
   {
    "duration": 8,
    "start_time": "2022-08-13T07:15:10.366Z"
   },
   {
    "duration": 922,
    "start_time": "2022-08-13T07:15:30.831Z"
   },
   {
    "duration": 6,
    "start_time": "2022-08-13T07:15:48.664Z"
   },
   {
    "duration": 4,
    "start_time": "2022-08-13T07:15:56.502Z"
   },
   {
    "duration": 7,
    "start_time": "2022-08-13T07:16:12.294Z"
   },
   {
    "duration": 7,
    "start_time": "2022-08-13T07:16:23.590Z"
   },
   {
    "duration": 7,
    "start_time": "2022-08-13T07:17:00.650Z"
   },
   {
    "duration": 4,
    "start_time": "2022-08-13T07:18:35.959Z"
   },
   {
    "duration": 30,
    "start_time": "2022-08-13T07:26:58.222Z"
   },
   {
    "duration": 18,
    "start_time": "2022-08-13T07:31:15.529Z"
   },
   {
    "duration": 24,
    "start_time": "2022-08-13T07:31:45.742Z"
   },
   {
    "duration": 17,
    "start_time": "2022-08-13T07:31:59.874Z"
   },
   {
    "duration": 17,
    "start_time": "2022-08-13T07:33:05.110Z"
   },
   {
    "duration": 14,
    "start_time": "2022-08-13T07:33:28.770Z"
   },
   {
    "duration": 47,
    "start_time": "2022-08-13T07:33:37.658Z"
   },
   {
    "duration": 21,
    "start_time": "2022-08-13T07:34:04.363Z"
   },
   {
    "duration": 16,
    "start_time": "2022-08-13T07:34:13.007Z"
   },
   {
    "duration": 14,
    "start_time": "2022-08-13T07:34:18.454Z"
   },
   {
    "duration": 14,
    "start_time": "2022-08-13T07:35:06.812Z"
   },
   {
    "duration": 14,
    "start_time": "2022-08-13T07:35:33.740Z"
   },
   {
    "duration": 13,
    "start_time": "2022-08-13T07:35:46.872Z"
   },
   {
    "duration": 1096,
    "start_time": "2022-08-13T07:40:07.122Z"
   },
   {
    "duration": 789,
    "start_time": "2022-08-13T07:42:14.386Z"
   },
   {
    "duration": 19,
    "start_time": "2022-08-13T07:42:25.570Z"
   },
   {
    "duration": 16,
    "start_time": "2022-08-13T07:42:38.995Z"
   },
   {
    "duration": 18,
    "start_time": "2022-08-13T07:42:45.974Z"
   },
   {
    "duration": 29,
    "start_time": "2022-08-13T07:42:57.967Z"
   },
   {
    "duration": 48,
    "start_time": "2022-08-13T07:43:03.367Z"
   },
   {
    "duration": 25,
    "start_time": "2022-08-13T07:43:24.515Z"
   },
   {
    "duration": 20,
    "start_time": "2022-08-13T07:43:32.154Z"
   },
   {
    "duration": 17,
    "start_time": "2022-08-13T07:44:11.335Z"
   },
   {
    "duration": 8,
    "start_time": "2022-08-13T09:30:29.934Z"
   },
   {
    "duration": 10,
    "start_time": "2022-08-13T09:32:12.906Z"
   },
   {
    "duration": 8,
    "start_time": "2022-08-13T09:32:22.562Z"
   },
   {
    "duration": 8,
    "start_time": "2022-08-13T09:32:36.491Z"
   },
   {
    "duration": 55,
    "start_time": "2022-08-13T09:32:56.687Z"
   },
   {
    "duration": 8,
    "start_time": "2022-08-13T09:33:05.291Z"
   },
   {
    "duration": 218,
    "start_time": "2022-08-13T09:38:13.959Z"
   },
   {
    "duration": 16,
    "start_time": "2022-08-13T09:38:25.504Z"
   },
   {
    "duration": 18,
    "start_time": "2022-08-13T09:39:20.575Z"
   },
   {
    "duration": 11,
    "start_time": "2022-08-13T09:39:33.434Z"
   },
   {
    "duration": 9,
    "start_time": "2022-08-13T09:39:50.624Z"
   },
   {
    "duration": 12,
    "start_time": "2022-08-13T09:40:30.543Z"
   },
   {
    "duration": 12,
    "start_time": "2022-08-13T09:40:35.754Z"
   },
   {
    "duration": 16,
    "start_time": "2022-08-13T09:40:50.693Z"
   },
   {
    "duration": 11,
    "start_time": "2022-08-13T09:41:33.915Z"
   },
   {
    "duration": 21,
    "start_time": "2022-08-13T09:47:49.569Z"
   },
   {
    "duration": 11,
    "start_time": "2022-08-13T09:54:45.546Z"
   },
   {
    "duration": 17,
    "start_time": "2022-08-13T09:55:57.726Z"
   },
   {
    "duration": 5,
    "start_time": "2022-08-13T09:57:02.995Z"
   },
   {
    "duration": 20,
    "start_time": "2022-08-13T09:57:13.296Z"
   },
   {
    "duration": 694,
    "start_time": "2022-08-13T09:57:25.415Z"
   },
   {
    "duration": 879,
    "start_time": "2022-08-13T09:57:31.202Z"
   },
   {
    "duration": 766,
    "start_time": "2022-08-13T09:57:54.065Z"
   },
   {
    "duration": 8,
    "start_time": "2022-08-13T09:58:21.165Z"
   },
   {
    "duration": 8,
    "start_time": "2022-08-13T09:58:30.445Z"
   },
   {
    "duration": 8,
    "start_time": "2022-08-13T09:58:37.415Z"
   },
   {
    "duration": 10,
    "start_time": "2022-08-13T09:58:45.442Z"
   },
   {
    "duration": 16,
    "start_time": "2022-08-13T09:59:00.070Z"
   },
   {
    "duration": 8,
    "start_time": "2022-08-13T09:59:06.986Z"
   },
   {
    "duration": 17,
    "start_time": "2022-08-13T09:59:09.755Z"
   },
   {
    "duration": 364,
    "start_time": "2022-08-13T09:59:20.567Z"
   },
   {
    "duration": 78,
    "start_time": "2022-08-13T09:59:20.933Z"
   },
   {
    "duration": 38,
    "start_time": "2022-08-13T09:59:21.012Z"
   },
   {
    "duration": 15,
    "start_time": "2022-08-13T09:59:21.051Z"
   },
   {
    "duration": 16,
    "start_time": "2022-08-13T09:59:21.068Z"
   },
   {
    "duration": 19,
    "start_time": "2022-08-13T09:59:21.085Z"
   },
   {
    "duration": 14,
    "start_time": "2022-08-13T09:59:21.106Z"
   },
   {
    "duration": 7,
    "start_time": "2022-08-13T09:59:21.121Z"
   },
   {
    "duration": 19,
    "start_time": "2022-08-13T09:59:21.129Z"
   },
   {
    "duration": 6,
    "start_time": "2022-08-13T10:09:10.796Z"
   },
   {
    "duration": 21,
    "start_time": "2022-08-13T10:09:21.046Z"
   },
   {
    "duration": 18,
    "start_time": "2022-08-13T10:09:41.375Z"
   },
   {
    "duration": 13,
    "start_time": "2022-08-13T10:10:28.786Z"
   },
   {
    "duration": 43,
    "start_time": "2022-08-13T10:12:31.230Z"
   },
   {
    "duration": 15,
    "start_time": "2022-08-13T10:13:09.606Z"
   },
   {
    "duration": 15,
    "start_time": "2022-08-13T10:13:16.830Z"
   },
   {
    "duration": 15,
    "start_time": "2022-08-13T10:14:42.255Z"
   },
   {
    "duration": 19,
    "start_time": "2022-08-13T10:17:08.715Z"
   },
   {
    "duration": 62,
    "start_time": "2022-08-13T10:38:16.218Z"
   },
   {
    "duration": 4,
    "start_time": "2022-08-13T10:38:21.850Z"
   },
   {
    "duration": 12,
    "start_time": "2022-08-13T10:38:44.329Z"
   },
   {
    "duration": 9,
    "start_time": "2022-08-13T10:39:22.279Z"
   },
   {
    "duration": 15,
    "start_time": "2022-08-13T10:39:26.811Z"
   },
   {
    "duration": 10,
    "start_time": "2022-08-13T10:39:28.940Z"
   },
   {
    "duration": 376,
    "start_time": "2022-08-13T10:39:45.212Z"
   },
   {
    "duration": 83,
    "start_time": "2022-08-13T10:39:45.590Z"
   },
   {
    "duration": 48,
    "start_time": "2022-08-13T10:39:45.675Z"
   },
   {
    "duration": 17,
    "start_time": "2022-08-13T10:39:45.724Z"
   },
   {
    "duration": 17,
    "start_time": "2022-08-13T10:39:45.744Z"
   },
   {
    "duration": 17,
    "start_time": "2022-08-13T10:39:45.763Z"
   },
   {
    "duration": 15,
    "start_time": "2022-08-13T10:39:45.781Z"
   },
   {
    "duration": 12,
    "start_time": "2022-08-13T10:39:45.798Z"
   },
   {
    "duration": 15,
    "start_time": "2022-08-13T10:39:45.812Z"
   },
   {
    "duration": 8,
    "start_time": "2022-08-13T10:39:45.828Z"
   },
   {
    "duration": 20,
    "start_time": "2022-08-13T10:39:45.837Z"
   },
   {
    "duration": 22,
    "start_time": "2022-08-13T10:39:45.858Z"
   },
   {
    "duration": 9,
    "start_time": "2022-08-13T10:39:45.881Z"
   },
   {
    "duration": 10,
    "start_time": "2022-08-13T10:40:37.880Z"
   },
   {
    "duration": 18,
    "start_time": "2022-08-13T10:40:50.414Z"
   },
   {
    "duration": 10,
    "start_time": "2022-08-13T10:41:00.134Z"
   },
   {
    "duration": 64,
    "start_time": "2022-08-13T10:42:03.562Z"
   },
   {
    "duration": 10,
    "start_time": "2022-08-13T10:42:09.179Z"
   },
   {
    "duration": 12,
    "start_time": "2022-08-13T10:42:28.867Z"
   },
   {
    "duration": 13,
    "start_time": "2022-08-13T10:42:38.375Z"
   },
   {
    "duration": 11,
    "start_time": "2022-08-13T10:42:50.769Z"
   },
   {
    "duration": 345,
    "start_time": "2022-08-13T10:42:58.130Z"
   },
   {
    "duration": 79,
    "start_time": "2022-08-13T10:42:58.476Z"
   },
   {
    "duration": 40,
    "start_time": "2022-08-13T10:42:58.556Z"
   },
   {
    "duration": 17,
    "start_time": "2022-08-13T10:42:58.597Z"
   },
   {
    "duration": 18,
    "start_time": "2022-08-13T10:42:58.616Z"
   },
   {
    "duration": 19,
    "start_time": "2022-08-13T10:42:58.636Z"
   },
   {
    "duration": 50,
    "start_time": "2022-08-13T10:42:58.657Z"
   },
   {
    "duration": 13,
    "start_time": "2022-08-13T10:42:58.708Z"
   },
   {
    "duration": 4,
    "start_time": "2022-08-13T10:42:58.722Z"
   },
   {
    "duration": 5,
    "start_time": "2022-08-13T10:42:58.728Z"
   },
   {
    "duration": 20,
    "start_time": "2022-08-13T10:42:58.735Z"
   },
   {
    "duration": 17,
    "start_time": "2022-08-13T10:42:58.756Z"
   },
   {
    "duration": 5,
    "start_time": "2022-08-13T10:42:58.798Z"
   },
   {
    "duration": 8,
    "start_time": "2022-08-13T10:43:41.149Z"
   },
   {
    "duration": 7,
    "start_time": "2022-08-13T10:43:49.583Z"
   },
   {
    "duration": 2,
    "start_time": "2022-08-13T10:44:00.168Z"
   },
   {
    "duration": 94,
    "start_time": "2022-08-13T10:44:00.172Z"
   },
   {
    "duration": 39,
    "start_time": "2022-08-13T10:44:00.267Z"
   },
   {
    "duration": 15,
    "start_time": "2022-08-13T10:44:00.307Z"
   },
   {
    "duration": 22,
    "start_time": "2022-08-13T10:44:00.324Z"
   },
   {
    "duration": 15,
    "start_time": "2022-08-13T10:44:00.348Z"
   },
   {
    "duration": 25,
    "start_time": "2022-08-13T10:44:00.364Z"
   },
   {
    "duration": 10,
    "start_time": "2022-08-13T10:44:00.391Z"
   },
   {
    "duration": 9,
    "start_time": "2022-08-13T10:44:00.402Z"
   },
   {
    "duration": 15,
    "start_time": "2022-08-13T10:44:00.412Z"
   },
   {
    "duration": 33,
    "start_time": "2022-08-13T10:44:00.428Z"
   },
   {
    "duration": 20,
    "start_time": "2022-08-13T10:44:00.462Z"
   },
   {
    "duration": 5,
    "start_time": "2022-08-13T10:44:00.483Z"
   },
   {
    "duration": 8,
    "start_time": "2022-08-13T10:45:31.269Z"
   },
   {
    "duration": 6,
    "start_time": "2022-08-13T10:46:06.429Z"
   },
   {
    "duration": 3,
    "start_time": "2022-08-13T10:50:16.818Z"
   },
   {
    "duration": 72,
    "start_time": "2022-08-13T10:52:11.198Z"
   },
   {
    "duration": 15,
    "start_time": "2022-08-13T10:52:16.484Z"
   },
   {
    "duration": 17,
    "start_time": "2022-08-13T10:52:58.496Z"
   },
   {
    "duration": 48,
    "start_time": "2022-08-13T10:55:00.068Z"
   },
   {
    "duration": 43,
    "start_time": "2022-08-13T10:55:40.703Z"
   },
   {
    "duration": 42,
    "start_time": "2022-08-13T10:57:28.727Z"
   },
   {
    "duration": 81,
    "start_time": "2022-08-13T10:57:52.222Z"
   },
   {
    "duration": 15,
    "start_time": "2022-08-13T10:57:57.826Z"
   },
   {
    "duration": 16,
    "start_time": "2022-08-13T10:58:07.458Z"
   },
   {
    "duration": 6,
    "start_time": "2022-08-13T11:03:17.512Z"
   },
   {
    "duration": 1046,
    "start_time": "2022-08-13T11:03:28.312Z"
   },
   {
    "duration": 67,
    "start_time": "2022-08-13T11:04:01.286Z"
   },
   {
    "duration": 1098,
    "start_time": "2022-08-13T11:04:07.585Z"
   },
   {
    "duration": 7,
    "start_time": "2022-08-13T11:04:33.025Z"
   },
   {
    "duration": 16,
    "start_time": "2022-08-13T11:05:01.849Z"
   },
   {
    "duration": 14,
    "start_time": "2022-08-13T11:05:49.251Z"
   },
   {
    "duration": 28,
    "start_time": "2022-08-13T11:05:58.337Z"
   },
   {
    "duration": 20,
    "start_time": "2022-08-13T11:06:14.809Z"
   },
   {
    "duration": 7,
    "start_time": "2022-08-13T11:08:25.817Z"
   },
   {
    "duration": 33,
    "start_time": "2022-08-13T11:08:29.634Z"
   },
   {
    "duration": 32,
    "start_time": "2022-08-13T11:08:41.780Z"
   },
   {
    "duration": 53,
    "start_time": "2022-08-13T11:09:11.390Z"
   },
   {
    "duration": 955,
    "start_time": "2022-08-13T14:58:15.957Z"
   },
   {
    "duration": 910,
    "start_time": "2022-08-13T14:58:30.568Z"
   },
   {
    "duration": 7,
    "start_time": "2022-08-13T14:58:43.788Z"
   },
   {
    "duration": 6,
    "start_time": "2022-08-13T14:59:56.289Z"
   },
   {
    "duration": 369,
    "start_time": "2022-08-13T15:00:09.380Z"
   },
   {
    "duration": 88,
    "start_time": "2022-08-13T15:00:09.750Z"
   },
   {
    "duration": 40,
    "start_time": "2022-08-13T15:00:09.840Z"
   },
   {
    "duration": 16,
    "start_time": "2022-08-13T15:00:09.882Z"
   },
   {
    "duration": 21,
    "start_time": "2022-08-13T15:00:09.899Z"
   },
   {
    "duration": 20,
    "start_time": "2022-08-13T15:00:09.922Z"
   },
   {
    "duration": 21,
    "start_time": "2022-08-13T15:00:09.943Z"
   },
   {
    "duration": 8,
    "start_time": "2022-08-13T15:00:09.966Z"
   },
   {
    "duration": 34,
    "start_time": "2022-08-13T15:00:09.976Z"
   },
   {
    "duration": 11,
    "start_time": "2022-08-13T15:00:10.013Z"
   },
   {
    "duration": 21,
    "start_time": "2022-08-13T15:00:10.026Z"
   },
   {
    "duration": 17,
    "start_time": "2022-08-13T15:00:10.049Z"
   },
   {
    "duration": 5,
    "start_time": "2022-08-13T15:00:10.067Z"
   },
   {
    "duration": 11,
    "start_time": "2022-08-13T15:00:10.073Z"
   },
   {
    "duration": 60,
    "start_time": "2022-08-13T15:00:10.086Z"
   },
   {
    "duration": 86,
    "start_time": "2022-08-13T15:00:10.148Z"
   },
   {
    "duration": 3,
    "start_time": "2022-08-13T15:00:46.999Z"
   },
   {
    "duration": 10,
    "start_time": "2022-08-13T15:33:40.373Z"
   },
   {
    "duration": 12,
    "start_time": "2022-08-13T15:34:15.706Z"
   },
   {
    "duration": 50,
    "start_time": "2022-08-13T15:34:32.553Z"
   },
   {
    "duration": 20,
    "start_time": "2022-08-13T15:34:41.849Z"
   },
   {
    "duration": 40,
    "start_time": "2022-08-13T15:34:56.187Z"
   },
   {
    "duration": 35,
    "start_time": "2022-08-13T15:35:23.087Z"
   },
   {
    "duration": 23,
    "start_time": "2022-08-13T15:35:46.953Z"
   },
   {
    "duration": 37,
    "start_time": "2022-08-13T15:36:05.682Z"
   },
   {
    "duration": 706,
    "start_time": "2022-08-13T15:39:28.273Z"
   },
   {
    "duration": 5,
    "start_time": "2022-08-13T15:39:38.719Z"
   },
   {
    "duration": 9,
    "start_time": "2022-08-13T15:39:50.062Z"
   },
   {
    "duration": 7,
    "start_time": "2022-08-13T15:40:08.566Z"
   },
   {
    "duration": 7,
    "start_time": "2022-08-13T15:40:16.153Z"
   },
   {
    "duration": 10,
    "start_time": "2022-08-13T15:40:33.404Z"
   },
   {
    "duration": 8,
    "start_time": "2022-08-13T15:41:08.117Z"
   },
   {
    "duration": 394,
    "start_time": "2022-08-14T04:46:16.274Z"
   },
   {
    "duration": 200,
    "start_time": "2022-08-14T04:46:16.670Z"
   },
   {
    "duration": 78,
    "start_time": "2022-08-14T04:46:16.871Z"
   },
   {
    "duration": 16,
    "start_time": "2022-08-14T04:46:16.951Z"
   },
   {
    "duration": 18,
    "start_time": "2022-08-14T04:46:16.969Z"
   },
   {
    "duration": 22,
    "start_time": "2022-08-14T04:46:16.989Z"
   },
   {
    "duration": 16,
    "start_time": "2022-08-14T04:46:17.012Z"
   },
   {
    "duration": 8,
    "start_time": "2022-08-14T04:46:17.029Z"
   },
   {
    "duration": 8,
    "start_time": "2022-08-14T04:46:17.038Z"
   },
   {
    "duration": 8,
    "start_time": "2022-08-14T04:46:17.048Z"
   },
   {
    "duration": 19,
    "start_time": "2022-08-14T04:46:17.057Z"
   },
   {
    "duration": 28,
    "start_time": "2022-08-14T04:46:17.077Z"
   },
   {
    "duration": 5,
    "start_time": "2022-08-14T04:46:17.106Z"
   },
   {
    "duration": 10,
    "start_time": "2022-08-14T04:46:17.113Z"
   },
   {
    "duration": 59,
    "start_time": "2022-08-14T04:46:17.124Z"
   },
   {
    "duration": 16,
    "start_time": "2022-08-14T04:46:17.185Z"
   },
   {
    "duration": 63,
    "start_time": "2022-08-14T04:46:17.202Z"
   },
   {
    "duration": 6,
    "start_time": "2022-08-14T04:46:17.267Z"
   },
   {
    "duration": 76,
    "start_time": "2022-08-14T04:46:17.274Z"
   },
   {
    "duration": 55,
    "start_time": "2022-08-14T04:46:38.280Z"
   },
   {
    "duration": 12,
    "start_time": "2022-08-14T04:46:42.805Z"
   },
   {
    "duration": 12,
    "start_time": "2022-08-14T04:46:50.114Z"
   },
   {
    "duration": 11,
    "start_time": "2022-08-14T04:47:17.538Z"
   },
   {
    "duration": 12,
    "start_time": "2022-08-14T04:47:22.679Z"
   },
   {
    "duration": 6,
    "start_time": "2022-08-14T04:47:58.094Z"
   },
   {
    "duration": 17,
    "start_time": "2022-08-14T04:48:25.214Z"
   },
   {
    "duration": 7,
    "start_time": "2022-08-14T04:50:59.118Z"
   },
   {
    "duration": 5,
    "start_time": "2022-08-14T04:51:41.798Z"
   },
   {
    "duration": 4,
    "start_time": "2022-08-14T04:51:52.768Z"
   },
   {
    "duration": 384,
    "start_time": "2022-08-14T04:52:11.692Z"
   },
   {
    "duration": 84,
    "start_time": "2022-08-14T04:52:12.078Z"
   },
   {
    "duration": 40,
    "start_time": "2022-08-14T04:52:12.163Z"
   },
   {
    "duration": 17,
    "start_time": "2022-08-14T04:52:12.204Z"
   },
   {
    "duration": 19,
    "start_time": "2022-08-14T04:52:12.223Z"
   },
   {
    "duration": 20,
    "start_time": "2022-08-14T04:52:12.244Z"
   },
   {
    "duration": 34,
    "start_time": "2022-08-14T04:52:12.266Z"
   },
   {
    "duration": 9,
    "start_time": "2022-08-14T04:52:12.301Z"
   },
   {
    "duration": 4,
    "start_time": "2022-08-14T04:52:12.312Z"
   },
   {
    "duration": 6,
    "start_time": "2022-08-14T04:52:12.317Z"
   },
   {
    "duration": 20,
    "start_time": "2022-08-14T04:52:12.324Z"
   },
   {
    "duration": 18,
    "start_time": "2022-08-14T04:52:12.345Z"
   },
   {
    "duration": 36,
    "start_time": "2022-08-14T04:52:12.364Z"
   },
   {
    "duration": 6,
    "start_time": "2022-08-14T04:52:12.402Z"
   },
   {
    "duration": 54,
    "start_time": "2022-08-14T04:52:12.410Z"
   },
   {
    "duration": 3,
    "start_time": "2022-08-14T04:52:12.466Z"
   },
   {
    "duration": 88,
    "start_time": "2022-08-14T04:52:12.471Z"
   },
   {
    "duration": 8,
    "start_time": "2022-08-14T04:52:12.560Z"
   },
   {
    "duration": 8,
    "start_time": "2022-08-14T04:52:12.569Z"
   },
   {
    "duration": 5,
    "start_time": "2022-08-14T04:52:27.246Z"
   },
   {
    "duration": 60,
    "start_time": "2022-08-14T04:55:23.202Z"
   },
   {
    "duration": 8,
    "start_time": "2022-08-14T04:55:41.211Z"
   },
   {
    "duration": 7,
    "start_time": "2022-08-14T04:55:50.171Z"
   },
   {
    "duration": 7,
    "start_time": "2022-08-14T04:56:03.858Z"
   },
   {
    "duration": 6,
    "start_time": "2022-08-14T04:56:27.899Z"
   },
   {
    "duration": 26,
    "start_time": "2022-08-14T04:56:51.167Z"
   },
   {
    "duration": 19,
    "start_time": "2022-08-14T04:57:34.907Z"
   },
   {
    "duration": 7,
    "start_time": "2022-08-14T05:18:35.267Z"
   },
   {
    "duration": 8,
    "start_time": "2022-08-14T05:19:05.954Z"
   },
   {
    "duration": 9,
    "start_time": "2022-08-14T05:19:13.754Z"
   },
   {
    "duration": 727,
    "start_time": "2022-08-14T05:19:50.026Z"
   },
   {
    "duration": 13,
    "start_time": "2022-08-14T05:20:12.402Z"
   },
   {
    "duration": 625,
    "start_time": "2022-08-14T05:20:36.158Z"
   },
   {
    "duration": 13,
    "start_time": "2022-08-14T05:20:43.802Z"
   },
   {
    "duration": 11,
    "start_time": "2022-08-14T05:21:43.374Z"
   },
   {
    "duration": 872,
    "start_time": "2022-08-14T05:21:50.046Z"
   },
   {
    "duration": 11,
    "start_time": "2022-08-14T05:21:59.274Z"
   },
   {
    "duration": 11,
    "start_time": "2022-08-14T05:22:02.918Z"
   },
   {
    "duration": 11,
    "start_time": "2022-08-14T05:22:49.390Z"
   },
   {
    "duration": 8,
    "start_time": "2022-08-14T05:23:13.954Z"
   },
   {
    "duration": 12,
    "start_time": "2022-08-14T05:23:22.670Z"
   },
   {
    "duration": 12,
    "start_time": "2022-08-14T05:23:36.075Z"
   },
   {
    "duration": 12,
    "start_time": "2022-08-14T05:23:45.505Z"
   },
   {
    "duration": 12,
    "start_time": "2022-08-14T05:24:22.822Z"
   },
   {
    "duration": 378,
    "start_time": "2022-08-14T05:24:31.708Z"
   },
   {
    "duration": 80,
    "start_time": "2022-08-14T05:24:32.087Z"
   },
   {
    "duration": 40,
    "start_time": "2022-08-14T05:24:32.168Z"
   },
   {
    "duration": 19,
    "start_time": "2022-08-14T05:24:32.209Z"
   },
   {
    "duration": 23,
    "start_time": "2022-08-14T05:24:32.230Z"
   },
   {
    "duration": 21,
    "start_time": "2022-08-14T05:24:32.254Z"
   },
   {
    "duration": 33,
    "start_time": "2022-08-14T05:24:32.276Z"
   },
   {
    "duration": 12,
    "start_time": "2022-08-14T05:24:32.311Z"
   },
   {
    "duration": 4,
    "start_time": "2022-08-14T05:24:32.325Z"
   },
   {
    "duration": 11,
    "start_time": "2022-08-14T05:24:32.331Z"
   },
   {
    "duration": 24,
    "start_time": "2022-08-14T05:24:32.343Z"
   },
   {
    "duration": 38,
    "start_time": "2022-08-14T05:24:32.369Z"
   },
   {
    "duration": 6,
    "start_time": "2022-08-14T05:24:32.409Z"
   },
   {
    "duration": 7,
    "start_time": "2022-08-14T05:24:32.417Z"
   },
   {
    "duration": 76,
    "start_time": "2022-08-14T05:24:32.425Z"
   },
   {
    "duration": 62,
    "start_time": "2022-08-14T05:24:32.503Z"
   },
   {
    "duration": 0,
    "start_time": "2022-08-14T05:24:32.566Z"
   },
   {
    "duration": 0,
    "start_time": "2022-08-14T05:24:32.567Z"
   },
   {
    "duration": 0,
    "start_time": "2022-08-14T05:24:32.568Z"
   },
   {
    "duration": 1,
    "start_time": "2022-08-14T05:24:32.569Z"
   },
   {
    "duration": 11,
    "start_time": "2022-08-14T05:25:35.019Z"
   },
   {
    "duration": 11,
    "start_time": "2022-08-14T05:25:53.375Z"
   },
   {
    "duration": 11,
    "start_time": "2022-08-14T05:26:03.528Z"
   },
   {
    "duration": 10,
    "start_time": "2022-08-14T05:26:51.467Z"
   },
   {
    "duration": 158,
    "start_time": "2022-08-14T05:27:00.195Z"
   },
   {
    "duration": 130,
    "start_time": "2022-08-14T05:27:15.159Z"
   },
   {
    "duration": 136,
    "start_time": "2022-08-14T05:27:28.915Z"
   },
   {
    "duration": 126,
    "start_time": "2022-08-14T05:27:39.380Z"
   },
   {
    "duration": 111,
    "start_time": "2022-08-14T05:28:18.640Z"
   },
   {
    "duration": 121,
    "start_time": "2022-08-14T05:28:36.280Z"
   },
   {
    "duration": 135,
    "start_time": "2022-08-14T05:28:53.087Z"
   },
   {
    "duration": 4,
    "start_time": "2022-08-14T05:29:05.608Z"
   },
   {
    "duration": 26,
    "start_time": "2022-08-14T05:29:07.507Z"
   },
   {
    "duration": 8,
    "start_time": "2022-08-14T05:29:10.139Z"
   },
   {
    "duration": 23,
    "start_time": "2022-08-14T05:29:12.975Z"
   },
   {
    "duration": 56,
    "start_time": "2022-08-14T05:30:21.863Z"
   },
   {
    "duration": 57,
    "start_time": "2022-08-14T05:30:29.681Z"
   },
   {
    "duration": 17,
    "start_time": "2022-08-14T05:30:40.199Z"
   },
   {
    "duration": 18,
    "start_time": "2022-08-14T05:30:47.691Z"
   },
   {
    "duration": 18,
    "start_time": "2022-08-14T05:31:02.521Z"
   },
   {
    "duration": 12,
    "start_time": "2022-08-14T05:33:11.048Z"
   },
   {
    "duration": 13,
    "start_time": "2022-08-14T05:33:19.115Z"
   },
   {
    "duration": 18,
    "start_time": "2022-08-14T05:33:27.296Z"
   },
   {
    "duration": 15,
    "start_time": "2022-08-14T05:33:39.603Z"
   },
   {
    "duration": 13,
    "start_time": "2022-08-14T05:34:05.088Z"
   },
   {
    "duration": 17,
    "start_time": "2022-08-14T05:34:12.768Z"
   },
   {
    "duration": 17,
    "start_time": "2022-08-14T05:34:38.381Z"
   },
   {
    "duration": 17,
    "start_time": "2022-08-14T05:35:17.991Z"
   },
   {
    "duration": 17,
    "start_time": "2022-08-14T05:35:37.141Z"
   },
   {
    "duration": 19,
    "start_time": "2022-08-14T05:36:12.368Z"
   },
   {
    "duration": 17,
    "start_time": "2022-08-14T05:36:32.949Z"
   },
   {
    "duration": 1330,
    "start_time": "2022-08-14T05:37:29.296Z"
   },
   {
    "duration": 777,
    "start_time": "2022-08-14T05:37:50.528Z"
   },
   {
    "duration": 58,
    "start_time": "2022-08-14T05:38:39.357Z"
   },
   {
    "duration": 6,
    "start_time": "2022-08-14T05:38:54.816Z"
   },
   {
    "duration": 21,
    "start_time": "2022-08-14T05:39:06.004Z"
   },
   {
    "duration": 21,
    "start_time": "2022-08-14T05:39:25.210Z"
   },
   {
    "duration": 18,
    "start_time": "2022-08-14T05:39:50.505Z"
   },
   {
    "duration": 3,
    "start_time": "2022-08-14T05:40:12.010Z"
   },
   {
    "duration": 9,
    "start_time": "2022-08-14T05:40:20.460Z"
   },
   {
    "duration": 9,
    "start_time": "2022-08-14T05:40:28.124Z"
   },
   {
    "duration": 12,
    "start_time": "2022-08-14T05:41:12.673Z"
   },
   {
    "duration": 18,
    "start_time": "2022-08-14T05:41:18.701Z"
   },
   {
    "duration": 350,
    "start_time": "2022-08-14T05:41:37.132Z"
   },
   {
    "duration": 82,
    "start_time": "2022-08-14T05:41:37.484Z"
   },
   {
    "duration": 39,
    "start_time": "2022-08-14T05:41:37.567Z"
   },
   {
    "duration": 17,
    "start_time": "2022-08-14T05:41:37.608Z"
   },
   {
    "duration": 20,
    "start_time": "2022-08-14T05:41:37.627Z"
   },
   {
    "duration": 21,
    "start_time": "2022-08-14T05:41:37.648Z"
   },
   {
    "duration": 35,
    "start_time": "2022-08-14T05:41:37.671Z"
   },
   {
    "duration": 9,
    "start_time": "2022-08-14T05:41:37.707Z"
   },
   {
    "duration": 6,
    "start_time": "2022-08-14T05:41:37.718Z"
   },
   {
    "duration": 9,
    "start_time": "2022-08-14T05:41:37.726Z"
   },
   {
    "duration": 40,
    "start_time": "2022-08-14T05:41:37.736Z"
   },
   {
    "duration": 19,
    "start_time": "2022-08-14T05:41:37.777Z"
   },
   {
    "duration": 6,
    "start_time": "2022-08-14T05:41:37.797Z"
   },
   {
    "duration": 8,
    "start_time": "2022-08-14T05:41:37.804Z"
   },
   {
    "duration": 59,
    "start_time": "2022-08-14T05:41:37.814Z"
   },
   {
    "duration": 190,
    "start_time": "2022-08-14T05:41:37.875Z"
   },
   {
    "duration": 4,
    "start_time": "2022-08-14T05:41:38.066Z"
   },
   {
    "duration": 38,
    "start_time": "2022-08-14T05:41:38.071Z"
   },
   {
    "duration": 6,
    "start_time": "2022-08-14T05:41:38.111Z"
   },
   {
    "duration": 20,
    "start_time": "2022-08-14T05:41:38.119Z"
   },
   {
    "duration": 17,
    "start_time": "2022-08-14T05:41:38.140Z"
   },
   {
    "duration": 330,
    "start_time": "2022-08-14T05:42:25.253Z"
   },
   {
    "duration": 80,
    "start_time": "2022-08-14T05:42:25.585Z"
   },
   {
    "duration": 42,
    "start_time": "2022-08-14T05:42:25.666Z"
   },
   {
    "duration": 19,
    "start_time": "2022-08-14T05:42:25.710Z"
   },
   {
    "duration": 21,
    "start_time": "2022-08-14T05:42:25.730Z"
   },
   {
    "duration": 21,
    "start_time": "2022-08-14T05:42:25.752Z"
   },
   {
    "duration": 33,
    "start_time": "2022-08-14T05:42:25.774Z"
   },
   {
    "duration": 11,
    "start_time": "2022-08-14T05:42:25.809Z"
   },
   {
    "duration": 4,
    "start_time": "2022-08-14T05:42:25.822Z"
   },
   {
    "duration": 11,
    "start_time": "2022-08-14T05:42:25.829Z"
   },
   {
    "duration": 30,
    "start_time": "2022-08-14T05:42:25.841Z"
   },
   {
    "duration": 33,
    "start_time": "2022-08-14T05:42:25.873Z"
   },
   {
    "duration": 5,
    "start_time": "2022-08-14T05:42:25.908Z"
   },
   {
    "duration": 8,
    "start_time": "2022-08-14T05:42:25.915Z"
   },
   {
    "duration": 56,
    "start_time": "2022-08-14T05:42:25.924Z"
   },
   {
    "duration": 2,
    "start_time": "2022-08-14T05:42:26.000Z"
   },
   {
    "duration": 12,
    "start_time": "2022-08-14T05:42:26.004Z"
   },
   {
    "duration": 67,
    "start_time": "2022-08-14T05:42:26.018Z"
   },
   {
    "duration": 13,
    "start_time": "2022-08-14T05:42:26.087Z"
   },
   {
    "duration": 3,
    "start_time": "2022-08-14T05:42:26.101Z"
   },
   {
    "duration": 25,
    "start_time": "2022-08-14T05:42:26.105Z"
   },
   {
    "duration": 17,
    "start_time": "2022-08-14T05:42:53.481Z"
   },
   {
    "duration": 17,
    "start_time": "2022-08-14T05:43:22.937Z"
   },
   {
    "duration": 17,
    "start_time": "2022-08-14T05:43:28.809Z"
   },
   {
    "duration": 16,
    "start_time": "2022-08-14T05:43:36.200Z"
   },
   {
    "duration": 70,
    "start_time": "2022-08-14T05:44:56.194Z"
   },
   {
    "duration": 21,
    "start_time": "2022-08-14T05:45:02.450Z"
   },
   {
    "duration": 132,
    "start_time": "2022-08-14T05:45:58.874Z"
   },
   {
    "duration": 119,
    "start_time": "2022-08-14T05:46:19.546Z"
   },
   {
    "duration": 7,
    "start_time": "2022-08-14T05:47:11.774Z"
   },
   {
    "duration": 8,
    "start_time": "2022-08-14T05:47:23.158Z"
   },
   {
    "duration": 125,
    "start_time": "2022-08-14T05:47:33.289Z"
   },
   {
    "duration": 12,
    "start_time": "2022-08-14T05:50:13.658Z"
   },
   {
    "duration": 19,
    "start_time": "2022-08-14T05:50:23.714Z"
   },
   {
    "duration": 18,
    "start_time": "2022-08-14T05:51:24.730Z"
   },
   {
    "duration": 10,
    "start_time": "2022-08-14T05:51:26.970Z"
   },
   {
    "duration": 4,
    "start_time": "2022-08-14T05:51:27.462Z"
   },
   {
    "duration": 4,
    "start_time": "2022-08-14T05:51:27.670Z"
   },
   {
    "duration": 19,
    "start_time": "2022-08-14T05:51:27.758Z"
   },
   {
    "duration": 23,
    "start_time": "2022-08-14T05:51:28.266Z"
   },
   {
    "duration": 6,
    "start_time": "2022-08-14T05:51:29.670Z"
   },
   {
    "duration": 6,
    "start_time": "2022-08-14T05:51:30.098Z"
   },
   {
    "duration": 48,
    "start_time": "2022-08-14T05:51:31.990Z"
   },
   {
    "duration": 127,
    "start_time": "2022-08-14T05:51:32.114Z"
   },
   {
    "duration": 5,
    "start_time": "2022-08-14T05:51:33.947Z"
   },
   {
    "duration": 26,
    "start_time": "2022-08-14T05:51:35.635Z"
   },
   {
    "duration": 6,
    "start_time": "2022-08-14T05:51:37.781Z"
   },
   {
    "duration": 19,
    "start_time": "2022-08-14T05:51:42.019Z"
   },
   {
    "duration": 23,
    "start_time": "2022-08-14T05:51:46.443Z"
   },
   {
    "duration": 21,
    "start_time": "2022-08-14T05:52:21.719Z"
   },
   {
    "duration": 392,
    "start_time": "2022-08-14T05:53:40.023Z"
   },
   {
    "duration": 88,
    "start_time": "2022-08-14T05:53:40.417Z"
   },
   {
    "duration": 41,
    "start_time": "2022-08-14T05:53:40.507Z"
   },
   {
    "duration": 22,
    "start_time": "2022-08-14T05:53:40.551Z"
   },
   {
    "duration": 27,
    "start_time": "2022-08-14T05:53:40.574Z"
   },
   {
    "duration": 33,
    "start_time": "2022-08-14T05:53:40.603Z"
   },
   {
    "duration": 91,
    "start_time": "2022-08-14T05:53:40.638Z"
   },
   {
    "duration": 1,
    "start_time": "2022-08-14T05:53:40.730Z"
   },
   {
    "duration": 0,
    "start_time": "2022-08-14T05:53:40.732Z"
   },
   {
    "duration": 0,
    "start_time": "2022-08-14T05:53:40.733Z"
   },
   {
    "duration": 0,
    "start_time": "2022-08-14T05:53:40.734Z"
   },
   {
    "duration": 0,
    "start_time": "2022-08-14T05:53:40.735Z"
   },
   {
    "duration": 0,
    "start_time": "2022-08-14T05:53:40.736Z"
   },
   {
    "duration": 0,
    "start_time": "2022-08-14T05:53:40.737Z"
   },
   {
    "duration": 0,
    "start_time": "2022-08-14T05:53:40.738Z"
   },
   {
    "duration": 0,
    "start_time": "2022-08-14T05:53:40.739Z"
   },
   {
    "duration": 0,
    "start_time": "2022-08-14T05:53:40.740Z"
   },
   {
    "duration": 0,
    "start_time": "2022-08-14T05:53:40.742Z"
   },
   {
    "duration": 0,
    "start_time": "2022-08-14T05:53:40.743Z"
   },
   {
    "duration": 0,
    "start_time": "2022-08-14T05:53:40.744Z"
   },
   {
    "duration": 0,
    "start_time": "2022-08-14T05:53:40.745Z"
   },
   {
    "duration": 24,
    "start_time": "2022-08-14T05:54:00.594Z"
   },
   {
    "duration": 22,
    "start_time": "2022-08-14T05:54:01.794Z"
   },
   {
    "duration": 5,
    "start_time": "2022-08-14T05:54:02.794Z"
   },
   {
    "duration": 6,
    "start_time": "2022-08-14T05:54:03.222Z"
   },
   {
    "duration": 22,
    "start_time": "2022-08-14T05:54:03.570Z"
   },
   {
    "duration": 20,
    "start_time": "2022-08-14T05:54:04.154Z"
   },
   {
    "duration": 6,
    "start_time": "2022-08-14T05:54:04.990Z"
   },
   {
    "duration": 6,
    "start_time": "2022-08-14T05:54:05.274Z"
   },
   {
    "duration": 56,
    "start_time": "2022-08-14T05:54:06.122Z"
   },
   {
    "duration": 161,
    "start_time": "2022-08-14T05:54:06.622Z"
   },
   {
    "duration": 4,
    "start_time": "2022-08-14T05:54:08.434Z"
   },
   {
    "duration": 26,
    "start_time": "2022-08-14T05:54:09.254Z"
   },
   {
    "duration": 10,
    "start_time": "2022-08-14T05:54:10.217Z"
   },
   {
    "duration": 26,
    "start_time": "2022-08-14T05:54:11.262Z"
   },
   {
    "duration": 23,
    "start_time": "2022-08-14T05:54:11.976Z"
   },
   {
    "duration": 20,
    "start_time": "2022-08-14T06:02:28.791Z"
   },
   {
    "duration": 65,
    "start_time": "2022-08-14T06:03:34.183Z"
   },
   {
    "duration": 27,
    "start_time": "2022-08-14T06:03:40.819Z"
   },
   {
    "duration": 17,
    "start_time": "2022-08-14T06:04:52.059Z"
   },
   {
    "duration": 17,
    "start_time": "2022-08-14T06:05:35.619Z"
   },
   {
    "duration": 18,
    "start_time": "2022-08-14T06:05:44.774Z"
   },
   {
    "duration": 29,
    "start_time": "2022-08-14T06:06:45.994Z"
   },
   {
    "duration": 25,
    "start_time": "2022-08-14T06:06:51.000Z"
   },
   {
    "duration": 18,
    "start_time": "2022-08-14T06:07:13.131Z"
   },
   {
    "duration": 16,
    "start_time": "2022-08-14T06:07:16.851Z"
   },
   {
    "duration": 15,
    "start_time": "2022-08-14T06:07:56.219Z"
   },
   {
    "duration": 13,
    "start_time": "2022-08-14T06:08:03.111Z"
   },
   {
    "duration": 15,
    "start_time": "2022-08-14T06:08:57.071Z"
   },
   {
    "duration": 16,
    "start_time": "2022-08-14T06:10:10.139Z"
   },
   {
    "duration": 17,
    "start_time": "2022-08-14T06:10:27.495Z"
   },
   {
    "duration": 15,
    "start_time": "2022-08-14T06:10:49.971Z"
   },
   {
    "duration": 10,
    "start_time": "2022-08-14T06:13:40.428Z"
   },
   {
    "duration": 72,
    "start_time": "2022-08-14T06:14:03.276Z"
   },
   {
    "duration": 4,
    "start_time": "2022-08-14T06:14:14.681Z"
   },
   {
    "duration": 55,
    "start_time": "2022-08-14T06:14:49.744Z"
   },
   {
    "duration": 87,
    "start_time": "2022-08-14T06:14:59.836Z"
   },
   {
    "duration": 10,
    "start_time": "2022-08-14T06:15:20.733Z"
   },
   {
    "duration": 9,
    "start_time": "2022-08-14T06:15:46.442Z"
   },
   {
    "duration": 9,
    "start_time": "2022-08-14T06:16:19.976Z"
   },
   {
    "duration": 10,
    "start_time": "2022-08-14T06:16:45.240Z"
   },
   {
    "duration": 11,
    "start_time": "2022-08-14T06:16:56.500Z"
   },
   {
    "duration": 10,
    "start_time": "2022-08-14T06:17:08.216Z"
   },
   {
    "duration": 14,
    "start_time": "2022-08-14T06:17:20.640Z"
   },
   {
    "duration": 16,
    "start_time": "2022-08-14T06:17:27.508Z"
   },
   {
    "duration": 71,
    "start_time": "2022-08-14T06:17:43.064Z"
   },
   {
    "duration": 18,
    "start_time": "2022-08-14T06:17:52.162Z"
   },
   {
    "duration": 53,
    "start_time": "2022-08-14T06:18:11.311Z"
   },
   {
    "duration": 16,
    "start_time": "2022-08-14T06:18:16.311Z"
   },
   {
    "duration": 15,
    "start_time": "2022-08-14T06:18:25.801Z"
   },
   {
    "duration": 15,
    "start_time": "2022-08-14T06:18:35.708Z"
   },
   {
    "duration": 17,
    "start_time": "2022-08-14T06:18:47.051Z"
   },
   {
    "duration": 872,
    "start_time": "2022-08-14T06:26:01.301Z"
   },
   {
    "duration": 161,
    "start_time": "2022-08-14T06:28:36.873Z"
   },
   {
    "duration": 184,
    "start_time": "2022-08-14T06:29:01.121Z"
   },
   {
    "duration": 177,
    "start_time": "2022-08-14T06:29:47.182Z"
   },
   {
    "duration": 118,
    "start_time": "2022-08-14T06:30:12.597Z"
   },
   {
    "duration": 215,
    "start_time": "2022-08-14T06:31:09.225Z"
   },
   {
    "duration": 126,
    "start_time": "2022-08-14T06:31:15.949Z"
   },
   {
    "duration": 132,
    "start_time": "2022-08-14T06:31:22.889Z"
   },
   {
    "duration": 262,
    "start_time": "2022-08-14T06:32:11.700Z"
   },
   {
    "duration": 277,
    "start_time": "2022-08-14T06:32:41.666Z"
   },
   {
    "duration": 768,
    "start_time": "2022-08-14T06:36:22.367Z"
   },
   {
    "duration": 81,
    "start_time": "2022-08-14T06:37:51.803Z"
   },
   {
    "duration": 138,
    "start_time": "2022-08-14T06:37:58.567Z"
   },
   {
    "duration": 51,
    "start_time": "2022-08-14T06:39:12.611Z"
   },
   {
    "duration": 45,
    "start_time": "2022-08-14T06:39:42.029Z"
   },
   {
    "duration": 48,
    "start_time": "2022-08-14T06:39:54.727Z"
   },
   {
    "duration": 163,
    "start_time": "2022-08-14T06:40:03.509Z"
   },
   {
    "duration": 166,
    "start_time": "2022-08-14T06:40:42.203Z"
   },
   {
    "duration": 170,
    "start_time": "2022-08-14T06:41:10.324Z"
   },
   {
    "duration": 174,
    "start_time": "2022-08-14T06:41:16.040Z"
   },
   {
    "duration": 175,
    "start_time": "2022-08-14T06:42:11.759Z"
   },
   {
    "duration": 173,
    "start_time": "2022-08-14T06:42:45.360Z"
   },
   {
    "duration": 92,
    "start_time": "2022-08-14T06:43:15.232Z"
   },
   {
    "duration": 168,
    "start_time": "2022-08-14T06:43:25.756Z"
   },
   {
    "duration": 121,
    "start_time": "2022-08-14T06:43:56.858Z"
   },
   {
    "duration": 126,
    "start_time": "2022-08-14T06:44:05.628Z"
   },
   {
    "duration": 123,
    "start_time": "2022-08-14T06:45:08.188Z"
   },
   {
    "duration": 117,
    "start_time": "2022-08-14T06:45:15.860Z"
   },
   {
    "duration": 271,
    "start_time": "2022-08-14T06:45:26.608Z"
   },
   {
    "duration": 170,
    "start_time": "2022-08-14T06:45:34.456Z"
   },
   {
    "duration": 181,
    "start_time": "2022-08-14T06:45:50.084Z"
   },
   {
    "duration": 175,
    "start_time": "2022-08-14T06:45:52.348Z"
   },
   {
    "duration": 176,
    "start_time": "2022-08-14T06:46:00.736Z"
   },
   {
    "duration": 174,
    "start_time": "2022-08-14T06:46:03.672Z"
   },
   {
    "duration": 191,
    "start_time": "2022-08-14T06:47:12.252Z"
   },
   {
    "duration": 188,
    "start_time": "2022-08-14T06:47:39.576Z"
   },
   {
    "duration": 3,
    "start_time": "2022-08-14T06:48:36.107Z"
   },
   {
    "duration": 2,
    "start_time": "2022-08-14T06:48:43.794Z"
   },
   {
    "duration": 86,
    "start_time": "2022-08-14T06:48:43.798Z"
   },
   {
    "duration": 5,
    "start_time": "2022-08-14T06:48:43.886Z"
   },
   {
    "duration": 16,
    "start_time": "2022-08-14T06:48:43.893Z"
   },
   {
    "duration": 25,
    "start_time": "2022-08-14T06:48:43.911Z"
   },
   {
    "duration": 17,
    "start_time": "2022-08-14T06:48:43.940Z"
   },
   {
    "duration": 17,
    "start_time": "2022-08-14T06:48:43.959Z"
   },
   {
    "duration": 28,
    "start_time": "2022-08-14T06:48:43.977Z"
   },
   {
    "duration": 4,
    "start_time": "2022-08-14T06:48:44.007Z"
   },
   {
    "duration": 6,
    "start_time": "2022-08-14T06:48:44.012Z"
   },
   {
    "duration": 22,
    "start_time": "2022-08-14T06:48:44.019Z"
   },
   {
    "duration": 18,
    "start_time": "2022-08-14T06:48:44.042Z"
   },
   {
    "duration": 6,
    "start_time": "2022-08-14T06:48:44.061Z"
   },
   {
    "duration": 32,
    "start_time": "2022-08-14T06:48:44.068Z"
   },
   {
    "duration": 64,
    "start_time": "2022-08-14T06:48:44.102Z"
   },
   {
    "duration": 141,
    "start_time": "2022-08-14T06:48:44.167Z"
   },
   {
    "duration": 3,
    "start_time": "2022-08-14T06:48:44.310Z"
   },
   {
    "duration": 25,
    "start_time": "2022-08-14T06:48:44.315Z"
   },
   {
    "duration": 6,
    "start_time": "2022-08-14T06:48:44.341Z"
   },
   {
    "duration": 18,
    "start_time": "2022-08-14T06:48:44.348Z"
   },
   {
    "duration": 42,
    "start_time": "2022-08-14T06:48:44.368Z"
   },
   {
    "duration": 414,
    "start_time": "2022-08-14T06:48:44.412Z"
   },
   {
    "duration": 334,
    "start_time": "2022-08-14T06:50:17.052Z"
   },
   {
    "duration": 305,
    "start_time": "2022-08-14T06:51:02.184Z"
   },
   {
    "duration": 9,
    "start_time": "2022-08-14T06:51:16.517Z"
   },
   {
    "duration": 231,
    "start_time": "2022-08-14T06:51:21.753Z"
   },
   {
    "duration": 17,
    "start_time": "2022-08-14T06:51:34.307Z"
   },
   {
    "duration": 15,
    "start_time": "2022-08-14T06:51:37.572Z"
   },
   {
    "duration": 13,
    "start_time": "2022-08-14T06:53:42.717Z"
   },
   {
    "duration": 11,
    "start_time": "2022-08-14T06:54:17.779Z"
   },
   {
    "duration": 209,
    "start_time": "2022-08-14T06:55:05.696Z"
   },
   {
    "duration": 12,
    "start_time": "2022-08-14T06:55:23.786Z"
   },
   {
    "duration": 14,
    "start_time": "2022-08-14T06:55:29.461Z"
   },
   {
    "duration": 366,
    "start_time": "2022-08-14T06:55:31.996Z"
   },
   {
    "duration": 12,
    "start_time": "2022-08-14T06:55:35.638Z"
   },
   {
    "duration": 13,
    "start_time": "2022-08-14T06:56:32.265Z"
   },
   {
    "duration": 11,
    "start_time": "2022-08-14T06:56:36.486Z"
   },
   {
    "duration": 13,
    "start_time": "2022-08-14T06:56:57.605Z"
   },
   {
    "duration": 8,
    "start_time": "2022-08-14T06:58:25.138Z"
   },
   {
    "duration": 11,
    "start_time": "2022-08-14T06:58:35.366Z"
   },
   {
    "duration": 15,
    "start_time": "2022-08-14T06:58:37.861Z"
   },
   {
    "duration": 334,
    "start_time": "2022-08-14T06:58:38.445Z"
   },
   {
    "duration": 7,
    "start_time": "2022-08-14T06:58:38.780Z"
   },
   {
    "duration": 19,
    "start_time": "2022-08-14T06:59:24.917Z"
   },
   {
    "duration": 9,
    "start_time": "2022-08-14T06:59:41.025Z"
   },
   {
    "duration": 14,
    "start_time": "2022-08-14T07:00:15.731Z"
   },
   {
    "duration": 12,
    "start_time": "2022-08-14T07:01:29.546Z"
   },
   {
    "duration": 7,
    "start_time": "2022-08-14T07:01:34.005Z"
   },
   {
    "duration": 9,
    "start_time": "2022-08-14T07:01:47.158Z"
   },
   {
    "duration": 360,
    "start_time": "2022-08-14T07:01:51.530Z"
   },
   {
    "duration": 14,
    "start_time": "2022-08-14T07:01:53.675Z"
   },
   {
    "duration": 418,
    "start_time": "2022-08-14T07:01:54.826Z"
   },
   {
    "duration": 9,
    "start_time": "2022-08-14T07:01:55.246Z"
   },
   {
    "duration": 15,
    "start_time": "2022-08-14T07:02:02.160Z"
   },
   {
    "duration": 334,
    "start_time": "2022-08-14T07:02:03.315Z"
   },
   {
    "duration": 9,
    "start_time": "2022-08-14T07:02:04.365Z"
   },
   {
    "duration": 10,
    "start_time": "2022-08-14T07:02:46.834Z"
   },
   {
    "duration": 9,
    "start_time": "2022-08-14T07:03:19.846Z"
   },
   {
    "duration": 8,
    "start_time": "2022-08-14T07:03:28.382Z"
   },
   {
    "duration": 7,
    "start_time": "2022-08-14T07:03:31.705Z"
   },
   {
    "duration": 8,
    "start_time": "2022-08-14T08:06:21.542Z"
   },
   {
    "duration": 19,
    "start_time": "2022-08-14T08:06:31.484Z"
   },
   {
    "duration": 8,
    "start_time": "2022-08-14T08:06:37.221Z"
   },
   {
    "duration": 14,
    "start_time": "2022-08-14T08:06:45.874Z"
   },
   {
    "duration": 9,
    "start_time": "2022-08-14T08:07:58.977Z"
   },
   {
    "duration": 17,
    "start_time": "2022-08-14T08:08:47.734Z"
   },
   {
    "duration": 76,
    "start_time": "2022-08-14T08:09:06.589Z"
   },
   {
    "duration": 335,
    "start_time": "2022-08-14T08:09:06.683Z"
   },
   {
    "duration": 18,
    "start_time": "2022-08-14T08:09:21.074Z"
   },
   {
    "duration": 107,
    "start_time": "2022-08-14T08:09:35.994Z"
   },
   {
    "duration": 20,
    "start_time": "2022-08-14T08:10:11.526Z"
   },
   {
    "duration": 25,
    "start_time": "2022-08-14T08:10:21.538Z"
   },
   {
    "duration": 9,
    "start_time": "2022-08-14T08:10:46.230Z"
   },
   {
    "duration": 17,
    "start_time": "2022-08-14T08:10:48.690Z"
   },
   {
    "duration": 384,
    "start_time": "2022-08-14T08:10:49.470Z"
   },
   {
    "duration": 364,
    "start_time": "2022-08-14T08:11:43.150Z"
   },
   {
    "duration": 413,
    "start_time": "2022-08-14T08:12:10.013Z"
   },
   {
    "duration": 1028,
    "start_time": "2022-08-14T08:12:33.634Z"
   },
   {
    "duration": 1448,
    "start_time": "2022-08-14T08:12:43.798Z"
   },
   {
    "duration": 16,
    "start_time": "2022-08-14T08:14:21.698Z"
   },
   {
    "duration": 18,
    "start_time": "2022-08-14T08:14:31.151Z"
   },
   {
    "duration": 15,
    "start_time": "2022-08-14T08:14:41.630Z"
   },
   {
    "duration": 183,
    "start_time": "2022-08-14T08:15:07.523Z"
   },
   {
    "duration": 17,
    "start_time": "2022-08-14T08:15:14.931Z"
   },
   {
    "duration": 337,
    "start_time": "2022-08-14T08:15:25.130Z"
   },
   {
    "duration": 7,
    "start_time": "2022-08-14T08:15:39.534Z"
   },
   {
    "duration": 12,
    "start_time": "2022-08-14T08:15:50.238Z"
   },
   {
    "duration": 14,
    "start_time": "2022-08-14T08:16:36.570Z"
   },
   {
    "duration": 16,
    "start_time": "2022-08-14T08:16:47.013Z"
   },
   {
    "duration": 12,
    "start_time": "2022-08-14T08:17:15.563Z"
   },
   {
    "duration": 58,
    "start_time": "2022-08-14T08:17:38.570Z"
   },
   {
    "duration": 15,
    "start_time": "2022-08-14T08:18:16.438Z"
   },
   {
    "duration": 22,
    "start_time": "2022-08-14T08:18:51.986Z"
   },
   {
    "duration": 12,
    "start_time": "2022-08-14T08:19:02.427Z"
   },
   {
    "duration": 10,
    "start_time": "2022-08-14T08:21:23.375Z"
   },
   {
    "duration": 12,
    "start_time": "2022-08-14T08:22:03.336Z"
   },
   {
    "duration": 56,
    "start_time": "2022-08-14T08:22:35.172Z"
   },
   {
    "duration": 58,
    "start_time": "2022-08-14T08:25:20.708Z"
   },
   {
    "duration": 16,
    "start_time": "2022-08-14T08:27:54.250Z"
   },
   {
    "duration": 18,
    "start_time": "2022-08-14T08:28:01.796Z"
   },
   {
    "duration": 20,
    "start_time": "2022-08-14T08:28:25.510Z"
   },
   {
    "duration": 21,
    "start_time": "2022-08-14T08:28:42.960Z"
   },
   {
    "duration": 141,
    "start_time": "2022-08-14T08:29:05.401Z"
   },
   {
    "duration": 142,
    "start_time": "2022-08-14T08:29:20.360Z"
   },
   {
    "duration": 193,
    "start_time": "2022-08-14T08:30:01.790Z"
   },
   {
    "duration": 195,
    "start_time": "2022-08-14T08:31:48.939Z"
   },
   {
    "duration": 293,
    "start_time": "2022-08-14T08:32:40.317Z"
   },
   {
    "duration": 13,
    "start_time": "2022-08-14T08:35:39.500Z"
   },
   {
    "duration": 36,
    "start_time": "2022-08-14T08:36:30.757Z"
   },
   {
    "duration": 11,
    "start_time": "2022-08-14T08:36:37.396Z"
   },
   {
    "duration": 10,
    "start_time": "2022-08-14T08:37:27.457Z"
   },
   {
    "duration": 11,
    "start_time": "2022-08-14T08:37:43.625Z"
   },
   {
    "duration": 12,
    "start_time": "2022-08-14T08:38:39.418Z"
   },
   {
    "duration": 287,
    "start_time": "2022-08-14T08:39:19.013Z"
   },
   {
    "duration": 355,
    "start_time": "2022-08-14T08:40:13.934Z"
   },
   {
    "duration": 11,
    "start_time": "2022-08-14T08:41:09.481Z"
   },
   {
    "duration": 12,
    "start_time": "2022-08-14T08:41:20.178Z"
   },
   {
    "duration": 14,
    "start_time": "2022-08-14T08:41:27.045Z"
   },
   {
    "duration": 140,
    "start_time": "2022-08-14T08:41:34.781Z"
   },
   {
    "duration": 297,
    "start_time": "2022-08-14T08:41:49.554Z"
   },
   {
    "duration": 23,
    "start_time": "2022-08-14T08:43:28.226Z"
   },
   {
    "duration": 3,
    "start_time": "2022-08-14T08:43:35.770Z"
   },
   {
    "duration": 21,
    "start_time": "2022-08-14T08:43:40.322Z"
   },
   {
    "duration": 524,
    "start_time": "2022-08-14T08:44:08.777Z"
   },
   {
    "duration": 285,
    "start_time": "2022-08-14T08:44:29.457Z"
   },
   {
    "duration": 50,
    "start_time": "2022-08-14T08:46:44.878Z"
   },
   {
    "duration": 497,
    "start_time": "2022-08-14T08:46:49.074Z"
   },
   {
    "duration": 19,
    "start_time": "2022-08-14T08:47:03.970Z"
   },
   {
    "duration": 524,
    "start_time": "2022-08-14T08:47:37.055Z"
   },
   {
    "duration": 620,
    "start_time": "2022-08-14T08:48:53.167Z"
   },
   {
    "duration": 642,
    "start_time": "2022-08-14T08:49:23.011Z"
   },
   {
    "duration": 652,
    "start_time": "2022-08-14T08:51:40.659Z"
   },
   {
    "duration": 254,
    "start_time": "2022-08-14T08:52:20.403Z"
   },
   {
    "duration": 601,
    "start_time": "2022-08-14T08:52:27.915Z"
   },
   {
    "duration": 623,
    "start_time": "2022-08-14T08:52:53.191Z"
   },
   {
    "duration": 720,
    "start_time": "2022-08-14T08:53:25.626Z"
   },
   {
    "duration": 598,
    "start_time": "2022-08-14T08:53:34.626Z"
   },
   {
    "duration": 609,
    "start_time": "2022-08-14T08:53:41.931Z"
   },
   {
    "duration": 597,
    "start_time": "2022-08-14T08:53:49.003Z"
   },
   {
    "duration": 670,
    "start_time": "2022-08-14T08:54:39.991Z"
   },
   {
    "duration": 968,
    "start_time": "2022-08-14T08:55:02.767Z"
   },
   {
    "duration": 869,
    "start_time": "2022-08-14T08:55:10.743Z"
   },
   {
    "duration": 650,
    "start_time": "2022-08-14T08:55:16.583Z"
   },
   {
    "duration": 611,
    "start_time": "2022-08-14T08:55:27.299Z"
   },
   {
    "duration": 652,
    "start_time": "2022-08-14T08:55:34.163Z"
   },
   {
    "duration": 618,
    "start_time": "2022-08-14T08:56:18.886Z"
   },
   {
    "duration": 443,
    "start_time": "2022-08-14T08:56:26.775Z"
   },
   {
    "duration": 488,
    "start_time": "2022-08-14T08:56:37.396Z"
   },
   {
    "duration": 363,
    "start_time": "2022-08-14T08:56:51.827Z"
   },
   {
    "duration": 483,
    "start_time": "2022-08-14T08:56:57.504Z"
   },
   {
    "duration": 10,
    "start_time": "2022-08-14T08:57:56.467Z"
   },
   {
    "duration": 332,
    "start_time": "2022-08-14T08:58:06.172Z"
   },
   {
    "duration": 116,
    "start_time": "2022-08-14T08:58:23.259Z"
   },
   {
    "duration": 133,
    "start_time": "2022-08-14T08:58:38.668Z"
   },
   {
    "duration": 183,
    "start_time": "2022-08-14T08:58:57.848Z"
   },
   {
    "duration": 40,
    "start_time": "2022-08-14T09:00:47.261Z"
   },
   {
    "duration": 42,
    "start_time": "2022-08-14T09:01:00.276Z"
   },
   {
    "duration": 9,
    "start_time": "2022-08-14T09:01:10.280Z"
   },
   {
    "duration": 33,
    "start_time": "2022-08-14T09:01:15.695Z"
   },
   {
    "duration": 17,
    "start_time": "2022-08-14T09:02:29.009Z"
   },
   {
    "duration": 17,
    "start_time": "2022-08-14T09:02:37.792Z"
   },
   {
    "duration": 26,
    "start_time": "2022-08-14T09:02:48.112Z"
   },
   {
    "duration": 31,
    "start_time": "2022-08-14T09:02:57.048Z"
   },
   {
    "duration": 9,
    "start_time": "2022-08-14T09:04:31.936Z"
   },
   {
    "duration": 14,
    "start_time": "2022-08-14T09:05:00.597Z"
   },
   {
    "duration": 11,
    "start_time": "2022-08-14T09:05:14.653Z"
   },
   {
    "duration": 24,
    "start_time": "2022-08-14T09:05:18.725Z"
   },
   {
    "duration": 31,
    "start_time": "2022-08-14T09:05:26.408Z"
   },
   {
    "duration": 32,
    "start_time": "2022-08-14T09:05:36.064Z"
   },
   {
    "duration": 27,
    "start_time": "2022-08-14T09:06:13.445Z"
   },
   {
    "duration": 27,
    "start_time": "2022-08-14T09:06:18.436Z"
   },
   {
    "duration": 30,
    "start_time": "2022-08-14T09:06:24.422Z"
   },
   {
    "duration": 31,
    "start_time": "2022-08-14T09:07:30.221Z"
   },
   {
    "duration": 32,
    "start_time": "2022-08-14T09:07:35.624Z"
   },
   {
    "duration": 27,
    "start_time": "2022-08-14T09:08:07.065Z"
   },
   {
    "duration": 31,
    "start_time": "2022-08-14T09:09:00.309Z"
   },
   {
    "duration": 36,
    "start_time": "2022-08-14T09:09:18.141Z"
   },
   {
    "duration": 32,
    "start_time": "2022-08-14T09:09:34.009Z"
   },
   {
    "duration": 22,
    "start_time": "2022-08-14T09:09:59.869Z"
   },
   {
    "duration": 23,
    "start_time": "2022-08-14T09:12:55.143Z"
   },
   {
    "duration": 26,
    "start_time": "2022-08-14T09:13:04.206Z"
   },
   {
    "duration": 3,
    "start_time": "2022-08-14T09:59:28.745Z"
   },
   {
    "duration": 1096,
    "start_time": "2022-08-14T09:59:40.186Z"
   },
   {
    "duration": 88,
    "start_time": "2022-08-14T09:59:41.285Z"
   },
   {
    "duration": 41,
    "start_time": "2022-08-14T09:59:41.375Z"
   },
   {
    "duration": 22,
    "start_time": "2022-08-14T09:59:41.417Z"
   },
   {
    "duration": 28,
    "start_time": "2022-08-14T09:59:41.442Z"
   },
   {
    "duration": 32,
    "start_time": "2022-08-14T09:59:41.472Z"
   },
   {
    "duration": 23,
    "start_time": "2022-08-14T09:59:41.508Z"
   },
   {
    "duration": 15,
    "start_time": "2022-08-14T09:59:41.533Z"
   },
   {
    "duration": 14,
    "start_time": "2022-08-14T09:59:41.551Z"
   },
   {
    "duration": 26,
    "start_time": "2022-08-14T09:59:41.567Z"
   },
   {
    "duration": 28,
    "start_time": "2022-08-14T09:59:41.595Z"
   },
   {
    "duration": 19,
    "start_time": "2022-08-14T09:59:41.625Z"
   },
   {
    "duration": 5,
    "start_time": "2022-08-14T09:59:41.646Z"
   },
   {
    "duration": 7,
    "start_time": "2022-08-14T09:59:41.653Z"
   },
   {
    "duration": 72,
    "start_time": "2022-08-14T09:59:41.662Z"
   },
   {
    "duration": 131,
    "start_time": "2022-08-14T09:59:41.736Z"
   },
   {
    "duration": 4,
    "start_time": "2022-08-14T09:59:41.868Z"
   },
   {
    "duration": 43,
    "start_time": "2022-08-14T09:59:41.874Z"
   },
   {
    "duration": 8,
    "start_time": "2022-08-14T09:59:41.919Z"
   },
   {
    "duration": 10,
    "start_time": "2022-08-14T09:59:41.929Z"
   },
   {
    "duration": 27,
    "start_time": "2022-08-14T09:59:41.941Z"
   },
   {
    "duration": 1168,
    "start_time": "2022-08-14T09:59:41.970Z"
   },
   {
    "duration": 0,
    "start_time": "2022-08-14T09:59:43.140Z"
   },
   {
    "duration": 0,
    "start_time": "2022-08-14T09:59:43.141Z"
   },
   {
    "duration": 0,
    "start_time": "2022-08-14T09:59:43.142Z"
   },
   {
    "duration": 0,
    "start_time": "2022-08-14T09:59:43.143Z"
   },
   {
    "duration": 0,
    "start_time": "2022-08-14T09:59:43.144Z"
   },
   {
    "duration": 338,
    "start_time": "2022-08-14T10:00:09.223Z"
   },
   {
    "duration": 12,
    "start_time": "2022-08-14T10:00:35.519Z"
   },
   {
    "duration": 323,
    "start_time": "2022-08-14T10:00:37.999Z"
   },
   {
    "duration": 533,
    "start_time": "2022-08-14T10:00:38.907Z"
   },
   {
    "duration": 34,
    "start_time": "2022-08-14T10:00:41.520Z"
   },
   {
    "duration": 8,
    "start_time": "2022-08-14T10:00:41.639Z"
   },
   {
    "duration": 44,
    "start_time": "2022-08-14T10:01:36.960Z"
   },
   {
    "duration": 24,
    "start_time": "2022-08-14T10:01:58.905Z"
   },
   {
    "duration": 7,
    "start_time": "2022-08-14T10:04:28.231Z"
   },
   {
    "duration": 7,
    "start_time": "2022-08-14T10:05:11.554Z"
   },
   {
    "duration": 6,
    "start_time": "2022-08-14T10:05:24.264Z"
   },
   {
    "duration": 14,
    "start_time": "2022-08-14T10:05:33.339Z"
   },
   {
    "duration": 7,
    "start_time": "2022-08-14T10:06:17.491Z"
   },
   {
    "duration": 8,
    "start_time": "2022-08-14T10:06:51.716Z"
   },
   {
    "duration": 19,
    "start_time": "2022-08-14T10:07:11.447Z"
   },
   {
    "duration": 13,
    "start_time": "2022-08-14T10:07:43.171Z"
   },
   {
    "duration": 15,
    "start_time": "2022-08-14T10:07:55.854Z"
   },
   {
    "duration": 20,
    "start_time": "2022-08-14T10:08:23.704Z"
   },
   {
    "duration": 12,
    "start_time": "2022-08-14T10:09:00.196Z"
   },
   {
    "duration": 12,
    "start_time": "2022-08-14T10:09:18.419Z"
   },
   {
    "duration": 16,
    "start_time": "2022-08-14T10:09:30.716Z"
   },
   {
    "duration": 495,
    "start_time": "2022-08-14T10:10:22.654Z"
   },
   {
    "duration": 450,
    "start_time": "2022-08-14T10:10:37.216Z"
   },
   {
    "duration": 9,
    "start_time": "2022-08-14T10:12:02.104Z"
   },
   {
    "duration": 11,
    "start_time": "2022-08-14T10:12:23.460Z"
   },
   {
    "duration": 26,
    "start_time": "2022-08-14T10:13:12.779Z"
   },
   {
    "duration": 24,
    "start_time": "2022-08-14T10:13:25.694Z"
   },
   {
    "duration": 479,
    "start_time": "2022-08-14T10:13:58.778Z"
   },
   {
    "duration": 505,
    "start_time": "2022-08-14T10:14:55.525Z"
   },
   {
    "duration": 16,
    "start_time": "2022-08-14T10:15:48.937Z"
   },
   {
    "duration": 414,
    "start_time": "2022-08-14T10:15:59.440Z"
   },
   {
    "duration": 476,
    "start_time": "2022-08-14T10:16:18.942Z"
   },
   {
    "duration": 12,
    "start_time": "2022-08-14T10:16:32.446Z"
   },
   {
    "duration": 15,
    "start_time": "2022-08-14T10:16:43.013Z"
   },
   {
    "duration": 477,
    "start_time": "2022-08-14T10:16:52.737Z"
   },
   {
    "duration": 442,
    "start_time": "2022-08-14T10:18:49.509Z"
   },
   {
    "duration": 494,
    "start_time": "2022-08-14T10:21:03.093Z"
   },
   {
    "duration": 12,
    "start_time": "2022-08-14T10:23:29.951Z"
   },
   {
    "duration": 576,
    "start_time": "2022-08-14T10:23:59.457Z"
   },
   {
    "duration": 419,
    "start_time": "2022-08-14T10:28:02.693Z"
   },
   {
    "duration": 440,
    "start_time": "2022-08-14T10:28:13.538Z"
   },
   {
    "duration": 4,
    "start_time": "2022-08-14T10:30:00.341Z"
   },
   {
    "duration": 8,
    "start_time": "2022-08-14T10:30:29.860Z"
   },
   {
    "duration": 6,
    "start_time": "2022-08-14T10:30:38.543Z"
   },
   {
    "duration": 5,
    "start_time": "2022-08-14T10:30:48.470Z"
   },
   {
    "duration": 5,
    "start_time": "2022-08-14T10:32:29.427Z"
   },
   {
    "duration": 357,
    "start_time": "2022-08-14T10:32:34.506Z"
   },
   {
    "duration": 405,
    "start_time": "2022-08-14T10:32:34.865Z"
   },
   {
    "duration": 403,
    "start_time": "2022-08-14T10:32:40.483Z"
   },
   {
    "duration": 393,
    "start_time": "2022-08-14T10:32:47.095Z"
   },
   {
    "duration": 439,
    "start_time": "2022-08-14T10:32:49.395Z"
   },
   {
    "duration": 410,
    "start_time": "2022-08-14T10:35:30.695Z"
   },
   {
    "duration": 184,
    "start_time": "2022-08-14T10:37:00.551Z"
   },
   {
    "duration": 125,
    "start_time": "2022-08-14T10:37:09.550Z"
   },
   {
    "duration": 306,
    "start_time": "2022-08-14T10:37:18.054Z"
   },
   {
    "duration": 164,
    "start_time": "2022-08-14T10:37:23.891Z"
   },
   {
    "duration": 135,
    "start_time": "2022-08-14T10:37:28.434Z"
   },
   {
    "duration": 188,
    "start_time": "2022-08-14T10:39:00.995Z"
   },
   {
    "duration": 232,
    "start_time": "2022-08-14T10:39:15.454Z"
   },
   {
    "duration": 177,
    "start_time": "2022-08-14T10:39:39.799Z"
   },
   {
    "duration": 416,
    "start_time": "2022-08-14T10:39:39.978Z"
   },
   {
    "duration": 153,
    "start_time": "2022-08-14T10:39:47.935Z"
   },
   {
    "duration": 173,
    "start_time": "2022-08-14T10:40:05.055Z"
   },
   {
    "duration": 181,
    "start_time": "2022-08-14T10:40:38.515Z"
   },
   {
    "duration": 161,
    "start_time": "2022-08-14T10:40:49.811Z"
   },
   {
    "duration": 11,
    "start_time": "2022-08-14T10:42:17.708Z"
   },
   {
    "duration": 16,
    "start_time": "2022-08-14T10:42:25.402Z"
   },
   {
    "duration": 18,
    "start_time": "2022-08-14T10:44:08.494Z"
   },
   {
    "duration": 25,
    "start_time": "2022-08-14T10:44:28.681Z"
   },
   {
    "duration": 220,
    "start_time": "2022-08-14T10:45:11.287Z"
   },
   {
    "duration": 188,
    "start_time": "2022-08-14T10:45:26.128Z"
   },
   {
    "duration": 217,
    "start_time": "2022-08-14T10:45:50.799Z"
   },
   {
    "duration": 434,
    "start_time": "2022-08-14T10:46:53.827Z"
   },
   {
    "duration": 327,
    "start_time": "2022-08-14T10:47:59.765Z"
   },
   {
    "duration": 204,
    "start_time": "2022-08-14T10:48:56.192Z"
   },
   {
    "duration": 22,
    "start_time": "2022-08-14T10:50:29.198Z"
   },
   {
    "duration": 380,
    "start_time": "2022-08-14T10:50:58.024Z"
   },
   {
    "duration": 394,
    "start_time": "2022-08-14T10:52:04.882Z"
   },
   {
    "duration": 381,
    "start_time": "2022-08-14T10:52:58.715Z"
   },
   {
    "duration": 825,
    "start_time": "2022-08-14T10:53:16.118Z"
   },
   {
    "duration": 131,
    "start_time": "2022-08-14T10:53:53.627Z"
   },
   {
    "duration": 417,
    "start_time": "2022-08-14T10:54:38.691Z"
   },
   {
    "duration": 790,
    "start_time": "2022-08-14T10:55:15.528Z"
   },
   {
    "duration": 904,
    "start_time": "2022-08-14T10:55:21.420Z"
   },
   {
    "duration": 1009,
    "start_time": "2022-08-14T10:55:39.936Z"
   },
   {
    "duration": 794,
    "start_time": "2022-08-14T10:56:20.612Z"
   },
   {
    "duration": 10,
    "start_time": "2022-08-14T10:57:18.428Z"
   },
   {
    "duration": 778,
    "start_time": "2022-08-14T10:57:35.698Z"
   },
   {
    "duration": 779,
    "start_time": "2022-08-14T10:57:44.548Z"
   },
   {
    "duration": 888,
    "start_time": "2022-08-14T10:57:54.266Z"
   },
   {
    "duration": 835,
    "start_time": "2022-08-14T10:58:04.493Z"
   },
   {
    "duration": 845,
    "start_time": "2022-08-14T10:58:37.879Z"
   },
   {
    "duration": 1153,
    "start_time": "2022-08-14T10:59:33.040Z"
   },
   {
    "duration": 85,
    "start_time": "2022-08-14T10:59:44.188Z"
   },
   {
    "duration": 879,
    "start_time": "2022-08-14T10:59:51.546Z"
   },
   {
    "duration": 893,
    "start_time": "2022-08-14T10:59:59.598Z"
   },
   {
    "duration": 838,
    "start_time": "2022-08-14T11:00:06.986Z"
   },
   {
    "duration": 18,
    "start_time": "2022-08-14T11:03:45.876Z"
   },
   {
    "duration": 13,
    "start_time": "2022-08-14T11:03:59.819Z"
   },
   {
    "duration": 19,
    "start_time": "2022-08-14T11:04:26.198Z"
   },
   {
    "duration": 25,
    "start_time": "2022-08-14T11:04:41.643Z"
   },
   {
    "duration": 28,
    "start_time": "2022-08-14T11:04:50.104Z"
   },
   {
    "duration": 17,
    "start_time": "2022-08-14T11:05:01.252Z"
   },
   {
    "duration": 21,
    "start_time": "2022-08-14T11:05:38.093Z"
   },
   {
    "duration": 20,
    "start_time": "2022-08-14T11:05:58.643Z"
   },
   {
    "duration": 16,
    "start_time": "2022-08-14T11:06:11.698Z"
   },
   {
    "duration": 9,
    "start_time": "2022-08-14T11:08:38.499Z"
   },
   {
    "duration": 25,
    "start_time": "2022-08-14T11:08:45.102Z"
   },
   {
    "duration": 18,
    "start_time": "2022-08-14T11:09:42.398Z"
   },
   {
    "duration": 42,
    "start_time": "2022-08-15T03:21:13.309Z"
   },
   {
    "duration": 6,
    "start_time": "2022-08-15T03:21:13.385Z"
   },
   {
    "duration": 7,
    "start_time": "2022-08-15T03:21:38.100Z"
   },
   {
    "duration": 6,
    "start_time": "2022-08-15T03:21:44.725Z"
   },
   {
    "duration": 1191,
    "start_time": "2022-08-15T03:21:50.772Z"
   },
   {
    "duration": 258,
    "start_time": "2022-08-15T03:21:51.965Z"
   },
   {
    "duration": 84,
    "start_time": "2022-08-15T03:21:52.224Z"
   },
   {
    "duration": 16,
    "start_time": "2022-08-15T03:21:52.310Z"
   },
   {
    "duration": 20,
    "start_time": "2022-08-15T03:21:52.328Z"
   },
   {
    "duration": 17,
    "start_time": "2022-08-15T03:21:52.349Z"
   },
   {
    "duration": 16,
    "start_time": "2022-08-15T03:21:52.368Z"
   },
   {
    "duration": 26,
    "start_time": "2022-08-15T03:21:52.386Z"
   },
   {
    "duration": 3,
    "start_time": "2022-08-15T03:21:52.414Z"
   },
   {
    "duration": 6,
    "start_time": "2022-08-15T03:21:52.420Z"
   },
   {
    "duration": 18,
    "start_time": "2022-08-15T03:21:52.427Z"
   },
   {
    "duration": 18,
    "start_time": "2022-08-15T03:21:52.446Z"
   },
   {
    "duration": 5,
    "start_time": "2022-08-15T03:21:52.465Z"
   },
   {
    "duration": 39,
    "start_time": "2022-08-15T03:21:52.471Z"
   },
   {
    "duration": 55,
    "start_time": "2022-08-15T03:21:52.512Z"
   },
   {
    "duration": 131,
    "start_time": "2022-08-15T03:21:52.568Z"
   },
   {
    "duration": 3,
    "start_time": "2022-08-15T03:21:52.705Z"
   },
   {
    "duration": 24,
    "start_time": "2022-08-15T03:21:52.710Z"
   },
   {
    "duration": 6,
    "start_time": "2022-08-15T03:21:52.736Z"
   },
   {
    "duration": 8,
    "start_time": "2022-08-15T03:21:52.743Z"
   },
   {
    "duration": 19,
    "start_time": "2022-08-15T03:21:52.752Z"
   },
   {
    "duration": 367,
    "start_time": "2022-08-15T03:21:52.772Z"
   },
   {
    "duration": 11,
    "start_time": "2022-08-15T03:21:53.141Z"
   },
   {
    "duration": 273,
    "start_time": "2022-08-15T03:21:53.153Z"
   },
   {
    "duration": 423,
    "start_time": "2022-08-15T03:21:53.428Z"
   },
   {
    "duration": 22,
    "start_time": "2022-08-15T03:21:53.852Z"
   },
   {
    "duration": 7,
    "start_time": "2022-08-15T03:21:53.875Z"
   },
   {
    "duration": 217,
    "start_time": "2022-08-15T03:21:53.885Z"
   },
   {
    "duration": 349,
    "start_time": "2022-08-15T03:21:54.105Z"
   },
   {
    "duration": 365,
    "start_time": "2022-08-15T03:21:54.455Z"
   },
   {
    "duration": 346,
    "start_time": "2022-08-15T03:21:54.821Z"
   },
   {
    "duration": 179,
    "start_time": "2022-08-15T03:21:55.168Z"
   },
   {
    "duration": 850,
    "start_time": "2022-08-15T03:21:55.348Z"
   },
   {
    "duration": 19,
    "start_time": "2022-08-15T03:21:56.200Z"
   },
   {
    "duration": 23,
    "start_time": "2022-08-15T03:21:56.220Z"
   },
   {
    "duration": 107,
    "start_time": "2022-08-15T03:21:56.245Z"
   },
   {
    "duration": 10,
    "start_time": "2022-08-15T03:23:44.103Z"
   },
   {
    "duration": 10,
    "start_time": "2022-08-15T03:24:04.327Z"
   },
   {
    "duration": 11,
    "start_time": "2022-08-15T03:24:25.861Z"
   },
   {
    "duration": 13,
    "start_time": "2022-08-15T03:24:31.579Z"
   },
   {
    "duration": 11,
    "start_time": "2022-08-15T03:24:41.419Z"
   },
   {
    "duration": 10,
    "start_time": "2022-08-15T03:24:48.978Z"
   },
   {
    "duration": 23,
    "start_time": "2022-08-15T03:31:14.029Z"
   },
   {
    "duration": 21,
    "start_time": "2022-08-15T03:31:37.654Z"
   },
   {
    "duration": 14,
    "start_time": "2022-08-15T03:31:58.288Z"
   },
   {
    "duration": 19,
    "start_time": "2022-08-15T03:32:28.446Z"
   },
   {
    "duration": 14,
    "start_time": "2022-08-15T03:51:20.066Z"
   },
   {
    "duration": 15,
    "start_time": "2022-08-15T03:51:40.889Z"
   },
   {
    "duration": 21,
    "start_time": "2022-08-15T03:51:51.075Z"
   },
   {
    "duration": 182,
    "start_time": "2022-08-15T04:14:01.235Z"
   },
   {
    "duration": 74,
    "start_time": "2022-08-15T04:14:17.609Z"
   },
   {
    "duration": 22,
    "start_time": "2022-08-15T04:14:26.713Z"
   },
   {
    "duration": 23,
    "start_time": "2022-08-15T04:14:41.983Z"
   },
   {
    "duration": 24,
    "start_time": "2022-08-15T04:15:07.595Z"
   },
   {
    "duration": 338,
    "start_time": "2022-08-15T04:16:36.078Z"
   },
   {
    "duration": 25,
    "start_time": "2022-08-15T04:16:56.505Z"
   },
   {
    "duration": 22,
    "start_time": "2022-08-15T04:17:12.989Z"
   },
   {
    "duration": 405,
    "start_time": "2022-08-15T04:26:58.517Z"
   },
   {
    "duration": 20,
    "start_time": "2022-08-15T04:27:13.786Z"
   },
   {
    "duration": 22,
    "start_time": "2022-08-15T04:28:02.363Z"
   },
   {
    "duration": 24,
    "start_time": "2022-08-15T04:28:07.432Z"
   },
   {
    "duration": 22,
    "start_time": "2022-08-15T04:32:37.723Z"
   },
   {
    "duration": 23,
    "start_time": "2022-08-15T04:33:35.456Z"
   },
   {
    "duration": 22,
    "start_time": "2022-08-15T04:33:55.744Z"
   },
   {
    "duration": 22,
    "start_time": "2022-08-15T04:34:03.256Z"
   },
   {
    "duration": 23,
    "start_time": "2022-08-15T04:34:30.901Z"
   },
   {
    "duration": 23,
    "start_time": "2022-08-15T04:34:45.512Z"
   },
   {
    "duration": 23,
    "start_time": "2022-08-15T04:34:55.677Z"
   },
   {
    "duration": 21,
    "start_time": "2022-08-15T04:35:13.485Z"
   },
   {
    "duration": 22,
    "start_time": "2022-08-15T04:35:54.449Z"
   },
   {
    "duration": 11,
    "start_time": "2022-08-15T04:37:53.954Z"
   },
   {
    "duration": 14,
    "start_time": "2022-08-15T04:42:29.534Z"
   },
   {
    "duration": 18,
    "start_time": "2022-08-15T04:44:50.476Z"
   },
   {
    "duration": 24,
    "start_time": "2022-08-15T04:45:34.433Z"
   },
   {
    "duration": 19,
    "start_time": "2022-08-15T04:46:00.709Z"
   },
   {
    "duration": 173,
    "start_time": "2022-08-15T04:46:22.333Z"
   },
   {
    "duration": 169,
    "start_time": "2022-08-15T04:47:13.782Z"
   },
   {
    "duration": 128,
    "start_time": "2022-08-15T04:47:57.809Z"
   },
   {
    "duration": 139,
    "start_time": "2022-08-15T04:48:21.920Z"
   },
   {
    "duration": 212,
    "start_time": "2022-08-15T04:48:43.320Z"
   },
   {
    "duration": 119,
    "start_time": "2022-08-15T04:49:22.096Z"
   },
   {
    "duration": 179,
    "start_time": "2022-08-15T04:49:45.678Z"
   },
   {
    "duration": 173,
    "start_time": "2022-08-15T04:49:52.441Z"
   },
   {
    "duration": 144,
    "start_time": "2022-08-15T04:50:01.320Z"
   },
   {
    "duration": 182,
    "start_time": "2022-08-15T04:50:09.939Z"
   },
   {
    "duration": 153,
    "start_time": "2022-08-15T04:50:16.687Z"
   },
   {
    "duration": 152,
    "start_time": "2022-08-15T04:51:09.746Z"
   },
   {
    "duration": 162,
    "start_time": "2022-08-15T04:51:19.949Z"
   },
   {
    "duration": 154,
    "start_time": "2022-08-15T04:51:32.919Z"
   },
   {
    "duration": 160,
    "start_time": "2022-08-15T04:51:59.669Z"
   },
   {
    "duration": 148,
    "start_time": "2022-08-15T04:52:30.320Z"
   },
   {
    "duration": 171,
    "start_time": "2022-08-15T04:52:55.242Z"
   },
   {
    "duration": 4,
    "start_time": "2022-08-15T04:53:53.852Z"
   },
   {
    "duration": 157,
    "start_time": "2022-08-15T04:54:00.681Z"
   },
   {
    "duration": 251,
    "start_time": "2022-08-15T04:55:19.115Z"
   },
   {
    "duration": 168,
    "start_time": "2022-08-15T04:55:26.742Z"
   },
   {
    "duration": 176,
    "start_time": "2022-08-15T04:56:51.178Z"
   },
   {
    "duration": 164,
    "start_time": "2022-08-15T04:57:08.053Z"
   },
   {
    "duration": 162,
    "start_time": "2022-08-15T04:57:14.467Z"
   },
   {
    "duration": 199,
    "start_time": "2022-08-15T04:57:19.960Z"
   },
   {
    "duration": 190,
    "start_time": "2022-08-15T04:57:35.300Z"
   },
   {
    "duration": 174,
    "start_time": "2022-08-15T04:57:43.634Z"
   },
   {
    "duration": 201,
    "start_time": "2022-08-15T05:00:43.953Z"
   },
   {
    "duration": 19,
    "start_time": "2022-08-15T07:04:14.057Z"
   },
   {
    "duration": 995,
    "start_time": "2022-08-15T07:04:36.770Z"
   },
   {
    "duration": 77,
    "start_time": "2022-08-15T07:04:37.767Z"
   },
   {
    "duration": 39,
    "start_time": "2022-08-15T07:04:37.846Z"
   },
   {
    "duration": 16,
    "start_time": "2022-08-15T07:04:37.886Z"
   },
   {
    "duration": 18,
    "start_time": "2022-08-15T07:04:37.903Z"
   },
   {
    "duration": 16,
    "start_time": "2022-08-15T07:04:37.923Z"
   },
   {
    "duration": 15,
    "start_time": "2022-08-15T07:04:37.940Z"
   },
   {
    "duration": 11,
    "start_time": "2022-08-15T07:04:37.957Z"
   },
   {
    "duration": 5,
    "start_time": "2022-08-15T07:04:37.970Z"
   },
   {
    "duration": 6,
    "start_time": "2022-08-15T07:04:37.977Z"
   },
   {
    "duration": 39,
    "start_time": "2022-08-15T07:04:37.984Z"
   },
   {
    "duration": 20,
    "start_time": "2022-08-15T07:04:38.024Z"
   },
   {
    "duration": 7,
    "start_time": "2022-08-15T07:04:38.046Z"
   },
   {
    "duration": 5,
    "start_time": "2022-08-15T07:04:38.054Z"
   },
   {
    "duration": 82,
    "start_time": "2022-08-15T07:04:38.061Z"
   },
   {
    "duration": 126,
    "start_time": "2022-08-15T07:04:38.145Z"
   },
   {
    "duration": 3,
    "start_time": "2022-08-15T07:04:38.273Z"
   },
   {
    "duration": 34,
    "start_time": "2022-08-15T07:04:38.278Z"
   },
   {
    "duration": 7,
    "start_time": "2022-08-15T07:04:38.314Z"
   },
   {
    "duration": 17,
    "start_time": "2022-08-15T07:04:38.323Z"
   },
   {
    "duration": 21,
    "start_time": "2022-08-15T07:04:38.341Z"
   },
   {
    "duration": 362,
    "start_time": "2022-08-15T07:04:38.364Z"
   },
   {
    "duration": 10,
    "start_time": "2022-08-15T07:04:38.728Z"
   },
   {
    "duration": 285,
    "start_time": "2022-08-15T07:04:38.740Z"
   },
   {
    "duration": 419,
    "start_time": "2022-08-15T07:04:39.027Z"
   },
   {
    "duration": 24,
    "start_time": "2022-08-15T07:04:39.447Z"
   },
   {
    "duration": 4,
    "start_time": "2022-08-15T07:04:39.473Z"
   },
   {
    "duration": 226,
    "start_time": "2022-08-15T07:04:39.481Z"
   },
   {
    "duration": 378,
    "start_time": "2022-08-15T07:04:39.709Z"
   },
   {
    "duration": 427,
    "start_time": "2022-08-15T07:04:40.089Z"
   },
   {
    "duration": 364,
    "start_time": "2022-08-15T07:04:40.517Z"
   },
   {
    "duration": 179,
    "start_time": "2022-08-15T07:04:40.883Z"
   },
   {
    "duration": 843,
    "start_time": "2022-08-15T07:04:41.063Z"
   },
   {
    "duration": 15,
    "start_time": "2022-08-15T07:04:41.907Z"
   },
   {
    "duration": 12,
    "start_time": "2022-08-15T07:04:41.923Z"
   },
   {
    "duration": 108,
    "start_time": "2022-08-15T07:04:41.936Z"
   },
   {
    "duration": 0,
    "start_time": "2022-08-15T07:04:42.046Z"
   },
   {
    "duration": 192,
    "start_time": "2022-08-15T07:04:54.025Z"
   },
   {
    "duration": 185,
    "start_time": "2022-08-15T07:05:25.639Z"
   },
   {
    "duration": 39,
    "start_time": "2022-08-15T07:05:28.332Z"
   },
   {
    "duration": 24,
    "start_time": "2022-08-15T07:06:12.096Z"
   },
   {
    "duration": 22,
    "start_time": "2022-08-15T07:07:00.757Z"
   },
   {
    "duration": 23,
    "start_time": "2022-08-15T07:07:34.221Z"
   },
   {
    "duration": 246,
    "start_time": "2022-08-15T07:08:56.099Z"
   },
   {
    "duration": 17,
    "start_time": "2022-08-15T07:10:48.693Z"
   },
   {
    "duration": 26,
    "start_time": "2022-08-15T07:11:23.821Z"
   },
   {
    "duration": 34,
    "start_time": "2022-08-15T07:12:59.118Z"
   },
   {
    "duration": 28,
    "start_time": "2022-08-15T07:13:04.488Z"
   },
   {
    "duration": 30,
    "start_time": "2022-08-15T07:13:08.358Z"
   },
   {
    "duration": 14,
    "start_time": "2022-08-15T07:13:14.333Z"
   },
   {
    "duration": 31,
    "start_time": "2022-08-15T07:13:19.734Z"
   },
   {
    "duration": 28,
    "start_time": "2022-08-15T07:13:25.645Z"
   },
   {
    "duration": 20,
    "start_time": "2022-08-15T07:13:25.707Z"
   },
   {
    "duration": 1870,
    "start_time": "2022-08-15T07:13:38.365Z"
   },
   {
    "duration": 26,
    "start_time": "2022-08-15T07:14:19.367Z"
   },
   {
    "duration": 28,
    "start_time": "2022-08-15T07:14:22.273Z"
   },
   {
    "duration": 25,
    "start_time": "2022-08-15T07:14:28.438Z"
   },
   {
    "duration": 20,
    "start_time": "2022-08-15T07:14:46.897Z"
   },
   {
    "duration": 20,
    "start_time": "2022-08-15T07:14:46.957Z"
   },
   {
    "duration": 21,
    "start_time": "2022-08-15T07:14:58.537Z"
   },
   {
    "duration": 1039,
    "start_time": "2022-08-15T07:15:11.139Z"
   },
   {
    "duration": 83,
    "start_time": "2022-08-15T07:15:12.180Z"
   },
   {
    "duration": 39,
    "start_time": "2022-08-15T07:15:12.264Z"
   },
   {
    "duration": 25,
    "start_time": "2022-08-15T07:15:12.305Z"
   },
   {
    "duration": 19,
    "start_time": "2022-08-15T07:15:12.331Z"
   },
   {
    "duration": 15,
    "start_time": "2022-08-15T07:15:12.352Z"
   },
   {
    "duration": 17,
    "start_time": "2022-08-15T07:15:12.369Z"
   },
   {
    "duration": 11,
    "start_time": "2022-08-15T07:15:12.406Z"
   },
   {
    "duration": 7,
    "start_time": "2022-08-15T07:15:12.418Z"
   },
   {
    "duration": 8,
    "start_time": "2022-08-15T07:15:12.427Z"
   },
   {
    "duration": 25,
    "start_time": "2022-08-15T07:15:12.437Z"
   },
   {
    "duration": 19,
    "start_time": "2022-08-15T07:15:12.464Z"
   },
   {
    "duration": 24,
    "start_time": "2022-08-15T07:15:12.485Z"
   },
   {
    "duration": 11,
    "start_time": "2022-08-15T07:15:12.512Z"
   },
   {
    "duration": 64,
    "start_time": "2022-08-15T07:15:12.525Z"
   },
   {
    "duration": 135,
    "start_time": "2022-08-15T07:15:12.591Z"
   },
   {
    "duration": 3,
    "start_time": "2022-08-15T07:15:12.728Z"
   },
   {
    "duration": 27,
    "start_time": "2022-08-15T07:15:12.732Z"
   },
   {
    "duration": 6,
    "start_time": "2022-08-15T07:15:12.761Z"
   },
   {
    "duration": 21,
    "start_time": "2022-08-15T07:15:12.768Z"
   },
   {
    "duration": 28,
    "start_time": "2022-08-15T07:15:12.791Z"
   },
   {
    "duration": 350,
    "start_time": "2022-08-15T07:15:12.820Z"
   },
   {
    "duration": 11,
    "start_time": "2022-08-15T07:15:13.172Z"
   },
   {
    "duration": 283,
    "start_time": "2022-08-15T07:15:13.184Z"
   },
   {
    "duration": 455,
    "start_time": "2022-08-15T07:15:13.468Z"
   },
   {
    "duration": 21,
    "start_time": "2022-08-15T07:15:13.925Z"
   },
   {
    "duration": 5,
    "start_time": "2022-08-15T07:15:13.947Z"
   },
   {
    "duration": 243,
    "start_time": "2022-08-15T07:15:13.953Z"
   },
   {
    "duration": 367,
    "start_time": "2022-08-15T07:15:14.197Z"
   },
   {
    "duration": 392,
    "start_time": "2022-08-15T07:15:14.566Z"
   },
   {
    "duration": 405,
    "start_time": "2022-08-15T07:15:14.959Z"
   },
   {
    "duration": 175,
    "start_time": "2022-08-15T07:15:15.366Z"
   },
   {
    "duration": 859,
    "start_time": "2022-08-15T07:15:15.543Z"
   },
   {
    "duration": 13,
    "start_time": "2022-08-15T07:15:16.403Z"
   },
   {
    "duration": 14,
    "start_time": "2022-08-15T07:15:16.417Z"
   },
   {
    "duration": 219,
    "start_time": "2022-08-15T07:15:16.432Z"
   },
   {
    "duration": 209,
    "start_time": "2022-08-15T07:15:16.652Z"
   },
   {
    "duration": 25,
    "start_time": "2022-08-15T07:15:35.451Z"
   },
   {
    "duration": 26,
    "start_time": "2022-08-15T07:16:09.115Z"
   },
   {
    "duration": 24,
    "start_time": "2022-08-15T07:16:24.959Z"
   },
   {
    "duration": 24,
    "start_time": "2022-08-15T07:16:33.388Z"
   },
   {
    "duration": 2,
    "start_time": "2022-08-15T07:16:41.518Z"
   },
   {
    "duration": 81,
    "start_time": "2022-08-15T07:16:42.195Z"
   },
   {
    "duration": 45,
    "start_time": "2022-08-15T07:16:43.098Z"
   },
   {
    "duration": 28,
    "start_time": "2022-08-15T07:17:00.743Z"
   },
   {
    "duration": 23,
    "start_time": "2022-08-15T07:17:00.798Z"
   },
   {
    "duration": 5,
    "start_time": "2022-08-15T07:21:35.877Z"
   },
   {
    "duration": 3,
    "start_time": "2022-08-15T07:21:36.555Z"
   },
   {
    "duration": 102,
    "start_time": "2022-08-15T07:25:34.587Z"
   },
   {
    "duration": 23,
    "start_time": "2022-08-15T07:40:57.865Z"
   },
   {
    "duration": 24,
    "start_time": "2022-08-15T07:43:30.161Z"
   },
   {
    "duration": 37,
    "start_time": "2022-08-15T07:43:47.641Z"
   },
   {
    "duration": 29,
    "start_time": "2022-08-15T07:43:58.533Z"
   },
   {
    "duration": 6,
    "start_time": "2022-08-15T07:46:23.677Z"
   },
   {
    "duration": 9,
    "start_time": "2022-08-15T07:46:46.988Z"
   },
   {
    "duration": 15,
    "start_time": "2022-08-15T07:48:03.277Z"
   },
   {
    "duration": 5,
    "start_time": "2022-08-15T07:48:19.549Z"
   },
   {
    "duration": 9,
    "start_time": "2022-08-15T07:50:21.137Z"
   },
   {
    "duration": 49,
    "start_time": "2022-08-15T08:04:06.253Z"
   },
   {
    "duration": 58,
    "start_time": "2022-08-15T08:05:28.557Z"
   },
   {
    "duration": 33,
    "start_time": "2022-08-15T08:07:32.957Z"
   },
   {
    "duration": 12,
    "start_time": "2022-08-15T08:12:03.486Z"
   },
   {
    "duration": 1022,
    "start_time": "2022-08-15T08:12:17.951Z"
   },
   {
    "duration": 79,
    "start_time": "2022-08-15T08:12:18.974Z"
   },
   {
    "duration": 39,
    "start_time": "2022-08-15T08:12:19.055Z"
   },
   {
    "duration": 18,
    "start_time": "2022-08-15T08:12:19.096Z"
   },
   {
    "duration": 20,
    "start_time": "2022-08-15T08:12:19.115Z"
   },
   {
    "duration": 17,
    "start_time": "2022-08-15T08:12:19.136Z"
   },
   {
    "duration": 27,
    "start_time": "2022-08-15T08:12:19.154Z"
   },
   {
    "duration": 12,
    "start_time": "2022-08-15T08:12:19.183Z"
   },
   {
    "duration": 25,
    "start_time": "2022-08-15T08:12:19.197Z"
   },
   {
    "duration": 29,
    "start_time": "2022-08-15T08:12:19.225Z"
   },
   {
    "duration": 14,
    "start_time": "2022-08-15T08:12:19.256Z"
   },
   {
    "duration": 50,
    "start_time": "2022-08-15T08:12:19.271Z"
   },
   {
    "duration": 17,
    "start_time": "2022-08-15T08:12:19.323Z"
   },
   {
    "duration": 38,
    "start_time": "2022-08-15T08:12:19.342Z"
   },
   {
    "duration": 61,
    "start_time": "2022-08-15T08:12:19.381Z"
   },
   {
    "duration": 128,
    "start_time": "2022-08-15T08:12:19.444Z"
   },
   {
    "duration": 4,
    "start_time": "2022-08-15T08:12:19.573Z"
   },
   {
    "duration": 39,
    "start_time": "2022-08-15T08:12:19.578Z"
   },
   {
    "duration": 21,
    "start_time": "2022-08-15T08:12:19.618Z"
   },
   {
    "duration": 28,
    "start_time": "2022-08-15T08:12:19.640Z"
   },
   {
    "duration": 31,
    "start_time": "2022-08-15T08:12:19.669Z"
   },
   {
    "duration": 354,
    "start_time": "2022-08-15T08:12:19.702Z"
   },
   {
    "duration": 11,
    "start_time": "2022-08-15T08:12:20.057Z"
   },
   {
    "duration": 288,
    "start_time": "2022-08-15T08:12:20.070Z"
   },
   {
    "duration": 465,
    "start_time": "2022-08-15T08:12:20.359Z"
   },
   {
    "duration": 25,
    "start_time": "2022-08-15T08:12:20.825Z"
   },
   {
    "duration": 5,
    "start_time": "2022-08-15T08:12:20.852Z"
   },
   {
    "duration": 236,
    "start_time": "2022-08-15T08:12:20.860Z"
   },
   {
    "duration": 363,
    "start_time": "2022-08-15T08:12:21.098Z"
   },
   {
    "duration": 391,
    "start_time": "2022-08-15T08:12:21.463Z"
   },
   {
    "duration": 394,
    "start_time": "2022-08-15T08:12:21.856Z"
   },
   {
    "duration": 183,
    "start_time": "2022-08-15T08:12:22.251Z"
   },
   {
    "duration": 810,
    "start_time": "2022-08-15T08:12:22.436Z"
   },
   {
    "duration": 15,
    "start_time": "2022-08-15T08:12:23.248Z"
   },
   {
    "duration": 13,
    "start_time": "2022-08-15T08:12:23.265Z"
   },
   {
    "duration": 194,
    "start_time": "2022-08-15T08:12:23.279Z"
   },
   {
    "duration": 217,
    "start_time": "2022-08-15T08:12:23.475Z"
   },
   {
    "duration": 11,
    "start_time": "2022-08-15T08:19:46.559Z"
   },
   {
    "duration": 295,
    "start_time": "2022-08-15T08:23:46.552Z"
   },
   {
    "duration": 451,
    "start_time": "2022-08-15T08:25:10.248Z"
   },
   {
    "duration": 342,
    "start_time": "2022-08-15T08:25:53.836Z"
   },
   {
    "duration": 9,
    "start_time": "2022-08-15T08:50:16.025Z"
   },
   {
    "duration": 7,
    "start_time": "2022-08-15T08:50:20.325Z"
   },
   {
    "duration": 161,
    "start_time": "2022-08-15T08:51:20.117Z"
   },
   {
    "duration": 203,
    "start_time": "2022-08-15T08:51:46.157Z"
   },
   {
    "duration": 206,
    "start_time": "2022-08-15T08:52:06.438Z"
   },
   {
    "duration": 31,
    "start_time": "2022-08-15T08:52:29.897Z"
   },
   {
    "duration": 31,
    "start_time": "2022-08-15T08:52:40.418Z"
   },
   {
    "duration": 169,
    "start_time": "2022-08-15T08:53:17.418Z"
   },
   {
    "duration": 441,
    "start_time": "2022-08-15T08:53:37.701Z"
   },
   {
    "duration": 444,
    "start_time": "2022-08-15T08:54:56.569Z"
   },
   {
    "duration": 193,
    "start_time": "2022-08-15T08:55:21.766Z"
   },
   {
    "duration": 193,
    "start_time": "2022-08-15T08:55:39.166Z"
   },
   {
    "duration": 313,
    "start_time": "2022-08-15T08:55:49.838Z"
   },
   {
    "duration": 191,
    "start_time": "2022-08-15T08:55:59.958Z"
   },
   {
    "duration": 191,
    "start_time": "2022-08-15T08:56:42.962Z"
   },
   {
    "duration": 206,
    "start_time": "2022-08-15T09:02:57.082Z"
   },
   {
    "duration": 951,
    "start_time": "2022-08-15T09:03:09.043Z"
   },
   {
    "duration": 954,
    "start_time": "2022-08-15T09:03:15.783Z"
   },
   {
    "duration": 216,
    "start_time": "2022-08-15T09:03:26.860Z"
   },
   {
    "duration": 147,
    "start_time": "2022-08-15T09:06:38.944Z"
   },
   {
    "duration": 142,
    "start_time": "2022-08-15T09:07:04.835Z"
   },
   {
    "duration": 233,
    "start_time": "2022-08-15T09:07:18.235Z"
   },
   {
    "duration": 200,
    "start_time": "2022-08-15T09:07:39.175Z"
   },
   {
    "duration": 87,
    "start_time": "2022-08-15T09:07:45.283Z"
   },
   {
    "duration": 150,
    "start_time": "2022-08-15T09:07:55.664Z"
   },
   {
    "duration": 74,
    "start_time": "2022-08-15T09:08:08.664Z"
   },
   {
    "duration": 76,
    "start_time": "2022-08-15T09:08:21.518Z"
   },
   {
    "duration": 158,
    "start_time": "2022-08-15T09:08:30.056Z"
   },
   {
    "duration": 255,
    "start_time": "2022-08-15T09:08:46.947Z"
   },
   {
    "duration": 147,
    "start_time": "2022-08-15T09:08:54.922Z"
   },
   {
    "duration": 154,
    "start_time": "2022-08-15T09:09:04.989Z"
   },
   {
    "duration": 82,
    "start_time": "2022-08-15T09:09:19.357Z"
   },
   {
    "duration": 0,
    "start_time": "2022-08-15T09:09:19.441Z"
   },
   {
    "duration": 164,
    "start_time": "2022-08-15T09:09:26.264Z"
   },
   {
    "duration": 162,
    "start_time": "2022-08-15T09:09:32.885Z"
   },
   {
    "duration": 170,
    "start_time": "2022-08-15T09:09:48.544Z"
   },
   {
    "duration": 155,
    "start_time": "2022-08-15T09:09:59.044Z"
   },
   {
    "duration": 149,
    "start_time": "2022-08-15T09:10:15.572Z"
   },
   {
    "duration": 152,
    "start_time": "2022-08-15T09:10:29.112Z"
   },
   {
    "duration": 165,
    "start_time": "2022-08-15T09:10:34.412Z"
   },
   {
    "duration": 228,
    "start_time": "2022-08-15T09:10:45.992Z"
   },
   {
    "duration": 475,
    "start_time": "2022-08-15T09:10:46.222Z"
   },
   {
    "duration": 186,
    "start_time": "2022-08-15T09:10:56.492Z"
   },
   {
    "duration": 449,
    "start_time": "2022-08-15T09:13:20.268Z"
   },
   {
    "duration": 473,
    "start_time": "2022-08-15T09:14:45.829Z"
   },
   {
    "duration": 304,
    "start_time": "2022-08-15T09:23:22.214Z"
   },
   {
    "duration": 210,
    "start_time": "2022-08-15T09:24:59.006Z"
   },
   {
    "duration": 227,
    "start_time": "2022-08-15T09:25:43.474Z"
   },
   {
    "duration": 28,
    "start_time": "2022-08-15T09:25:56.667Z"
   },
   {
    "duration": 26,
    "start_time": "2022-08-15T09:26:08.482Z"
   },
   {
    "duration": 207,
    "start_time": "2022-08-15T09:26:21.246Z"
   },
   {
    "duration": 202,
    "start_time": "2022-08-15T09:27:01.426Z"
   },
   {
    "duration": 224,
    "start_time": "2022-08-15T09:27:27.186Z"
   },
   {
    "duration": 228,
    "start_time": "2022-08-15T09:27:36.946Z"
   },
   {
    "duration": 220,
    "start_time": "2022-08-15T09:27:44.786Z"
   },
   {
    "duration": 382,
    "start_time": "2022-08-15T09:31:57.955Z"
   },
   {
    "duration": 195,
    "start_time": "2022-08-15T09:32:24.535Z"
   },
   {
    "duration": 239,
    "start_time": "2022-08-15T09:32:39.183Z"
   },
   {
    "duration": 217,
    "start_time": "2022-08-15T09:33:42.143Z"
   },
   {
    "duration": 209,
    "start_time": "2022-08-15T09:34:01.015Z"
   },
   {
    "duration": 25,
    "start_time": "2022-08-15T09:35:14.984Z"
   },
   {
    "duration": 21,
    "start_time": "2022-08-15T09:36:09.851Z"
   },
   {
    "duration": 22,
    "start_time": "2022-08-15T09:38:01.713Z"
   },
   {
    "duration": 26,
    "start_time": "2022-08-15T09:38:10.484Z"
   },
   {
    "duration": 227,
    "start_time": "2022-08-15T09:38:30.752Z"
   },
   {
    "duration": 32,
    "start_time": "2022-08-15T09:39:41.812Z"
   },
   {
    "duration": 237,
    "start_time": "2022-08-15T09:40:07.464Z"
   },
   {
    "duration": 209,
    "start_time": "2022-08-15T09:40:12.372Z"
   },
   {
    "duration": 21,
    "start_time": "2022-08-15T09:40:24.912Z"
   },
   {
    "duration": 212,
    "start_time": "2022-08-15T09:40:42.532Z"
   },
   {
    "duration": 1062,
    "start_time": "2022-08-15T09:43:40.612Z"
   },
   {
    "duration": 82,
    "start_time": "2022-08-15T09:43:41.676Z"
   },
   {
    "duration": 39,
    "start_time": "2022-08-15T09:43:41.759Z"
   },
   {
    "duration": 18,
    "start_time": "2022-08-15T09:43:41.801Z"
   },
   {
    "duration": 20,
    "start_time": "2022-08-15T09:43:41.821Z"
   },
   {
    "duration": 16,
    "start_time": "2022-08-15T09:43:41.842Z"
   },
   {
    "duration": 18,
    "start_time": "2022-08-15T09:43:41.860Z"
   },
   {
    "duration": 34,
    "start_time": "2022-08-15T09:43:41.880Z"
   },
   {
    "duration": 4,
    "start_time": "2022-08-15T09:43:41.915Z"
   },
   {
    "duration": 10,
    "start_time": "2022-08-15T09:43:41.921Z"
   },
   {
    "duration": 5,
    "start_time": "2022-08-15T09:43:41.932Z"
   },
   {
    "duration": 22,
    "start_time": "2022-08-15T09:43:41.938Z"
   },
   {
    "duration": 8,
    "start_time": "2022-08-15T09:43:41.962Z"
   },
   {
    "duration": 12,
    "start_time": "2022-08-15T09:43:41.971Z"
   },
   {
    "duration": 39,
    "start_time": "2022-08-15T09:43:42.007Z"
   },
   {
    "duration": 138,
    "start_time": "2022-08-15T09:43:42.047Z"
   },
   {
    "duration": 4,
    "start_time": "2022-08-15T09:43:42.186Z"
   },
   {
    "duration": 28,
    "start_time": "2022-08-15T09:43:42.191Z"
   },
   {
    "duration": 4,
    "start_time": "2022-08-15T09:43:42.220Z"
   },
   {
    "duration": 11,
    "start_time": "2022-08-15T09:43:42.225Z"
   },
   {
    "duration": 22,
    "start_time": "2022-08-15T09:43:42.237Z"
   },
   {
    "duration": 392,
    "start_time": "2022-08-15T09:43:42.261Z"
   },
   {
    "duration": 12,
    "start_time": "2022-08-15T09:43:42.655Z"
   },
   {
    "duration": 322,
    "start_time": "2022-08-15T09:43:42.668Z"
   },
   {
    "duration": 504,
    "start_time": "2022-08-15T09:43:42.992Z"
   },
   {
    "duration": 30,
    "start_time": "2022-08-15T09:43:43.498Z"
   },
   {
    "duration": 5,
    "start_time": "2022-08-15T09:43:43.530Z"
   },
   {
    "duration": 185,
    "start_time": "2022-08-15T09:43:43.538Z"
   },
   {
    "duration": 357,
    "start_time": "2022-08-15T09:43:43.725Z"
   },
   {
    "duration": 399,
    "start_time": "2022-08-15T09:43:44.084Z"
   },
   {
    "duration": 391,
    "start_time": "2022-08-15T09:43:44.485Z"
   },
   {
    "duration": 207,
    "start_time": "2022-08-15T09:43:44.878Z"
   },
   {
    "duration": 881,
    "start_time": "2022-08-15T09:43:45.087Z"
   },
   {
    "duration": 17,
    "start_time": "2022-08-15T09:43:45.970Z"
   },
   {
    "duration": 14,
    "start_time": "2022-08-15T09:43:45.989Z"
   },
   {
    "duration": 296,
    "start_time": "2022-08-15T09:43:46.005Z"
   },
   {
    "duration": 248,
    "start_time": "2022-08-15T09:43:46.303Z"
   },
   {
    "duration": 2,
    "start_time": "2022-08-15T13:20:24.971Z"
   },
   {
    "duration": 13,
    "start_time": "2022-08-15T13:21:30.495Z"
   },
   {
    "duration": 126,
    "start_time": "2022-08-15T13:23:15.127Z"
   },
   {
    "duration": 213,
    "start_time": "2022-08-15T13:23:25.307Z"
   },
   {
    "duration": 135,
    "start_time": "2022-08-15T13:23:44.407Z"
   },
   {
    "duration": 26,
    "start_time": "2022-08-15T13:23:55.016Z"
   },
   {
    "duration": 256,
    "start_time": "2022-08-15T13:24:03.687Z"
   },
   {
    "duration": 1018,
    "start_time": "2022-08-15T13:27:57.348Z"
   },
   {
    "duration": 80,
    "start_time": "2022-08-15T13:27:58.368Z"
   },
   {
    "duration": 41,
    "start_time": "2022-08-15T13:27:58.449Z"
   },
   {
    "duration": 18,
    "start_time": "2022-08-15T13:27:58.492Z"
   },
   {
    "duration": 20,
    "start_time": "2022-08-15T13:27:58.512Z"
   },
   {
    "duration": 18,
    "start_time": "2022-08-15T13:27:58.533Z"
   },
   {
    "duration": 17,
    "start_time": "2022-08-15T13:27:58.553Z"
   },
   {
    "duration": 37,
    "start_time": "2022-08-15T13:27:58.571Z"
   },
   {
    "duration": 5,
    "start_time": "2022-08-15T13:27:58.610Z"
   },
   {
    "duration": 7,
    "start_time": "2022-08-15T13:27:58.616Z"
   },
   {
    "duration": 4,
    "start_time": "2022-08-15T13:27:58.624Z"
   },
   {
    "duration": 23,
    "start_time": "2022-08-15T13:27:58.629Z"
   },
   {
    "duration": 10,
    "start_time": "2022-08-15T13:27:58.653Z"
   },
   {
    "duration": 9,
    "start_time": "2022-08-15T13:27:58.666Z"
   },
   {
    "duration": 40,
    "start_time": "2022-08-15T13:27:58.707Z"
   },
   {
    "duration": 137,
    "start_time": "2022-08-15T13:27:58.749Z"
   },
   {
    "duration": 3,
    "start_time": "2022-08-15T13:27:58.888Z"
   },
   {
    "duration": 26,
    "start_time": "2022-08-15T13:27:58.893Z"
   },
   {
    "duration": 4,
    "start_time": "2022-08-15T13:27:58.920Z"
   },
   {
    "duration": 11,
    "start_time": "2022-08-15T13:27:58.926Z"
   },
   {
    "duration": 20,
    "start_time": "2022-08-15T13:27:58.939Z"
   },
   {
    "duration": 397,
    "start_time": "2022-08-15T13:27:58.960Z"
   },
   {
    "duration": 11,
    "start_time": "2022-08-15T13:27:59.358Z"
   },
   {
    "duration": 342,
    "start_time": "2022-08-15T13:27:59.370Z"
   },
   {
    "duration": 518,
    "start_time": "2022-08-15T13:27:59.714Z"
   },
   {
    "duration": 24,
    "start_time": "2022-08-15T13:28:00.233Z"
   },
   {
    "duration": 4,
    "start_time": "2022-08-15T13:28:00.258Z"
   },
   {
    "duration": 196,
    "start_time": "2022-08-15T13:28:00.263Z"
   },
   {
    "duration": 413,
    "start_time": "2022-08-15T13:28:00.460Z"
   },
   {
    "duration": 414,
    "start_time": "2022-08-15T13:28:00.875Z"
   },
   {
    "duration": 385,
    "start_time": "2022-08-15T13:28:01.291Z"
   },
   {
    "duration": 209,
    "start_time": "2022-08-15T13:28:01.678Z"
   },
   {
    "duration": 868,
    "start_time": "2022-08-15T13:28:01.888Z"
   },
   {
    "duration": 14,
    "start_time": "2022-08-15T13:28:02.758Z"
   },
   {
    "duration": 15,
    "start_time": "2022-08-15T13:28:02.773Z"
   },
   {
    "duration": 194,
    "start_time": "2022-08-15T13:28:02.789Z"
   },
   {
    "duration": 207,
    "start_time": "2022-08-15T13:28:02.985Z"
   },
   {
    "duration": 416,
    "start_time": "2022-08-15T13:32:45.533Z"
   },
   {
    "duration": 1152,
    "start_time": "2022-08-15T13:46:31.143Z"
   },
   {
    "duration": 85,
    "start_time": "2022-08-15T13:46:32.297Z"
   },
   {
    "duration": 39,
    "start_time": "2022-08-15T13:46:32.383Z"
   },
   {
    "duration": 21,
    "start_time": "2022-08-15T13:46:32.424Z"
   },
   {
    "duration": 23,
    "start_time": "2022-08-15T13:46:32.446Z"
   },
   {
    "duration": 35,
    "start_time": "2022-08-15T13:46:32.471Z"
   },
   {
    "duration": 24,
    "start_time": "2022-08-15T13:46:32.510Z"
   },
   {
    "duration": 10,
    "start_time": "2022-08-15T13:46:32.535Z"
   },
   {
    "duration": 7,
    "start_time": "2022-08-15T13:46:32.547Z"
   },
   {
    "duration": 11,
    "start_time": "2022-08-15T13:46:32.556Z"
   },
   {
    "duration": 5,
    "start_time": "2022-08-15T13:46:32.569Z"
   },
   {
    "duration": 36,
    "start_time": "2022-08-15T13:46:32.576Z"
   },
   {
    "duration": 9,
    "start_time": "2022-08-15T13:46:32.614Z"
   },
   {
    "duration": 10,
    "start_time": "2022-08-15T13:46:32.624Z"
   },
   {
    "duration": 72,
    "start_time": "2022-08-15T13:46:32.635Z"
   },
   {
    "duration": 146,
    "start_time": "2022-08-15T13:46:32.709Z"
   },
   {
    "duration": 4,
    "start_time": "2022-08-15T13:46:32.857Z"
   },
   {
    "duration": 22,
    "start_time": "2022-08-15T13:46:32.863Z"
   },
   {
    "duration": 4,
    "start_time": "2022-08-15T13:46:32.887Z"
   },
   {
    "duration": 8,
    "start_time": "2022-08-15T13:46:32.906Z"
   },
   {
    "duration": 31,
    "start_time": "2022-08-15T13:46:32.915Z"
   },
   {
    "duration": 466,
    "start_time": "2022-08-15T13:46:32.947Z"
   },
   {
    "duration": 13,
    "start_time": "2022-08-15T13:46:33.414Z"
   },
   {
    "duration": 369,
    "start_time": "2022-08-15T13:46:33.429Z"
   },
   {
    "duration": 548,
    "start_time": "2022-08-15T13:46:33.805Z"
   },
   {
    "duration": 28,
    "start_time": "2022-08-15T13:46:34.355Z"
   },
   {
    "duration": 4,
    "start_time": "2022-08-15T13:46:34.384Z"
   },
   {
    "duration": 196,
    "start_time": "2022-08-15T13:46:34.406Z"
   },
   {
    "duration": 382,
    "start_time": "2022-08-15T13:46:34.605Z"
   },
   {
    "duration": 421,
    "start_time": "2022-08-15T13:46:34.989Z"
   },
   {
    "duration": 396,
    "start_time": "2022-08-15T13:46:35.412Z"
   },
   {
    "duration": 256,
    "start_time": "2022-08-15T13:46:35.809Z"
   },
   {
    "duration": 941,
    "start_time": "2022-08-15T13:46:36.067Z"
   },
   {
    "duration": 13,
    "start_time": "2022-08-15T13:46:37.010Z"
   },
   {
    "duration": 17,
    "start_time": "2022-08-15T13:46:37.025Z"
   },
   {
    "duration": 207,
    "start_time": "2022-08-15T13:46:37.043Z"
   },
   {
    "duration": 201,
    "start_time": "2022-08-15T13:46:37.252Z"
   },
   {
    "duration": 1167,
    "start_time": "2022-08-15T13:49:05.542Z"
   },
   {
    "duration": 87,
    "start_time": "2022-08-15T13:49:06.711Z"
   },
   {
    "duration": 40,
    "start_time": "2022-08-15T13:49:06.799Z"
   },
   {
    "duration": 19,
    "start_time": "2022-08-15T13:49:06.842Z"
   },
   {
    "duration": 22,
    "start_time": "2022-08-15T13:49:06.863Z"
   },
   {
    "duration": 18,
    "start_time": "2022-08-15T13:49:06.887Z"
   },
   {
    "duration": 24,
    "start_time": "2022-08-15T13:49:06.907Z"
   },
   {
    "duration": 13,
    "start_time": "2022-08-15T13:49:06.934Z"
   },
   {
    "duration": 6,
    "start_time": "2022-08-15T13:49:06.949Z"
   },
   {
    "duration": 10,
    "start_time": "2022-08-15T13:49:06.957Z"
   },
   {
    "duration": 10,
    "start_time": "2022-08-15T13:49:06.968Z"
   },
   {
    "duration": 30,
    "start_time": "2022-08-15T13:49:06.980Z"
   },
   {
    "duration": 9,
    "start_time": "2022-08-15T13:49:07.012Z"
   },
   {
    "duration": 14,
    "start_time": "2022-08-15T13:49:07.022Z"
   },
   {
    "duration": 49,
    "start_time": "2022-08-15T13:49:07.038Z"
   },
   {
    "duration": 146,
    "start_time": "2022-08-15T13:49:07.089Z"
   },
   {
    "duration": 3,
    "start_time": "2022-08-15T13:49:07.237Z"
   },
   {
    "duration": 19,
    "start_time": "2022-08-15T13:49:07.242Z"
   },
   {
    "duration": 4,
    "start_time": "2022-08-15T13:49:07.262Z"
   },
   {
    "duration": 9,
    "start_time": "2022-08-15T13:49:07.267Z"
   },
   {
    "duration": 43,
    "start_time": "2022-08-15T13:49:07.278Z"
   },
   {
    "duration": 406,
    "start_time": "2022-08-15T13:49:07.323Z"
   },
   {
    "duration": 12,
    "start_time": "2022-08-15T13:49:07.731Z"
   },
   {
    "duration": 365,
    "start_time": "2022-08-15T13:49:07.745Z"
   },
   {
    "duration": 541,
    "start_time": "2022-08-15T13:49:08.112Z"
   },
   {
    "duration": 26,
    "start_time": "2022-08-15T13:49:08.655Z"
   },
   {
    "duration": 7,
    "start_time": "2022-08-15T13:49:08.683Z"
   },
   {
    "duration": 191,
    "start_time": "2022-08-15T13:49:08.705Z"
   },
   {
    "duration": 401,
    "start_time": "2022-08-15T13:49:08.898Z"
   },
   {
    "duration": 393,
    "start_time": "2022-08-15T13:49:09.305Z"
   },
   {
    "duration": 404,
    "start_time": "2022-08-15T13:49:09.700Z"
   },
   {
    "duration": 237,
    "start_time": "2022-08-15T13:49:10.106Z"
   },
   {
    "duration": 840,
    "start_time": "2022-08-15T13:49:10.344Z"
   },
   {
    "duration": 15,
    "start_time": "2022-08-15T13:49:11.186Z"
   },
   {
    "duration": 11,
    "start_time": "2022-08-15T13:49:11.202Z"
   },
   {
    "duration": 219,
    "start_time": "2022-08-15T13:49:11.214Z"
   },
   {
    "duration": 212,
    "start_time": "2022-08-15T13:49:11.434Z"
   },
   {
    "duration": 1390,
    "start_time": "2022-08-16T09:28:17.539Z"
   },
   {
    "duration": 230,
    "start_time": "2022-08-16T09:28:18.932Z"
   },
   {
    "duration": 99,
    "start_time": "2022-08-16T09:28:19.164Z"
   },
   {
    "duration": 18,
    "start_time": "2022-08-16T09:28:19.265Z"
   },
   {
    "duration": 39,
    "start_time": "2022-08-16T09:28:19.285Z"
   },
   {
    "duration": 23,
    "start_time": "2022-08-16T09:28:19.327Z"
   },
   {
    "duration": 18,
    "start_time": "2022-08-16T09:28:19.352Z"
   },
   {
    "duration": 9,
    "start_time": "2022-08-16T09:28:19.371Z"
   },
   {
    "duration": 32,
    "start_time": "2022-08-16T09:28:19.382Z"
   },
   {
    "duration": 13,
    "start_time": "2022-08-16T09:28:19.417Z"
   },
   {
    "duration": 3,
    "start_time": "2022-08-16T09:28:19.432Z"
   },
   {
    "duration": 25,
    "start_time": "2022-08-16T09:28:19.437Z"
   },
   {
    "duration": 9,
    "start_time": "2022-08-16T09:28:19.463Z"
   },
   {
    "duration": 12,
    "start_time": "2022-08-16T09:28:19.474Z"
   },
   {
    "duration": 59,
    "start_time": "2022-08-16T09:28:19.504Z"
   },
   {
    "duration": 159,
    "start_time": "2022-08-16T09:28:19.565Z"
   },
   {
    "duration": 6,
    "start_time": "2022-08-16T09:28:19.726Z"
   },
   {
    "duration": 21,
    "start_time": "2022-08-16T09:28:19.733Z"
   },
   {
    "duration": 9,
    "start_time": "2022-08-16T09:28:19.756Z"
   },
   {
    "duration": 12,
    "start_time": "2022-08-16T09:28:19.766Z"
   },
   {
    "duration": 51,
    "start_time": "2022-08-16T09:28:19.779Z"
   },
   {
    "duration": 476,
    "start_time": "2022-08-16T09:28:19.832Z"
   },
   {
    "duration": 14,
    "start_time": "2022-08-16T09:28:20.310Z"
   },
   {
    "duration": 386,
    "start_time": "2022-08-16T09:28:20.326Z"
   },
   {
    "duration": 591,
    "start_time": "2022-08-16T09:28:20.714Z"
   },
   {
    "duration": 31,
    "start_time": "2022-08-16T09:28:21.309Z"
   },
   {
    "duration": 6,
    "start_time": "2022-08-16T09:28:21.341Z"
   },
   {
    "duration": 225,
    "start_time": "2022-08-16T09:28:21.351Z"
   },
   {
    "duration": 466,
    "start_time": "2022-08-16T09:28:21.578Z"
   },
   {
    "duration": 507,
    "start_time": "2022-08-16T09:28:22.046Z"
   },
   {
    "duration": 467,
    "start_time": "2022-08-16T09:28:22.555Z"
   },
   {
    "duration": 260,
    "start_time": "2022-08-16T09:28:23.024Z"
   },
   {
    "duration": 975,
    "start_time": "2022-08-16T09:28:23.286Z"
   },
   {
    "duration": 18,
    "start_time": "2022-08-16T09:28:24.263Z"
   },
   {
    "duration": 18,
    "start_time": "2022-08-16T09:28:24.284Z"
   },
   {
    "duration": 260,
    "start_time": "2022-08-16T09:28:24.305Z"
   },
   {
    "duration": 232,
    "start_time": "2022-08-16T09:28:24.566Z"
   },
   {
    "duration": 3,
    "start_time": "2022-08-16T09:34:11.394Z"
   },
   {
    "duration": 98,
    "start_time": "2022-08-16T09:34:11.400Z"
   },
   {
    "duration": 43,
    "start_time": "2022-08-16T09:34:11.500Z"
   },
   {
    "duration": 21,
    "start_time": "2022-08-16T09:34:11.545Z"
   },
   {
    "duration": 23,
    "start_time": "2022-08-16T09:34:11.568Z"
   },
   {
    "duration": 19,
    "start_time": "2022-08-16T09:34:11.593Z"
   },
   {
    "duration": 30,
    "start_time": "2022-08-16T09:34:15.717Z"
   },
   {
    "duration": 6,
    "start_time": "2022-08-16T09:34:27.832Z"
   },
   {
    "duration": 524,
    "start_time": "2022-08-16T09:35:30.450Z"
   },
   {
    "duration": 4,
    "start_time": "2022-08-16T09:36:00.681Z"
   },
   {
    "duration": 6,
    "start_time": "2022-08-16T09:36:06.011Z"
   },
   {
    "duration": 4,
    "start_time": "2022-08-16T09:36:15.704Z"
   },
   {
    "duration": 5,
    "start_time": "2022-08-16T09:36:25.664Z"
   },
   {
    "duration": 13,
    "start_time": "2022-08-16T09:37:13.121Z"
   },
   {
    "duration": 83,
    "start_time": "2022-08-16T09:37:18.176Z"
   },
   {
    "duration": 24,
    "start_time": "2022-08-16T09:37:28.454Z"
   },
   {
    "duration": 28,
    "start_time": "2022-08-16T09:37:37.724Z"
   },
   {
    "duration": 23,
    "start_time": "2022-08-16T09:37:42.200Z"
   },
   {
    "duration": 9,
    "start_time": "2022-08-16T09:37:53.963Z"
   },
   {
    "duration": 12,
    "start_time": "2022-08-16T09:37:58.603Z"
   },
   {
    "duration": 12,
    "start_time": "2022-08-16T09:38:18.626Z"
   },
   {
    "duration": 10,
    "start_time": "2022-08-16T09:38:39.892Z"
   },
   {
    "duration": 351,
    "start_time": "2022-08-16T09:39:39.517Z"
   },
   {
    "duration": 238,
    "start_time": "2022-08-16T09:40:08.300Z"
   },
   {
    "duration": 445,
    "start_time": "2022-08-16T09:40:13.938Z"
   },
   {
    "duration": 6,
    "start_time": "2022-08-16T09:40:21.201Z"
   },
   {
    "duration": 349,
    "start_time": "2022-08-16T09:41:02.769Z"
   },
   {
    "duration": 89,
    "start_time": "2022-08-16T09:41:12.766Z"
   },
   {
    "duration": 383,
    "start_time": "2022-08-16T09:41:19.870Z"
   },
   {
    "duration": 324,
    "start_time": "2022-08-16T09:41:29.690Z"
   },
   {
    "duration": 10,
    "start_time": "2022-08-16T09:41:47.502Z"
   },
   {
    "duration": 4,
    "start_time": "2022-08-16T09:41:55.552Z"
   },
   {
    "duration": 326,
    "start_time": "2022-08-16T09:42:03.309Z"
   },
   {
    "duration": 375,
    "start_time": "2022-08-16T09:43:09.999Z"
   },
   {
    "duration": 3,
    "start_time": "2022-08-16T09:43:31.688Z"
   },
   {
    "duration": 103,
    "start_time": "2022-08-16T09:43:31.693Z"
   },
   {
    "duration": 44,
    "start_time": "2022-08-16T09:43:31.798Z"
   },
   {
    "duration": 17,
    "start_time": "2022-08-16T09:43:31.845Z"
   },
   {
    "duration": 27,
    "start_time": "2022-08-16T09:43:31.864Z"
   },
   {
    "duration": 24,
    "start_time": "2022-08-16T09:43:31.893Z"
   },
   {
    "duration": 11,
    "start_time": "2022-08-16T09:43:34.758Z"
   },
   {
    "duration": 13,
    "start_time": "2022-08-16T09:43:58.622Z"
   },
   {
    "duration": 21,
    "start_time": "2022-08-16T09:44:44.338Z"
   },
   {
    "duration": 73,
    "start_time": "2022-08-16T09:47:55.819Z"
   },
   {
    "duration": 80,
    "start_time": "2022-08-16T09:49:50.782Z"
   },
   {
    "duration": 116,
    "start_time": "2022-08-16T09:50:27.307Z"
   },
   {
    "duration": 13,
    "start_time": "2022-08-16T09:51:19.944Z"
   },
   {
    "duration": 3,
    "start_time": "2022-08-16T09:51:27.918Z"
   },
   {
    "duration": 107,
    "start_time": "2022-08-16T09:51:27.924Z"
   },
   {
    "duration": 40,
    "start_time": "2022-08-16T09:51:28.033Z"
   },
   {
    "duration": 19,
    "start_time": "2022-08-16T09:51:28.076Z"
   },
   {
    "duration": 25,
    "start_time": "2022-08-16T09:51:28.097Z"
   },
   {
    "duration": 18,
    "start_time": "2022-08-16T09:51:28.124Z"
   },
   {
    "duration": 24,
    "start_time": "2022-08-16T09:51:28.144Z"
   },
   {
    "duration": 11,
    "start_time": "2022-08-16T09:51:28.169Z"
   },
   {
    "duration": 24,
    "start_time": "2022-08-16T09:51:28.182Z"
   },
   {
    "duration": 8,
    "start_time": "2022-08-16T09:51:28.210Z"
   },
   {
    "duration": 14,
    "start_time": "2022-08-16T09:51:28.220Z"
   },
   {
    "duration": 31,
    "start_time": "2022-08-16T09:51:28.236Z"
   },
   {
    "duration": 10,
    "start_time": "2022-08-16T09:51:28.269Z"
   },
   {
    "duration": 29,
    "start_time": "2022-08-16T09:51:28.281Z"
   },
   {
    "duration": 55,
    "start_time": "2022-08-16T09:51:28.312Z"
   },
   {
    "duration": 275,
    "start_time": "2022-08-16T09:51:28.369Z"
   },
   {
    "duration": 4,
    "start_time": "2022-08-16T09:51:28.646Z"
   },
   {
    "duration": 33,
    "start_time": "2022-08-16T09:51:28.652Z"
   },
   {
    "duration": 30,
    "start_time": "2022-08-16T09:51:28.687Z"
   },
   {
    "duration": 10,
    "start_time": "2022-08-16T09:51:32.451Z"
   },
   {
    "duration": 9,
    "start_time": "2022-08-16T09:51:43.574Z"
   },
   {
    "duration": 380,
    "start_time": "2022-08-16T10:04:17.612Z"
   },
   {
    "duration": 419,
    "start_time": "2022-08-16T10:04:25.781Z"
   },
   {
    "duration": 370,
    "start_time": "2022-08-16T10:04:29.195Z"
   },
   {
    "duration": 82,
    "start_time": "2022-08-16T13:16:45.091Z"
   },
   {
    "duration": 69,
    "start_time": "2022-08-16T13:17:12.676Z"
   },
   {
    "duration": 1509,
    "start_time": "2022-08-16T13:17:19.531Z"
   },
   {
    "duration": 279,
    "start_time": "2022-08-16T13:17:21.042Z"
   },
   {
    "duration": 75,
    "start_time": "2022-08-16T13:17:21.325Z"
   },
   {
    "duration": 35,
    "start_time": "2022-08-16T13:17:21.402Z"
   },
   {
    "duration": 33,
    "start_time": "2022-08-16T13:17:21.440Z"
   },
   {
    "duration": 29,
    "start_time": "2022-08-16T13:17:21.475Z"
   },
   {
    "duration": 26,
    "start_time": "2022-08-16T13:17:21.513Z"
   },
   {
    "duration": 10,
    "start_time": "2022-08-16T13:17:21.541Z"
   },
   {
    "duration": 6,
    "start_time": "2022-08-16T13:17:21.553Z"
   },
   {
    "duration": 8,
    "start_time": "2022-08-16T13:17:21.561Z"
   },
   {
    "duration": 6,
    "start_time": "2022-08-16T13:17:21.570Z"
   },
   {
    "duration": 59,
    "start_time": "2022-08-16T13:17:21.578Z"
   },
   {
    "duration": 10,
    "start_time": "2022-08-16T13:17:21.639Z"
   },
   {
    "duration": 9,
    "start_time": "2022-08-16T13:17:21.653Z"
   },
   {
    "duration": 81,
    "start_time": "2022-08-16T13:17:21.664Z"
   },
   {
    "duration": 164,
    "start_time": "2022-08-16T13:17:21.746Z"
   },
   {
    "duration": 7,
    "start_time": "2022-08-16T13:17:21.920Z"
   },
   {
    "duration": 27,
    "start_time": "2022-08-16T13:17:21.929Z"
   },
   {
    "duration": 4,
    "start_time": "2022-08-16T13:17:21.958Z"
   },
   {
    "duration": 17,
    "start_time": "2022-08-16T13:17:21.964Z"
   },
   {
    "duration": 48,
    "start_time": "2022-08-16T13:17:21.983Z"
   },
   {
    "duration": 500,
    "start_time": "2022-08-16T13:17:22.033Z"
   },
   {
    "duration": 14,
    "start_time": "2022-08-16T13:17:22.535Z"
   },
   {
    "duration": 420,
    "start_time": "2022-08-16T13:17:22.551Z"
   },
   {
    "duration": 670,
    "start_time": "2022-08-16T13:17:22.973Z"
   },
   {
    "duration": 27,
    "start_time": "2022-08-16T13:17:23.644Z"
   },
   {
    "duration": 5,
    "start_time": "2022-08-16T13:17:23.672Z"
   },
   {
    "duration": 254,
    "start_time": "2022-08-16T13:17:23.678Z"
   },
   {
    "duration": 431,
    "start_time": "2022-08-16T13:17:23.934Z"
   },
   {
    "duration": 462,
    "start_time": "2022-08-16T13:17:24.367Z"
   },
   {
    "duration": 454,
    "start_time": "2022-08-16T13:17:24.831Z"
   },
   {
    "duration": 277,
    "start_time": "2022-08-16T13:17:25.287Z"
   },
   {
    "duration": 1111,
    "start_time": "2022-08-16T13:17:25.566Z"
   },
   {
    "duration": 17,
    "start_time": "2022-08-16T13:17:26.679Z"
   },
   {
    "duration": 59,
    "start_time": "2022-08-16T13:17:26.698Z"
   },
   {
    "duration": 274,
    "start_time": "2022-08-16T13:17:26.760Z"
   },
   {
    "duration": 271,
    "start_time": "2022-08-16T13:17:27.036Z"
   },
   {
    "duration": 23,
    "start_time": "2022-08-16T13:18:30.772Z"
   },
   {
    "duration": 27,
    "start_time": "2022-08-16T13:19:53.112Z"
   },
   {
    "duration": 135,
    "start_time": "2022-08-16T13:20:12.291Z"
   },
   {
    "duration": 21,
    "start_time": "2022-08-16T13:20:19.436Z"
   },
   {
    "duration": 14,
    "start_time": "2022-08-16T13:20:28.250Z"
   },
   {
    "duration": 28,
    "start_time": "2022-08-16T13:20:48.611Z"
   },
   {
    "duration": 22,
    "start_time": "2022-08-16T13:21:38.324Z"
   },
   {
    "duration": 34,
    "start_time": "2022-08-16T13:21:49.904Z"
   },
   {
    "duration": 31,
    "start_time": "2022-08-16T13:21:58.930Z"
   },
   {
    "duration": 21,
    "start_time": "2022-08-16T13:22:06.137Z"
   },
   {
    "duration": 20,
    "start_time": "2022-08-16T13:22:32.817Z"
   },
   {
    "duration": 17,
    "start_time": "2022-08-16T13:22:39.761Z"
   },
   {
    "duration": 413,
    "start_time": "2022-08-16T13:25:34.580Z"
   },
   {
    "duration": 19,
    "start_time": "2022-08-16T13:27:28.273Z"
   },
   {
    "duration": 17,
    "start_time": "2022-08-16T13:27:35.281Z"
   },
   {
    "duration": 11,
    "start_time": "2022-08-16T13:27:48.001Z"
   },
   {
    "duration": 4,
    "start_time": "2022-08-16T13:28:58.805Z"
   },
   {
    "duration": 3,
    "start_time": "2022-08-16T13:29:11.338Z"
   },
   {
    "duration": 9,
    "start_time": "2022-08-16T13:29:27.338Z"
   },
   {
    "duration": 291,
    "start_time": "2022-08-16T13:29:37.454Z"
   },
   {
    "duration": 13,
    "start_time": "2022-08-16T13:29:48.950Z"
   },
   {
    "duration": 7,
    "start_time": "2022-08-16T13:30:04.400Z"
   },
   {
    "duration": 7,
    "start_time": "2022-08-16T13:30:14.387Z"
   },
   {
    "duration": 6,
    "start_time": "2022-08-16T13:30:23.666Z"
   },
   {
    "duration": 7,
    "start_time": "2022-08-16T13:30:40.758Z"
   },
   {
    "duration": 17,
    "start_time": "2022-08-16T13:31:04.678Z"
   },
   {
    "duration": 22,
    "start_time": "2022-08-16T13:31:14.290Z"
   },
   {
    "duration": 23,
    "start_time": "2022-08-16T13:31:44.930Z"
   },
   {
    "duration": 546,
    "start_time": "2022-08-16T13:33:16.218Z"
   },
   {
    "duration": 408,
    "start_time": "2022-08-16T13:33:23.451Z"
   },
   {
    "duration": 421,
    "start_time": "2022-08-16T13:34:56.000Z"
   },
   {
    "duration": 396,
    "start_time": "2022-08-16T13:35:02.449Z"
   },
   {
    "duration": 297,
    "start_time": "2022-08-16T13:38:28.755Z"
   },
   {
    "duration": 274,
    "start_time": "2022-08-16T13:38:37.495Z"
   },
   {
    "duration": 1732,
    "start_time": "2022-08-16T14:49:00.101Z"
   },
   {
    "duration": 325,
    "start_time": "2022-08-16T14:49:01.835Z"
   },
   {
    "duration": 74,
    "start_time": "2022-08-16T14:49:02.162Z"
   },
   {
    "duration": 20,
    "start_time": "2022-08-16T14:49:02.238Z"
   },
   {
    "duration": 59,
    "start_time": "2022-08-16T14:49:02.260Z"
   },
   {
    "duration": 42,
    "start_time": "2022-08-16T14:49:02.321Z"
   },
   {
    "duration": 41,
    "start_time": "2022-08-16T14:49:02.364Z"
   },
   {
    "duration": 11,
    "start_time": "2022-08-16T14:49:02.406Z"
   },
   {
    "duration": 12,
    "start_time": "2022-08-16T14:49:02.419Z"
   },
   {
    "duration": 32,
    "start_time": "2022-08-16T14:49:02.432Z"
   },
   {
    "duration": 50,
    "start_time": "2022-08-16T14:49:02.466Z"
   },
   {
    "duration": 24,
    "start_time": "2022-08-16T14:49:02.518Z"
   },
   {
    "duration": 44,
    "start_time": "2022-08-16T14:49:02.543Z"
   },
   {
    "duration": 67,
    "start_time": "2022-08-16T14:49:02.591Z"
   },
   {
    "duration": 53,
    "start_time": "2022-08-16T14:49:02.659Z"
   },
   {
    "duration": 132,
    "start_time": "2022-08-16T14:49:02.713Z"
   },
   {
    "duration": 4,
    "start_time": "2022-08-16T14:49:02.847Z"
   },
   {
    "duration": 21,
    "start_time": "2022-08-16T14:49:02.852Z"
   },
   {
    "duration": 10,
    "start_time": "2022-08-16T14:49:02.875Z"
   },
   {
    "duration": 13,
    "start_time": "2022-08-16T14:49:02.886Z"
   },
   {
    "duration": 22,
    "start_time": "2022-08-16T14:49:02.909Z"
   },
   {
    "duration": 2096,
    "start_time": "2022-08-16T14:49:02.932Z"
   },
   {
    "duration": 0,
    "start_time": "2022-08-16T14:49:05.029Z"
   },
   {
    "duration": 0,
    "start_time": "2022-08-16T14:49:05.031Z"
   },
   {
    "duration": 0,
    "start_time": "2022-08-16T14:49:05.032Z"
   },
   {
    "duration": 0,
    "start_time": "2022-08-16T14:49:05.034Z"
   },
   {
    "duration": 0,
    "start_time": "2022-08-16T14:49:05.036Z"
   },
   {
    "duration": 0,
    "start_time": "2022-08-16T14:49:05.037Z"
   },
   {
    "duration": 0,
    "start_time": "2022-08-16T14:49:05.039Z"
   },
   {
    "duration": 0,
    "start_time": "2022-08-16T14:49:05.040Z"
   },
   {
    "duration": 0,
    "start_time": "2022-08-16T14:49:05.042Z"
   },
   {
    "duration": 0,
    "start_time": "2022-08-16T14:49:05.043Z"
   },
   {
    "duration": 0,
    "start_time": "2022-08-16T14:49:05.045Z"
   },
   {
    "duration": 0,
    "start_time": "2022-08-16T14:49:05.047Z"
   },
   {
    "duration": 0,
    "start_time": "2022-08-16T14:49:05.048Z"
   },
   {
    "duration": 0,
    "start_time": "2022-08-16T14:49:05.109Z"
   },
   {
    "duration": 0,
    "start_time": "2022-08-16T14:49:05.112Z"
   },
   {
    "duration": 0,
    "start_time": "2022-08-16T14:49:05.114Z"
   },
   {
    "duration": 28,
    "start_time": "2022-08-16T14:50:19.970Z"
   },
   {
    "duration": 10,
    "start_time": "2022-08-16T14:50:34.102Z"
   },
   {
    "duration": 8,
    "start_time": "2022-08-16T14:50:57.796Z"
   },
   {
    "duration": 29,
    "start_time": "2022-08-16T14:51:04.184Z"
   },
   {
    "duration": 10,
    "start_time": "2022-08-16T14:54:24.095Z"
   },
   {
    "duration": 316,
    "start_time": "2022-08-16T14:54:25.663Z"
   },
   {
    "duration": 8,
    "start_time": "2022-08-16T14:54:54.917Z"
   },
   {
    "duration": 28,
    "start_time": "2022-08-16T14:55:12.893Z"
   },
   {
    "duration": 14,
    "start_time": "2022-08-16T14:55:28.689Z"
   },
   {
    "duration": 13,
    "start_time": "2022-08-16T14:55:33.365Z"
   },
   {
    "duration": 31,
    "start_time": "2022-08-16T14:55:40.886Z"
   },
   {
    "duration": 11,
    "start_time": "2022-08-16T14:55:49.413Z"
   },
   {
    "duration": 8,
    "start_time": "2022-08-16T14:55:55.131Z"
   },
   {
    "duration": 11,
    "start_time": "2022-08-16T14:56:00.853Z"
   },
   {
    "duration": 10,
    "start_time": "2022-08-16T14:56:21.746Z"
   },
   {
    "duration": 10,
    "start_time": "2022-08-16T14:56:54.416Z"
   },
   {
    "duration": 9,
    "start_time": "2022-08-16T14:57:06.862Z"
   },
   {
    "duration": 8,
    "start_time": "2022-08-16T14:57:09.945Z"
   },
   {
    "duration": 5,
    "start_time": "2022-08-16T14:57:15.775Z"
   },
   {
    "duration": 10,
    "start_time": "2022-08-16T14:57:18.969Z"
   },
   {
    "duration": 49,
    "start_time": "2022-08-17T01:18:46.856Z"
   },
   {
    "duration": 9,
    "start_time": "2022-08-17T01:19:17.114Z"
   },
   {
    "duration": 7,
    "start_time": "2022-08-17T01:19:38.825Z"
   },
   {
    "duration": 1306,
    "start_time": "2022-08-17T01:19:51.611Z"
   },
   {
    "duration": 339,
    "start_time": "2022-08-17T01:19:52.920Z"
   },
   {
    "duration": 79,
    "start_time": "2022-08-17T01:19:53.261Z"
   },
   {
    "duration": 19,
    "start_time": "2022-08-17T01:19:53.342Z"
   },
   {
    "duration": 22,
    "start_time": "2022-08-17T01:19:53.363Z"
   },
   {
    "duration": 19,
    "start_time": "2022-08-17T01:19:53.386Z"
   },
   {
    "duration": 17,
    "start_time": "2022-08-17T01:19:53.407Z"
   },
   {
    "duration": 31,
    "start_time": "2022-08-17T01:19:53.426Z"
   },
   {
    "duration": 11,
    "start_time": "2022-08-17T01:19:53.459Z"
   },
   {
    "duration": 16,
    "start_time": "2022-08-17T01:19:53.471Z"
   },
   {
    "duration": 12,
    "start_time": "2022-08-17T01:19:53.488Z"
   },
   {
    "duration": 28,
    "start_time": "2022-08-17T01:19:53.501Z"
   },
   {
    "duration": 9,
    "start_time": "2022-08-17T01:19:53.531Z"
   },
   {
    "duration": 8,
    "start_time": "2022-08-17T01:19:53.542Z"
   },
   {
    "duration": 62,
    "start_time": "2022-08-17T01:19:53.552Z"
   },
   {
    "duration": 138,
    "start_time": "2022-08-17T01:19:53.616Z"
   },
   {
    "duration": 3,
    "start_time": "2022-08-17T01:19:53.756Z"
   },
   {
    "duration": 22,
    "start_time": "2022-08-17T01:19:53.760Z"
   },
   {
    "duration": 4,
    "start_time": "2022-08-17T01:19:53.784Z"
   },
   {
    "duration": 31,
    "start_time": "2022-08-17T01:19:53.789Z"
   },
   {
    "duration": 26,
    "start_time": "2022-08-17T01:19:53.822Z"
   },
   {
    "duration": 415,
    "start_time": "2022-08-17T01:19:53.850Z"
   },
   {
    "duration": 12,
    "start_time": "2022-08-17T01:19:54.267Z"
   },
   {
    "duration": 333,
    "start_time": "2022-08-17T01:19:54.281Z"
   },
   {
    "duration": 233,
    "start_time": "2022-08-17T01:19:54.615Z"
   },
   {
    "duration": 528,
    "start_time": "2022-08-17T01:19:54.850Z"
   },
   {
    "duration": 38,
    "start_time": "2022-08-17T01:19:55.380Z"
   },
   {
    "duration": 4,
    "start_time": "2022-08-17T01:19:55.420Z"
   },
   {
    "duration": 188,
    "start_time": "2022-08-17T01:19:55.426Z"
   },
   {
    "duration": 388,
    "start_time": "2022-08-17T01:19:55.616Z"
   },
   {
    "duration": 402,
    "start_time": "2022-08-17T01:19:56.009Z"
   },
   {
    "duration": 378,
    "start_time": "2022-08-17T01:19:56.412Z"
   },
   {
    "duration": 208,
    "start_time": "2022-08-17T01:19:56.792Z"
   },
   {
    "duration": 922,
    "start_time": "2022-08-17T01:19:57.008Z"
   },
   {
    "duration": 15,
    "start_time": "2022-08-17T01:19:57.932Z"
   },
   {
    "duration": 11,
    "start_time": "2022-08-17T01:19:57.949Z"
   },
   {
    "duration": 215,
    "start_time": "2022-08-17T01:19:57.962Z"
   },
   {
    "duration": 206,
    "start_time": "2022-08-17T01:19:58.179Z"
   },
   {
    "duration": 383,
    "start_time": "2022-08-17T01:22:25.295Z"
   },
   {
    "duration": 381,
    "start_time": "2022-08-17T01:23:34.014Z"
   },
   {
    "duration": 57,
    "start_time": "2022-08-17T01:23:44.490Z"
   },
   {
    "duration": 224,
    "start_time": "2022-08-17T01:23:52.806Z"
   },
   {
    "duration": 15,
    "start_time": "2022-08-17T01:24:05.959Z"
   },
   {
    "duration": 13,
    "start_time": "2022-08-17T01:24:19.460Z"
   },
   {
    "duration": 14,
    "start_time": "2022-08-17T01:24:34.986Z"
   },
   {
    "duration": 201,
    "start_time": "2022-08-17T01:25:15.990Z"
   },
   {
    "duration": 25,
    "start_time": "2022-08-17T01:25:39.563Z"
   },
   {
    "duration": 254,
    "start_time": "2022-08-17T01:25:48.970Z"
   },
   {
    "duration": 53,
    "start_time": "2022-08-17T01:25:58.907Z"
   },
   {
    "duration": 295,
    "start_time": "2022-08-17T01:26:46.327Z"
   },
   {
    "duration": 298,
    "start_time": "2022-08-17T02:01:22.756Z"
   },
   {
    "duration": 336,
    "start_time": "2022-08-17T02:01:35.831Z"
   },
   {
    "duration": 308,
    "start_time": "2022-08-17T02:02:45.531Z"
   },
   {
    "duration": 303,
    "start_time": "2022-08-17T02:03:28.772Z"
   },
   {
    "duration": 305,
    "start_time": "2022-08-17T02:03:54.782Z"
   },
   {
    "duration": 22,
    "start_time": "2022-08-17T02:16:43.366Z"
   },
   {
    "duration": 28,
    "start_time": "2022-08-17T02:16:57.320Z"
   },
   {
    "duration": 26,
    "start_time": "2022-08-17T02:17:23.213Z"
   },
   {
    "duration": 232,
    "start_time": "2022-08-17T02:18:39.700Z"
   },
   {
    "duration": 473,
    "start_time": "2022-08-17T02:18:53.686Z"
   },
   {
    "duration": 71,
    "start_time": "2022-08-17T02:20:23.441Z"
   },
   {
    "duration": 79,
    "start_time": "2022-08-17T02:20:44.791Z"
   },
   {
    "duration": 62,
    "start_time": "2022-08-17T02:22:37.595Z"
   },
   {
    "duration": 52,
    "start_time": "2022-08-17T02:22:45.112Z"
   },
   {
    "duration": 1136,
    "start_time": "2022-08-17T02:23:00.369Z"
   },
   {
    "duration": 90,
    "start_time": "2022-08-17T02:23:01.510Z"
   },
   {
    "duration": 40,
    "start_time": "2022-08-17T02:23:01.602Z"
   },
   {
    "duration": 21,
    "start_time": "2022-08-17T02:23:01.645Z"
   },
   {
    "duration": 40,
    "start_time": "2022-08-17T02:23:01.668Z"
   },
   {
    "duration": 27,
    "start_time": "2022-08-17T02:23:01.710Z"
   },
   {
    "duration": 18,
    "start_time": "2022-08-17T02:23:01.738Z"
   },
   {
    "duration": 41,
    "start_time": "2022-08-17T02:23:01.758Z"
   },
   {
    "duration": 9,
    "start_time": "2022-08-17T02:23:01.801Z"
   },
   {
    "duration": 29,
    "start_time": "2022-08-17T02:23:01.814Z"
   },
   {
    "duration": 21,
    "start_time": "2022-08-17T02:23:01.845Z"
   },
   {
    "duration": 32,
    "start_time": "2022-08-17T02:23:01.868Z"
   },
   {
    "duration": 15,
    "start_time": "2022-08-17T02:23:01.902Z"
   },
   {
    "duration": 21,
    "start_time": "2022-08-17T02:23:01.919Z"
   },
   {
    "duration": 56,
    "start_time": "2022-08-17T02:23:01.942Z"
   },
   {
    "duration": 128,
    "start_time": "2022-08-17T02:23:01.999Z"
   },
   {
    "duration": 4,
    "start_time": "2022-08-17T02:23:02.128Z"
   },
   {
    "duration": 25,
    "start_time": "2022-08-17T02:23:02.134Z"
   },
   {
    "duration": 13,
    "start_time": "2022-08-17T02:23:02.162Z"
   },
   {
    "duration": 14,
    "start_time": "2022-08-17T02:23:02.177Z"
   },
   {
    "duration": 33,
    "start_time": "2022-08-17T02:23:02.193Z"
   },
   {
    "duration": 383,
    "start_time": "2022-08-17T02:23:02.228Z"
   },
   {
    "duration": 12,
    "start_time": "2022-08-17T02:23:02.613Z"
   },
   {
    "duration": 336,
    "start_time": "2022-08-17T02:23:02.626Z"
   },
   {
    "duration": 79,
    "start_time": "2022-08-17T02:23:02.963Z"
   },
   {
    "duration": 0,
    "start_time": "2022-08-17T02:23:03.044Z"
   },
   {
    "duration": 0,
    "start_time": "2022-08-17T02:23:03.045Z"
   },
   {
    "duration": 0,
    "start_time": "2022-08-17T02:23:03.046Z"
   },
   {
    "duration": 0,
    "start_time": "2022-08-17T02:23:03.047Z"
   },
   {
    "duration": 0,
    "start_time": "2022-08-17T02:23:03.048Z"
   },
   {
    "duration": 0,
    "start_time": "2022-08-17T02:23:03.049Z"
   },
   {
    "duration": 0,
    "start_time": "2022-08-17T02:23:03.050Z"
   },
   {
    "duration": 0,
    "start_time": "2022-08-17T02:23:03.051Z"
   },
   {
    "duration": 0,
    "start_time": "2022-08-17T02:23:03.052Z"
   },
   {
    "duration": 0,
    "start_time": "2022-08-17T02:23:03.053Z"
   },
   {
    "duration": 0,
    "start_time": "2022-08-17T02:23:03.054Z"
   },
   {
    "duration": 0,
    "start_time": "2022-08-17T02:23:03.056Z"
   },
   {
    "duration": 0,
    "start_time": "2022-08-17T02:23:03.057Z"
   },
   {
    "duration": 29,
    "start_time": "2022-08-17T02:23:38.013Z"
   },
   {
    "duration": 474,
    "start_time": "2022-08-17T02:23:46.636Z"
   },
   {
    "duration": 393,
    "start_time": "2022-08-17T02:24:49.879Z"
   },
   {
    "duration": 410,
    "start_time": "2022-08-17T02:25:18.952Z"
   },
   {
    "duration": 338,
    "start_time": "2022-08-17T02:27:44.602Z"
   },
   {
    "duration": 426,
    "start_time": "2022-08-17T02:28:17.289Z"
   },
   {
    "duration": 404,
    "start_time": "2022-08-17T02:28:22.809Z"
   },
   {
    "duration": 473,
    "start_time": "2022-08-17T02:28:30.060Z"
   },
   {
    "duration": 356,
    "start_time": "2022-08-17T02:28:40.524Z"
   },
   {
    "duration": 372,
    "start_time": "2022-08-17T02:29:00.101Z"
   },
   {
    "duration": 448,
    "start_time": "2022-08-17T02:29:06.867Z"
   },
   {
    "duration": 420,
    "start_time": "2022-08-17T02:29:24.191Z"
   },
   {
    "duration": 423,
    "start_time": "2022-08-17T02:30:39.661Z"
   },
   {
    "duration": 485,
    "start_time": "2022-08-17T02:30:57.395Z"
   },
   {
    "duration": 353,
    "start_time": "2022-08-17T02:36:27.528Z"
   },
   {
    "duration": 380,
    "start_time": "2022-08-17T02:37:10.767Z"
   },
   {
    "duration": 392,
    "start_time": "2022-08-17T02:37:16.814Z"
   },
   {
    "duration": 360,
    "start_time": "2022-08-17T02:37:30.411Z"
   },
   {
    "duration": 426,
    "start_time": "2022-08-17T02:37:39.735Z"
   },
   {
    "duration": 402,
    "start_time": "2022-08-17T02:37:46.163Z"
   },
   {
    "duration": 410,
    "start_time": "2022-08-17T02:37:55.564Z"
   },
   {
    "duration": 83829,
    "start_time": "2022-08-17T02:38:55.694Z"
   },
   {
    "duration": 14120,
    "start_time": "2022-08-17T02:41:19.900Z"
   },
   {
    "duration": 425,
    "start_time": "2022-08-17T02:41:45.866Z"
   },
   {
    "duration": 790,
    "start_time": "2022-08-17T02:42:26.911Z"
   },
   {
    "duration": 764,
    "start_time": "2022-08-17T02:42:43.576Z"
   },
   {
    "duration": 1118,
    "start_time": "2022-08-17T02:42:55.376Z"
   },
   {
    "duration": 776,
    "start_time": "2022-08-17T02:43:07.922Z"
   },
   {
    "duration": 809,
    "start_time": "2022-08-17T02:43:18.012Z"
   },
   {
    "duration": 751,
    "start_time": "2022-08-17T02:44:41.019Z"
   },
   {
    "duration": 833,
    "start_time": "2022-08-17T02:44:50.279Z"
   },
   {
    "duration": 955,
    "start_time": "2022-08-17T02:45:07.103Z"
   },
   {
    "duration": 912,
    "start_time": "2022-08-17T02:45:33.171Z"
   },
   {
    "duration": 1414,
    "start_time": "2022-08-17T02:45:42.651Z"
   },
   {
    "duration": 916,
    "start_time": "2022-08-17T02:46:02.839Z"
   },
   {
    "duration": 923,
    "start_time": "2022-08-17T02:46:20.117Z"
   },
   {
    "duration": 1059,
    "start_time": "2022-08-17T02:47:03.089Z"
   },
   {
    "duration": 1037,
    "start_time": "2022-08-17T02:49:25.419Z"
   },
   {
    "duration": 1195,
    "start_time": "2022-08-17T02:50:26.455Z"
   },
   {
    "duration": 1000,
    "start_time": "2022-08-17T02:51:59.727Z"
   },
   {
    "duration": 940,
    "start_time": "2022-08-17T02:52:32.285Z"
   },
   {
    "duration": 773,
    "start_time": "2022-08-17T02:53:00.040Z"
   },
   {
    "duration": 1920,
    "start_time": "2022-08-17T02:53:31.723Z"
   },
   {
    "duration": 1515,
    "start_time": "2022-08-17T02:54:40.290Z"
   },
   {
    "duration": 1568,
    "start_time": "2022-08-17T02:55:23.417Z"
   },
   {
    "duration": 780,
    "start_time": "2022-08-17T02:56:07.948Z"
   },
   {
    "duration": 1291,
    "start_time": "2022-08-17T02:56:49.782Z"
   },
   {
    "duration": 1399,
    "start_time": "2022-08-17T02:57:22.389Z"
   },
   {
    "duration": 1211,
    "start_time": "2022-08-17T02:57:50.087Z"
   },
   {
    "duration": 1587,
    "start_time": "2022-08-17T02:58:30.900Z"
   },
   {
    "duration": 1512,
    "start_time": "2022-08-17T03:00:08.181Z"
   },
   {
    "duration": 1600,
    "start_time": "2022-08-17T03:00:32.071Z"
   },
   {
    "duration": 79,
    "start_time": "2022-08-17T03:00:51.377Z"
   },
   {
    "duration": 1265,
    "start_time": "2022-08-17T03:00:59.511Z"
   },
   {
    "duration": 1505,
    "start_time": "2022-08-17T03:03:34.875Z"
   },
   {
    "duration": 970,
    "start_time": "2022-08-17T03:04:48.622Z"
   },
   {
    "duration": 933,
    "start_time": "2022-08-17T03:05:21.930Z"
   },
   {
    "duration": 1029,
    "start_time": "2022-08-17T03:05:50.839Z"
   },
   {
    "duration": 1140,
    "start_time": "2022-08-17T03:08:53.219Z"
   },
   {
    "duration": 1221,
    "start_time": "2022-08-17T03:11:57.553Z"
   },
   {
    "duration": 1137,
    "start_time": "2022-08-17T03:13:25.152Z"
   },
   {
    "duration": 1266,
    "start_time": "2022-08-17T03:14:03.445Z"
   },
   {
    "duration": 1238,
    "start_time": "2022-08-17T03:14:15.649Z"
   },
   {
    "duration": 1299,
    "start_time": "2022-08-17T03:14:28.001Z"
   },
   {
    "duration": 1034,
    "start_time": "2022-08-17T03:15:41.457Z"
   },
   {
    "duration": 87,
    "start_time": "2022-08-17T03:15:42.493Z"
   },
   {
    "duration": 44,
    "start_time": "2022-08-17T03:15:42.582Z"
   },
   {
    "duration": 21,
    "start_time": "2022-08-17T03:15:42.629Z"
   },
   {
    "duration": 22,
    "start_time": "2022-08-17T03:15:42.652Z"
   },
   {
    "duration": 17,
    "start_time": "2022-08-17T03:15:42.676Z"
   },
   {
    "duration": 26,
    "start_time": "2022-08-17T03:15:42.695Z"
   },
   {
    "duration": 11,
    "start_time": "2022-08-17T03:15:42.722Z"
   },
   {
    "duration": 5,
    "start_time": "2022-08-17T03:15:42.734Z"
   },
   {
    "duration": 9,
    "start_time": "2022-08-17T03:15:42.741Z"
   },
   {
    "duration": 4,
    "start_time": "2022-08-17T03:15:42.752Z"
   },
   {
    "duration": 23,
    "start_time": "2022-08-17T03:15:42.758Z"
   },
   {
    "duration": 34,
    "start_time": "2022-08-17T03:15:42.783Z"
   },
   {
    "duration": 8,
    "start_time": "2022-08-17T03:15:42.819Z"
   },
   {
    "duration": 42,
    "start_time": "2022-08-17T03:15:42.829Z"
   },
   {
    "duration": 159,
    "start_time": "2022-08-17T03:15:42.872Z"
   },
   {
    "duration": 5,
    "start_time": "2022-08-17T03:15:43.033Z"
   },
   {
    "duration": 22,
    "start_time": "2022-08-17T03:15:43.040Z"
   },
   {
    "duration": 9,
    "start_time": "2022-08-17T03:15:43.063Z"
   },
   {
    "duration": 12,
    "start_time": "2022-08-17T03:15:43.074Z"
   },
   {
    "duration": 41,
    "start_time": "2022-08-17T03:15:43.087Z"
   },
   {
    "duration": 400,
    "start_time": "2022-08-17T03:15:43.130Z"
   },
   {
    "duration": 11,
    "start_time": "2022-08-17T03:15:43.532Z"
   },
   {
    "duration": 339,
    "start_time": "2022-08-17T03:15:43.544Z"
   },
   {
    "duration": 1180,
    "start_time": "2022-08-17T03:15:43.886Z"
   },
   {
    "duration": 467,
    "start_time": "2022-08-17T03:15:45.068Z"
   },
   {
    "duration": 24,
    "start_time": "2022-08-17T03:15:45.536Z"
   },
   {
    "duration": 10,
    "start_time": "2022-08-17T03:15:45.562Z"
   },
   {
    "duration": 192,
    "start_time": "2022-08-17T03:15:45.574Z"
   },
   {
    "duration": 426,
    "start_time": "2022-08-17T03:15:45.768Z"
   },
   {
    "duration": 381,
    "start_time": "2022-08-17T03:15:46.197Z"
   },
   {
    "duration": 493,
    "start_time": "2022-08-17T03:15:46.579Z"
   },
   {
    "duration": 247,
    "start_time": "2022-08-17T03:15:47.074Z"
   },
   {
    "duration": 892,
    "start_time": "2022-08-17T03:15:47.322Z"
   },
   {
    "duration": 14,
    "start_time": "2022-08-17T03:15:48.216Z"
   },
   {
    "duration": 11,
    "start_time": "2022-08-17T03:15:48.232Z"
   },
   {
    "duration": 219,
    "start_time": "2022-08-17T03:15:48.244Z"
   },
   {
    "duration": 207,
    "start_time": "2022-08-17T03:15:48.465Z"
   },
   {
    "duration": 1311,
    "start_time": "2022-08-17T03:16:42.460Z"
   },
   {
    "duration": 1150,
    "start_time": "2022-08-17T03:17:05.930Z"
   },
   {
    "duration": 1229,
    "start_time": "2022-08-17T03:17:21.068Z"
   },
   {
    "duration": 1288,
    "start_time": "2022-08-17T09:45:04.842Z"
   },
   {
    "duration": 319,
    "start_time": "2022-08-17T09:45:06.132Z"
   },
   {
    "duration": 75,
    "start_time": "2022-08-17T09:45:06.453Z"
   },
   {
    "duration": 18,
    "start_time": "2022-08-17T09:45:06.530Z"
   },
   {
    "duration": 20,
    "start_time": "2022-08-17T09:45:06.550Z"
   },
   {
    "duration": 18,
    "start_time": "2022-08-17T09:45:06.572Z"
   },
   {
    "duration": 23,
    "start_time": "2022-08-17T09:45:06.592Z"
   },
   {
    "duration": 10,
    "start_time": "2022-08-17T09:45:06.617Z"
   },
   {
    "duration": 9,
    "start_time": "2022-08-17T09:45:06.628Z"
   },
   {
    "duration": 11,
    "start_time": "2022-08-17T09:45:06.638Z"
   },
   {
    "duration": 8,
    "start_time": "2022-08-17T09:45:06.650Z"
   },
   {
    "duration": 27,
    "start_time": "2022-08-17T09:45:06.660Z"
   },
   {
    "duration": 20,
    "start_time": "2022-08-17T09:45:06.689Z"
   },
   {
    "duration": 8,
    "start_time": "2022-08-17T09:45:06.712Z"
   },
   {
    "duration": 46,
    "start_time": "2022-08-17T09:45:06.722Z"
   },
   {
    "duration": 139,
    "start_time": "2022-08-17T09:45:06.770Z"
   },
   {
    "duration": 4,
    "start_time": "2022-08-17T09:45:06.910Z"
   },
   {
    "duration": 25,
    "start_time": "2022-08-17T09:45:06.915Z"
   },
   {
    "duration": 3,
    "start_time": "2022-08-17T09:45:06.942Z"
   },
   {
    "duration": 17,
    "start_time": "2022-08-17T09:45:06.947Z"
   },
   {
    "duration": 21,
    "start_time": "2022-08-17T09:45:06.965Z"
   },
   {
    "duration": 454,
    "start_time": "2022-08-17T09:45:06.987Z"
   },
   {
    "duration": 11,
    "start_time": "2022-08-17T09:45:07.443Z"
   },
   {
    "duration": 330,
    "start_time": "2022-08-17T09:45:07.456Z"
   },
   {
    "duration": 1238,
    "start_time": "2022-08-17T09:45:07.788Z"
   },
   {
    "duration": 412,
    "start_time": "2022-08-17T09:45:09.028Z"
   },
   {
    "duration": 23,
    "start_time": "2022-08-17T09:45:09.442Z"
   },
   {
    "duration": 6,
    "start_time": "2022-08-17T09:45:09.466Z"
   },
   {
    "duration": 182,
    "start_time": "2022-08-17T09:45:09.473Z"
   },
   {
    "duration": 404,
    "start_time": "2022-08-17T09:45:09.657Z"
   },
   {
    "duration": 448,
    "start_time": "2022-08-17T09:45:10.063Z"
   },
   {
    "duration": 468,
    "start_time": "2022-08-17T09:45:10.513Z"
   },
   {
    "duration": 210,
    "start_time": "2022-08-17T09:45:10.983Z"
   },
   {
    "duration": 876,
    "start_time": "2022-08-17T09:45:11.194Z"
   },
   {
    "duration": 14,
    "start_time": "2022-08-17T09:45:12.072Z"
   },
   {
    "duration": 13,
    "start_time": "2022-08-17T09:45:12.087Z"
   },
   {
    "duration": 192,
    "start_time": "2022-08-17T09:45:12.102Z"
   },
   {
    "duration": 200,
    "start_time": "2022-08-17T09:45:12.296Z"
   },
   {
    "duration": 50,
    "start_time": "2022-08-17T10:14:11.519Z"
   },
   {
    "duration": 1414,
    "start_time": "2022-08-17T10:14:20.487Z"
   },
   {
    "duration": 271,
    "start_time": "2022-08-17T10:14:21.903Z"
   },
   {
    "duration": 83,
    "start_time": "2022-08-17T10:14:22.175Z"
   },
   {
    "duration": 22,
    "start_time": "2022-08-17T10:14:22.260Z"
   },
   {
    "duration": 23,
    "start_time": "2022-08-17T10:14:22.284Z"
   },
   {
    "duration": 19,
    "start_time": "2022-08-17T10:14:22.309Z"
   },
   {
    "duration": 21,
    "start_time": "2022-08-17T10:14:22.330Z"
   },
   {
    "duration": 13,
    "start_time": "2022-08-17T10:14:22.353Z"
   },
   {
    "duration": 25,
    "start_time": "2022-08-17T10:14:22.368Z"
   },
   {
    "duration": 6,
    "start_time": "2022-08-17T10:14:22.396Z"
   },
   {
    "duration": 3,
    "start_time": "2022-08-17T10:14:22.403Z"
   },
   {
    "duration": 32,
    "start_time": "2022-08-17T10:14:22.408Z"
   },
   {
    "duration": 9,
    "start_time": "2022-08-17T10:14:22.441Z"
   },
   {
    "duration": 8,
    "start_time": "2022-08-17T10:14:22.452Z"
   },
   {
    "duration": 77,
    "start_time": "2022-08-17T10:14:22.462Z"
   },
   {
    "duration": 146,
    "start_time": "2022-08-17T10:14:22.541Z"
   },
   {
    "duration": 4,
    "start_time": "2022-08-17T10:14:22.693Z"
   },
   {
    "duration": 24,
    "start_time": "2022-08-17T10:14:22.698Z"
   },
   {
    "duration": 3,
    "start_time": "2022-08-17T10:14:22.724Z"
   },
   {
    "duration": 13,
    "start_time": "2022-08-17T10:14:22.729Z"
   },
   {
    "duration": 22,
    "start_time": "2022-08-17T10:14:22.743Z"
   },
   {
    "duration": 477,
    "start_time": "2022-08-17T10:14:22.766Z"
   },
   {
    "duration": 15,
    "start_time": "2022-08-17T10:14:23.245Z"
   },
   {
    "duration": 391,
    "start_time": "2022-08-17T10:14:23.262Z"
   },
   {
    "duration": 1374,
    "start_time": "2022-08-17T10:14:23.655Z"
   },
   {
    "duration": 824,
    "start_time": "2022-08-17T10:14:25.031Z"
   },
   {
    "duration": 37,
    "start_time": "2022-08-17T10:14:25.857Z"
   },
   {
    "duration": 9,
    "start_time": "2022-08-17T10:14:25.897Z"
   },
   {
    "duration": 222,
    "start_time": "2022-08-17T10:14:25.908Z"
   },
   {
    "duration": 453,
    "start_time": "2022-08-17T10:14:26.132Z"
   },
   {
    "duration": 526,
    "start_time": "2022-08-17T10:14:26.592Z"
   },
   {
    "duration": 416,
    "start_time": "2022-08-17T10:14:27.121Z"
   },
   {
    "duration": 251,
    "start_time": "2022-08-17T10:14:27.539Z"
   },
   {
    "duration": 1077,
    "start_time": "2022-08-17T10:14:27.792Z"
   },
   {
    "duration": 21,
    "start_time": "2022-08-17T10:14:28.871Z"
   },
   {
    "duration": 15,
    "start_time": "2022-08-17T10:14:28.895Z"
   },
   {
    "duration": 259,
    "start_time": "2022-08-17T10:14:28.911Z"
   },
   {
    "duration": 258,
    "start_time": "2022-08-17T10:14:29.172Z"
   },
   {
    "duration": 111,
    "start_time": "2022-08-17T10:14:46.183Z"
   },
   {
    "duration": 19,
    "start_time": "2022-08-17T10:14:55.172Z"
   },
   {
    "duration": 18,
    "start_time": "2022-08-17T10:15:40.423Z"
   },
   {
    "duration": 9,
    "start_time": "2022-08-17T10:15:47.624Z"
   },
   {
    "duration": 20,
    "start_time": "2022-08-17T10:17:34.284Z"
   },
   {
    "duration": 682,
    "start_time": "2022-08-17T10:17:51.684Z"
   },
   {
    "duration": 23,
    "start_time": "2022-08-17T10:17:58.332Z"
   },
   {
    "duration": 22,
    "start_time": "2022-08-17T10:18:24.872Z"
   },
   {
    "duration": 166,
    "start_time": "2022-08-17T10:18:58.019Z"
   },
   {
    "duration": 250,
    "start_time": "2022-08-17T10:19:13.052Z"
   },
   {
    "duration": 228,
    "start_time": "2022-08-17T10:19:24.402Z"
   },
   {
    "duration": 283,
    "start_time": "2022-08-17T10:19:38.532Z"
   },
   {
    "duration": 131,
    "start_time": "2022-08-17T10:20:05.420Z"
   },
   {
    "duration": 287,
    "start_time": "2022-08-17T10:20:30.042Z"
   },
   {
    "duration": 297,
    "start_time": "2022-08-17T10:20:46.937Z"
   },
   {
    "duration": 141,
    "start_time": "2022-08-17T10:21:17.800Z"
   },
   {
    "duration": 457,
    "start_time": "2022-08-17T10:21:22.832Z"
   },
   {
    "duration": 80,
    "start_time": "2022-08-17T10:21:56.880Z"
   },
   {
    "duration": 282,
    "start_time": "2022-08-17T10:22:06.027Z"
   },
   {
    "duration": 291,
    "start_time": "2022-08-17T10:22:16.256Z"
   },
   {
    "duration": 323,
    "start_time": "2022-08-17T10:22:22.996Z"
   },
   {
    "duration": 357,
    "start_time": "2022-08-17T10:22:48.160Z"
   },
   {
    "duration": 294,
    "start_time": "2022-08-17T10:23:00.421Z"
   },
   {
    "duration": 427,
    "start_time": "2022-08-17T10:23:13.088Z"
   },
   {
    "duration": 280,
    "start_time": "2022-08-17T10:23:22.184Z"
   },
   {
    "duration": 278,
    "start_time": "2022-08-17T10:23:33.520Z"
   },
   {
    "duration": 284,
    "start_time": "2022-08-17T10:23:39.776Z"
   },
   {
    "duration": 346,
    "start_time": "2022-08-17T10:23:47.972Z"
   },
   {
    "duration": 290,
    "start_time": "2022-08-17T10:24:23.433Z"
   },
   {
    "duration": 128,
    "start_time": "2022-08-17T10:24:37.572Z"
   },
   {
    "duration": 290,
    "start_time": "2022-08-17T10:28:01.761Z"
   },
   {
    "duration": 293,
    "start_time": "2022-08-17T10:31:19.249Z"
   },
   {
    "duration": 282,
    "start_time": "2022-08-17T10:31:39.681Z"
   },
   {
    "duration": 273,
    "start_time": "2022-08-17T10:31:52.089Z"
   },
   {
    "duration": 285,
    "start_time": "2022-08-17T10:32:06.470Z"
   },
   {
    "duration": 279,
    "start_time": "2022-08-17T10:32:13.749Z"
   },
   {
    "duration": 409,
    "start_time": "2022-08-17T10:32:27.401Z"
   },
   {
    "duration": 333,
    "start_time": "2022-08-17T10:34:42.998Z"
   },
   {
    "duration": 302,
    "start_time": "2022-08-17T10:34:58.677Z"
   },
   {
    "duration": 289,
    "start_time": "2022-08-17T10:36:46.118Z"
   },
   {
    "duration": 342,
    "start_time": "2022-08-17T10:37:15.098Z"
   },
   {
    "duration": 307,
    "start_time": "2022-08-17T10:37:29.790Z"
   },
   {
    "duration": 295,
    "start_time": "2022-08-17T10:37:39.874Z"
   },
   {
    "duration": 323,
    "start_time": "2022-08-17T10:38:11.618Z"
   },
   {
    "duration": 314,
    "start_time": "2022-08-17T10:39:51.187Z"
   },
   {
    "duration": 304,
    "start_time": "2022-08-17T10:39:58.927Z"
   },
   {
    "duration": 326,
    "start_time": "2022-08-17T10:40:40.450Z"
   },
   {
    "duration": 371,
    "start_time": "2022-08-17T10:41:18.093Z"
   },
   {
    "duration": 313,
    "start_time": "2022-08-17T10:41:45.423Z"
   },
   {
    "duration": 658,
    "start_time": "2022-08-17T10:42:57.739Z"
   },
   {
    "duration": 447,
    "start_time": "2022-08-17T10:43:12.827Z"
   },
   {
    "duration": 459,
    "start_time": "2022-08-17T10:43:51.178Z"
   },
   {
    "duration": 308,
    "start_time": "2022-08-17T10:44:56.623Z"
   },
   {
    "duration": 80,
    "start_time": "2022-08-17T10:45:14.303Z"
   },
   {
    "duration": 298,
    "start_time": "2022-08-17T10:45:27.411Z"
   },
   {
    "duration": 95,
    "start_time": "2022-08-17T10:46:00.079Z"
   },
   {
    "duration": 305,
    "start_time": "2022-08-17T10:46:07.675Z"
   },
   {
    "duration": 315,
    "start_time": "2022-08-17T10:46:20.820Z"
   },
   {
    "duration": 342,
    "start_time": "2022-08-17T10:47:37.880Z"
   },
   {
    "duration": 287,
    "start_time": "2022-08-17T10:48:18.931Z"
   },
   {
    "duration": 291,
    "start_time": "2022-08-17T10:48:41.499Z"
   },
   {
    "duration": 315,
    "start_time": "2022-08-17T10:48:56.072Z"
   },
   {
    "duration": 468,
    "start_time": "2022-08-17T10:49:09.192Z"
   },
   {
    "duration": 295,
    "start_time": "2022-08-17T10:49:33.639Z"
   },
   {
    "duration": 309,
    "start_time": "2022-08-17T10:50:05.200Z"
   },
   {
    "duration": 413,
    "start_time": "2022-08-17T10:50:13.151Z"
   },
   {
    "duration": 421,
    "start_time": "2022-08-17T10:50:51.379Z"
   },
   {
    "duration": 307,
    "start_time": "2022-08-17T10:51:12.591Z"
   },
   {
    "duration": 413,
    "start_time": "2022-08-17T10:51:47.092Z"
   },
   {
    "duration": 423,
    "start_time": "2022-08-17T10:51:57.620Z"
   },
   {
    "duration": 390,
    "start_time": "2022-08-17T10:52:22.234Z"
   },
   {
    "duration": 571,
    "start_time": "2022-08-17T10:53:05.540Z"
   },
   {
    "duration": 493,
    "start_time": "2022-08-17T10:54:50.616Z"
   },
   {
    "duration": 459,
    "start_time": "2022-08-17T10:55:24.561Z"
   },
   {
    "duration": 311,
    "start_time": "2022-08-17T10:56:32.182Z"
   },
   {
    "duration": 291,
    "start_time": "2022-08-17T10:56:50.031Z"
   },
   {
    "duration": 293,
    "start_time": "2022-08-17T10:57:06.919Z"
   },
   {
    "duration": 798,
    "start_time": "2022-08-17T10:57:31.084Z"
   },
   {
    "duration": 282,
    "start_time": "2022-08-17T10:57:57.564Z"
   },
   {
    "duration": 336,
    "start_time": "2022-08-17T10:58:16.045Z"
   },
   {
    "duration": 22,
    "start_time": "2022-08-17T10:58:45.853Z"
   },
   {
    "duration": 133,
    "start_time": "2022-08-17T10:59:04.044Z"
   },
   {
    "duration": 195,
    "start_time": "2022-08-17T10:59:18.373Z"
   },
   {
    "duration": 270,
    "start_time": "2022-08-17T10:59:41.425Z"
   },
   {
    "duration": 281,
    "start_time": "2022-08-17T11:02:43.489Z"
   },
   {
    "duration": 903,
    "start_time": "2022-08-17T11:02:57.580Z"
   },
   {
    "duration": 1233,
    "start_time": "2022-08-17T11:03:51.549Z"
   },
   {
    "duration": 317,
    "start_time": "2022-08-17T11:04:15.111Z"
   },
   {
    "duration": 888,
    "start_time": "2022-08-17T11:04:40.077Z"
   },
   {
    "duration": 804,
    "start_time": "2022-08-17T11:04:59.117Z"
   },
   {
    "duration": 1251,
    "start_time": "2022-08-17T11:07:30.078Z"
   },
   {
    "duration": 98,
    "start_time": "2022-08-17T11:07:31.331Z"
   },
   {
    "duration": 39,
    "start_time": "2022-08-17T11:07:31.431Z"
   },
   {
    "duration": 21,
    "start_time": "2022-08-17T11:07:31.472Z"
   },
   {
    "duration": 31,
    "start_time": "2022-08-17T11:07:31.494Z"
   },
   {
    "duration": 20,
    "start_time": "2022-08-17T11:07:31.527Z"
   },
   {
    "duration": 18,
    "start_time": "2022-08-17T11:07:31.548Z"
   },
   {
    "duration": 33,
    "start_time": "2022-08-17T11:07:31.568Z"
   },
   {
    "duration": 13,
    "start_time": "2022-08-17T11:07:31.603Z"
   },
   {
    "duration": 8,
    "start_time": "2022-08-17T11:07:31.619Z"
   },
   {
    "duration": 4,
    "start_time": "2022-08-17T11:07:31.628Z"
   },
   {
    "duration": 27,
    "start_time": "2022-08-17T11:07:31.634Z"
   },
   {
    "duration": 31,
    "start_time": "2022-08-17T11:07:31.663Z"
   },
   {
    "duration": 10,
    "start_time": "2022-08-17T11:07:31.696Z"
   },
   {
    "duration": 54,
    "start_time": "2022-08-17T11:07:31.707Z"
   },
   {
    "duration": 166,
    "start_time": "2022-08-17T11:07:31.763Z"
   },
   {
    "duration": 4,
    "start_time": "2022-08-17T11:07:31.930Z"
   },
   {
    "duration": 27,
    "start_time": "2022-08-17T11:07:31.936Z"
   },
   {
    "duration": 4,
    "start_time": "2022-08-17T11:07:31.964Z"
   },
   {
    "duration": 26,
    "start_time": "2022-08-17T11:07:31.970Z"
   },
   {
    "duration": 24,
    "start_time": "2022-08-17T11:07:31.998Z"
   },
   {
    "duration": 455,
    "start_time": "2022-08-17T11:07:32.024Z"
   },
   {
    "duration": 21,
    "start_time": "2022-08-17T11:07:32.481Z"
   },
   {
    "duration": 379,
    "start_time": "2022-08-17T11:07:32.504Z"
   },
   {
    "duration": 1362,
    "start_time": "2022-08-17T11:07:32.884Z"
   },
   {
    "duration": 821,
    "start_time": "2022-08-17T11:07:34.248Z"
   },
   {
    "duration": 32,
    "start_time": "2022-08-17T11:07:35.070Z"
   },
   {
    "duration": 4,
    "start_time": "2022-08-17T11:07:35.105Z"
   },
   {
    "duration": 224,
    "start_time": "2022-08-17T11:07:35.111Z"
   },
   {
    "duration": 447,
    "start_time": "2022-08-17T11:07:35.337Z"
   },
   {
    "duration": 507,
    "start_time": "2022-08-17T11:07:35.786Z"
   },
   {
    "duration": 422,
    "start_time": "2022-08-17T11:07:36.294Z"
   },
   {
    "duration": 241,
    "start_time": "2022-08-17T11:07:36.718Z"
   },
   {
    "duration": 977,
    "start_time": "2022-08-17T11:07:36.960Z"
   },
   {
    "duration": 18,
    "start_time": "2022-08-17T11:07:37.939Z"
   },
   {
    "duration": 13,
    "start_time": "2022-08-17T11:07:37.958Z"
   },
   {
    "duration": 243,
    "start_time": "2022-08-17T11:07:37.973Z"
   },
   {
    "duration": 289,
    "start_time": "2022-08-17T11:07:38.218Z"
   },
   {
    "duration": 1236,
    "start_time": "2022-08-17T11:12:01.090Z"
   },
   {
    "duration": 97,
    "start_time": "2022-08-17T11:12:02.328Z"
   },
   {
    "duration": 41,
    "start_time": "2022-08-17T11:12:02.427Z"
   },
   {
    "duration": 22,
    "start_time": "2022-08-17T11:12:02.470Z"
   },
   {
    "duration": 24,
    "start_time": "2022-08-17T11:12:02.496Z"
   },
   {
    "duration": 19,
    "start_time": "2022-08-17T11:12:02.522Z"
   },
   {
    "duration": 20,
    "start_time": "2022-08-17T11:12:02.543Z"
   },
   {
    "duration": 33,
    "start_time": "2022-08-17T11:12:02.564Z"
   },
   {
    "duration": 5,
    "start_time": "2022-08-17T11:12:02.599Z"
   },
   {
    "duration": 10,
    "start_time": "2022-08-17T11:12:02.606Z"
   },
   {
    "duration": 3,
    "start_time": "2022-08-17T11:12:02.618Z"
   },
   {
    "duration": 27,
    "start_time": "2022-08-17T11:12:02.623Z"
   },
   {
    "duration": 8,
    "start_time": "2022-08-17T11:12:02.652Z"
   },
   {
    "duration": 34,
    "start_time": "2022-08-17T11:12:02.662Z"
   },
   {
    "duration": 47,
    "start_time": "2022-08-17T11:12:02.698Z"
   },
   {
    "duration": 156,
    "start_time": "2022-08-17T11:12:02.746Z"
   },
   {
    "duration": 4,
    "start_time": "2022-08-17T11:12:02.904Z"
   },
   {
    "duration": 22,
    "start_time": "2022-08-17T11:12:02.910Z"
   },
   {
    "duration": 5,
    "start_time": "2022-08-17T11:12:02.933Z"
   },
   {
    "duration": 16,
    "start_time": "2022-08-17T11:12:02.939Z"
   },
   {
    "duration": 39,
    "start_time": "2022-08-17T11:12:02.956Z"
   },
   {
    "duration": 478,
    "start_time": "2022-08-17T11:12:02.997Z"
   },
   {
    "duration": 13,
    "start_time": "2022-08-17T11:12:03.476Z"
   },
   {
    "duration": 365,
    "start_time": "2022-08-17T11:12:03.493Z"
   },
   {
    "duration": 1334,
    "start_time": "2022-08-17T11:12:03.859Z"
   },
   {
    "duration": 828,
    "start_time": "2022-08-17T11:12:05.195Z"
   },
   {
    "duration": 28,
    "start_time": "2022-08-17T11:12:06.025Z"
   },
   {
    "duration": 5,
    "start_time": "2022-08-17T11:12:06.057Z"
   },
   {
    "duration": 211,
    "start_time": "2022-08-17T11:12:06.063Z"
   },
   {
    "duration": 409,
    "start_time": "2022-08-17T11:12:06.277Z"
   },
   {
    "duration": 506,
    "start_time": "2022-08-17T11:12:06.692Z"
   },
   {
    "duration": 399,
    "start_time": "2022-08-17T11:12:07.200Z"
   },
   {
    "duration": 235,
    "start_time": "2022-08-17T11:12:07.601Z"
   },
   {
    "duration": 1008,
    "start_time": "2022-08-17T11:12:07.837Z"
   },
   {
    "duration": 17,
    "start_time": "2022-08-17T11:12:08.847Z"
   },
   {
    "duration": 36,
    "start_time": "2022-08-17T11:12:08.865Z"
   },
   {
    "duration": 232,
    "start_time": "2022-08-17T11:12:08.903Z"
   },
   {
    "duration": 228,
    "start_time": "2022-08-17T11:12:09.137Z"
   },
   {
    "duration": 1247,
    "start_time": "2022-08-17T20:02:40.065Z"
   },
   {
    "duration": 301,
    "start_time": "2022-08-17T20:02:41.314Z"
   },
   {
    "duration": 79,
    "start_time": "2022-08-17T20:02:41.616Z"
   },
   {
    "duration": 17,
    "start_time": "2022-08-17T20:02:41.697Z"
   },
   {
    "duration": 19,
    "start_time": "2022-08-17T20:02:41.715Z"
   },
   {
    "duration": 16,
    "start_time": "2022-08-17T20:02:41.735Z"
   },
   {
    "duration": 16,
    "start_time": "2022-08-17T20:02:41.753Z"
   },
   {
    "duration": 8,
    "start_time": "2022-08-17T20:02:41.771Z"
   },
   {
    "duration": 3,
    "start_time": "2022-08-17T20:02:41.780Z"
   },
   {
    "duration": 10,
    "start_time": "2022-08-17T20:02:41.786Z"
   },
   {
    "duration": 5,
    "start_time": "2022-08-17T20:02:41.797Z"
   },
   {
    "duration": 21,
    "start_time": "2022-08-17T20:02:41.804Z"
   },
   {
    "duration": 33,
    "start_time": "2022-08-17T20:02:41.826Z"
   },
   {
    "duration": 8,
    "start_time": "2022-08-17T20:02:41.861Z"
   },
   {
    "duration": 45,
    "start_time": "2022-08-17T20:02:41.871Z"
   },
   {
    "duration": 142,
    "start_time": "2022-08-17T20:02:41.918Z"
   },
   {
    "duration": 4,
    "start_time": "2022-08-17T20:02:42.061Z"
   },
   {
    "duration": 18,
    "start_time": "2022-08-17T20:02:42.066Z"
   },
   {
    "duration": 5,
    "start_time": "2022-08-17T20:02:42.085Z"
   },
   {
    "duration": 10,
    "start_time": "2022-08-17T20:02:42.091Z"
   },
   {
    "duration": 18,
    "start_time": "2022-08-17T20:02:42.102Z"
   },
   {
    "duration": 370,
    "start_time": "2022-08-17T20:02:42.121Z"
   },
   {
    "duration": 13,
    "start_time": "2022-08-17T20:02:42.493Z"
   },
   {
    "duration": 344,
    "start_time": "2022-08-17T20:02:42.507Z"
   },
   {
    "duration": 1152,
    "start_time": "2022-08-17T20:02:42.853Z"
   },
   {
    "duration": 719,
    "start_time": "2022-08-17T20:02:44.008Z"
   },
   {
    "duration": 30,
    "start_time": "2022-08-17T20:02:44.729Z"
   },
   {
    "duration": 19,
    "start_time": "2022-08-17T20:02:44.762Z"
   },
   {
    "duration": 212,
    "start_time": "2022-08-17T20:02:44.783Z"
   },
   {
    "duration": 349,
    "start_time": "2022-08-17T20:02:44.998Z"
   },
   {
    "duration": 478,
    "start_time": "2022-08-17T20:02:45.348Z"
   },
   {
    "duration": 425,
    "start_time": "2022-08-17T20:02:45.829Z"
   },
   {
    "duration": 244,
    "start_time": "2022-08-17T20:02:46.259Z"
   },
   {
    "duration": 920,
    "start_time": "2022-08-17T20:02:46.505Z"
   },
   {
    "duration": 13,
    "start_time": "2022-08-17T20:02:47.426Z"
   },
   {
    "duration": 11,
    "start_time": "2022-08-17T20:02:47.441Z"
   },
   {
    "duration": 191,
    "start_time": "2022-08-17T20:02:47.454Z"
   },
   {
    "duration": 210,
    "start_time": "2022-08-17T20:02:47.646Z"
   }
  ],
  "colab": {
   "name": "DA+. Сборный проект 1. Шаблон (1).ipynb",
   "provenance": []
  },
  "kernelspec": {
   "display_name": "Python 3 (ipykernel)",
   "language": "python",
   "name": "python3"
  },
  "language_info": {
   "codemirror_mode": {
    "name": "ipython",
    "version": 3
   },
   "file_extension": ".py",
   "mimetype": "text/x-python",
   "name": "python",
   "nbconvert_exporter": "python",
   "pygments_lexer": "ipython3",
   "version": "3.9.5"
  },
  "toc": {
   "base_numbering": 1,
   "nav_menu": {
    "height": "250px",
    "width": "715px"
   },
   "number_sections": true,
   "sideBar": true,
   "skip_h1_title": true,
   "title_cell": "Table of Contents",
   "title_sidebar": "Contents",
   "toc_cell": false,
   "toc_position": {
    "height": "calc(100% - 180px)",
    "left": "10px",
    "top": "150px",
    "width": "375.391px"
   },
   "toc_section_display": true,
   "toc_window_display": false
  }
 },
 "nbformat": 4,
 "nbformat_minor": 1
}
